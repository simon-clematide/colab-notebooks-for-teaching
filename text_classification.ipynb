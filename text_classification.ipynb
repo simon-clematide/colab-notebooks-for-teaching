{
  "nbformat": 4,
  "nbformat_minor": 0,
  "metadata": {
    "colab": {
      "provenance": [],
      "toc_visible": true,
      "authorship_tag": "ABX9TyOqYFPJbeOTEhH7jmjBUge8",
      "include_colab_link": true
    },
    "kernelspec": {
      "name": "python3",
      "display_name": "Python 3"
    },
    "language_info": {
      "name": "python"
    }
  },
  "cells": [
    {
      "cell_type": "markdown",
      "metadata": {
        "id": "view-in-github",
        "colab_type": "text"
      },
      "source": [
        "<a href=\"https://colab.research.google.com/github/simon-clematide/colab-notebooks-for-teaching/blob/main/text_classification.ipynb\" target=\"_parent\"><img src=\"https://colab.research.google.com/assets/colab-badge.svg\" alt=\"Open In Colab\"/></a>"
      ]
    },
    {
      "cell_type": "markdown",
      "source": [
        "# Simple Text Classification Pipeline with sklearn\n",
        "(taken from https://scikit-learn.org/stable/auto_examples/semi_supervised/plot_semi_supervised_newsgroups.html)"
      ],
      "metadata": {
        "id": "J5Uqo4rz5tns"
      }
    },
    {
      "cell_type": "code",
      "execution_count": 68,
      "metadata": {
        "colab": {
          "base_uri": "https://localhost:8080/"
        },
        "id": "ckxE4MPY4KnP",
        "outputId": "3824a186-616b-422e-a152-9defd0406666"
      },
      "outputs": [
        {
          "output_type": "stream",
          "name": "stdout",
          "text": [
            "2823 documents\n",
            "5 categories ['alt.atheism', 'comp.graphics', 'comp.os.ms-windows.misc', 'comp.sys.ibm.pc.hardware', 'comp.sys.mac.hardware']\n",
            "Example:\n",
            "From: hades@coos.dartmouth.edu (Brian V. Hughes)\n",
            "Subject: Re: New Apple Ergo-Mouse\n",
            "Reply-To: hades@Dartmouth.Edu\n",
            "Organization: Dartmouth College, Hanover, NH\n",
            "Disclaimer: Personally, I really don't care who you think I speak for.\n",
            "Moderator: Rec.Arts.Comics.Info\n",
            "Lines: 19\n",
            "\n",
            "nwcs@utkvx.utk.edu (Schizophrenia means never being alone) writes:\n",
            "\n",
            ">Does anyone know how to open up the Apple Ergo-Mouse (ADB Mouse II)?\n",
            ">Mine lives near a cat (true, really...) and picks up her fur.  From what\n",
            ">I can tell, it looks like Apple welded it shut.\n",
            "\n",
            "    You must not have tried very hard. I just opend mine in about 2\n",
            "seconds. Take a look on the bottom, it has a dial that turns to open\n",
            "much like the older ADB mouses used to have. It's a bit harder to turn\n",
            "at first but it is quite simple to open.\n",
            "\n",
            ">Also, does anyone know about installing FPUs in a Mac LC III?  I've heard some\n",
            ">people saying it has fried the motherboard of the LC III.\n",
            "\n",
            "    Well, if you don't match up the pins correctly you will have some\n",
            "problems. A close look at the socket should give you an idea of the\n",
            "proper orientation of the chip.\n",
            "\n",
            "-Hades\n",
            " 4\n"
          ]
        }
      ],
      "source": [
        "import numpy as np\n",
        "\n",
        "from sklearn.datasets import fetch_20newsgroups\n",
        "from sklearn.feature_extraction.text import CountVectorizer, TfidfTransformer\n",
        "from sklearn.linear_model import SGDClassifier\n",
        "from sklearn.metrics import f1_score\n",
        "from sklearn.model_selection import train_test_split\n",
        "from sklearn.pipeline import Pipeline\n",
        "from sklearn.metrics import confusion_matrix\n",
        "from sklearn.metrics import classification_report\n",
        "\n",
        "np.set_printoptions(precision=3)\n",
        "\n",
        "# Loading dataset containing first five categories\n",
        "categories = [\n",
        "        \"alt.atheism\",\n",
        "        \"comp.graphics\",\n",
        "        \"comp.os.ms-windows.misc\",\n",
        "        \"comp.sys.ibm.pc.hardware\",\n",
        "        \"comp.sys.mac.hardware\",\n",
        "    ]\n",
        "\n",
        "# https://scikit-learn.org/stable/modules/generated/sklearn.datasets.fetch_20newsgroups.html\n",
        "data = fetch_20newsgroups(\n",
        "    subset=\"train\",\n",
        "    categories=categories,\n",
        ")\n",
        "print(\"%d documents\" % len(data.filenames))\n",
        "print(\"%d categories\" % len(data.target_names), data.target_names)\n",
        "\n",
        "# labels are already encoded numerically\n",
        "print(\"Example:\")\n",
        "print(data.data[0], data.target[0])\n",
        "\n",
        "# Hyperparameters\n",
        "sdg_params = dict(alpha=1e-5, penalty=\"l2\", loss=\"log_loss\")\n",
        "vectorizer_params = dict(ngram_range=(1, 2), min_df=5, max_df=0.8)\n",
        "\n",
        "# Supervised Pipeline\n",
        "pipeline = Pipeline(\n",
        "    [\n",
        "        (\"vect\", CountVectorizer(**vectorizer_params)),\n",
        "        (\"tfidf\", TfidfTransformer()),\n",
        "        (\"clf\", SGDClassifier(**sdg_params)),\n",
        "    ]\n",
        ")\n"
      ]
    },
    {
      "cell_type": "code",
      "source": [
        "# inspect pipeline\n",
        "pipeline"
      ],
      "metadata": {
        "colab": {
          "base_uri": "https://localhost:8080/",
          "height": 160
        },
        "id": "QnSs-E-3OhFl",
        "outputId": "cdaa3f6c-817f-4b66-ab83-6f9a6d341f26"
      },
      "execution_count": 46,
      "outputs": [
        {
          "output_type": "execute_result",
          "data": {
            "text/plain": [
              "Pipeline(steps=[('vect',\n",
              "                 CountVectorizer(max_df=0.8, min_df=5, ngram_range=(1, 2))),\n",
              "                ('tfidf', TfidfTransformer()),\n",
              "                ('clf', SGDClassifier(alpha=1e-05, loss='log_loss'))])"
            ],
            "text/html": [
              "<style>#sk-container-id-4 {color: black;background-color: white;}#sk-container-id-4 pre{padding: 0;}#sk-container-id-4 div.sk-toggleable {background-color: white;}#sk-container-id-4 label.sk-toggleable__label {cursor: pointer;display: block;width: 100%;margin-bottom: 0;padding: 0.3em;box-sizing: border-box;text-align: center;}#sk-container-id-4 label.sk-toggleable__label-arrow:before {content: \"▸\";float: left;margin-right: 0.25em;color: #696969;}#sk-container-id-4 label.sk-toggleable__label-arrow:hover:before {color: black;}#sk-container-id-4 div.sk-estimator:hover label.sk-toggleable__label-arrow:before {color: black;}#sk-container-id-4 div.sk-toggleable__content {max-height: 0;max-width: 0;overflow: hidden;text-align: left;background-color: #f0f8ff;}#sk-container-id-4 div.sk-toggleable__content pre {margin: 0.2em;color: black;border-radius: 0.25em;background-color: #f0f8ff;}#sk-container-id-4 input.sk-toggleable__control:checked~div.sk-toggleable__content {max-height: 200px;max-width: 100%;overflow: auto;}#sk-container-id-4 input.sk-toggleable__control:checked~label.sk-toggleable__label-arrow:before {content: \"▾\";}#sk-container-id-4 div.sk-estimator input.sk-toggleable__control:checked~label.sk-toggleable__label {background-color: #d4ebff;}#sk-container-id-4 div.sk-label input.sk-toggleable__control:checked~label.sk-toggleable__label {background-color: #d4ebff;}#sk-container-id-4 input.sk-hidden--visually {border: 0;clip: rect(1px 1px 1px 1px);clip: rect(1px, 1px, 1px, 1px);height: 1px;margin: -1px;overflow: hidden;padding: 0;position: absolute;width: 1px;}#sk-container-id-4 div.sk-estimator {font-family: monospace;background-color: #f0f8ff;border: 1px dotted black;border-radius: 0.25em;box-sizing: border-box;margin-bottom: 0.5em;}#sk-container-id-4 div.sk-estimator:hover {background-color: #d4ebff;}#sk-container-id-4 div.sk-parallel-item::after {content: \"\";width: 100%;border-bottom: 1px solid gray;flex-grow: 1;}#sk-container-id-4 div.sk-label:hover label.sk-toggleable__label {background-color: #d4ebff;}#sk-container-id-4 div.sk-serial::before {content: \"\";position: absolute;border-left: 1px solid gray;box-sizing: border-box;top: 0;bottom: 0;left: 50%;z-index: 0;}#sk-container-id-4 div.sk-serial {display: flex;flex-direction: column;align-items: center;background-color: white;padding-right: 0.2em;padding-left: 0.2em;position: relative;}#sk-container-id-4 div.sk-item {position: relative;z-index: 1;}#sk-container-id-4 div.sk-parallel {display: flex;align-items: stretch;justify-content: center;background-color: white;position: relative;}#sk-container-id-4 div.sk-item::before, #sk-container-id-4 div.sk-parallel-item::before {content: \"\";position: absolute;border-left: 1px solid gray;box-sizing: border-box;top: 0;bottom: 0;left: 50%;z-index: -1;}#sk-container-id-4 div.sk-parallel-item {display: flex;flex-direction: column;z-index: 1;position: relative;background-color: white;}#sk-container-id-4 div.sk-parallel-item:first-child::after {align-self: flex-end;width: 50%;}#sk-container-id-4 div.sk-parallel-item:last-child::after {align-self: flex-start;width: 50%;}#sk-container-id-4 div.sk-parallel-item:only-child::after {width: 0;}#sk-container-id-4 div.sk-dashed-wrapped {border: 1px dashed gray;margin: 0 0.4em 0.5em 0.4em;box-sizing: border-box;padding-bottom: 0.4em;background-color: white;}#sk-container-id-4 div.sk-label label {font-family: monospace;font-weight: bold;display: inline-block;line-height: 1.2em;}#sk-container-id-4 div.sk-label-container {text-align: center;}#sk-container-id-4 div.sk-container {/* jupyter's `normalize.less` sets `[hidden] { display: none; }` but bootstrap.min.css set `[hidden] { display: none !important; }` so we also need the `!important` here to be able to override the default hidden behavior on the sphinx rendered scikit-learn.org. See: https://github.com/scikit-learn/scikit-learn/issues/21755 */display: inline-block !important;position: relative;}#sk-container-id-4 div.sk-text-repr-fallback {display: none;}</style><div id=\"sk-container-id-4\" class=\"sk-top-container\"><div class=\"sk-text-repr-fallback\"><pre>Pipeline(steps=[(&#x27;vect&#x27;,\n",
              "                 CountVectorizer(max_df=0.8, min_df=5, ngram_range=(1, 2))),\n",
              "                (&#x27;tfidf&#x27;, TfidfTransformer()),\n",
              "                (&#x27;clf&#x27;, SGDClassifier(alpha=1e-05, loss=&#x27;log_loss&#x27;))])</pre><b>In a Jupyter environment, please rerun this cell to show the HTML representation or trust the notebook. <br />On GitHub, the HTML representation is unable to render, please try loading this page with nbviewer.org.</b></div><div class=\"sk-container\" hidden><div class=\"sk-item sk-dashed-wrapped\"><div class=\"sk-label-container\"><div class=\"sk-label sk-toggleable\"><input class=\"sk-toggleable__control sk-hidden--visually\" id=\"sk-estimator-id-13\" type=\"checkbox\" ><label for=\"sk-estimator-id-13\" class=\"sk-toggleable__label sk-toggleable__label-arrow\">Pipeline</label><div class=\"sk-toggleable__content\"><pre>Pipeline(steps=[(&#x27;vect&#x27;,\n",
              "                 CountVectorizer(max_df=0.8, min_df=5, ngram_range=(1, 2))),\n",
              "                (&#x27;tfidf&#x27;, TfidfTransformer()),\n",
              "                (&#x27;clf&#x27;, SGDClassifier(alpha=1e-05, loss=&#x27;log_loss&#x27;))])</pre></div></div></div><div class=\"sk-serial\"><div class=\"sk-item\"><div class=\"sk-estimator sk-toggleable\"><input class=\"sk-toggleable__control sk-hidden--visually\" id=\"sk-estimator-id-14\" type=\"checkbox\" ><label for=\"sk-estimator-id-14\" class=\"sk-toggleable__label sk-toggleable__label-arrow\">CountVectorizer</label><div class=\"sk-toggleable__content\"><pre>CountVectorizer(max_df=0.8, min_df=5, ngram_range=(1, 2))</pre></div></div></div><div class=\"sk-item\"><div class=\"sk-estimator sk-toggleable\"><input class=\"sk-toggleable__control sk-hidden--visually\" id=\"sk-estimator-id-15\" type=\"checkbox\" ><label for=\"sk-estimator-id-15\" class=\"sk-toggleable__label sk-toggleable__label-arrow\">TfidfTransformer</label><div class=\"sk-toggleable__content\"><pre>TfidfTransformer()</pre></div></div></div><div class=\"sk-item\"><div class=\"sk-estimator sk-toggleable\"><input class=\"sk-toggleable__control sk-hidden--visually\" id=\"sk-estimator-id-16\" type=\"checkbox\" ><label for=\"sk-estimator-id-16\" class=\"sk-toggleable__label sk-toggleable__label-arrow\">SGDClassifier</label><div class=\"sk-toggleable__content\"><pre>SGDClassifier(alpha=1e-05, loss=&#x27;log_loss&#x27;)</pre></div></div></div></div></div></div></div>"
            ]
          },
          "metadata": {},
          "execution_count": 46
        }
      ]
    },
    {
      "cell_type": "code",
      "source": [
        "def train_predict_eval(clf, X_train, y_train, X_test, y_test, categories):\n",
        "    print(\"Number of training samples:\", len(X_train))\n",
        "    clf.fit(X_train, y_train)\n",
        "    y_pred = clf.predict(X_test)\n",
        "    print(\"Number of test samples:\", len(y_pred))\n",
        "    print(\n",
        "        \"Micro-averaged F1 score on test set: %0.3f\"\n",
        "        % f1_score(y_test, y_pred, average=\"micro\")\n",
        "    )\n",
        "    print(classification_report(y_test, y_pred, target_names=categories))\n",
        "    print(confusion_matrix(y_test, y_pred, normalize='all',))\n",
        "    print(y_test, y_pred)\n",
        "    return y_pred"
      ],
      "metadata": {
        "id": "tFFSVvZhO1lV"
      },
      "execution_count": 64,
      "outputs": []
    },
    {
      "cell_type": "code",
      "source": [],
      "metadata": {
        "id": "_xvWFE0ugOYN"
      },
      "execution_count": null,
      "outputs": []
    },
    {
      "cell_type": "code",
      "source": [
        "X, y = data.data, data.target\n",
        "X_train, X_test, y_train, y_test = train_test_split(X, y)\n",
        "\n",
        "print(\"Supervised SGDClassifier on 100% of the data:\")\n",
        "train_predict_eval(pipeline, X_train, y_train, X_test, y_test, data.target_names)\n"
      ],
      "metadata": {
        "colab": {
          "base_uri": "https://localhost:8080/"
        },
        "id": "09A0m3nT4fka",
        "outputId": "d8584e04-1d41-4c87-ca7a-3edb0df71def"
      },
      "execution_count": 65,
      "outputs": [
        {
          "output_type": "stream",
          "name": "stdout",
          "text": [
            "Supervised SGDClassifier on 100% of the data:\n",
            "Number of training samples: 2117\n",
            "Number of test samples: 706\n",
            "Micro-averaged F1 score on test set: 0.898\n",
            "                          precision    recall  f1-score   support\n",
            "\n",
            "             alt.atheism       1.00      0.99      1.00       130\n",
            "           comp.graphics       0.89      0.90      0.89       146\n",
            " comp.os.ms-windows.misc       0.83      0.94      0.88       131\n",
            "comp.sys.ibm.pc.hardware       0.86      0.81      0.83       149\n",
            "   comp.sys.mac.hardware       0.94      0.87      0.90       150\n",
            "\n",
            "                accuracy                           0.90       706\n",
            "               macro avg       0.90      0.90      0.90       706\n",
            "            weighted avg       0.90      0.90      0.90       706\n",
            "\n",
            "[[0.183 0.001 0.    0.    0.   ]\n",
            " [0.    0.187 0.013 0.006 0.001]\n",
            " [0.    0.004 0.174 0.006 0.001]\n",
            " [0.    0.016 0.016 0.17  0.01 ]\n",
            " [0.    0.003 0.008 0.017 0.184]]\n",
            "[0 3 4 3 2 2 0 2 3 2 2 4 4 4 2 1 1 3 3 2 2 4 4 3 3 3 4 0 3 1 2 3 0 2 3 2 0\n",
            " 4 4 1 4 3 0 1 4 4 0 3 1 0 4 0 2 2 4 2 0 2 3 0 1 0 2 4 3 4 3 0 2 4 1 0 0 4\n",
            " 4 2 0 1 1 3 0 4 0 4 1 2 2 0 3 4 0 4 1 0 0 3 1 1 1 3 3 2 4 2 3 3 2 4 2 0 0\n",
            " 1 4 0 1 2 1 4 0 3 0 2 4 4 0 2 1 3 3 0 0 2 3 4 3 2 3 0 0 0 4 4 4 1 2 3 0 3\n",
            " 3 1 3 1 3 2 2 3 2 3 3 3 4 3 2 3 2 2 1 2 0 3 2 0 2 3 4 4 4 4 0 4 1 3 4 1 1\n",
            " 1 2 1 4 3 1 3 3 1 1 4 3 2 0 3 3 1 1 1 0 2 2 2 1 1 1 1 4 2 3 1 1 1 3 2 0 3\n",
            " 3 3 4 2 2 4 1 0 1 3 3 0 1 1 4 0 0 0 3 1 4 1 4 0 0 2 4 4 2 4 1 1 0 1 4 1 3\n",
            " 1 4 2 3 1 2 4 3 2 0 3 2 3 2 0 3 3 3 0 2 1 4 1 1 2 3 4 0 2 3 3 0 1 3 1 0 4\n",
            " 4 1 2 3 3 1 0 1 1 0 4 4 3 2 4 0 0 4 4 4 1 4 0 2 3 0 1 3 1 1 2 0 2 3 4 4 3\n",
            " 3 4 2 4 0 2 0 2 4 2 0 0 3 0 3 1 4 2 2 0 4 3 3 1 2 0 4 3 0 0 4 0 3 3 0 0 2\n",
            " 0 2 4 2 3 3 1 1 4 1 2 4 1 1 3 1 4 1 4 2 4 3 0 1 1 0 4 1 3 4 0 3 3 2 3 0 1\n",
            " 4 4 1 1 4 3 0 2 1 3 0 1 2 3 1 4 2 3 1 4 0 2 2 0 0 2 2 4 4 1 2 2 0 4 4 0 2\n",
            " 0 0 3 0 4 1 4 2 1 4 4 4 2 3 3 1 2 4 2 2 1 0 4 4 0 4 1 0 2 4 1 1 4 2 3 2 1\n",
            " 3 3 1 4 4 3 3 3 2 3 1 3 0 0 0 2 3 0 1 3 1 4 2 1 1 3 2 2 4 4 2 1 3 3 2 1 1\n",
            " 3 3 1 2 3 0 4 1 4 4 4 0 3 2 0 1 0 4 3 2 2 0 3 2 1 1 4 4 1 3 4 3 4 4 2 3 1\n",
            " 0 2 4 3 1 1 3 3 0 1 3 2 3 2 3 3 0 2 4 4 2 4 0 2 0 1 2 1 4 1 4 1 1 0 0 3 4\n",
            " 0 2 4 1 1 3 4 3 1 3 3 2 4 3 1 1 1 1 3 2 2 3 2 1 2 1 3 4 4 2 4 2 0 0 2 0 4\n",
            " 0 0 4 1 0 0 2 4 3 0 3 1 1 2 2 4 0 1 1 1 0 2 3 0 1 0 4 2 0 1 0 1 4 4 4 4 4\n",
            " 1 1 0 4 3 0 0 2 3 4 1 4 4 4 3 4 3 2 3 4 1 3 4 1 4 2 0 0 0 3 1 0 3 3 1 0 1\n",
            " 1 4 1] [0 3 4 1 2 3 0 2 3 2 2 4 4 4 2 1 1 3 3 1 2 4 4 3 3 3 4 0 3 1 2 3 0 2 3 2 0\n",
            " 4 4 1 4 3 0 1 4 4 0 1 2 0 4 0 2 2 4 2 0 2 3 0 1 0 2 4 3 4 4 0 2 2 1 0 0 4\n",
            " 4 2 0 1 1 3 0 4 0 4 1 2 2 0 3 4 0 2 1 0 0 1 1 1 1 3 2 2 4 2 3 3 2 4 2 0 0\n",
            " 1 4 0 1 2 1 2 0 3 0 2 4 4 0 2 1 3 3 0 0 2 4 3 3 2 3 0 0 0 4 4 4 1 2 3 0 3\n",
            " 3 1 3 1 3 2 2 3 2 3 3 3 4 3 2 3 2 2 1 2 0 3 2 0 2 3 3 4 4 4 0 4 1 4 4 4 1\n",
            " 1 2 2 4 3 1 3 1 1 1 4 3 2 0 3 3 2 1 1 0 2 2 2 1 1 1 1 4 2 3 1 1 1 3 2 0 3\n",
            " 3 3 4 2 2 3 2 0 1 3 2 0 1 1 4 0 0 0 4 1 4 1 4 0 0 2 4 4 2 4 1 2 0 1 4 1 1\n",
            " 1 4 2 3 1 2 4 3 2 0 3 2 3 2 0 3 3 3 0 2 1 4 1 1 2 1 4 0 2 3 3 0 1 3 1 0 4\n",
            " 2 1 2 3 3 1 0 1 1 0 3 4 3 2 3 0 0 4 4 4 1 4 0 2 3 0 1 3 1 1 4 0 1 4 4 4 3\n",
            " 1 4 1 4 0 2 0 2 3 2 0 0 3 0 3 1 4 2 2 0 4 3 3 1 2 0 4 2 0 0 4 0 3 1 0 0 2\n",
            " 0 2 4 2 2 3 2 1 4 1 2 4 1 1 3 1 4 1 4 2 4 3 0 1 1 0 4 1 3 4 0 3 3 2 3 0 1\n",
            " 4 4 1 1 3 3 0 2 1 3 1 1 2 3 1 4 2 3 1 4 0 2 2 0 0 2 2 4 4 1 2 2 0 4 4 0 2\n",
            " 0 0 3 0 4 1 4 2 1 4 4 3 2 3 3 1 2 4 2 2 1 0 4 4 0 4 1 0 2 3 1 1 4 2 3 2 1\n",
            " 2 3 1 4 4 3 3 3 2 3 3 3 0 0 0 2 3 0 1 3 1 4 2 1 1 3 2 2 4 4 2 1 3 3 2 1 1\n",
            " 3 4 1 3 3 0 4 2 4 3 4 0 3 2 0 1 0 4 4 2 2 0 3 2 1 1 3 4 1 3 4 3 4 4 2 3 1\n",
            " 0 2 4 3 1 1 2 3 0 1 3 3 3 2 3 3 0 2 4 4 2 4 0 2 0 1 2 1 4 1 4 1 1 0 0 2 4\n",
            " 0 2 4 1 3 3 2 3 3 3 3 2 4 3 1 1 1 1 3 2 2 2 2 1 2 1 1 4 4 2 1 2 0 0 2 0 4\n",
            " 0 0 4 3 0 0 2 4 1 0 3 1 1 2 2 4 0 1 1 1 0 3 3 0 1 0 3 2 0 1 0 1 4 4 4 4 4\n",
            " 1 1 0 4 3 0 0 2 3 4 2 1 4 4 2 4 2 2 3 4 1 3 2 1 4 2 0 0 0 1 1 0 2 3 1 0 1\n",
            " 2 4 1]\n"
          ]
        },
        {
          "output_type": "execute_result",
          "data": {
            "text/plain": [
              "array([0, 3, 4, 1, 2, 3, 0, 2, 3, 2, 2, 4, 4, 4, 2, 1, 1, 3, 3, 1, 2, 4,\n",
              "       4, 3, 3, 3, 4, 0, 3, 1, 2, 3, 0, 2, 3, 2, 0, 4, 4, 1, 4, 3, 0, 1,\n",
              "       4, 4, 0, 1, 2, 0, 4, 0, 2, 2, 4, 2, 0, 2, 3, 0, 1, 0, 2, 4, 3, 4,\n",
              "       4, 0, 2, 2, 1, 0, 0, 4, 4, 2, 0, 1, 1, 3, 0, 4, 0, 4, 1, 2, 2, 0,\n",
              "       3, 4, 0, 2, 1, 0, 0, 1, 1, 1, 1, 3, 2, 2, 4, 2, 3, 3, 2, 4, 2, 0,\n",
              "       0, 1, 4, 0, 1, 2, 1, 2, 0, 3, 0, 2, 4, 4, 0, 2, 1, 3, 3, 0, 0, 2,\n",
              "       4, 3, 3, 2, 3, 0, 0, 0, 4, 4, 4, 1, 2, 3, 0, 3, 3, 1, 3, 1, 3, 2,\n",
              "       2, 3, 2, 3, 3, 3, 4, 3, 2, 3, 2, 2, 1, 2, 0, 3, 2, 0, 2, 3, 3, 4,\n",
              "       4, 4, 0, 4, 1, 4, 4, 4, 1, 1, 2, 2, 4, 3, 1, 3, 1, 1, 1, 4, 3, 2,\n",
              "       0, 3, 3, 2, 1, 1, 0, 2, 2, 2, 1, 1, 1, 1, 4, 2, 3, 1, 1, 1, 3, 2,\n",
              "       0, 3, 3, 3, 4, 2, 2, 3, 2, 0, 1, 3, 2, 0, 1, 1, 4, 0, 0, 0, 4, 1,\n",
              "       4, 1, 4, 0, 0, 2, 4, 4, 2, 4, 1, 2, 0, 1, 4, 1, 1, 1, 4, 2, 3, 1,\n",
              "       2, 4, 3, 2, 0, 3, 2, 3, 2, 0, 3, 3, 3, 0, 2, 1, 4, 1, 1, 2, 1, 4,\n",
              "       0, 2, 3, 3, 0, 1, 3, 1, 0, 4, 2, 1, 2, 3, 3, 1, 0, 1, 1, 0, 3, 4,\n",
              "       3, 2, 3, 0, 0, 4, 4, 4, 1, 4, 0, 2, 3, 0, 1, 3, 1, 1, 4, 0, 1, 4,\n",
              "       4, 4, 3, 1, 4, 1, 4, 0, 2, 0, 2, 3, 2, 0, 0, 3, 0, 3, 1, 4, 2, 2,\n",
              "       0, 4, 3, 3, 1, 2, 0, 4, 2, 0, 0, 4, 0, 3, 1, 0, 0, 2, 0, 2, 4, 2,\n",
              "       2, 3, 2, 1, 4, 1, 2, 4, 1, 1, 3, 1, 4, 1, 4, 2, 4, 3, 0, 1, 1, 0,\n",
              "       4, 1, 3, 4, 0, 3, 3, 2, 3, 0, 1, 4, 4, 1, 1, 3, 3, 0, 2, 1, 3, 1,\n",
              "       1, 2, 3, 1, 4, 2, 3, 1, 4, 0, 2, 2, 0, 0, 2, 2, 4, 4, 1, 2, 2, 0,\n",
              "       4, 4, 0, 2, 0, 0, 3, 0, 4, 1, 4, 2, 1, 4, 4, 3, 2, 3, 3, 1, 2, 4,\n",
              "       2, 2, 1, 0, 4, 4, 0, 4, 1, 0, 2, 3, 1, 1, 4, 2, 3, 2, 1, 2, 3, 1,\n",
              "       4, 4, 3, 3, 3, 2, 3, 3, 3, 0, 0, 0, 2, 3, 0, 1, 3, 1, 4, 2, 1, 1,\n",
              "       3, 2, 2, 4, 4, 2, 1, 3, 3, 2, 1, 1, 3, 4, 1, 3, 3, 0, 4, 2, 4, 3,\n",
              "       4, 0, 3, 2, 0, 1, 0, 4, 4, 2, 2, 0, 3, 2, 1, 1, 3, 4, 1, 3, 4, 3,\n",
              "       4, 4, 2, 3, 1, 0, 2, 4, 3, 1, 1, 2, 3, 0, 1, 3, 3, 3, 2, 3, 3, 0,\n",
              "       2, 4, 4, 2, 4, 0, 2, 0, 1, 2, 1, 4, 1, 4, 1, 1, 0, 0, 2, 4, 0, 2,\n",
              "       4, 1, 3, 3, 2, 3, 3, 3, 3, 2, 4, 3, 1, 1, 1, 1, 3, 2, 2, 2, 2, 1,\n",
              "       2, 1, 1, 4, 4, 2, 1, 2, 0, 0, 2, 0, 4, 0, 0, 4, 3, 0, 0, 2, 4, 1,\n",
              "       0, 3, 1, 1, 2, 2, 4, 0, 1, 1, 1, 0, 3, 3, 0, 1, 0, 3, 2, 0, 1, 0,\n",
              "       1, 4, 4, 4, 4, 4, 1, 1, 0, 4, 3, 0, 0, 2, 3, 4, 2, 1, 4, 4, 2, 4,\n",
              "       2, 2, 3, 4, 1, 3, 2, 1, 4, 2, 0, 0, 0, 1, 1, 0, 2, 3, 1, 0, 1, 2,\n",
              "       4, 1])"
            ]
          },
          "metadata": {},
          "execution_count": 65
        }
      ]
    },
    {
      "cell_type": "markdown",
      "source": [
        "Further ideas\n",
        " - Confusion Heatmat https://scikit-learn.org/stable/modules/generated/sklearn.metrics.ConfusionMatrixDisplay.html\n",
        ""
      ],
      "metadata": {
        "id": "tpbiKgXdPByy"
      }
    },
    {
      "cell_type": "code",
      "source": [
        " -"
      ],
      "metadata": {
        "colab": {
          "base_uri": "https://localhost:8080/",
          "height": 141
        },
        "id": "J0RuG0W4PDKV",
        "outputId": "c74aa2c1-9c1f-4f8b-8355-7cd62f9fe2b7"
      },
      "execution_count": 49,
      "outputs": [
        {
          "output_type": "error",
          "ename": "SyntaxError",
          "evalue": "ignored",
          "traceback": [
            "\u001b[0;36m  File \u001b[0;32m\"<ipython-input-49-60215a10e730>\"\u001b[0;36m, line \u001b[0;32m1\u001b[0m\n\u001b[0;31m    -\u001b[0m\n\u001b[0m     ^\u001b[0m\n\u001b[0;31mSyntaxError\u001b[0m\u001b[0;31m:\u001b[0m invalid syntax\n"
          ]
        }
      ]
    },
    {
      "cell_type": "code",
      "source": [],
      "metadata": {
        "id": "tTZBufFRRCzA"
      },
      "execution_count": null,
      "outputs": []
    }
  ]
}