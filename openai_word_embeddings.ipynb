{
  "nbformat": 4,
  "nbformat_minor": 0,
  "metadata": {
    "colab": {
      "provenance": [],
      "collapsed_sections": [
        "KoqeXMON5_8k"
      ],
      "authorship_tag": "ABX9TyP98SgCO6U4p+imNB+TRyAY",
      "include_colab_link": true
    },
    "kernelspec": {
      "name": "python3",
      "display_name": "Python 3"
    },
    "language_info": {
      "name": "python"
    }
  },
  "cells": [
    {
      "cell_type": "markdown",
      "metadata": {
        "id": "view-in-github",
        "colab_type": "text"
      },
      "source": [
        "<a href=\"https://colab.research.google.com/github/simon-clematide/colab-notebooks-for-teaching/blob/main/openai_word_embeddings.ipynb\" target=\"_parent\"><img src=\"https://colab.research.google.com/assets/colab-badge.svg\" alt=\"Open In Colab\"/></a>"
      ]
    },
    {
      "cell_type": "markdown",
      "source": [
        "# Multilingual Word Embeddings with OpenAI's Embedders"
      ],
      "metadata": {
        "id": "lhV2Xcyu5wip"
      }
    },
    {
      "cell_type": "markdown",
      "source": [
        "## Installation\n"
      ],
      "metadata": {
        "id": "KoqeXMON5_8k"
      }
    },
    {
      "cell_type": "code",
      "execution_count": 4,
      "metadata": {
        "colab": {
          "base_uri": "https://localhost:8080/"
        },
        "id": "g-2ju8dRCF2j",
        "outputId": "edf2ae7a-b631-429a-9adf-c5ed8ef77483"
      },
      "outputs": [
        {
          "output_type": "stream",
          "name": "stdout",
          "text": [
            "Requirement already satisfied: openai in /usr/local/lib/python3.11/dist-packages (1.72.0)\n",
            "Requirement already satisfied: anyio<5,>=3.5.0 in /usr/local/lib/python3.11/dist-packages (from openai) (4.9.0)\n",
            "Requirement already satisfied: distro<2,>=1.7.0 in /usr/local/lib/python3.11/dist-packages (from openai) (1.9.0)\n",
            "Requirement already satisfied: httpx<1,>=0.23.0 in /usr/local/lib/python3.11/dist-packages (from openai) (0.28.1)\n",
            "Requirement already satisfied: jiter<1,>=0.4.0 in /usr/local/lib/python3.11/dist-packages (from openai) (0.9.0)\n",
            "Requirement already satisfied: pydantic<3,>=1.9.0 in /usr/local/lib/python3.11/dist-packages (from openai) (2.11.3)\n",
            "Requirement already satisfied: sniffio in /usr/local/lib/python3.11/dist-packages (from openai) (1.3.1)\n",
            "Requirement already satisfied: tqdm>4 in /usr/local/lib/python3.11/dist-packages (from openai) (4.67.1)\n",
            "Requirement already satisfied: typing-extensions<5,>=4.11 in /usr/local/lib/python3.11/dist-packages (from openai) (4.13.1)\n",
            "Requirement already satisfied: idna>=2.8 in /usr/local/lib/python3.11/dist-packages (from anyio<5,>=3.5.0->openai) (3.10)\n",
            "Requirement already satisfied: certifi in /usr/local/lib/python3.11/dist-packages (from httpx<1,>=0.23.0->openai) (2025.1.31)\n",
            "Requirement already satisfied: httpcore==1.* in /usr/local/lib/python3.11/dist-packages (from httpx<1,>=0.23.0->openai) (1.0.7)\n",
            "Requirement already satisfied: h11<0.15,>=0.13 in /usr/local/lib/python3.11/dist-packages (from httpcore==1.*->httpx<1,>=0.23.0->openai) (0.14.0)\n",
            "Requirement already satisfied: annotated-types>=0.6.0 in /usr/local/lib/python3.11/dist-packages (from pydantic<3,>=1.9.0->openai) (0.7.0)\n",
            "Requirement already satisfied: pydantic-core==2.33.1 in /usr/local/lib/python3.11/dist-packages (from pydantic<3,>=1.9.0->openai) (2.33.1)\n",
            "Requirement already satisfied: typing-inspection>=0.4.0 in /usr/local/lib/python3.11/dist-packages (from pydantic<3,>=1.9.0->openai) (0.4.0)\n"
          ]
        }
      ],
      "source": [
        "! pip install openai"
      ]
    },
    {
      "cell_type": "code",
      "source": [
        "# for cosine distance, dimension reduction and visualization\n",
        "import numpy as np\n",
        "from sklearn.metrics.pairwise import cosine_distances\n",
        "from sklearn.decomposition import PCA\n",
        "import matplotlib.pyplot as plt"
      ],
      "metadata": {
        "id": "6urwu3br6KCU"
      },
      "execution_count": 5,
      "outputs": []
    },
    {
      "cell_type": "markdown",
      "source": [
        "## Setting up the API client"
      ],
      "metadata": {
        "id": "zlRUYqyE6ipu"
      }
    },
    {
      "cell_type": "code",
      "source": [
        "import openai\n",
        "from openai import OpenAI\n",
        "\n",
        "# we use colab userdata secrets to avoid accidental leaking of API KEYS\n",
        "from google.colab import userdata\n",
        "\n",
        "# Create\n",
        "client = OpenAI(api_key=userdata.get('OPENAI_API_KEY'))"
      ],
      "metadata": {
        "id": "fjP24o8cCKr3"
      },
      "execution_count": 6,
      "outputs": []
    },
    {
      "cell_type": "markdown",
      "source": [
        "## Embed single words separately"
      ],
      "metadata": {
        "id": "IIc7xF9u7W84"
      }
    },
    {
      "cell_type": "code",
      "source": [
        "def get_embedding(word, model=\"text-embedding-3-large\"):\n",
        "   return client.embeddings.create(input = word, model=model).data[0].embedding"
      ],
      "metadata": {
        "id": "OSAqob4t6wbp"
      },
      "execution_count": 7,
      "outputs": []
    },
    {
      "cell_type": "markdown",
      "source": [
        "## Find nearest neighbors of words in vector space"
      ],
      "metadata": {
        "id": "ZvV600licA3U"
      }
    },
    {
      "cell_type": "code",
      "source": [
        "def find_nearest_neighbors(words, embeddings):\n",
        "    \"\"\"\n",
        "    Finds the nearest neighbor in the embedding space for each word.\n",
        "\n",
        "    Parameters:\n",
        "    words (List[str]): List of words.\n",
        "    embeddings (List[List[float]]): List of embeddings, where each embedding is a list of floats.\n",
        "\n",
        "    Returns:\n",
        "    numpy.ndarray: Distance between each word\n",
        "    \"\"\"\n",
        "    # Convert the list of embeddings into a NumPy array for efficient calculations\n",
        "    embeddings_array = np.array(embeddings)\n",
        "\n",
        "    # Calculate the pairwise cosine distances between all embeddings\n",
        "    distances = cosine_distances(embeddings_array)\n",
        "\n",
        "    # Find the nearest neighbor for each word\n",
        "    for index, word in enumerate(words):\n",
        "        # Set the distance to the current word to infinity to exclude it from the search\n",
        "        distances[index, index] = np.inf\n",
        "\n",
        "        # Find the index of the nearest neighbor\n",
        "        nearest_neighbor_index = np.argmin(distances[index])\n",
        "\n",
        "        # Find the cosine distance to the nearest neighbor\n",
        "        nearest_neighbor_distance = distances[index, nearest_neighbor_index]\n",
        "\n",
        "        # Find the nearest word based on the index\n",
        "        nearest_neighbor_word = words[nearest_neighbor_index]\n",
        "\n",
        "        # Output the current word, its nearest neighbor, and the distance\n",
        "        print(f\"{word}, {nearest_neighbor_word}, {nearest_neighbor_distance:.2f}\")\n",
        "    return distances\n"
      ],
      "metadata": {
        "id": "mLAd4qPilANP"
      },
      "execution_count": 8,
      "outputs": []
    },
    {
      "cell_type": "code",
      "source": [
        "peace = get_embedding(\"peace\", model='text-embedding-3-small')\n",
        "war = get_embedding(\"war\", model='text-embedding-3-small')\n",
        "tomato = get_embedding(\"tomato\", model='text-embedding-3-small')\n",
        "banana = get_embedding(\"banana\", model='text-embedding-3-small')\n",
        "print(len(banana))"
      ],
      "metadata": {
        "colab": {
          "base_uri": "https://localhost:8080/"
        },
        "id": "rzDNHr2jCtQ-",
        "outputId": "9fb635e0-20b8-4dfa-9614-6ee167f6dcfe"
      },
      "execution_count": 9,
      "outputs": [
        {
          "output_type": "stream",
          "name": "stdout",
          "text": [
            "1536\n"
          ]
        }
      ]
    },
    {
      "cell_type": "code",
      "source": [
        "d = find_nearest_neighbors([\"peace\",\"war\",\"tomato\",\"banana\"], [peace,war,tomato, banana])"
      ],
      "metadata": {
        "colab": {
          "base_uri": "https://localhost:8080/"
        },
        "id": "zYqlDGqznlTj",
        "outputId": "8f4b736c-1b44-46e4-da86-03dcc65bff62"
      },
      "execution_count": 10,
      "outputs": [
        {
          "output_type": "stream",
          "name": "stdout",
          "text": [
            "peace, war, 0.59\n",
            "war, peace, 0.59\n",
            "tomato, banana, 0.59\n",
            "banana, tomato, 0.59\n"
          ]
        }
      ]
    },
    {
      "cell_type": "code",
      "source": [
        "print(d)"
      ],
      "metadata": {
        "colab": {
          "base_uri": "https://localhost:8080/"
        },
        "id": "Zbp9AqmOoNzQ",
        "outputId": "f048c9b1-bafe-4a1c-fc70-c02f2b0cc1c3"
      },
      "execution_count": 11,
      "outputs": [
        {
          "output_type": "stream",
          "name": "stdout",
          "text": [
            "[[       inf 0.5889815  0.79566086 0.7766664 ]\n",
            " [0.5889815         inf 0.78254953 0.817482  ]\n",
            " [0.79566086 0.78254953        inf 0.593381  ]\n",
            " [0.7766664  0.817482   0.593381          inf]]\n"
          ]
        }
      ]
    },
    {
      "cell_type": "markdown",
      "source": [
        "## Visualization in 2D"
      ],
      "metadata": {
        "id": "MOwdPD-UckjB"
      }
    },
    {
      "cell_type": "code",
      "source": [
        "def embed_words_and_plot_pca(words, model_name='text-embedding-3-small'):\n",
        "    \"\"\"\n",
        "    Embeds a list of words using an OpenAI model and plots a PCA visualization of the embeddings in 2D space.\n",
        "\n",
        "    Parameters:\n",
        "    words (List[str]): List of words to embed and plot.\n",
        "    model_name (str): Name of the OpenAI model to use for embedding.\n",
        "\n",
        "    Returns:\n",
        "    None: Displays a PCA plot of the word embeddings.\n",
        "    \"\"\"\n",
        "    embeddings = []\n",
        "    for word in words:\n",
        "        # Assuming get_embedding is a predefined function to fetch embeddings from an OpenAI model\n",
        "        embedding = get_embedding(word, model=model_name)\n",
        "        embeddings.append(embedding)\n",
        "\n",
        "    # Convert embeddings list to a NumPy array for PCA\n",
        "    embeddings_array = np.array(embeddings)\n",
        "\n",
        "    # PCA reduction to 2D for visualization\n",
        "    pca = PCA(n_components=2)\n",
        "    embeddings_2d = pca.fit_transform(embeddings_array)\n",
        "\n",
        "    # Plotting the 2D embeddings\n",
        "    plt.figure(figsize=(8, 6))\n",
        "    for i, emb in enumerate(embeddings_2d):\n",
        "        plt.scatter(emb[0], emb[1], label=words[i])\n",
        "        plt.text(emb[0] + 0.01, emb[1] + 0.01, words[i])\n",
        "\n",
        "    plt.xlabel('PC1')\n",
        "    plt.ylabel('PC2')\n",
        "    plt.title('PCA visualization of embeddings in 2D space')\n",
        "    plt.legend()\n",
        "    plt.grid(True)\n",
        "    plt.show()\n",
        "\n",
        "\n"
      ],
      "metadata": {
        "id": "AD9o1MNFlQMW"
      },
      "execution_count": 12,
      "outputs": []
    },
    {
      "cell_type": "code",
      "source": [
        "# Example usage\n",
        "words = ['peace', 'war', 'tomato', 'banana', 'screen', 'mouse', 'computer', 'cat', 'Katze', 'Banane']\n",
        "embed_words_and_plot_pca(words)"
      ],
      "metadata": {
        "colab": {
          "base_uri": "https://localhost:8080/",
          "height": 564
        },
        "id": "QH-FLfMJoMN4",
        "outputId": "9492248d-bad7-4434-d31f-9950e93f5900"
      },
      "execution_count": 13,
      "outputs": [
        {
          "output_type": "display_data",
          "data": {
            "text/plain": [
              "<Figure size 800x600 with 1 Axes>"
            ],
            "image/png": "[encoded data removed]"
          },
          "metadata": {}
        }
      ]
    },
    {
      "cell_type": "code",
      "source": [
        "# prompt: Can you generate a gradio app with the code above, where a user can just enter words, and they will be embedded and visualized\n",
        "\n",
        "!pip install gradio\n",
        "\n",
        "import gradio as gr\n",
        "import numpy as np\n",
        "from sklearn.metrics.pairwise import cosine_distances\n",
        "from sklearn.decomposition import PCA\n",
        "import matplotlib.pyplot as plt\n",
        "import openai\n",
        "from openai import OpenAI\n",
        "from google.colab import userdata\n",
        "\n",
        "# Create\n",
        "client = OpenAI(api_key=userdata.get('OPENAI_API_KEY'))\n",
        "\n",
        "# ... (rest of your code from the previous response) ...\n",
        "\n",
        "def embed_words_and_visualize(words_str):\n",
        "    \"\"\"\n",
        "    Embeds a list of words using an OpenAI model and plots a PCA visualization of the embeddings in 2D space.\n",
        "\n",
        "    Parameters:\n",
        "    words_str (str): A string containing words separated by spaces.\n",
        "\n",
        "    Returns:\n",
        "    str: Path to the generated plot image.\n",
        "    \"\"\"\n",
        "    words = words_str.split()\n",
        "    embeddings = []\n",
        "    for word in words:\n",
        "        embedding = get_embedding(\" \"+word, model='text-embedding-3-large')\n",
        "        embeddings.append(embedding)\n",
        "\n",
        "    embeddings_array = np.array(embeddings)\n",
        "    pca = PCA(n_components=2)\n",
        "    embeddings_2d = pca.fit_transform(embeddings_array)\n",
        "\n",
        "    plt.figure(figsize=(8, 6))\n",
        "    for i, emb in enumerate(embeddings_2d):\n",
        "        plt.scatter(emb[0], emb[1], label=words[i])\n",
        "        plt.text(emb[0] + 0.01, emb[1] + 0.01, words[i])\n",
        "\n",
        "    plt.xlabel('PC1')\n",
        "    plt.ylabel('PC2')\n",
        "    plt.title('PCA visualization of embeddings in 2D space')\n",
        "    plt.legend()\n",
        "    plt.grid(True)\n",
        "    plt.savefig('plot.png')  # Save the plot to a file\n",
        "    plt.close()\n",
        "    return 'plot.png'\n",
        "\n",
        "# Create the Gradio interface\n",
        "demo = gr.Interface(\n",
        "    fn=embed_words_and_visualize,\n",
        "    inputs=gr.Textbox(lines=5, placeholder=\"Enter words separated by spaces\"),\n",
        "    outputs=\"image\",\n",
        "    title=\"Word Embedding Visualization\",\n",
        "    description=\"Enter words and see their embeddings visualized in 2D space.\"\n",
        ")\n",
        "\n",
        "# Launch the interface\n",
        "demo.launch(share=True)\n"
      ],
      "metadata": {
        "id": "WVV4xhoSbM7s",
        "colab": {
          "base_uri": "https://localhost:8080/"
        },
        "outputId": "0dd39f36-faae-453b-8c97-07a1c2c4c884"
      },
      "execution_count": null,
      "outputs": [
        {
          "output_type": "stream",
          "name": "stdout",
          "text": [
            "Collecting gradio\n",
            "  Downloading gradio-5.25.2-py3-none-any.whl.metadata (16 kB)\n",
            "Collecting aiofiles<25.0,>=22.0 (from gradio)\n",
            "  Downloading aiofiles-24.1.0-py3-none-any.whl.metadata (10 kB)\n",
            "Requirement already satisfied: anyio<5.0,>=3.0 in /usr/local/lib/python3.11/dist-packages (from gradio) (4.9.0)\n",
            "Collecting fastapi<1.0,>=0.115.2 (from gradio)\n",
            "  Downloading fastapi-0.115.12-py3-none-any.whl.metadata (27 kB)\n",
            "Collecting ffmpy (from gradio)\n",
            "  Downloading ffmpy-0.5.0-py3-none-any.whl.metadata (3.0 kB)\n",
            "Collecting gradio-client==1.8.0 (from gradio)\n",
            "  Downloading gradio_client-1.8.0-py3-none-any.whl.metadata (7.1 kB)\n",
            "Collecting groovy~=0.1 (from gradio)\n",
            "  Downloading groovy-0.1.2-py3-none-any.whl.metadata (6.1 kB)\n",
            "Requirement already satisfied: httpx>=0.24.1 in /usr/local/lib/python3.11/dist-packages (from gradio) (0.28.1)\n",
            "Requirement already satisfied: huggingface-hub>=0.28.1 in /usr/local/lib/python3.11/dist-packages (from gradio) (0.30.2)\n",
            "Requirement already satisfied: jinja2<4.0 in /usr/local/lib/python3.11/dist-packages (from gradio) (3.1.6)\n",
            "Requirement already satisfied: markupsafe<4.0,>=2.0 in /usr/local/lib/python3.11/dist-packages (from gradio) (3.0.2)\n",
            "Requirement already satisfied: numpy<3.0,>=1.0 in /usr/local/lib/python3.11/dist-packages (from gradio) (2.0.2)\n",
            "Requirement already satisfied: orjson~=3.0 in /usr/local/lib/python3.11/dist-packages (from gradio) (3.10.16)\n",
            "Requirement already satisfied: packaging in /usr/local/lib/python3.11/dist-packages (from gradio) (24.2)\n",
            "Requirement already satisfied: pandas<3.0,>=1.0 in /usr/local/lib/python3.11/dist-packages (from gradio) (2.2.2)\n",
            "Requirement already satisfied: pillow<12.0,>=8.0 in /usr/local/lib/python3.11/dist-packages (from gradio) (11.1.0)\n",
            "Requirement already satisfied: pydantic<2.12,>=2.0 in /usr/local/lib/python3.11/dist-packages (from gradio) (2.11.3)\n",
            "Collecting pydub (from gradio)\n",
            "  Downloading pydub-0.25.1-py2.py3-none-any.whl.metadata (1.4 kB)\n",
            "Collecting python-multipart>=0.0.18 (from gradio)\n",
            "  Downloading python_multipart-0.0.20-py3-none-any.whl.metadata (1.8 kB)\n",
            "Requirement already satisfied: pyyaml<7.0,>=5.0 in /usr/local/lib/python3.11/dist-packages (from gradio) (6.0.2)\n",
            "Collecting ruff>=0.9.3 (from gradio)\n",
            "  Downloading ruff-0.11.5-py3-none-manylinux_2_17_x86_64.manylinux2014_x86_64.whl.metadata (25 kB)\n",
            "Collecting safehttpx<0.2.0,>=0.1.6 (from gradio)\n",
            "  Downloading safehttpx-0.1.6-py3-none-any.whl.metadata (4.2 kB)\n",
            "Collecting semantic-version~=2.0 (from gradio)\n",
            "  Downloading semantic_version-2.10.0-py2.py3-none-any.whl.metadata (9.7 kB)\n",
            "Collecting starlette<1.0,>=0.40.0 (from gradio)\n",
            "  Downloading starlette-0.46.2-py3-none-any.whl.metadata (6.2 kB)\n",
            "Collecting tomlkit<0.14.0,>=0.12.0 (from gradio)\n",
            "  Downloading tomlkit-0.13.2-py3-none-any.whl.metadata (2.7 kB)\n",
            "Requirement already satisfied: typer<1.0,>=0.12 in /usr/local/lib/python3.11/dist-packages (from gradio) (0.15.2)\n",
            "Requirement already satisfied: typing-extensions~=4.0 in /usr/local/lib/python3.11/dist-packages (from gradio) (4.13.1)\n",
            "Collecting uvicorn>=0.14.0 (from gradio)\n",
            "  Downloading uvicorn-0.34.1-py3-none-any.whl.metadata (6.5 kB)\n",
            "Requirement already satisfied: fsspec in /usr/local/lib/python3.11/dist-packages (from gradio-client==1.8.0->gradio) (2025.3.2)\n",
            "Requirement already satisfied: websockets<16.0,>=10.0 in /usr/local/lib/python3.11/dist-packages (from gradio-client==1.8.0->gradio) (15.0.1)\n",
            "Requirement already satisfied: idna>=2.8 in /usr/local/lib/python3.11/dist-packages (from anyio<5.0,>=3.0->gradio) (3.10)\n",
            "Requirement already satisfied: sniffio>=1.1 in /usr/local/lib/python3.11/dist-packages (from anyio<5.0,>=3.0->gradio) (1.3.1)\n",
            "Requirement already satisfied: certifi in /usr/local/lib/python3.11/dist-packages (from httpx>=0.24.1->gradio) (2025.1.31)\n",
            "Requirement already satisfied: httpcore==1.* in /usr/local/lib/python3.11/dist-packages (from httpx>=0.24.1->gradio) (1.0.7)\n",
            "Requirement already satisfied: h11<0.15,>=0.13 in /usr/local/lib/python3.11/dist-packages (from httpcore==1.*->httpx>=0.24.1->gradio) (0.14.0)\n",
            "Requirement already satisfied: filelock in /usr/local/lib/python3.11/dist-packages (from huggingface-hub>=0.28.1->gradio) (3.18.0)\n",
            "Requirement already satisfied: requests in /usr/local/lib/python3.11/dist-packages (from huggingface-hub>=0.28.1->gradio) (2.32.3)\n",
            "Requirement already satisfied: tqdm>=4.42.1 in /usr/local/lib/python3.11/dist-packages (from huggingface-hub>=0.28.1->gradio) (4.67.1)\n",
            "Requirement already satisfied: python-dateutil>=2.8.2 in /usr/local/lib/python3.11/dist-packages (from pandas<3.0,>=1.0->gradio) (2.8.2)\n",
            "Requirement already satisfied: pytz>=2020.1 in /usr/local/lib/python3.11/dist-packages (from pandas<3.0,>=1.0->gradio) (2025.2)\n",
            "Requirement already satisfied: tzdata>=2022.7 in /usr/local/lib/python3.11/dist-packages (from pandas<3.0,>=1.0->gradio) (2025.2)\n",
            "Requirement already satisfied: annotated-types>=0.6.0 in /usr/local/lib/python3.11/dist-packages (from pydantic<2.12,>=2.0->gradio) (0.7.0)\n",
            "Requirement already satisfied: pydantic-core==2.33.1 in /usr/local/lib/python3.11/dist-packages (from pydantic<2.12,>=2.0->gradio) (2.33.1)\n",
            "Requirement already satisfied: typing-inspection>=0.4.0 in /usr/local/lib/python3.11/dist-packages (from pydantic<2.12,>=2.0->gradio) (0.4.0)\n",
            "Requirement already satisfied: click>=8.0.0 in /usr/local/lib/python3.11/dist-packages (from typer<1.0,>=0.12->gradio) (8.1.8)\n",
            "Requirement already satisfied: shellingham>=1.3.0 in /usr/local/lib/python3.11/dist-packages (from typer<1.0,>=0.12->gradio) (1.5.4)\n",
            "Requirement already satisfied: rich>=10.11.0 in /usr/local/lib/python3.11/dist-packages (from typer<1.0,>=0.12->gradio) (13.9.4)\n",
            "Requirement already satisfied: six>=1.5 in /usr/local/lib/python3.11/dist-packages (from python-dateutil>=2.8.2->pandas<3.0,>=1.0->gradio) (1.17.0)\n",
            "Requirement already satisfied: markdown-it-py>=2.2.0 in /usr/local/lib/python3.11/dist-packages (from rich>=10.11.0->typer<1.0,>=0.12->gradio) (3.0.0)\n",
            "Requirement already satisfied: pygments<3.0.0,>=2.13.0 in /usr/local/lib/python3.11/dist-packages (from rich>=10.11.0->typer<1.0,>=0.12->gradio) (2.18.0)\n",
            "Requirement already satisfied: charset-normalizer<4,>=2 in /usr/local/lib/python3.11/dist-packages (from requests->huggingface-hub>=0.28.1->gradio) (3.4.1)\n",
            "Requirement already satisfied: urllib3<3,>=1.21.1 in /usr/local/lib/python3.11/dist-packages (from requests->huggingface-hub>=0.28.1->gradio) (2.3.0)\n",
            "Requirement already satisfied: mdurl~=0.1 in /usr/local/lib/python3.11/dist-packages (from markdown-it-py>=2.2.0->rich>=10.11.0->typer<1.0,>=0.12->gradio) (0.1.2)\n",
            "Downloading gradio-5.25.2-py3-none-any.whl (46.9 MB)\n",
            "\u001b[2K   \u001b[90m━━━━━━━━━━━━━━━━━━━━━━━━━━━━━━━━━━━━━━━━\u001b[0m \u001b[32m46.9/46.9 MB\u001b[0m \u001b[31m6.6 MB/s\u001b[0m eta \u001b[36m0:00:00\u001b[0m\n",
            "\u001b[?25hDownloading gradio_client-1.8.0-py3-none-any.whl (322 kB)\n",
            "\u001b[2K   \u001b[90m━━━━━━━━━━━━━━━━━━━━━━━━━━━━━━━━━━━━━━━━\u001b[0m \u001b[32m322.2/322.2 kB\u001b[0m \u001b[31m17.4 MB/s\u001b[0m eta \u001b[36m0:00:00\u001b[0m\n",
            "\u001b[?25hDownloading aiofiles-24.1.0-py3-none-any.whl (15 kB)\n",
            "Downloading fastapi-0.115.12-py3-none-any.whl (95 kB)\n",
            "\u001b[2K   \u001b[90m━━━━━━━━━━━━━━━━━━━━━━━━━━━━━━━━━━━━━━━━\u001b[0m \u001b[32m95.2/95.2 kB\u001b[0m \u001b[31m4.7 MB/s\u001b[0m eta \u001b[36m0:00:00\u001b[0m\n",
            "\u001b[?25hDownloading groovy-0.1.2-py3-none-any.whl (14 kB)\n",
            "Downloading python_multipart-0.0.20-py3-none-any.whl (24 kB)\n",
            "Downloading ruff-0.11.5-py3-none-manylinux_2_17_x86_64.manylinux2014_x86_64.whl (11.4 MB)\n",
            "\u001b[2K   \u001b[90m━━━━━━━━━━━━━━━━━━━━━━━━━━━━━━━━━━━━━━━━\u001b[0m \u001b[32m11.4/11.4 MB\u001b[0m \u001b[31m29.7 MB/s\u001b[0m eta \u001b[36m0:00:00\u001b[0m\n",
            "\u001b[?25hDownloading safehttpx-0.1.6-py3-none-any.whl (8.7 kB)\n",
            "Downloading semantic_version-2.10.0-py2.py3-none-any.whl (15 kB)\n",
            "Downloading starlette-0.46.2-py3-none-any.whl (72 kB)\n",
            "\u001b[2K   \u001b[90m━━━━━━━━━━━━━━━━━━━━━━━━━━━━━━━━━━━━━━━━\u001b[0m \u001b[32m72.0/72.0 kB\u001b[0m \u001b[31m5.4 MB/s\u001b[0m eta \u001b[36m0:00:00\u001b[0m\n",
            "\u001b[?25hDownloading tomlkit-0.13.2-py3-none-any.whl (37 kB)\n",
            "Downloading uvicorn-0.34.1-py3-none-any.whl (62 kB)\n",
            "\u001b[2K   \u001b[90m━━━━━━━━━━━━━━━━━━━━━━━━━━━━━━━━━━━━━━━━\u001b[0m \u001b[32m62.4/62.4 kB\u001b[0m \u001b[31m4.8 MB/s\u001b[0m eta \u001b[36m0:00:00\u001b[0m\n",
            "\u001b[?25hDownloading ffmpy-0.5.0-py3-none-any.whl (6.0 kB)\n",
            "Downloading pydub-0.25.1-py2.py3-none-any.whl (32 kB)\n"
          ]
        }
      ]
    },
    {
      "cell_type": "code",
      "source": [
        "# prompt: How can I see with OpenAI embedding whether the word was encoded as a single word?\n",
        "\n",
        "def get_embedding(word, model=\"text-embedding-3-large\"):\n",
        "   \"\"\"\n",
        "   Gets the embedding for a given word using the specified OpenAI model.\n",
        "\n",
        "   Parameters:\n",
        "   word (str): The word to embed.\n",
        "   model (str): The name of the OpenAI model to use for embedding.\n",
        "\n",
        "   Returns:\n",
        "   list: The embedding for the word.\n",
        "   \"\"\"\n",
        "   # Add a space before the word to ensure it's treated as a single word\n",
        "   return client.embeddings.create(input = [\" \" + word], model=model).data[0].embedding\n"
      ],
      "metadata": {
        "id": "YNTld-wA-1sL"
      },
      "execution_count": null,
      "outputs": []
    },
    {
      "cell_type": "code",
      "source": [
        "# prompt: How can I show the subtokens of an embedded word?\n",
        "\n",
        "def get_embedding_with_tokens(word, model=\"text-embedding-3-large\"):\n",
        "  \"\"\"\n",
        "  Gets the embedding for a given word using the specified OpenAI model and returns the subtokens.\n",
        "\n",
        "  Parameters:\n",
        "  word (str): The word to embed.\n",
        "  model (str): The name of the OpenAI model to use for embedding.\n",
        "\n",
        "  Returns:\n",
        "  dict: A dictionary containing the embedding and the subtokens.\n",
        "  \"\"\"\n",
        "  response = client.embeddings.create(input = [\" \" + word], model=model)\n",
        "  embedding = response.data[0].embedding\n",
        "  tokens = response.data[0].usage.prompt_tokens\n",
        "  return {\"embedding\": embedding, \"tokens\": tokens}\n"
      ],
      "metadata": {
        "id": "aZeZJYMWAdaK"
      },
      "execution_count": null,
      "outputs": []
    },
    {
      "cell_type": "code",
      "source": [
        "get_embedding_with_tokens(\" Banane\")\n"
      ],
      "metadata": {
        "id": "tsycWUxJAuZd"
      },
      "execution_count": null,
      "outputs": []
    },
    {
      "cell_type": "code",
      "source": [
        "\n",
        "import tiktoken\n",
        "def get_embedding_with_tokens(word, model=\"text-embedding-3-large\"):\n",
        "    \"\"\"\n",
        "    Gets the embedding for a given word using the OpenAI client and returns the subtokens.\n",
        "\n",
        "    Parameters:\n",
        "    word (str): The word to embed.\n",
        "    model (str): The name of the OpenAI model to use for embedding.\n",
        "\n",
        "    Returns:\n",
        "    dict: A dictionary containing the embedding and the tokens (subtokens).\n",
        "    \"\"\"\n",
        "    # Use the OpenAI client to get the embedding\n",
        "    response = client.embeddings.create(input=word, model=model)\n",
        "\n",
        "    # Extract the embedding from the response object\n",
        "    embedding = response.data[0].embedding  # Access as an attribute\n",
        "\n",
        "    # Use tiktoken to get the tokens (subtokens)\n",
        "    tokenizer = tiktoken.encoding_for_model(model)  # Initialize the tokenizer for the model\n",
        "    tokens = tokenizer.encode(word)  # Tokenize the word\n",
        "\n",
        "    # Decode tokens back into their string representation (optional, to see the subtokens)\n",
        "    decoded_tokens = [tokenizer.decode([token]) for token in tokens]\n",
        "\n",
        "    # Return both the embedding and the subtokens (decoded tokens)\n",
        "    return { \"tokens\": decoded_tokens,\"embedding\": embedding}\n"
      ],
      "metadata": {
        "id": "3gNvMefDAyDB"
      },
      "execution_count": null,
      "outputs": []
    },
    {
      "cell_type": "code",
      "source": [
        "result = get_embedding_with_tokens(\"Wiederherstellungskosten\")\n",
        "print(result)"
      ],
      "metadata": {
        "id": "i90EcZlRBLVV"
      },
      "execution_count": null,
      "outputs": []
    },
    {
      "cell_type": "code",
      "source": [
        "# prompt: embed 2 words and give the vector similarity back, create a function\n",
        "\n",
        "import numpy as np\n",
        "from sklearn.metrics.pairwise import cosine_similarity\n",
        "\n",
        "def get_vector_similarity(word1, word2, model=\"text-embedding-3-large\"):\n",
        "  \"\"\"\n",
        "  Embeds two words and calculates the cosine similarity between their embeddings.\n",
        "\n",
        "  Args:\n",
        "    word1 (str): The first word.\n",
        "    word2 (str): The second word.\n",
        "    model (str): The OpenAI model to use for embedding.\n",
        "\n",
        "  Returns:\n",
        "    float: The cosine similarity between the embeddings of the two words.\n",
        "  \"\"\"\n",
        "  embedding1 = get_embedding(word1, model=model)\n",
        "  embedding2 = get_embedding(word2, model=model)\n",
        "  similarity = cosine_similarity([embedding1], [embedding2])[0][0]\n",
        "  return similarity\n"
      ],
      "metadata": {
        "id": "CzjyFAWXC6-S"
      },
      "execution_count": null,
      "outputs": []
    },
    {
      "cell_type": "code",
      "source": [
        "get_vector_similarity(\"Katze\", \"Katzen\")\n"
      ],
      "metadata": {
        "id": "Hhn49Sx8D9qD"
      },
      "execution_count": null,
      "outputs": []
    },
    {
      "cell_type": "code",
      "source": [
        "# prompt: Create an analogy function: word A is to word B as word C to ...\n",
        "\n",
        "import numpy as np\n",
        "def find_analogous_word(word_a, word_b, word_c, words_list, model=\"text-embedding-3-large\"):\n",
        "    \"\"\"\n",
        "    Finds the word most analogous to word_c in the context of the analogy word_a is to word_b.\n",
        "\n",
        "    Args:\n",
        "      word_a (str): The first word in the analogy.\n",
        "      word_b (str): The second word in the analogy.\n",
        "      word_c (str): The third word in the analogy.\n",
        "      words_list (list): A list of candidate words to find the analogous word from.\n",
        "      model (str): The OpenAI model to use for embedding.\n",
        "\n",
        "    Returns:\n",
        "      str: The word most analogous to word_c.\n",
        "    \"\"\"\n",
        "    # Get embeddings for all words\n",
        "    embedding_a = get_embedding(word_a, model=model)\n",
        "    embedding_b = get_embedding(word_b, model=model)\n",
        "    embedding_c = get_embedding(word_c, model=model)\n",
        "\n",
        "    # Calculate the difference between the embeddings of word_a and word_b\n",
        "    diff_ab = np.array(embedding_b) - np.array(embedding_a)\n",
        "\n",
        "    # Find the word in words_list that has the most similar embedding to word_c + diff_ab\n",
        "    best_word = None\n",
        "    best_similarity = -float('inf')\n",
        "    for word in words_list:\n",
        "        embedding_word = get_embedding(word, model=model)\n",
        "        similarity = cosine_similarity([np.array(embedding_c) + diff_ab], [embedding_word])[0][0]\n",
        "        if similarity > best_similarity:\n",
        "            best_similarity = similarity\n",
        "            best_word = word\n",
        "\n",
        "    return best_word\n"
      ],
      "metadata": {
        "id": "uV2JIlBjEKKB"
      },
      "execution_count": null,
      "outputs": []
    },
    {
      "cell_type": "code",
      "source": [
        "find_analogous_word(\"man\", \"king\", \"woman\", [\"queen\", \"princess\", \"prince\",\"queens\"])"
      ],
      "metadata": {
        "id": "GqfWvOcnEelV"
      },
      "execution_count": null,
      "outputs": []
    },
    {
      "cell_type": "code",
      "source": [
        "# prompt: Create a gradio app for the analogy game, also draw all words in an PCA embedding space (2D). Also draw a line of the transition in the embedding space.\n",
        "\n",
        "import numpy as np\n",
        "from sklearn.metrics.pairwise import cosine_distances\n",
        "from sklearn.decomposition import PCA\n",
        "import matplotlib.pyplot as plt\n",
        "import openai\n",
        "from openai import OpenAI\n",
        "from google.colab import userdata\n",
        "import gradio as gr\n",
        "import tiktoken\n",
        "from sklearn.metrics.pairwise import cosine_similarity\n",
        "\n",
        "# Create\n",
        "client = OpenAI(api_key=userdata.get('OPENAI_API_KEY'))\n",
        "\n",
        "def get_embedding(word, model=\"text-embedding-3-small\"):\n",
        "   \"\"\"\n",
        "   Gets the embedding for a given word using the specified OpenAI model.\n",
        "\n",
        "   Parameters:\n",
        "   word (str): The word to embed.\n",
        "   model (str): The name of the OpenAI model to use for embedding.\n",
        "\n",
        "   Returns:\n",
        "   list: The embedding for the word.\n",
        "   \"\"\"\n",
        "   # Add a space before the word to ensure it's treated as a single word\n",
        "   return client.embeddings.create(input = [\" \" + word], model=model).data[0].embedding\n",
        "\n",
        "\n",
        "def find_analogous_word_and_visualize(word_a, word_b, word_c, words_list, model=\"text-embedding-3-large\"):\n",
        "    \"\"\"\n",
        "    Finds the word most analogous to word_c in the context of the analogy word_a is to word_b and visualizes the embeddings.\n",
        "\n",
        "    Args:\n",
        "      word_a (str): The first word in the analogy.\n",
        "      word_b (str): The second word in the analogy.\n",
        "      word_c (str): The third word in the analogy.\n",
        "      words_list (list): A list of candidate words to find the analogous word from.\n",
        "      model (str): The OpenAI model to use for embedding.\n",
        "\n",
        "    Returns:\n",
        "      str: The word most analogous to word_c.\n",
        "      str: Path to the generated plot image.\n",
        "    \"\"\"\n",
        "    # Get embeddings for all words\n",
        "    embedding_a = get_embedding(word_a, model=model)\n",
        "    embedding_b = get_embedding(word_b, model=model)\n",
        "    embedding_c = get_embedding(word_c, model=model)\n",
        "    embeddings = [embedding_a, embedding_b, embedding_c]\n",
        "    words = [word_a, word_b, word_c]\n",
        "\n",
        "    # Calculate the difference between the embeddings of word_a and word_b\n",
        "    diff_ab = np.array(embedding_b) - np.array(embedding_a)\n",
        "\n",
        "    # Find the word in words_list that has the most similar embedding to word_c + diff_ab\n",
        "    best_word = None\n",
        "    best_similarity = -float('inf')\n",
        "    words_list = words_list.split()\n",
        "    for word in words_list:\n",
        "        embedding_word = get_embedding(word, model=model)\n",
        "        similarity = cosine_similarity([np.array(embedding_c) + diff_ab], [embedding_word])[0][0]\n",
        "        if similarity > best_similarity:\n",
        "            best_similarity = similarity\n",
        "            best_word = word\n",
        "\n",
        "    # Get embeddings for all words including the best word\n",
        "    for word in words_list:\n",
        "        embedding_word = get_embedding(word, model=model)\n",
        "        embeddings.append(embedding_word)\n",
        "        words.append(word)\n",
        "\n",
        "    # Convert embeddings list to a NumPy array for PCA\n",
        "    embeddings_array = np.array(embeddings)\n",
        "\n",
        "    # PCA reduction to 2D for visualization\n",
        "    pca = PCA(n_components=2)\n",
        "    embeddings_2d = pca.fit_transform(embeddings_array)\n",
        "\n",
        "    # Plotting the 2D embeddings\n",
        "    plt.figure(figsize=(8, 6))\n",
        "    for i, emb in enumerate(embeddings_2d):\n",
        "        plt.scatter(emb[0], emb[1], label=words[i])\n",
        "        plt.text(emb[0] + 0.01, emb[1] + 0.01, words[i])\n",
        "\n",
        "    # Draw a line between word_a, word_b, and word_c + diff_ab\n",
        "    a_index = words.index(word_a)\n",
        "    b_index = words.index(word_b)\n",
        "    c_index = words.index(word_c)\n",
        "    best_word_index = words.index(best_word)\n",
        "    plt.plot([embeddings_2d[a_index][0], embeddings_2d[b_index][0]], [embeddings_2d[a_index][1], embeddings_2d[b_index][1]], color='red')\n",
        "    plt.plot([embeddings_2d[c_index][0], embeddings_2d[best_word_index][0]], [embeddings_2d[c_index][1], embeddings_2d[best_word_index][1]], color='blue')\n",
        "\n",
        "    plt.xlabel('PC1')\n",
        "    plt.ylabel('PC2')\n",
        "    plt.title('PCA visualization of embeddings in 2D space')\n",
        "    plt.legend()\n",
        "    plt.grid(True)\n",
        "    plt.savefig('plot.png')  # Save the plot to a file\n",
        "    plt.close()\n",
        "\n",
        "    return best_word, 'plot.png'\n",
        "\n",
        "\n",
        "# Create the Gradio interface\n",
        "demo = gr.Interface(\n",
        "    fn=find_analogous_word_and_visualize,\n",
        "    inputs=[\n",
        "        gr.Textbox(lines=1, placeholder=\"Word A\"),\n",
        "        gr.Textbox(lines=1, placeholder=\"Word B\"),\n",
        "        gr.Textbox(lines=1, placeholder=\"Word C\"),\n",
        "        gr.Textbox(lines=5, placeholder=\"Candidate words (separated by spaces)\")\n",
        "    ],\n",
        "    outputs=[\n",
        "        gr.Textbox(label=\"Most Analogous Word\"),\n",
        "        \"image\"\n",
        "    ],\n",
        "    title=\"Word Analogy Game\",\n",
        "    description=\"Find the most analogous word based on the given analogy.\"\n",
        ")\n",
        "\n",
        "# Launch the interface\n",
        "demo.launch(share=True,debug=False)\n"
      ],
      "metadata": {
        "id": "UqDaw6ZMEirJ"
      },
      "execution_count": null,
      "outputs": []
    },
    {
      "cell_type": "code",
      "source": [],
      "metadata": {
        "id": "7rq2mpOUHpJs"
      },
      "execution_count": null,
      "outputs": []
    }
  ]
}