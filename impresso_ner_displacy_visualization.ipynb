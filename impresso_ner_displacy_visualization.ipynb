{
  "nbformat": 4,
  "nbformat_minor": 0,
  "metadata": {
    "colab": {
      "provenance": [],
      "collapsed_sections": [
        "Lr-phCiuy1aW",
        "5m00DEeLz1bs"
      ],
      "toc_visible": true,
      "authorship_tag": "ABX9TyPcRc5jgRpTWB55A3J5jGxP",
      "include_colab_link": true
    },
    "kernelspec": {
      "name": "python3",
      "display_name": "Python 3"
    },
    "language_info": {
      "name": "python"
    }
  },
  "cells": [
    {
      "cell_type": "markdown",
      "metadata": {
        "id": "view-in-github",
        "colab_type": "text"
      },
      "source": [
        "<a href=\"https://colab.research.google.com/github/simon-clematide/colab-notebooks-for-teaching/blob/main/impresso_ner_displacy_visualization.ipynb\" target=\"_parent\"><img src=\"https://colab.research.google.com/assets/colab-badge.svg\" alt=\"Open In Colab\"/></a>"
      ]
    },
    {
      "cell_type": "markdown",
      "source": [
        "# Visualizing Named Entities with Impresso API\n",
        "\n",
        "Welcome to this interactive notebook designed for visualizing named entities extracted from text using the Impresso API. This notebook focuses on fine-grained and nested Named Entity Recognition (NER) and provides an interface for exploring multilingual texts.\n",
        "\n",
        "**Key Features:**\n",
        "\n",
        "- **Multilingual Support:** Visualize named entities in texts from different languages including German, French, and English.\n",
        "- **Fine-Grained Details:** Explore both coarse and fine-grained named entity categories.\n",
        "- **Interactive Visualization:** Use a custom interface to input text and view visualizations of detected entities directly in this notebook.\n",
        "\n",
        "**Getting Started:**\n",
        "\n",
        "1. **Installation:** First, you'll need to install SpaCy, a powerful library for NLP, which will be used for visualizing the entities.\n",
        "2. **API Integration:** The notebook integrates with the Impresso NER and Named Entity Linking (NEL) API to fetch entity recognition results.\n",
        "3. **Visualization:** Utilize SpaCy’s displacy to render and explore named entities with custom color schemes for different entity types.\n",
        "4. **Interactive Interface:** An interactive text input interface allows you to test various texts and view their NER results dynamically.\n",
        "\n",
        "**Acknowledgements:**\n",
        "\n",
        "Special thanks to Ema Boros for training the models and programming the API, and to the HIPE team for providing the training material.\n",
        "\n",
        "For further experimentation, you can directly access the experimental API at [Impresso Annotation](https://impresso-annotation.epfl.ch/).\n"
      ],
      "metadata": {
        "id": "CFDuZVrUhJR3"
      }
    },
    {
      "cell_type": "markdown",
      "source": [
        "## The code behind the demo app"
      ],
      "metadata": {
        "id": "U75IOgO4zwfZ"
      }
    },
    {
      "cell_type": "markdown",
      "source": [
        "### Install spacy for NLP processing visualization."
      ],
      "metadata": {
        "id": "Lr-phCiuy1aW"
      }
    },
    {
      "cell_type": "code",
      "source": [
        "%pip install spacy"
      ],
      "metadata": {
        "id": "lLCYjzAGO8-5"
      },
      "execution_count": null,
      "outputs": []
    },
    {
      "cell_type": "markdown",
      "source": [
        "### Call the impresso NER and NEL API\n",
        "We only use the NER part in the visualization."
      ],
      "metadata": {
        "id": "k8VurD5Hyy7g"
      }
    },
    {
      "cell_type": "code",
      "source": [
        "import requests\n",
        "\n",
        "def get_linked_entities(text, coarse_only=False):\n",
        "    \"\"\"\n",
        "    Calls the external API to get named entity recognition (NER) results.\n",
        "    \"\"\"\n",
        "    url = \"https://impresso-annotation.epfl.ch/api/ner/\"\n",
        "    payload = {\"data\": text}\n",
        "    try:\n",
        "        response = requests.post(url, json=payload)\n",
        "        if response.status_code == 200:\n",
        "            data = response.json()\n",
        "            data[\"text\"] = text\n",
        "            # remove fine-grained and components\n",
        "            if coarse_only:\n",
        "                for ne in data[\"nes\"]:\n",
        "                    data[\"nes\"] = [ne for ne in data[\"nes\"] if not \".\" in ne[\"type\"]]\n",
        "            return data\n",
        "        else:\n",
        "            print(f\"Request failed with status code {response.status_code}\")\n",
        "            return None\n",
        "    except requests.exceptions.RequestException as e:\n",
        "        print(f\"An error occurred: {e}\")\n",
        "        return None\n"
      ],
      "metadata": {
        "id": "Lhyczl3eywiV"
      },
      "execution_count": null,
      "outputs": []
    },
    {
      "cell_type": "code",
      "source": [
        "# Let's test this function\n",
        "import json\n",
        "import requests"
      ],
      "metadata": {
        "id": "t5brfOPQ9N-x"
      },
      "execution_count": null,
      "outputs": []
    },
    {
      "cell_type": "code",
      "source": [
        "text = \"Die Zentrallbibliothek in Zürich wurde am 1. Oktober 1917 nourgeschrieben.\"\n",
        "api_result = get_linked_entities(text,coarse_only=True)\n",
        "import json\n",
        "print(json.dumps(api_result, ensure_ascii=False,indent=2))"
      ],
      "metadata": {
        "id": "YM7blTRDzctw"
      },
      "execution_count": null,
      "outputs": []
    },
    {
      "cell_type": "markdown",
      "source": [
        "### Code for the visualization"
      ],
      "metadata": {
        "id": "5m00DEeLz1bs"
      }
    },
    {
      "cell_type": "code",
      "source": [
        "import spacy\n",
        "from spacy.tokens import Span\n",
        "from spacy import displacy\n",
        "\n",
        "\n",
        "# Define the color scheme for the entities and components\n",
        "colors = {\n",
        "    \"pers\": \"#CBC3E3\",  # Pastel Lavender\n",
        "    \"org\": \"#FFC0CB\",  # Pastel Pink\n",
        "    \"prod\": \"#ADD8E6\",  # Pastel Blue\n",
        "    \"time\": \"#FDFD96\",  # Pastel Goldenrod\n",
        "    \"loc\": \"#B0E57C\",  # Pastel Green,\n",
        "    # Fine-grained categories\n",
        "    \"pers.ind\": \"#E6E6FA\",  # Light Lavender\n",
        "    \"pers.coll\": \"#D8BFD8\",  # Lavender Mist\n",
        "    \"pers.ind.articleauthor\": \"#DDA0DD\",  # Thistle\n",
        "    \"org.adm\": \"#FFD1DC\",  # Pale Pink\n",
        "    \"org.ent\": \"#FFB6C1\",  # Pink\n",
        "    \"org.ent.pressagency\": \"#F08080\",  # Light Coral\n",
        "    \"prod.media\": \"#87CEFA\",  # Light Sky Blue\n",
        "    \"prod.doctr\": \"#B0E0E6\",  # Powder Blue\n",
        "    \"time.date.abs\": \"#EEE8AA\",  # Pale Goldenrod\n",
        "    \"loc.adm.town\": \"#98FB98\",  # Pale Green\n",
        "    \"loc.adm.reg\": \"#90EE90\",  # Light Green\n",
        "    \"loc.adm.nat\": \"#F0FFF0\",  # Honeydew\n",
        "    \"loc.adm.sup\": \"#F5FFFA\",  # Mint Cream\n",
        "    \"loc.phys.geo\": \"#20B2AA\",  # Light Sea Green\n",
        "    \"loc.phys.hydro\": \"#66CDAA\",  # Medium Aquamarine\n",
        "    \"loc.phys.astro\": \"#AFEEEE\",  # Pale Turquoise\n",
        "    \"loc.oro\": \"#FFDAB9\",  # Peach Puff\n",
        "    \"loc.fac\": \"#FFE4B5\",  # Moccasin\n",
        "    \"loc.add.phys\": \"#FFFFE0\",  # Light Yellow\n",
        "    \"loc.add.elec\": \"#FFFACD\",  # Lemon Chiffon\n",
        "    \"loc.unk\": \"#FAF0E6\",  # Linen,\n",
        "}\n",
        "\n",
        "options = {\n",
        "    \"spans_key\": \"sc\",  # Custom key for spans\n",
        "    \"colors\": colors  # Custom color mapping\n",
        "}\n",
        "\n",
        "def visualize_overlapping_spans(api_response):\n",
        "    \"\"\"\n",
        "    Visualizes overlapping entities from the given API response using SpaCy's span visualizer.\n",
        "    \"\"\"\n",
        "    # Load a blank SpaCy model (no NER model)\n",
        "    nlp = spacy.blank(\"en\")\n",
        "    text = api_response.get('text', '')\n",
        "    entities = api_response.get('nes', [])\n",
        "\n",
        "    # Create a spaCy doc object\n",
        "    doc = nlp(text)\n",
        "\n",
        "    # Collect all entities without filtering\n",
        "    spans = []\n",
        "    for entity in entities:\n",
        "        char_start = entity['lOffset']\n",
        "        char_end = entity['rOffset']\n",
        "        label = entity['type']\n",
        "        span = doc.char_span(char_start, char_end, label=label, alignment_mode=\"expand\")\n",
        "        if span is not None:\n",
        "            spans.append(span)\n",
        "        else:\n",
        "            print(f\"Warning: Span could not be created for {entity['surface']} at offsets {char_start}-{char_end}\")\n",
        "\n",
        "    # Add the spans to the Doc\n",
        "    doc.spans[\"sc\"] = spans  # \"sc\" is a custom key for the overlapping spans\n",
        "\n",
        "    # Visualize the overlapping spans using the \"span\" style\n",
        "    displacy.render(doc, style=\"span\", jupyter=True, options=options)\n",
        "\n",
        "\n"
      ],
      "metadata": {
        "id": "tLQQwLM0rGNE"
      },
      "execution_count": null,
      "outputs": []
    },
    {
      "cell_type": "markdown",
      "source": [
        "### Code for the interactive visualization app\n"
      ],
      "metadata": {
        "id": "5_D3f-9X0X0q"
      }
    },
    {
      "cell_type": "code",
      "source": [
        "import ipywidgets as widgets\n",
        "from IPython.display import display, HTML\n",
        "\n",
        "def create_text_input_interface(process_callback, api_options={}, placeholder_text='Type something...', button_description=\"Process\"):\n",
        "    \"\"\"\n",
        "    Creates an interactive text input interface with a processing button, clear button, and spinner.\n",
        "\n",
        "    Args:\n",
        "    process_callback (function): Function to call when the process button is clicked. It should accept a string input.\n",
        "    placeholder_text (str): Placeholder text for the text area.\n",
        "    button_description (str): Description for the process button.\n",
        "\n",
        "    Returns:\n",
        "    None: Displays the interactive interface in a Jupyter environment.\n",
        "    \"\"\"\n",
        "\n",
        "    # Spinner output\n",
        "    spinner_output = widgets.Output()\n",
        "\n",
        "    # Spinner HTML content\n",
        "    spinner_html = \"\"\"\n",
        "    <div class=\"loader\" style=\"border: 6px solid #f3f3f3; border-radius: 50%; border-top: 6px solid #3498db; width: 30px; height: 30px; -webkit-animation: spin 2s linear infinite; animation: spin 2s linear infinite;\"></div>\n",
        "    <style>\n",
        "    @keyframes spin {\n",
        "      0% { transform: rotate(0deg); }\n",
        "      100% { transform: rotate(360deg); }\n",
        "    }\n",
        "    </style>\n",
        "    \"\"\"\n",
        "\n",
        "    # Create a larger text area for user input\n",
        "    text_area = widgets.Textarea(\n",
        "        placeholder=placeholder_text,\n",
        "        layout=widgets.Layout(width='800px', height='100px')\n",
        "    )\n",
        "\n",
        "    # Process Button to trigger the visualization\n",
        "    button_process = widgets.Button(\n",
        "        description=button_description,\n",
        "        button_style='info',\n",
        "        layout=widgets.Layout(\n",
        "            width='150px',\n",
        "            height='40px',\n",
        "            margin='20px 10px 0px 0px',\n",
        "            border_radius='8px',\n",
        "            box_shadow='2px 2px 12px rgba(0, 0, 0, 0.2)',\n",
        "        ),\n",
        "    )\n",
        "\n",
        "    # Clear Button to clear the text area and output\n",
        "    button_clear = widgets.Button(\n",
        "        description=\"Clear\",\n",
        "        button_style='warning',\n",
        "        layout=widgets.Layout(\n",
        "            width='150px',\n",
        "            height='40px',\n",
        "            margin='20px 0px 0px 0px',\n",
        "            border_radius='8px',\n",
        "            box_shadow='2px 2px 12px rgba(0, 0, 0, 0.2)',\n",
        "        ),\n",
        "    )\n",
        "\n",
        "    # Function to run when the process button is clicked\n",
        "    def on_button_process_clicked(b):\n",
        "        if not text_area.value or text_area.value == placeholder_text:\n",
        "            print(\"Please enter some text.\")\n",
        "            return\n",
        "\n",
        "        with spinner_output:\n",
        "            spinner_output.clear_output()  # Clear previous output\n",
        "            display(HTML(spinner_html))  # Show spinner\n",
        "\n",
        "        text_input = text_area.value\n",
        "\n",
        "        # Call the external process callback\n",
        "        api_response = process_callback(text_input,**api_options)\n",
        "\n",
        "        # Hide spinner after processing\n",
        "        spinner_output.clear_output()\n",
        "\n",
        "        if api_response:\n",
        "            visualize_overlapping_spans(api_response)\n",
        "        else:\n",
        "            print(\"Failed to get linked entities from the API.\")\n",
        "\n",
        "    # Function to run when the clear button is clicked\n",
        "    def on_button_clear_clicked(b):\n",
        "        text_area.value = ''  # Clear the text area\n",
        "        spinner_output.clear_output()  # Clear any spinner or output content\n",
        "\n",
        "    # Link the buttons to their respective functions\n",
        "    button_process.on_click(on_button_process_clicked)\n",
        "    button_clear.on_click(on_button_clear_clicked)\n",
        "\n",
        "    # Display the form with both buttons and spinner output\n",
        "    display(text_area, widgets.HBox([button_process, button_clear]), spinner_output)\n",
        "\n",
        "def ner_coarse():\n",
        "    create_text_input_interface(get_linked_entities, api_options={\"coarse_only\":True},placeholder_text=\"Enter your text here...\", button_description=\"Analyze\")\n",
        "\n",
        "def ner_fine():\n",
        "    create_text_input_interface(get_linked_entities, api_options={\"coarse_only\":False},placeholder_text=\"Enter your text here...\", button_description=\"Analyze\")\n"
      ],
      "metadata": {
        "id": "opoQiQoJF0zf"
      },
      "execution_count": null,
      "outputs": []
    },
    {
      "cell_type": "markdown",
      "source": [
        "# Play with the impresso NER visualization\n",
        "Enter German, French, or English text (try noisy input):\n",
        "\n",
        "```\n",
        "1917 wurde die Zentralbibliothek der Stadt Zürich vom zürcherischen Kantonsbaumeister Hermann Fietz fertig gebaut.\n",
        "\n",
        "In 1917, the Central Library of the city of Zurich was completed by the Zurich cantonal architect Hermann Fietz.\n",
        "\n",
        "La construction de la Bibliothèque Centrale de la ville de Zurich a été achevée en 1917 par l'architecte cantonal zurichois Hermann Fietz.\n",
        "```\n",
        "Showing only coarse-grained results:"
      ],
      "metadata": {
        "id": "LpHUevknGR5X"
      }
    },
    {
      "cell_type": "code",
      "source": [
        "ner_coarse()"
      ],
      "metadata": {
        "id": "km8DozyS0dIL"
      },
      "execution_count": null,
      "outputs": []
    },
    {
      "cell_type": "markdown",
      "source": [
        "Visualization for all recognized named entities and components"
      ],
      "metadata": {
        "id": "MTNXogDG0j__"
      }
    },
    {
      "cell_type": "code",
      "source": [
        "ner_fine()"
      ],
      "metadata": {
        "id": "nb7dgabZ0g6Q"
      },
      "execution_count": null,
      "outputs": []
    },
    {
      "cell_type": "code",
      "source": [],
      "metadata": {
        "id": "vMGNefNN1MCs"
      },
      "execution_count": null,
      "outputs": []
    }
  ]
}