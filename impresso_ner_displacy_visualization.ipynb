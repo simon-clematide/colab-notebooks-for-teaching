{
  "nbformat": 4,
  "nbformat_minor": 0,
  "metadata": {
    "colab": {
      "provenance": [],
      "collapsed_sections": [
        "Lr-phCiuy1aW"
      ],
      "toc_visible": true,
      "authorship_tag": "ABX9TyO2uDFp00zrGPIK8H27a1y+",
      "include_colab_link": true
    },
    "kernelspec": {
      "name": "python3",
      "display_name": "Python 3"
    },
    "language_info": {
      "name": "python"
    },
    "widgets": {
      "application/vnd.jupyter.widget-state+json": {
        "56093af71b354d9e9683561190d793c4": {
          "model_module": "@jupyter-widgets/controls",
          "model_name": "TextareaModel",
          "model_module_version": "1.5.0",
          "state": {
            "_dom_classes": [],
            "_model_module": "@jupyter-widgets/controls",
            "_model_module_version": "1.5.0",
            "_model_name": "TextareaModel",
            "_view_count": null,
            "_view_module": "@jupyter-widgets/controls",
            "_view_module_version": "1.5.0",
            "_view_name": "TextareaView",
            "continuous_update": true,
            "description": "",
            "description_tooltip": null,
            "disabled": false,
            "layout": "IPY_MODEL_6f7aa5d856214c74a6e22475986e18a4",
            "placeholder": "Enter your text here...",
            "rows": null,
            "style": "IPY_MODEL_b6b9720b0f164f2d86db9a45818600d9",
            "value": "1917 wurde die Zentralbibliothek der Stadt Zürich vom zürcherischen Kantonsbaumeister Hermann Fietz fertig gebaut.\n"
          }
        },
        "6f7aa5d856214c74a6e22475986e18a4": {
          "model_module": "@jupyter-widgets/base",
          "model_name": "LayoutModel",
          "model_module_version": "1.2.0",
          "state": {
            "_model_module": "@jupyter-widgets/base",
            "_model_module_version": "1.2.0",
            "_model_name": "LayoutModel",
            "_view_count": null,
            "_view_module": "@jupyter-widgets/base",
            "_view_module_version": "1.2.0",
            "_view_name": "LayoutView",
            "align_content": null,
            "align_items": null,
            "align_self": null,
            "border": null,
            "bottom": null,
            "display": null,
            "flex": null,
            "flex_flow": null,
            "grid_area": null,
            "grid_auto_columns": null,
            "grid_auto_flow": null,
            "grid_auto_rows": null,
            "grid_column": null,
            "grid_gap": null,
            "grid_row": null,
            "grid_template_areas": null,
            "grid_template_columns": null,
            "grid_template_rows": null,
            "height": "100px",
            "justify_content": null,
            "justify_items": null,
            "left": null,
            "margin": null,
            "max_height": null,
            "max_width": null,
            "min_height": null,
            "min_width": null,
            "object_fit": null,
            "object_position": null,
            "order": null,
            "overflow": null,
            "overflow_x": null,
            "overflow_y": null,
            "padding": null,
            "right": null,
            "top": null,
            "visibility": null,
            "width": "800px"
          }
        },
        "b6b9720b0f164f2d86db9a45818600d9": {
          "model_module": "@jupyter-widgets/controls",
          "model_name": "DescriptionStyleModel",
          "model_module_version": "1.5.0",
          "state": {
            "_model_module": "@jupyter-widgets/controls",
            "_model_module_version": "1.5.0",
            "_model_name": "DescriptionStyleModel",
            "_view_count": null,
            "_view_module": "@jupyter-widgets/base",
            "_view_module_version": "1.2.0",
            "_view_name": "StyleView",
            "description_width": ""
          }
        },
        "fd12b428f785484db9d756fcaebcc188": {
          "model_module": "@jupyter-widgets/controls",
          "model_name": "HBoxModel",
          "model_module_version": "1.5.0",
          "state": {
            "_dom_classes": [],
            "_model_module": "@jupyter-widgets/controls",
            "_model_module_version": "1.5.0",
            "_model_name": "HBoxModel",
            "_view_count": null,
            "_view_module": "@jupyter-widgets/controls",
            "_view_module_version": "1.5.0",
            "_view_name": "HBoxView",
            "box_style": "",
            "children": [
              "IPY_MODEL_e4fa6f0fecdd4dfe82a2799931758911",
              "IPY_MODEL_d393638d4a5c4b8499462b70b404c9e2"
            ],
            "layout": "IPY_MODEL_e8ced1f1642b4d9982e1dca98570a24b"
          }
        },
        "e4fa6f0fecdd4dfe82a2799931758911": {
          "model_module": "@jupyter-widgets/controls",
          "model_name": "ButtonModel",
          "model_module_version": "1.5.0",
          "state": {
            "_dom_classes": [],
            "_model_module": "@jupyter-widgets/controls",
            "_model_module_version": "1.5.0",
            "_model_name": "ButtonModel",
            "_view_count": null,
            "_view_module": "@jupyter-widgets/controls",
            "_view_module_version": "1.5.0",
            "_view_name": "ButtonView",
            "button_style": "info",
            "description": "Analyze",
            "disabled": false,
            "icon": "",
            "layout": "IPY_MODEL_55db8ceb4fe74a61b2db6eae957f6a89",
            "style": "IPY_MODEL_874d0117a3524e8da12a7a78129da7da",
            "tooltip": ""
          }
        },
        "d393638d4a5c4b8499462b70b404c9e2": {
          "model_module": "@jupyter-widgets/controls",
          "model_name": "ButtonModel",
          "model_module_version": "1.5.0",
          "state": {
            "_dom_classes": [],
            "_model_module": "@jupyter-widgets/controls",
            "_model_module_version": "1.5.0",
            "_model_name": "ButtonModel",
            "_view_count": null,
            "_view_module": "@jupyter-widgets/controls",
            "_view_module_version": "1.5.0",
            "_view_name": "ButtonView",
            "button_style": "warning",
            "description": "Clear",
            "disabled": false,
            "icon": "",
            "layout": "IPY_MODEL_893b3b505bb4425f94d799b29ef997db",
            "style": "IPY_MODEL_04e4df4a3e274516b529071a456acb3c",
            "tooltip": ""
          }
        },
        "e8ced1f1642b4d9982e1dca98570a24b": {
          "model_module": "@jupyter-widgets/base",
          "model_name": "LayoutModel",
          "model_module_version": "1.2.0",
          "state": {
            "_model_module": "@jupyter-widgets/base",
            "_model_module_version": "1.2.0",
            "_model_name": "LayoutModel",
            "_view_count": null,
            "_view_module": "@jupyter-widgets/base",
            "_view_module_version": "1.2.0",
            "_view_name": "LayoutView",
            "align_content": null,
            "align_items": null,
            "align_self": null,
            "border": null,
            "bottom": null,
            "display": null,
            "flex": null,
            "flex_flow": null,
            "grid_area": null,
            "grid_auto_columns": null,
            "grid_auto_flow": null,
            "grid_auto_rows": null,
            "grid_column": null,
            "grid_gap": null,
            "grid_row": null,
            "grid_template_areas": null,
            "grid_template_columns": null,
            "grid_template_rows": null,
            "height": null,
            "justify_content": null,
            "justify_items": null,
            "left": null,
            "margin": null,
            "max_height": null,
            "max_width": null,
            "min_height": null,
            "min_width": null,
            "object_fit": null,
            "object_position": null,
            "order": null,
            "overflow": null,
            "overflow_x": null,
            "overflow_y": null,
            "padding": null,
            "right": null,
            "top": null,
            "visibility": null,
            "width": null
          }
        },
        "55db8ceb4fe74a61b2db6eae957f6a89": {
          "model_module": "@jupyter-widgets/base",
          "model_name": "LayoutModel",
          "model_module_version": "1.2.0",
          "state": {
            "_model_module": "@jupyter-widgets/base",
            "_model_module_version": "1.2.0",
            "_model_name": "LayoutModel",
            "_view_count": null,
            "_view_module": "@jupyter-widgets/base",
            "_view_module_version": "1.2.0",
            "_view_name": "LayoutView",
            "align_content": null,
            "align_items": null,
            "align_self": null,
            "border": null,
            "bottom": null,
            "display": null,
            "flex": null,
            "flex_flow": null,
            "grid_area": null,
            "grid_auto_columns": null,
            "grid_auto_flow": null,
            "grid_auto_rows": null,
            "grid_column": null,
            "grid_gap": null,
            "grid_row": null,
            "grid_template_areas": null,
            "grid_template_columns": null,
            "grid_template_rows": null,
            "height": "40px",
            "justify_content": null,
            "justify_items": null,
            "left": null,
            "margin": "20px 10px 0px 0px",
            "max_height": null,
            "max_width": null,
            "min_height": null,
            "min_width": null,
            "object_fit": null,
            "object_position": null,
            "order": null,
            "overflow": null,
            "overflow_x": null,
            "overflow_y": null,
            "padding": null,
            "right": null,
            "top": null,
            "visibility": null,
            "width": "150px"
          }
        },
        "874d0117a3524e8da12a7a78129da7da": {
          "model_module": "@jupyter-widgets/controls",
          "model_name": "ButtonStyleModel",
          "model_module_version": "1.5.0",
          "state": {
            "_model_module": "@jupyter-widgets/controls",
            "_model_module_version": "1.5.0",
            "_model_name": "ButtonStyleModel",
            "_view_count": null,
            "_view_module": "@jupyter-widgets/base",
            "_view_module_version": "1.2.0",
            "_view_name": "StyleView",
            "button_color": null,
            "font_weight": ""
          }
        },
        "893b3b505bb4425f94d799b29ef997db": {
          "model_module": "@jupyter-widgets/base",
          "model_name": "LayoutModel",
          "model_module_version": "1.2.0",
          "state": {
            "_model_module": "@jupyter-widgets/base",
            "_model_module_version": "1.2.0",
            "_model_name": "LayoutModel",
            "_view_count": null,
            "_view_module": "@jupyter-widgets/base",
            "_view_module_version": "1.2.0",
            "_view_name": "LayoutView",
            "align_content": null,
            "align_items": null,
            "align_self": null,
            "border": null,
            "bottom": null,
            "display": null,
            "flex": null,
            "flex_flow": null,
            "grid_area": null,
            "grid_auto_columns": null,
            "grid_auto_flow": null,
            "grid_auto_rows": null,
            "grid_column": null,
            "grid_gap": null,
            "grid_row": null,
            "grid_template_areas": null,
            "grid_template_columns": null,
            "grid_template_rows": null,
            "height": "40px",
            "justify_content": null,
            "justify_items": null,
            "left": null,
            "margin": "20px 0px 0px 0px",
            "max_height": null,
            "max_width": null,
            "min_height": null,
            "min_width": null,
            "object_fit": null,
            "object_position": null,
            "order": null,
            "overflow": null,
            "overflow_x": null,
            "overflow_y": null,
            "padding": null,
            "right": null,
            "top": null,
            "visibility": null,
            "width": "150px"
          }
        },
        "04e4df4a3e274516b529071a456acb3c": {
          "model_module": "@jupyter-widgets/controls",
          "model_name": "ButtonStyleModel",
          "model_module_version": "1.5.0",
          "state": {
            "_model_module": "@jupyter-widgets/controls",
            "_model_module_version": "1.5.0",
            "_model_name": "ButtonStyleModel",
            "_view_count": null,
            "_view_module": "@jupyter-widgets/base",
            "_view_module_version": "1.2.0",
            "_view_name": "StyleView",
            "button_color": null,
            "font_weight": ""
          }
        },
        "5079b0599bae4b56a8a29eb42ab9f27a": {
          "model_module": "@jupyter-widgets/output",
          "model_name": "OutputModel",
          "model_module_version": "1.0.0",
          "state": {
            "_dom_classes": [],
            "_model_module": "@jupyter-widgets/output",
            "_model_module_version": "1.0.0",
            "_model_name": "OutputModel",
            "_view_count": null,
            "_view_module": "@jupyter-widgets/output",
            "_view_module_version": "1.0.0",
            "_view_name": "OutputView",
            "layout": "IPY_MODEL_3773d507422d4ab6bdd3ed4c740abaab",
            "msg_id": "",
            "outputs": []
          }
        },
        "3773d507422d4ab6bdd3ed4c740abaab": {
          "model_module": "@jupyter-widgets/base",
          "model_name": "LayoutModel",
          "model_module_version": "1.2.0",
          "state": {
            "_model_module": "@jupyter-widgets/base",
            "_model_module_version": "1.2.0",
            "_model_name": "LayoutModel",
            "_view_count": null,
            "_view_module": "@jupyter-widgets/base",
            "_view_module_version": "1.2.0",
            "_view_name": "LayoutView",
            "align_content": null,
            "align_items": null,
            "align_self": null,
            "border": null,
            "bottom": null,
            "display": null,
            "flex": null,
            "flex_flow": null,
            "grid_area": null,
            "grid_auto_columns": null,
            "grid_auto_flow": null,
            "grid_auto_rows": null,
            "grid_column": null,
            "grid_gap": null,
            "grid_row": null,
            "grid_template_areas": null,
            "grid_template_columns": null,
            "grid_template_rows": null,
            "height": null,
            "justify_content": null,
            "justify_items": null,
            "left": null,
            "margin": null,
            "max_height": null,
            "max_width": null,
            "min_height": null,
            "min_width": null,
            "object_fit": null,
            "object_position": null,
            "order": null,
            "overflow": null,
            "overflow_x": null,
            "overflow_y": null,
            "padding": null,
            "right": null,
            "top": null,
            "visibility": null,
            "width": null
          }
        }
      }
    }
  },
  "cells": [
    {
      "cell_type": "markdown",
      "metadata": {
        "id": "view-in-github",
        "colab_type": "text"
      },
      "source": [
        "<a href=\"https://colab.research.google.com/github/simon-clematide/colab-notebooks-for-teaching/blob/main/impresso_ner_displacy_visualization.ipynb\" target=\"_parent\"><img src=\"https://colab.research.google.com/assets/colab-badge.svg\" alt=\"Open In Colab\"/></a>"
      ]
    },
    {
      "cell_type": "markdown",
      "source": [
        "# Visualize coarse- and fine-grained Named Entity information\n",
        "This notebook offers an overview into multilingual fine-grained and nested Named Entity Recognition\n",
        "\n",
        "*Thanks for Emma Bourous for training the models, programming the API, and the HIPE team for providing the training material.*"
      ],
      "metadata": {
        "id": "CFDuZVrUhJR3"
      }
    },
    {
      "cell_type": "markdown",
      "source": [
        "## Install spacy"
      ],
      "metadata": {
        "id": "Lr-phCiuy1aW"
      }
    },
    {
      "cell_type": "code",
      "source": [
        "! pip install spacy"
      ],
      "metadata": {
        "colab": {
          "base_uri": "https://localhost:8080/"
        },
        "id": "lLCYjzAGO8-5",
        "outputId": "940f22e5-8f5c-46c8-eb60-2197f3b8f75d"
      },
      "execution_count": null,
      "outputs": [
        {
          "output_type": "stream",
          "name": "stdout",
          "text": [
            "Requirement already satisfied: spacy in /usr/local/lib/python3.10/dist-packages (3.7.6)\n",
            "Requirement already satisfied: spacy-legacy<3.1.0,>=3.0.11 in /usr/local/lib/python3.10/dist-packages (from spacy) (3.0.12)\n",
            "Requirement already satisfied: spacy-loggers<2.0.0,>=1.0.0 in /usr/local/lib/python3.10/dist-packages (from spacy) (1.0.5)\n",
            "Requirement already satisfied: murmurhash<1.1.0,>=0.28.0 in /usr/local/lib/python3.10/dist-packages (from spacy) (1.0.10)\n",
            "Requirement already satisfied: cymem<2.1.0,>=2.0.2 in /usr/local/lib/python3.10/dist-packages (from spacy) (2.0.8)\n",
            "Requirement already satisfied: preshed<3.1.0,>=3.0.2 in /usr/local/lib/python3.10/dist-packages (from spacy) (3.0.9)\n",
            "Requirement already satisfied: thinc<8.3.0,>=8.2.2 in /usr/local/lib/python3.10/dist-packages (from spacy) (8.2.5)\n",
            "Requirement already satisfied: wasabi<1.2.0,>=0.9.1 in /usr/local/lib/python3.10/dist-packages (from spacy) (1.1.3)\n",
            "Requirement already satisfied: srsly<3.0.0,>=2.4.3 in /usr/local/lib/python3.10/dist-packages (from spacy) (2.4.8)\n",
            "Requirement already satisfied: catalogue<2.1.0,>=2.0.6 in /usr/local/lib/python3.10/dist-packages (from spacy) (2.0.10)\n",
            "Requirement already satisfied: weasel<0.5.0,>=0.1.0 in /usr/local/lib/python3.10/dist-packages (from spacy) (0.4.1)\n",
            "Requirement already satisfied: typer<1.0.0,>=0.3.0 in /usr/local/lib/python3.10/dist-packages (from spacy) (0.12.5)\n",
            "Requirement already satisfied: tqdm<5.0.0,>=4.38.0 in /usr/local/lib/python3.10/dist-packages (from spacy) (4.66.5)\n",
            "Requirement already satisfied: requests<3.0.0,>=2.13.0 in /usr/local/lib/python3.10/dist-packages (from spacy) (2.32.3)\n",
            "Requirement already satisfied: pydantic!=1.8,!=1.8.1,<3.0.0,>=1.7.4 in /usr/local/lib/python3.10/dist-packages (from spacy) (2.8.2)\n",
            "Requirement already satisfied: jinja2 in /usr/local/lib/python3.10/dist-packages (from spacy) (3.1.4)\n",
            "Requirement already satisfied: setuptools in /usr/local/lib/python3.10/dist-packages (from spacy) (71.0.4)\n",
            "Requirement already satisfied: packaging>=20.0 in /usr/local/lib/python3.10/dist-packages (from spacy) (24.1)\n",
            "Requirement already satisfied: langcodes<4.0.0,>=3.2.0 in /usr/local/lib/python3.10/dist-packages (from spacy) (3.4.0)\n",
            "Requirement already satisfied: numpy>=1.19.0 in /usr/local/lib/python3.10/dist-packages (from spacy) (1.26.4)\n",
            "Requirement already satisfied: language-data>=1.2 in /usr/local/lib/python3.10/dist-packages (from langcodes<4.0.0,>=3.2.0->spacy) (1.2.0)\n",
            "Requirement already satisfied: annotated-types>=0.4.0 in /usr/local/lib/python3.10/dist-packages (from pydantic!=1.8,!=1.8.1,<3.0.0,>=1.7.4->spacy) (0.7.0)\n",
            "Requirement already satisfied: pydantic-core==2.20.1 in /usr/local/lib/python3.10/dist-packages (from pydantic!=1.8,!=1.8.1,<3.0.0,>=1.7.4->spacy) (2.20.1)\n",
            "Requirement already satisfied: typing-extensions>=4.6.1 in /usr/local/lib/python3.10/dist-packages (from pydantic!=1.8,!=1.8.1,<3.0.0,>=1.7.4->spacy) (4.12.2)\n",
            "Requirement already satisfied: charset-normalizer<4,>=2 in /usr/local/lib/python3.10/dist-packages (from requests<3.0.0,>=2.13.0->spacy) (3.3.2)\n",
            "Requirement already satisfied: idna<4,>=2.5 in /usr/local/lib/python3.10/dist-packages (from requests<3.0.0,>=2.13.0->spacy) (3.8)\n",
            "Requirement already satisfied: urllib3<3,>=1.21.1 in /usr/local/lib/python3.10/dist-packages (from requests<3.0.0,>=2.13.0->spacy) (2.0.7)\n",
            "Requirement already satisfied: certifi>=2017.4.17 in /usr/local/lib/python3.10/dist-packages (from requests<3.0.0,>=2.13.0->spacy) (2024.8.30)\n",
            "Requirement already satisfied: blis<0.8.0,>=0.7.8 in /usr/local/lib/python3.10/dist-packages (from thinc<8.3.0,>=8.2.2->spacy) (0.7.11)\n",
            "Requirement already satisfied: confection<1.0.0,>=0.0.1 in /usr/local/lib/python3.10/dist-packages (from thinc<8.3.0,>=8.2.2->spacy) (0.1.5)\n",
            "Requirement already satisfied: click>=8.0.0 in /usr/local/lib/python3.10/dist-packages (from typer<1.0.0,>=0.3.0->spacy) (8.1.7)\n",
            "Requirement already satisfied: shellingham>=1.3.0 in /usr/local/lib/python3.10/dist-packages (from typer<1.0.0,>=0.3.0->spacy) (1.5.4)\n",
            "Requirement already satisfied: rich>=10.11.0 in /usr/local/lib/python3.10/dist-packages (from typer<1.0.0,>=0.3.0->spacy) (13.8.0)\n",
            "Requirement already satisfied: cloudpathlib<1.0.0,>=0.7.0 in /usr/local/lib/python3.10/dist-packages (from weasel<0.5.0,>=0.1.0->spacy) (0.19.0)\n",
            "Requirement already satisfied: smart-open<8.0.0,>=5.2.1 in /usr/local/lib/python3.10/dist-packages (from weasel<0.5.0,>=0.1.0->spacy) (7.0.4)\n",
            "Requirement already satisfied: MarkupSafe>=2.0 in /usr/local/lib/python3.10/dist-packages (from jinja2->spacy) (2.1.5)\n",
            "Requirement already satisfied: marisa-trie>=0.7.7 in /usr/local/lib/python3.10/dist-packages (from language-data>=1.2->langcodes<4.0.0,>=3.2.0->spacy) (1.2.0)\n",
            "Requirement already satisfied: markdown-it-py>=2.2.0 in /usr/local/lib/python3.10/dist-packages (from rich>=10.11.0->typer<1.0.0,>=0.3.0->spacy) (3.0.0)\n",
            "Requirement already satisfied: pygments<3.0.0,>=2.13.0 in /usr/local/lib/python3.10/dist-packages (from rich>=10.11.0->typer<1.0.0,>=0.3.0->spacy) (2.16.1)\n",
            "Requirement already satisfied: wrapt in /usr/local/lib/python3.10/dist-packages (from smart-open<8.0.0,>=5.2.1->weasel<0.5.0,>=0.1.0->spacy) (1.16.0)\n",
            "Requirement already satisfied: mdurl~=0.1 in /usr/local/lib/python3.10/dist-packages (from markdown-it-py>=2.2.0->rich>=10.11.0->typer<1.0.0,>=0.3.0->spacy) (0.1.2)\n"
          ]
        }
      ]
    },
    {
      "cell_type": "markdown",
      "source": [
        "## Call the impresso NER and NEL API\n",
        "We only use the NER part in the visualization."
      ],
      "metadata": {
        "id": "k8VurD5Hyy7g"
      }
    },
    {
      "cell_type": "code",
      "source": [
        "def get_linked_entities(text, coarse_only=False):\n",
        "    \"\"\"\n",
        "    Calls the external API to get named entity recognition (NER) results.\n",
        "    \"\"\"\n",
        "    url = \"https://impresso-annotation.epfl.ch/api/ner/\"\n",
        "    payload = {\"data\": text}\n",
        "    try:\n",
        "        response = requests.post(url, json=payload)\n",
        "        if response.status_code == 200:\n",
        "            data = response.json()\n",
        "            data[\"text\"] = text\n",
        "            # remove fine-grained and components\n",
        "            if coarse_only:\n",
        "                for ne in data[\"nes\"]:\n",
        "                    data[\"nes\"] = [ne for ne in data[\"nes\"] if not \".\" in ne[\"type\"]]\n",
        "            return data\n",
        "        else:\n",
        "            print(f\"Request failed with status code {response.status_code}\")\n",
        "            return None\n",
        "    except requests.exceptions.RequestException as e:\n",
        "        print(f\"An error occurred: {e}\")\n",
        "        return None\n"
      ],
      "metadata": {
        "id": "Lhyczl3eywiV"
      },
      "execution_count": null,
      "outputs": []
    },
    {
      "cell_type": "code",
      "source": [
        "# Let's test this function\n",
        "import json"
      ],
      "metadata": {
        "id": "t5brfOPQ9N-x"
      },
      "execution_count": null,
      "outputs": []
    },
    {
      "cell_type": "code",
      "source": [
        "text = \"Die Zentrallbibliothek in Zürich wurde am 1. Oktober 1917 nourgeschrieben.\"\n",
        "api_result = get_linked_entities(text,coarse_only=True)\n",
        "import json\n",
        "print(json.dumps(api_result, ensure_ascii=False,indent=2))"
      ],
      "metadata": {
        "colab": {
          "base_uri": "https://localhost:8080/"
        },
        "id": "YM7blTRDzctw",
        "outputId": "91c05cbd-6fe8-4f27-b9f4-77db9ae96814"
      },
      "execution_count": null,
      "outputs": [
        {
          "output_type": "stream",
          "name": "stdout",
          "text": [
            "{\n",
            "  \"ts\": \"2024-09-11T00:23:57Z\",\n",
            "  \"sys_id\": \"stacked-2-bert-medium-historic-multilingual-v3-base|mgenre\",\n",
            "  \"nes\": [\n",
            "    {\n",
            "      \"type\": \"org\",\n",
            "      \"surface\": \"Zentrallbibliothek\",\n",
            "      \"lOffset\": 4,\n",
            "      \"rOffset\": 22,\n",
            "      \"id\": \"4:22:org:stacked-2-bert-medium-historic-multilingual-v3-base|mgenre\",\n",
            "      \"nested\": false,\n",
            "      \"wkd_id\": \"NIL\",\n",
            "      \"confidence_ner\": 77.14,\n",
            "      \"confidence_nel\": 59.1\n",
            "    },\n",
            "    {\n",
            "      \"type\": \"loc\",\n",
            "      \"surface\": \"Zürich\",\n",
            "      \"lOffset\": 26,\n",
            "      \"rOffset\": 32,\n",
            "      \"id\": \"26:32:loc:stacked-2-bert-medium-historic-multilingual-v3-base|mgenre\",\n",
            "      \"nested\": false,\n",
            "      \"wkd_id\": \"Q72\",\n",
            "      \"wkpedia_pagename\": \"Zürich >> de \",\n",
            "      \"confidence_ner\": 90.33,\n",
            "      \"confidence_nel\": 78.77\n",
            "    }\n",
            "  ],\n",
            "  \"text\": \"Die Zentrallbibliothek in Zürich wurde am 1. Oktober 1917 nourgeschrieben.\"\n",
            "}\n"
          ]
        }
      ]
    },
    {
      "cell_type": "markdown",
      "source": [
        "## Code for the visualization"
      ],
      "metadata": {
        "id": "5m00DEeLz1bs"
      }
    },
    {
      "cell_type": "code",
      "source": [
        "import spacy\n",
        "from spacy.tokens import Span\n",
        "from spacy import displacy\n",
        "import requests\n",
        "\n",
        "\n",
        "# Define the color scheme for the entities and components\n",
        "colors = {\n",
        "    \"pers\": \"#CBC3E3\",  # Pastel Lavender\n",
        "    \"org\": \"#FFC0CB\",  # Pastel Pink\n",
        "    \"prod\": \"#ADD8E6\",  # Pastel Blue\n",
        "    \"time\": \"#FDFD96\",  # Pastel Goldenrod\n",
        "    \"loc\": \"#B0E57C\",  # Pastel Green,\n",
        "    # Fine-grained categories\n",
        "    \"pers.ind\": \"#E6E6FA\",  # Light Lavender\n",
        "    \"pers.coll\": \"#D8BFD8\",  # Lavender Mist\n",
        "    \"pers.ind.articleauthor\": \"#DDA0DD\",  # Thistle\n",
        "    \"org.adm\": \"#FFD1DC\",  # Pale Pink\n",
        "    \"org.ent\": \"#FFB6C1\",  # Pink\n",
        "    \"org.ent.pressagency\": \"#F08080\",  # Light Coral\n",
        "    \"prod.media\": \"#87CEFA\",  # Light Sky Blue\n",
        "    \"prod.doctr\": \"#B0E0E6\",  # Powder Blue\n",
        "    \"time.date.abs\": \"#EEE8AA\",  # Pale Goldenrod\n",
        "    \"loc.adm.town\": \"#98FB98\",  # Pale Green\n",
        "    \"loc.adm.reg\": \"#90EE90\",  # Light Green\n",
        "    \"loc.adm.nat\": \"#F0FFF0\",  # Honeydew\n",
        "    \"loc.adm.sup\": \"#F5FFFA\",  # Mint Cream\n",
        "    \"loc.phys.geo\": \"#20B2AA\",  # Light Sea Green\n",
        "    \"loc.phys.hydro\": \"#66CDAA\",  # Medium Aquamarine\n",
        "    \"loc.phys.astro\": \"#AFEEEE\",  # Pale Turquoise\n",
        "    \"loc.oro\": \"#FFDAB9\",  # Peach Puff\n",
        "    \"loc.fac\": \"#FFE4B5\",  # Moccasin\n",
        "    \"loc.add.phys\": \"#FFFFE0\",  # Light Yellow\n",
        "    \"loc.add.elec\": \"#FFFACD\",  # Lemon Chiffon\n",
        "    \"loc.unk\": \"#FAF0E6\",  # Linen,\n",
        "}\n",
        "\n",
        "options = {\n",
        "    \"spans_key\": \"sc\",  # Custom key for spans\n",
        "    \"colors\": colors  # Custom color mapping\n",
        "}\n",
        "\n",
        "def visualize_overlapping_spans(api_response):\n",
        "    \"\"\"\n",
        "    Visualizes overlapping entities from the given API response using SpaCy's span visualizer.\n",
        "    \"\"\"\n",
        "    # Load a blank SpaCy model (no NER model)\n",
        "    nlp = spacy.blank(\"en\")\n",
        "    text = api_response.get('text', '')\n",
        "    entities = api_response.get('nes', [])\n",
        "\n",
        "    # Create a spaCy doc object\n",
        "    doc = nlp(text)\n",
        "\n",
        "    # Collect all entities without filtering\n",
        "    spans = []\n",
        "    for entity in entities:\n",
        "        char_start = entity['lOffset']\n",
        "        char_end = entity['rOffset']\n",
        "        label = entity['type']\n",
        "        span = doc.char_span(char_start, char_end, label=label, alignment_mode=\"expand\")\n",
        "        if span is not None:\n",
        "            spans.append(span)\n",
        "        else:\n",
        "            print(f\"Warning: Span could not be created for {entity['surface']} at offsets {char_start}-{char_end}\")\n",
        "\n",
        "    # Add the spans to the Doc\n",
        "    doc.spans[\"sc\"] = spans  # \"sc\" is a custom key for the overlapping spans\n",
        "\n",
        "    # Visualize the overlapping spans using the \"span\" style\n",
        "    displacy.render(doc, style=\"span\", jupyter=True, options=options)\n",
        "\n",
        "\n"
      ],
      "metadata": {
        "id": "tLQQwLM0rGNE"
      },
      "execution_count": null,
      "outputs": []
    },
    {
      "cell_type": "markdown",
      "source": [
        "## The interactive visualization app\n"
      ],
      "metadata": {
        "id": "5_D3f-9X0X0q"
      }
    },
    {
      "cell_type": "code",
      "source": [
        "import ipywidgets as widgets\n",
        "from IPython.display import display, HTML\n",
        "\n",
        "def create_text_input_interface(process_callback, api_options={}, placeholder_text='Type something...', button_description=\"Process\"):\n",
        "    \"\"\"\n",
        "    Creates an interactive text input interface with a processing button, clear button, and spinner.\n",
        "\n",
        "    Args:\n",
        "    process_callback (function): Function to call when the process button is clicked. It should accept a string input.\n",
        "    placeholder_text (str): Placeholder text for the text area.\n",
        "    button_description (str): Description for the process button.\n",
        "\n",
        "    Returns:\n",
        "    None: Displays the interactive interface in a Jupyter environment.\n",
        "    \"\"\"\n",
        "\n",
        "    # Spinner output\n",
        "    spinner_output = widgets.Output()\n",
        "\n",
        "    # Spinner HTML content\n",
        "    spinner_html = \"\"\"\n",
        "    <div class=\"loader\" style=\"border: 6px solid #f3f3f3; border-radius: 50%; border-top: 6px solid #3498db; width: 30px; height: 30px; -webkit-animation: spin 2s linear infinite; animation: spin 2s linear infinite;\"></div>\n",
        "    <style>\n",
        "    @keyframes spin {\n",
        "      0% { transform: rotate(0deg); }\n",
        "      100% { transform: rotate(360deg); }\n",
        "    }\n",
        "    </style>\n",
        "    \"\"\"\n",
        "\n",
        "    # Create a larger text area for user input\n",
        "    text_area = widgets.Textarea(\n",
        "        placeholder=placeholder_text,\n",
        "        layout=widgets.Layout(width='800px', height='100px')\n",
        "    )\n",
        "\n",
        "    # Process Button to trigger the visualization\n",
        "    button_process = widgets.Button(\n",
        "        description=button_description,\n",
        "        button_style='info',\n",
        "        layout=widgets.Layout(\n",
        "            width='150px',\n",
        "            height='40px',\n",
        "            margin='20px 10px 0px 0px',\n",
        "            border_radius='8px',\n",
        "            box_shadow='2px 2px 12px rgba(0, 0, 0, 0.2)',\n",
        "        ),\n",
        "    )\n",
        "\n",
        "    # Clear Button to clear the text area and output\n",
        "    button_clear = widgets.Button(\n",
        "        description=\"Clear\",\n",
        "        button_style='warning',\n",
        "        layout=widgets.Layout(\n",
        "            width='150px',\n",
        "            height='40px',\n",
        "            margin='20px 0px 0px 0px',\n",
        "            border_radius='8px',\n",
        "            box_shadow='2px 2px 12px rgba(0, 0, 0, 0.2)',\n",
        "        ),\n",
        "    )\n",
        "\n",
        "    # Function to run when the process button is clicked\n",
        "    def on_button_process_clicked(b):\n",
        "        if not text_area.value or text_area.value == placeholder_text:\n",
        "            print(\"Please enter some text.\")\n",
        "            return\n",
        "\n",
        "        with spinner_output:\n",
        "            spinner_output.clear_output()  # Clear previous output\n",
        "            display(HTML(spinner_html))  # Show spinner\n",
        "\n",
        "        text_input = text_area.value\n",
        "\n",
        "        # Call the external process callback\n",
        "        api_response = process_callback(text_input,**api_options)\n",
        "\n",
        "        # Hide spinner after processing\n",
        "        spinner_output.clear_output()\n",
        "\n",
        "        if api_response:\n",
        "            visualize_overlapping_spans(api_response)\n",
        "        else:\n",
        "            print(\"Failed to get linked entities from the API.\")\n",
        "\n",
        "    # Function to run when the clear button is clicked\n",
        "    def on_button_clear_clicked(b):\n",
        "        text_area.value = ''  # Clear the text area\n",
        "        spinner_output.clear_output()  # Clear any spinner or output content\n",
        "\n",
        "    # Link the buttons to their respective functions\n",
        "    button_process.on_click(on_button_process_clicked)\n",
        "    button_clear.on_click(on_button_clear_clicked)\n",
        "\n",
        "    # Display the form with both buttons and spinner output\n",
        "    display(text_area, widgets.HBox([button_process, button_clear]), spinner_output)\n"
      ],
      "metadata": {
        "id": "opoQiQoJF0zf"
      },
      "execution_count": 74,
      "outputs": []
    },
    {
      "cell_type": "markdown",
      "source": [
        "Enter German, French, or English text (try noisy input):\n",
        "\n",
        "```\n",
        "1917 wurde die Zentralbibliothek der Stadt Zürich vom zürcherischen Kantonsbaumeister Hermann Fietz fertig gebaut.\n",
        "\n",
        "In 1917, the Central Library of the city of Zurich was completed by the Zurich cantonal architect Hermann Fietz.\n",
        "\n",
        "La construction de la Bibliothèque Centrale de la ville de Zurich a été achevée en 1917 par l'architecte cantonal zurichois Hermann Fietz.\n",
        "```\n"
      ],
      "metadata": {
        "id": "LpHUevknGR5X"
      }
    },
    {
      "cell_type": "code",
      "source": [
        "create_text_input_interface(get_linked_entities, api_options={\"coarse_only\":False},placeholder_text=\"Enter your text here...\", button_description=\"Analyze\")"
      ],
      "metadata": {
        "colab": {
          "base_uri": "https://localhost:8080/",
          "height": 241,
          "referenced_widgets": [
            "56093af71b354d9e9683561190d793c4",
            "6f7aa5d856214c74a6e22475986e18a4",
            "b6b9720b0f164f2d86db9a45818600d9",
            "fd12b428f785484db9d756fcaebcc188",
            "e4fa6f0fecdd4dfe82a2799931758911",
            "d393638d4a5c4b8499462b70b404c9e2",
            "e8ced1f1642b4d9982e1dca98570a24b",
            "55db8ceb4fe74a61b2db6eae957f6a89",
            "874d0117a3524e8da12a7a78129da7da",
            "893b3b505bb4425f94d799b29ef997db",
            "04e4df4a3e274516b529071a456acb3c",
            "5079b0599bae4b56a8a29eb42ab9f27a",
            "3773d507422d4ab6bdd3ed4c740abaab"
          ]
        },
        "id": "km8DozyS0dIL",
        "outputId": "4b2a0754-19af-46a1-a48b-0d5edc763a28"
      },
      "execution_count": 75,
      "outputs": [
        {
          "output_type": "display_data",
          "data": {
            "text/plain": [
              "Textarea(value='', layout=Layout(height='100px', width='800px'), placeholder='Enter your text here...')"
            ],
            "application/vnd.jupyter.widget-view+json": {
              "version_major": 2,
              "version_minor": 0,
              "model_id": "56093af71b354d9e9683561190d793c4"
            }
          },
          "metadata": {}
        },
        {
          "output_type": "display_data",
          "data": {
            "text/plain": [
              "HBox(children=(Button(button_style='info', description='Analyze', layout=Layout(height='40px', margin='20px 10…"
            ],
            "application/vnd.jupyter.widget-view+json": {
              "version_major": 2,
              "version_minor": 0,
              "model_id": "fd12b428f785484db9d756fcaebcc188"
            }
          },
          "metadata": {}
        },
        {
          "output_type": "display_data",
          "data": {
            "text/plain": [
              "Output()"
            ],
            "application/vnd.jupyter.widget-view+json": {
              "version_major": 2,
              "version_minor": 0,
              "model_id": "5079b0599bae4b56a8a29eb42ab9f27a"
            }
          },
          "metadata": {}
        },
        {
          "output_type": "display_data",
          "data": {
            "text/plain": [
              "<IPython.core.display.HTML object>"
            ],
            "text/html": [
              "<span class=\"tex2jax_ignore\"><div class=\"spans\" style=\"line-height: 2.5; direction: ltr\">\n",
              "<span style=\"font-weight: bold; display: inline-block; position: relative; height: 60px;\">\n",
              "    1917\n",
              "    \n",
              "<span style=\"background: #FDFD96; top: 40px; height: 4px; left: -1px; width: calc(100% + 2px); position: absolute;\">\n",
              "</span>\n",
              "\n",
              "    \n",
              "<span style=\"background: #FDFD96; top: 40px; height: 4px; border-top-left-radius: 3px; border-bottom-left-radius: 3px; left: -1px; width: calc(100% + 2px); position: absolute;\">\n",
              "    <span style=\"background: #FDFD96; z-index: 10; color: #000; top: -0.5em; padding: 2px 3px; position: absolute; font-size: 0.6em; font-weight: bold; line-height: 1; border-radius: 3px\">\n",
              "        time\n",
              "    </span>\n",
              "</span>\n",
              "\n",
              "\n",
              "</span>\n",
              "wurde die \n",
              "<span style=\"font-weight: bold; display: inline-block; position: relative; height: 60px;\">\n",
              "    Zentralbibliothek\n",
              "    \n",
              "<span style=\"background: #FFC0CB; top: 40px; height: 4px; left: -1px; width: calc(100% + 2px); position: absolute;\">\n",
              "</span>\n",
              "\n",
              "    \n",
              "<span style=\"background: #FFC0CB; top: 40px; height: 4px; border-top-left-radius: 3px; border-bottom-left-radius: 3px; left: -1px; width: calc(100% + 2px); position: absolute;\">\n",
              "    <span style=\"background: #FFC0CB; z-index: 10; color: #000; top: -0.5em; padding: 2px 3px; position: absolute; font-size: 0.6em; font-weight: bold; line-height: 1; border-radius: 3px\">\n",
              "        org\n",
              "    </span>\n",
              "</span>\n",
              "\n",
              "\n",
              "</span>\n",
              "der \n",
              "<span style=\"font-weight: bold; display: inline-block; position: relative; height: 60px;\">\n",
              "    Stadt\n",
              "    \n",
              "<span style=\"background: #B0E57C; top: 40px; height: 4px; left: -1px; width: calc(100% + 2px); position: absolute;\">\n",
              "</span>\n",
              "\n",
              "    \n",
              "<span style=\"background: #B0E57C; top: 40px; height: 4px; border-top-left-radius: 3px; border-bottom-left-radius: 3px; left: -1px; width: calc(100% + 2px); position: absolute;\">\n",
              "    <span style=\"background: #B0E57C; z-index: 10; color: #000; top: -0.5em; padding: 2px 3px; position: absolute; font-size: 0.6em; font-weight: bold; line-height: 1; border-radius: 3px\">\n",
              "        loc\n",
              "    </span>\n",
              "</span>\n",
              "\n",
              "\n",
              "</span>\n",
              "\n",
              "<span style=\"font-weight: bold; display: inline-block; position: relative; height: 60px;\">\n",
              "    Zürich\n",
              "    \n",
              "<span style=\"background: #B0E57C; top: 40px; height: 4px; left: -1px; width: calc(100% + 2px); position: absolute;\">\n",
              "</span>\n",
              "\n",
              "    \n",
              "</span>\n",
              "vom \n",
              "<span style=\"font-weight: bold; display: inline-block; position: relative; height: 60px;\">\n",
              "    zürcherischen\n",
              "    \n",
              "<span style=\"background: #CBC3E3; top: 40px; height: 4px; left: -1px; width: calc(100% + 2px); position: absolute;\">\n",
              "</span>\n",
              "\n",
              "    \n",
              "<span style=\"background: #CBC3E3; top: 40px; height: 4px; border-top-left-radius: 3px; border-bottom-left-radius: 3px; left: -1px; width: calc(100% + 2px); position: absolute;\">\n",
              "    <span style=\"background: #CBC3E3; z-index: 10; color: #000; top: -0.5em; padding: 2px 3px; position: absolute; font-size: 0.6em; font-weight: bold; line-height: 1; border-radius: 3px\">\n",
              "        pers\n",
              "    </span>\n",
              "</span>\n",
              "\n",
              "\n",
              "</span>\n",
              "\n",
              "<span style=\"font-weight: bold; display: inline-block; position: relative; height: 60px;\">\n",
              "    Kantonsbaumeister\n",
              "    \n",
              "<span style=\"background: #CBC3E3; top: 40px; height: 4px; left: -1px; width: calc(100% + 2px); position: absolute;\">\n",
              "</span>\n",
              "\n",
              "    \n",
              "</span>\n",
              "\n",
              "<span style=\"font-weight: bold; display: inline-block; position: relative; height: 60px;\">\n",
              "    Hermann\n",
              "    \n",
              "<span style=\"background: #CBC3E3; top: 40px; height: 4px; left: -1px; width: calc(100% + 2px); position: absolute;\">\n",
              "</span>\n",
              "\n",
              "    \n",
              "</span>\n",
              "\n",
              "<span style=\"font-weight: bold; display: inline-block; position: relative; height: 60px;\">\n",
              "    Fietz\n",
              "    \n",
              "<span style=\"background: #CBC3E3; top: 40px; height: 4px; left: -1px; width: calc(100% + 2px); position: absolute;\">\n",
              "</span>\n",
              "\n",
              "    \n",
              "</span>\n",
              "fertig gebaut . \n",
              " </div></span>"
            ]
          },
          "metadata": {}
        }
      ]
    },
    {
      "cell_type": "markdown",
      "source": [
        "# New section"
      ],
      "metadata": {
        "id": "KNnzRp9GEfdA"
      }
    }
  ]
}