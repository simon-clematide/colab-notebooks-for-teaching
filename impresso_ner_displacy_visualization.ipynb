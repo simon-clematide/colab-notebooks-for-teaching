{
  "nbformat": 4,
  "nbformat_minor": 0,
  "metadata": {
    "colab": {
      "provenance": [],
      "collapsed_sections": [
        "Lr-phCiuy1aW",
        "5m00DEeLz1bs"
      ],
      "toc_visible": true,
      "authorship_tag": "ABX9TyNfudbH2/37K90hylXNKyGR",
      "include_colab_link": true
    },
    "kernelspec": {
      "name": "python3",
      "display_name": "Python 3"
    },
    "language_info": {
      "name": "python"
    },
    "widgets": {
      "application/vnd.jupyter.widget-state+json": {
        "96b08bd2a41e40ab9864e08896c2f1aa": {
          "model_module": "@jupyter-widgets/controls",
          "model_name": "TextareaModel",
          "model_module_version": "1.5.0",
          "state": {
            "_dom_classes": [],
            "_model_module": "@jupyter-widgets/controls",
            "_model_module_version": "1.5.0",
            "_model_name": "TextareaModel",
            "_view_count": null,
            "_view_module": "@jupyter-widgets/controls",
            "_view_module_version": "1.5.0",
            "_view_name": "TextareaView",
            "continuous_update": true,
            "description": "",
            "description_tooltip": null,
            "disabled": false,
            "layout": "IPY_MODEL_7f04104c46ff4deda3323f7c458079ed",
            "placeholder": "Enter your text here...",
            "rows": null,
            "style": "IPY_MODEL_8c7e90751467458b8249c5986cc5ec59",
            "value": "1917 wurde die Zentralbibliothek der Stadt Zürich vom zürcherischen Kantonsbaumeister Hermann Fietz fertig gebaut.\n\nIn 1917, the Central Library of the city of Zurich was completed by the Zurich cantonal architect Hermann Fietz.\n\nLa construction de la Bibliothèque Centrale de la ville de Zurich a été achevée en 1917 par l'architecte cantonal zurichois Hermann Fietz."
          }
        },
        "7f04104c46ff4deda3323f7c458079ed": {
          "model_module": "@jupyter-widgets/base",
          "model_name": "LayoutModel",
          "model_module_version": "1.2.0",
          "state": {
            "_model_module": "@jupyter-widgets/base",
            "_model_module_version": "1.2.0",
            "_model_name": "LayoutModel",
            "_view_count": null,
            "_view_module": "@jupyter-widgets/base",
            "_view_module_version": "1.2.0",
            "_view_name": "LayoutView",
            "align_content": null,
            "align_items": null,
            "align_self": null,
            "border": null,
            "bottom": null,
            "display": null,
            "flex": null,
            "flex_flow": null,
            "grid_area": null,
            "grid_auto_columns": null,
            "grid_auto_flow": null,
            "grid_auto_rows": null,
            "grid_column": null,
            "grid_gap": null,
            "grid_row": null,
            "grid_template_areas": null,
            "grid_template_columns": null,
            "grid_template_rows": null,
            "height": "100px",
            "justify_content": null,
            "justify_items": null,
            "left": null,
            "margin": null,
            "max_height": null,
            "max_width": null,
            "min_height": null,
            "min_width": null,
            "object_fit": null,
            "object_position": null,
            "order": null,
            "overflow": null,
            "overflow_x": null,
            "overflow_y": null,
            "padding": null,
            "right": null,
            "top": null,
            "visibility": null,
            "width": "800px"
          }
        },
        "8c7e90751467458b8249c5986cc5ec59": {
          "model_module": "@jupyter-widgets/controls",
          "model_name": "DescriptionStyleModel",
          "model_module_version": "1.5.0",
          "state": {
            "_model_module": "@jupyter-widgets/controls",
            "_model_module_version": "1.5.0",
            "_model_name": "DescriptionStyleModel",
            "_view_count": null,
            "_view_module": "@jupyter-widgets/base",
            "_view_module_version": "1.2.0",
            "_view_name": "StyleView",
            "description_width": ""
          }
        },
        "c19a4a9166154203a7bbb73efee9c0bc": {
          "model_module": "@jupyter-widgets/controls",
          "model_name": "HBoxModel",
          "model_module_version": "1.5.0",
          "state": {
            "_dom_classes": [],
            "_model_module": "@jupyter-widgets/controls",
            "_model_module_version": "1.5.0",
            "_model_name": "HBoxModel",
            "_view_count": null,
            "_view_module": "@jupyter-widgets/controls",
            "_view_module_version": "1.5.0",
            "_view_name": "HBoxView",
            "box_style": "",
            "children": [
              "IPY_MODEL_5c6d1d48d02e4c15adcfdf95cab3f757",
              "IPY_MODEL_9ef1b0ebf93d48f8a6a3d6935bc0c1aa"
            ],
            "layout": "IPY_MODEL_13e360b0117947dbb1eab84bae9e665c"
          }
        },
        "5c6d1d48d02e4c15adcfdf95cab3f757": {
          "model_module": "@jupyter-widgets/controls",
          "model_name": "ButtonModel",
          "model_module_version": "1.5.0",
          "state": {
            "_dom_classes": [],
            "_model_module": "@jupyter-widgets/controls",
            "_model_module_version": "1.5.0",
            "_model_name": "ButtonModel",
            "_view_count": null,
            "_view_module": "@jupyter-widgets/controls",
            "_view_module_version": "1.5.0",
            "_view_name": "ButtonView",
            "button_style": "info",
            "description": "Analyze",
            "disabled": false,
            "icon": "",
            "layout": "IPY_MODEL_09592fe5dbea4964b1f0fcfd7da05367",
            "style": "IPY_MODEL_d9f77aea7874462289e729eb3af19f97",
            "tooltip": ""
          }
        },
        "9ef1b0ebf93d48f8a6a3d6935bc0c1aa": {
          "model_module": "@jupyter-widgets/controls",
          "model_name": "ButtonModel",
          "model_module_version": "1.5.0",
          "state": {
            "_dom_classes": [],
            "_model_module": "@jupyter-widgets/controls",
            "_model_module_version": "1.5.0",
            "_model_name": "ButtonModel",
            "_view_count": null,
            "_view_module": "@jupyter-widgets/controls",
            "_view_module_version": "1.5.0",
            "_view_name": "ButtonView",
            "button_style": "warning",
            "description": "Clear",
            "disabled": false,
            "icon": "",
            "layout": "IPY_MODEL_19fae9b792e145d2919894f732b10870",
            "style": "IPY_MODEL_6604ae5515de4040a06eb98d0c40fee3",
            "tooltip": ""
          }
        },
        "13e360b0117947dbb1eab84bae9e665c": {
          "model_module": "@jupyter-widgets/base",
          "model_name": "LayoutModel",
          "model_module_version": "1.2.0",
          "state": {
            "_model_module": "@jupyter-widgets/base",
            "_model_module_version": "1.2.0",
            "_model_name": "LayoutModel",
            "_view_count": null,
            "_view_module": "@jupyter-widgets/base",
            "_view_module_version": "1.2.0",
            "_view_name": "LayoutView",
            "align_content": null,
            "align_items": null,
            "align_self": null,
            "border": null,
            "bottom": null,
            "display": null,
            "flex": null,
            "flex_flow": null,
            "grid_area": null,
            "grid_auto_columns": null,
            "grid_auto_flow": null,
            "grid_auto_rows": null,
            "grid_column": null,
            "grid_gap": null,
            "grid_row": null,
            "grid_template_areas": null,
            "grid_template_columns": null,
            "grid_template_rows": null,
            "height": null,
            "justify_content": null,
            "justify_items": null,
            "left": null,
            "margin": null,
            "max_height": null,
            "max_width": null,
            "min_height": null,
            "min_width": null,
            "object_fit": null,
            "object_position": null,
            "order": null,
            "overflow": null,
            "overflow_x": null,
            "overflow_y": null,
            "padding": null,
            "right": null,
            "top": null,
            "visibility": null,
            "width": null
          }
        },
        "09592fe5dbea4964b1f0fcfd7da05367": {
          "model_module": "@jupyter-widgets/base",
          "model_name": "LayoutModel",
          "model_module_version": "1.2.0",
          "state": {
            "_model_module": "@jupyter-widgets/base",
            "_model_module_version": "1.2.0",
            "_model_name": "LayoutModel",
            "_view_count": null,
            "_view_module": "@jupyter-widgets/base",
            "_view_module_version": "1.2.0",
            "_view_name": "LayoutView",
            "align_content": null,
            "align_items": null,
            "align_self": null,
            "border": null,
            "bottom": null,
            "display": null,
            "flex": null,
            "flex_flow": null,
            "grid_area": null,
            "grid_auto_columns": null,
            "grid_auto_flow": null,
            "grid_auto_rows": null,
            "grid_column": null,
            "grid_gap": null,
            "grid_row": null,
            "grid_template_areas": null,
            "grid_template_columns": null,
            "grid_template_rows": null,
            "height": "40px",
            "justify_content": null,
            "justify_items": null,
            "left": null,
            "margin": "20px 10px 0px 0px",
            "max_height": null,
            "max_width": null,
            "min_height": null,
            "min_width": null,
            "object_fit": null,
            "object_position": null,
            "order": null,
            "overflow": null,
            "overflow_x": null,
            "overflow_y": null,
            "padding": null,
            "right": null,
            "top": null,
            "visibility": null,
            "width": "150px"
          }
        },
        "d9f77aea7874462289e729eb3af19f97": {
          "model_module": "@jupyter-widgets/controls",
          "model_name": "ButtonStyleModel",
          "model_module_version": "1.5.0",
          "state": {
            "_model_module": "@jupyter-widgets/controls",
            "_model_module_version": "1.5.0",
            "_model_name": "ButtonStyleModel",
            "_view_count": null,
            "_view_module": "@jupyter-widgets/base",
            "_view_module_version": "1.2.0",
            "_view_name": "StyleView",
            "button_color": null,
            "font_weight": ""
          }
        },
        "19fae9b792e145d2919894f732b10870": {
          "model_module": "@jupyter-widgets/base",
          "model_name": "LayoutModel",
          "model_module_version": "1.2.0",
          "state": {
            "_model_module": "@jupyter-widgets/base",
            "_model_module_version": "1.2.0",
            "_model_name": "LayoutModel",
            "_view_count": null,
            "_view_module": "@jupyter-widgets/base",
            "_view_module_version": "1.2.0",
            "_view_name": "LayoutView",
            "align_content": null,
            "align_items": null,
            "align_self": null,
            "border": null,
            "bottom": null,
            "display": null,
            "flex": null,
            "flex_flow": null,
            "grid_area": null,
            "grid_auto_columns": null,
            "grid_auto_flow": null,
            "grid_auto_rows": null,
            "grid_column": null,
            "grid_gap": null,
            "grid_row": null,
            "grid_template_areas": null,
            "grid_template_columns": null,
            "grid_template_rows": null,
            "height": "40px",
            "justify_content": null,
            "justify_items": null,
            "left": null,
            "margin": "20px 0px 0px 0px",
            "max_height": null,
            "max_width": null,
            "min_height": null,
            "min_width": null,
            "object_fit": null,
            "object_position": null,
            "order": null,
            "overflow": null,
            "overflow_x": null,
            "overflow_y": null,
            "padding": null,
            "right": null,
            "top": null,
            "visibility": null,
            "width": "150px"
          }
        },
        "6604ae5515de4040a06eb98d0c40fee3": {
          "model_module": "@jupyter-widgets/controls",
          "model_name": "ButtonStyleModel",
          "model_module_version": "1.5.0",
          "state": {
            "_model_module": "@jupyter-widgets/controls",
            "_model_module_version": "1.5.0",
            "_model_name": "ButtonStyleModel",
            "_view_count": null,
            "_view_module": "@jupyter-widgets/base",
            "_view_module_version": "1.2.0",
            "_view_name": "StyleView",
            "button_color": null,
            "font_weight": ""
          }
        },
        "608e70cbe26d491e830e1ffef39b411f": {
          "model_module": "@jupyter-widgets/output",
          "model_name": "OutputModel",
          "model_module_version": "1.0.0",
          "state": {
            "_dom_classes": [],
            "_model_module": "@jupyter-widgets/output",
            "_model_module_version": "1.0.0",
            "_model_name": "OutputModel",
            "_view_count": null,
            "_view_module": "@jupyter-widgets/output",
            "_view_module_version": "1.0.0",
            "_view_name": "OutputView",
            "layout": "IPY_MODEL_34715d4854fb4abca188d00c8d2ba28a",
            "msg_id": "",
            "outputs": []
          }
        },
        "34715d4854fb4abca188d00c8d2ba28a": {
          "model_module": "@jupyter-widgets/base",
          "model_name": "LayoutModel",
          "model_module_version": "1.2.0",
          "state": {
            "_model_module": "@jupyter-widgets/base",
            "_model_module_version": "1.2.0",
            "_model_name": "LayoutModel",
            "_view_count": null,
            "_view_module": "@jupyter-widgets/base",
            "_view_module_version": "1.2.0",
            "_view_name": "LayoutView",
            "align_content": null,
            "align_items": null,
            "align_self": null,
            "border": null,
            "bottom": null,
            "display": null,
            "flex": null,
            "flex_flow": null,
            "grid_area": null,
            "grid_auto_columns": null,
            "grid_auto_flow": null,
            "grid_auto_rows": null,
            "grid_column": null,
            "grid_gap": null,
            "grid_row": null,
            "grid_template_areas": null,
            "grid_template_columns": null,
            "grid_template_rows": null,
            "height": null,
            "justify_content": null,
            "justify_items": null,
            "left": null,
            "margin": null,
            "max_height": null,
            "max_width": null,
            "min_height": null,
            "min_width": null,
            "object_fit": null,
            "object_position": null,
            "order": null,
            "overflow": null,
            "overflow_x": null,
            "overflow_y": null,
            "padding": null,
            "right": null,
            "top": null,
            "visibility": null,
            "width": null
          }
        },
        "5b8f07eece0c478d96e2a89b8541f82d": {
          "model_module": "@jupyter-widgets/output",
          "model_name": "OutputModel",
          "model_module_version": "1.0.0",
          "state": {
            "_dom_classes": [],
            "_model_module": "@jupyter-widgets/output",
            "_model_module_version": "1.0.0",
            "_model_name": "OutputModel",
            "_view_count": null,
            "_view_module": "@jupyter-widgets/output",
            "_view_module_version": "1.0.0",
            "_view_name": "OutputView",
            "layout": "IPY_MODEL_821001a947d344d08079112ebdfee7b0",
            "msg_id": "",
            "outputs": [
              {
                "output_type": "display_data",
                "data": {
                  "text/plain": "<IPython.core.display.HTML object>",
                  "text/html": "<span class=\"tex2jax_ignore\"><div class=\"spans\" style=\"line-height: 2.5; direction: ltr\">\n<span style=\"font-weight: bold; display: inline-block; position: relative; height: 77px;\">\n    1917\n    \n<span style=\"background: #FDFD96; top: 40px; height: 4px; left: -1px; width: calc(100% + 2px); position: absolute;\">\n</span>\n\n<span style=\"background: #EEE8AA; top: 57px; height: 4px; left: -1px; width: calc(100% + 2px); position: absolute;\">\n</span>\n\n    \n<span style=\"background: #FDFD96; top: 40px; height: 4px; border-top-left-radius: 3px; border-bottom-left-radius: 3px; left: -1px; width: calc(100% + 2px); position: absolute;\">\n    <span style=\"background: #FDFD96; z-index: 10; color: #000; top: -0.5em; padding: 2px 3px; position: absolute; font-size: 0.6em; font-weight: bold; line-height: 1; border-radius: 3px\">\n        time\n    </span>\n</span>\n\n\n<span style=\"background: #EEE8AA; top: 57px; height: 4px; border-top-left-radius: 3px; border-bottom-left-radius: 3px; left: -1px; width: calc(100% + 2px); position: absolute;\">\n    <span style=\"background: #EEE8AA; z-index: 10; color: #000; top: -0.5em; padding: 2px 3px; position: absolute; font-size: 0.6em; font-weight: bold; line-height: 1; border-radius: 3px\">\n        time.date.abs\n    </span>\n</span>\n\n\n</span>\nwurde die \n<span style=\"font-weight: bold; display: inline-block; position: relative; height: 60px;\">\n    Zentralbibliothek\n    \n<span style=\"background: #FFC0CB; top: 40px; height: 4px; left: -1px; width: calc(100% + 2px); position: absolute;\">\n</span>\n\n    \n<span style=\"background: #FFC0CB; top: 40px; height: 4px; border-top-left-radius: 3px; border-bottom-left-radius: 3px; left: -1px; width: calc(100% + 2px); position: absolute;\">\n    <span style=\"background: #FFC0CB; z-index: 10; color: #000; top: -0.5em; padding: 2px 3px; position: absolute; font-size: 0.6em; font-weight: bold; line-height: 1; border-radius: 3px\">\n        org\n    </span>\n</span>\n\n\n</span>\nder \n<span style=\"font-weight: bold; display: inline-block; position: relative; height: 77px;\">\n    Stadt\n    \n<span style=\"background: #B0E57C; top: 40px; height: 4px; left: -1px; width: calc(100% + 2px); position: absolute;\">\n</span>\n\n<span style=\"background: #90EE90; top: 57px; height: 4px; left: -1px; width: calc(100% + 2px); position: absolute;\">\n</span>\n\n    \n<span style=\"background: #B0E57C; top: 40px; height: 4px; border-top-left-radius: 3px; border-bottom-left-radius: 3px; left: -1px; width: calc(100% + 2px); position: absolute;\">\n    <span style=\"background: #B0E57C; z-index: 10; color: #000; top: -0.5em; padding: 2px 3px; position: absolute; font-size: 0.6em; font-weight: bold; line-height: 1; border-radius: 3px\">\n        loc\n    </span>\n</span>\n\n\n<span style=\"background: #90EE90; top: 57px; height: 4px; border-top-left-radius: 3px; border-bottom-left-radius: 3px; left: -1px; width: calc(100% + 2px); position: absolute;\">\n    <span style=\"background: #90EE90; z-index: 10; color: #000; top: -0.5em; padding: 2px 3px; position: absolute; font-size: 0.6em; font-weight: bold; line-height: 1; border-radius: 3px\">\n        loc.adm.reg\n    </span>\n</span>\n\n\n</span>\n\n<span style=\"font-weight: bold; display: inline-block; position: relative; height: 77px;\">\n    Zürich\n    \n<span style=\"background: #B0E57C; top: 40px; height: 4px; left: -1px; width: calc(100% + 2px); position: absolute;\">\n</span>\n\n<span style=\"background: #98FB98; top: 57px; height: 4px; left: -1px; width: calc(100% + 2px); position: absolute;\">\n</span>\n\n    \n<span style=\"background: #98FB98; top: 57px; height: 4px; border-top-left-radius: 3px; border-bottom-left-radius: 3px; left: -1px; width: calc(100% + 2px); position: absolute;\">\n    <span style=\"background: #98FB98; z-index: 10; color: #000; top: -0.5em; padding: 2px 3px; position: absolute; font-size: 0.6em; font-weight: bold; line-height: 1; border-radius: 3px\">\n        loc.adm.town\n    </span>\n</span>\n\n\n</span>\nvom \n<span style=\"font-weight: bold; display: inline-block; position: relative; height: 94px;\">\n    zürcherischen\n    \n<span style=\"background: #CBC3E3; top: 40px; height: 4px; left: -1px; width: calc(100% + 2px); position: absolute;\">\n</span>\n\n<span style=\"background: #E6E6FA; top: 57px; height: 4px; left: -1px; width: calc(100% + 2px); position: absolute;\">\n</span>\n\n<span style=\"background: #ddd; top: 74px; height: 4px; left: -1px; width: calc(100% + 2px); position: absolute;\">\n</span>\n\n    \n<span style=\"background: #CBC3E3; top: 40px; height: 4px; border-top-left-radius: 3px; border-bottom-left-radius: 3px; left: -1px; width: calc(100% + 2px); position: absolute;\">\n    <span style=\"background: #CBC3E3; z-index: 10; color: #000; top: -0.5em; padding: 2px 3px; position: absolute; font-size: 0.6em; font-weight: bold; line-height: 1; border-radius: 3px\">\n        pers\n    </span>\n</span>\n\n\n<span style=\"background: #E6E6FA; top: 57px; height: 4px; border-top-left-radius: 3px; border-bottom-left-radius: 3px; left: -1px; width: calc(100% + 2px); position: absolute;\">\n    <span style=\"background: #E6E6FA; z-index: 10; color: #000; top: -0.5em; padding: 2px 3px; position: absolute; font-size: 0.6em; font-weight: bold; line-height: 1; border-radius: 3px\">\n        pers.ind\n    </span>\n</span>\n\n\n<span style=\"background: #ddd; top: 74px; height: 4px; border-top-left-radius: 3px; border-bottom-left-radius: 3px; left: -1px; width: calc(100% + 2px); position: absolute;\">\n    <span style=\"background: #ddd; z-index: 10; color: #000; top: -0.5em; padding: 2px 3px; position: absolute; font-size: 0.6em; font-weight: bold; line-height: 1; border-radius: 3px\">\n        comp.function\n    </span>\n</span>\n\n\n</span>\n\n<span style=\"font-weight: bold; display: inline-block; position: relative; height: 94px;\">\n    Kantonsbaumeister\n    \n<span style=\"background: #CBC3E3; top: 40px; height: 4px; left: -1px; width: calc(100% + 2px); position: absolute;\">\n</span>\n\n<span style=\"background: #E6E6FA; top: 57px; height: 4px; left: -1px; width: calc(100% + 2px); position: absolute;\">\n</span>\n\n<span style=\"background: #ddd; top: 74px; height: 4px; left: -1px; width: calc(100% + 2px); position: absolute;\">\n</span>\n\n    \n<span style=\"background: #ddd; top: 74px; height: 4px; border-top-left-radius: 3px; border-bottom-left-radius: 3px; left: -1px; width: calc(100% + 2px); position: absolute;\">\n    <span style=\"background: #ddd; z-index: 10; color: #000; top: -0.5em; padding: 2px 3px; position: absolute; font-size: 0.6em; font-weight: bold; line-height: 1; border-radius: 3px\">\n        comp.function\n    </span>\n</span>\n\n\n</span>\n\n<span style=\"font-weight: bold; display: inline-block; position: relative; height: 94px;\">\n    Hermann\n    \n<span style=\"background: #CBC3E3; top: 40px; height: 4px; left: -1px; width: calc(100% + 2px); position: absolute;\">\n</span>\n\n<span style=\"background: #E6E6FA; top: 57px; height: 4px; left: -1px; width: calc(100% + 2px); position: absolute;\">\n</span>\n\n<span style=\"background: #ddd; top: 74px; height: 4px; left: -1px; width: calc(100% + 2px); position: absolute;\">\n</span>\n\n    \n<span style=\"background: #ddd; top: 74px; height: 4px; border-top-left-radius: 3px; border-bottom-left-radius: 3px; left: -1px; width: calc(100% + 2px); position: absolute;\">\n    <span style=\"background: #ddd; z-index: 10; color: #000; top: -0.5em; padding: 2px 3px; position: absolute; font-size: 0.6em; font-weight: bold; line-height: 1; border-radius: 3px\">\n        comp.name\n    </span>\n</span>\n\n\n</span>\n\n<span style=\"font-weight: bold; display: inline-block; position: relative; height: 94px;\">\n    Fietz\n    \n<span style=\"background: #CBC3E3; top: 40px; height: 4px; left: -1px; width: calc(100% + 2px); position: absolute;\">\n</span>\n\n<span style=\"background: #E6E6FA; top: 57px; height: 4px; left: -1px; width: calc(100% + 2px); position: absolute;\">\n</span>\n\n<span style=\"background: #ddd; top: 74px; height: 4px; left: -1px; width: calc(100% + 2px); position: absolute;\">\n</span>\n\n    \n</span>\nfertig gebaut . \n\n \n<span style=\"font-weight: bold; display: inline-block; position: relative; height: 77px;\">\n    In\n    \n<span style=\"background: #FDFD96; top: 40px; height: 4px; left: -1px; width: calc(100% + 2px); position: absolute;\">\n</span>\n\n<span style=\"background: #EEE8AA; top: 57px; height: 4px; left: -1px; width: calc(100% + 2px); position: absolute;\">\n</span>\n\n    \n<span style=\"background: #FDFD96; top: 40px; height: 4px; border-top-left-radius: 3px; border-bottom-left-radius: 3px; left: -1px; width: calc(100% + 2px); position: absolute;\">\n    <span style=\"background: #FDFD96; z-index: 10; color: #000; top: -0.5em; padding: 2px 3px; position: absolute; font-size: 0.6em; font-weight: bold; line-height: 1; border-radius: 3px\">\n        time\n    </span>\n</span>\n\n\n<span style=\"background: #EEE8AA; top: 57px; height: 4px; border-top-left-radius: 3px; border-bottom-left-radius: 3px; left: -1px; width: calc(100% + 2px); position: absolute;\">\n    <span style=\"background: #EEE8AA; z-index: 10; color: #000; top: -0.5em; padding: 2px 3px; position: absolute; font-size: 0.6em; font-weight: bold; line-height: 1; border-radius: 3px\">\n        time.date.abs\n    </span>\n</span>\n\n\n</span>\n\n<span style=\"font-weight: bold; display: inline-block; position: relative; height: 111px;\">\n    1917\n    \n<span style=\"background: #FDFD96; top: 40px; height: 4px; left: -1px; width: calc(100% + 2px); position: absolute;\">\n</span>\n\n<span style=\"background: #EEE8AA; top: 57px; height: 4px; left: -1px; width: calc(100% + 2px); position: absolute;\">\n</span>\n\n<span style=\"background: #FDFD96; top: 74px; height: 4px; left: -1px; width: calc(100% + 2px); position: absolute;\">\n</span>\n\n<span style=\"background: #EEE8AA; top: 91px; height: 4px; left: -1px; width: calc(100% + 2px); position: absolute;\">\n</span>\n\n    \n<span style=\"background: #FDFD96; top: 74px; height: 4px; border-top-left-radius: 3px; border-bottom-left-radius: 3px; left: -1px; width: calc(100% + 2px); position: absolute;\">\n    <span style=\"background: #FDFD96; z-index: 10; color: #000; top: -0.5em; padding: 2px 3px; position: absolute; font-size: 0.6em; font-weight: bold; line-height: 1; border-radius: 3px\">\n        time\n    </span>\n</span>\n\n\n<span style=\"background: #EEE8AA; top: 91px; height: 4px; border-top-left-radius: 3px; border-bottom-left-radius: 3px; left: -1px; width: calc(100% + 2px); position: absolute;\">\n    <span style=\"background: #EEE8AA; z-index: 10; color: #000; top: -0.5em; padding: 2px 3px; position: absolute; font-size: 0.6em; font-weight: bold; line-height: 1; border-radius: 3px\">\n        time.date.abs\n    </span>\n</span>\n\n\n</span>\n, the \n<span style=\"font-weight: bold; display: inline-block; position: relative; height: 77px;\">\n    Central\n    \n<span style=\"background: #FFC0CB; top: 40px; height: 4px; left: -1px; width: calc(100% + 2px); position: absolute;\">\n</span>\n\n<span style=\"background: #FFB6C1; top: 57px; height: 4px; left: -1px; width: calc(100% + 2px); position: absolute;\">\n</span>\n\n    \n<span style=\"background: #FFC0CB; top: 40px; height: 4px; border-top-left-radius: 3px; border-bottom-left-radius: 3px; left: -1px; width: calc(100% + 2px); position: absolute;\">\n    <span style=\"background: #FFC0CB; z-index: 10; color: #000; top: -0.5em; padding: 2px 3px; position: absolute; font-size: 0.6em; font-weight: bold; line-height: 1; border-radius: 3px\">\n        org\n    </span>\n</span>\n\n\n<span style=\"background: #FFB6C1; top: 57px; height: 4px; border-top-left-radius: 3px; border-bottom-left-radius: 3px; left: -1px; width: calc(100% + 2px); position: absolute;\">\n    <span style=\"background: #FFB6C1; z-index: 10; color: #000; top: -0.5em; padding: 2px 3px; position: absolute; font-size: 0.6em; font-weight: bold; line-height: 1; border-radius: 3px\">\n        org.ent\n    </span>\n</span>\n\n\n</span>\n\n<span style=\"font-weight: bold; display: inline-block; position: relative; height: 77px;\">\n    Library\n    \n<span style=\"background: #FFC0CB; top: 40px; height: 4px; left: -1px; width: calc(100% + 2px); position: absolute;\">\n</span>\n\n<span style=\"background: #FFB6C1; top: 57px; height: 4px; left: -1px; width: calc(100% + 2px); position: absolute;\">\n</span>\n\n    \n</span>\n\n<span style=\"font-weight: bold; display: inline-block; position: relative; height: 77px;\">\n    of\n    \n<span style=\"background: #FFC0CB; top: 40px; height: 4px; left: -1px; width: calc(100% + 2px); position: absolute;\">\n</span>\n\n<span style=\"background: #FFB6C1; top: 57px; height: 4px; left: -1px; width: calc(100% + 2px); position: absolute;\">\n</span>\n\n    \n</span>\n\n<span style=\"font-weight: bold; display: inline-block; position: relative; height: 77px;\">\n    the\n    \n<span style=\"background: #FFC0CB; top: 40px; height: 4px; left: -1px; width: calc(100% + 2px); position: absolute;\">\n</span>\n\n<span style=\"background: #FFB6C1; top: 57px; height: 4px; left: -1px; width: calc(100% + 2px); position: absolute;\">\n</span>\n\n    \n</span>\n\n<span style=\"font-weight: bold; display: inline-block; position: relative; height: 77px;\">\n    city\n    \n<span style=\"background: #FFC0CB; top: 40px; height: 4px; left: -1px; width: calc(100% + 2px); position: absolute;\">\n</span>\n\n<span style=\"background: #FFD1DC; top: 57px; height: 4px; left: -1px; width: calc(100% + 2px); position: absolute;\">\n</span>\n\n    \n<span style=\"background: #FFD1DC; top: 57px; height: 4px; border-top-left-radius: 3px; border-bottom-left-radius: 3px; left: -1px; width: calc(100% + 2px); position: absolute;\">\n    <span style=\"background: #FFD1DC; z-index: 10; color: #000; top: -0.5em; padding: 2px 3px; position: absolute; font-size: 0.6em; font-weight: bold; line-height: 1; border-radius: 3px\">\n        org.adm\n    </span>\n</span>\n\n\n</span>\n\n<span style=\"font-weight: bold; display: inline-block; position: relative; height: 77px;\">\n    of\n    \n<span style=\"background: #FFC0CB; top: 40px; height: 4px; left: -1px; width: calc(100% + 2px); position: absolute;\">\n</span>\n\n<span style=\"background: #FFD1DC; top: 57px; height: 4px; left: -1px; width: calc(100% + 2px); position: absolute;\">\n</span>\n\n    \n</span>\n\n<span style=\"font-weight: bold; display: inline-block; position: relative; height: 145px;\">\n    Zurich\n    \n<span style=\"background: #FFC0CB; top: 40px; height: 4px; left: -1px; width: calc(100% + 2px); position: absolute;\">\n</span>\n\n<span style=\"background: #FFD1DC; top: 57px; height: 4px; left: -1px; width: calc(100% + 2px); position: absolute;\">\n</span>\n\n<span style=\"background: #ddd; top: 74px; height: 4px; left: -1px; width: calc(100% + 2px); position: absolute;\">\n</span>\n\n<span style=\"background: #98FB98; top: 91px; height: 4px; left: -1px; width: calc(100% + 2px); position: absolute;\">\n</span>\n\n<span style=\"background: #FFC0CB; top: 108px; height: 4px; left: -1px; width: calc(100% + 2px); position: absolute;\">\n</span>\n\n<span style=\"background: #FFB6C1; top: 125px; height: 4px; left: -1px; width: calc(100% + 2px); position: absolute;\">\n</span>\n\n    \n<span style=\"background: #ddd; top: 74px; height: 4px; border-top-left-radius: 3px; border-bottom-left-radius: 3px; left: -1px; width: calc(100% + 2px); position: absolute;\">\n    <span style=\"background: #ddd; z-index: 10; color: #000; top: -0.5em; padding: 2px 3px; position: absolute; font-size: 0.6em; font-weight: bold; line-height: 1; border-radius: 3px\">\n        comp.name\n    </span>\n</span>\n\n\n<span style=\"background: #98FB98; top: 91px; height: 4px; border-top-left-radius: 3px; border-bottom-left-radius: 3px; left: -1px; width: calc(100% + 2px); position: absolute;\">\n    <span style=\"background: #98FB98; z-index: 10; color: #000; top: -0.5em; padding: 2px 3px; position: absolute; font-size: 0.6em; font-weight: bold; line-height: 1; border-radius: 3px\">\n        loc.adm.town\n    </span>\n</span>\n\n\n<span style=\"background: #FFC0CB; top: 108px; height: 4px; border-top-left-radius: 3px; border-bottom-left-radius: 3px; left: -1px; width: calc(100% + 2px); position: absolute;\">\n    <span style=\"background: #FFC0CB; z-index: 10; color: #000; top: -0.5em; padding: 2px 3px; position: absolute; font-size: 0.6em; font-weight: bold; line-height: 1; border-radius: 3px\">\n        org\n    </span>\n</span>\n\n\n<span style=\"background: #FFB6C1; top: 125px; height: 4px; border-top-left-radius: 3px; border-bottom-left-radius: 3px; left: -1px; width: calc(100% + 2px); position: absolute;\">\n    <span style=\"background: #FFB6C1; z-index: 10; color: #000; top: -0.5em; padding: 2px 3px; position: absolute; font-size: 0.6em; font-weight: bold; line-height: 1; border-radius: 3px\">\n        org.ent\n    </span>\n</span>\n\n\n</span>\nwas completed by the \n<span style=\"font-weight: bold; display: inline-block; position: relative; height: 111px;\">\n    Zurich\n    \n<span style=\"background: #ddd; top: 40px; height: 4px; left: -1px; width: calc(100% + 2px); position: absolute;\">\n</span>\n\n<span style=\"background: #98FB98; top: 57px; height: 4px; left: -1px; width: calc(100% + 2px); position: absolute;\">\n</span>\n\n<span style=\"background: #FFC0CB; top: 74px; height: 4px; left: -1px; width: calc(100% + 2px); position: absolute;\">\n</span>\n\n<span style=\"background: #FFB6C1; top: 91px; height: 4px; left: -1px; width: calc(100% + 2px); position: absolute;\">\n</span>\n\n    \n<span style=\"background: #ddd; top: 40px; height: 4px; border-top-left-radius: 3px; border-bottom-left-radius: 3px; left: -1px; width: calc(100% + 2px); position: absolute;\">\n    <span style=\"background: #ddd; z-index: 10; color: #000; top: -0.5em; padding: 2px 3px; position: absolute; font-size: 0.6em; font-weight: bold; line-height: 1; border-radius: 3px\">\n        comp.name\n    </span>\n</span>\n\n\n<span style=\"background: #98FB98; top: 57px; height: 4px; border-top-left-radius: 3px; border-bottom-left-radius: 3px; left: -1px; width: calc(100% + 2px); position: absolute;\">\n    <span style=\"background: #98FB98; z-index: 10; color: #000; top: -0.5em; padding: 2px 3px; position: absolute; font-size: 0.6em; font-weight: bold; line-height: 1; border-radius: 3px\">\n        loc.adm.town\n    </span>\n</span>\n\n\n<span style=\"background: #FFC0CB; top: 74px; height: 4px; border-top-left-radius: 3px; border-bottom-left-radius: 3px; left: -1px; width: calc(100% + 2px); position: absolute;\">\n    <span style=\"background: #FFC0CB; z-index: 10; color: #000; top: -0.5em; padding: 2px 3px; position: absolute; font-size: 0.6em; font-weight: bold; line-height: 1; border-radius: 3px\">\n        org\n    </span>\n</span>\n\n\n<span style=\"background: #FFB6C1; top: 91px; height: 4px; border-top-left-radius: 3px; border-bottom-left-radius: 3px; left: -1px; width: calc(100% + 2px); position: absolute;\">\n    <span style=\"background: #FFB6C1; z-index: 10; color: #000; top: -0.5em; padding: 2px 3px; position: absolute; font-size: 0.6em; font-weight: bold; line-height: 1; border-radius: 3px\">\n        org.ent\n    </span>\n</span>\n\n\n</span>\n\n<span style=\"font-weight: bold; display: inline-block; position: relative; height: 94px;\">\n    cantonal\n    \n<span style=\"background: #CBC3E3; top: 40px; height: 4px; left: -1px; width: calc(100% + 2px); position: absolute;\">\n</span>\n\n<span style=\"background: #E6E6FA; top: 57px; height: 4px; left: -1px; width: calc(100% + 2px); position: absolute;\">\n</span>\n\n<span style=\"background: #ddd; top: 74px; height: 4px; left: -1px; width: calc(100% + 2px); position: absolute;\">\n</span>\n\n    \n<span style=\"background: #CBC3E3; top: 40px; height: 4px; border-top-left-radius: 3px; border-bottom-left-radius: 3px; left: -1px; width: calc(100% + 2px); position: absolute;\">\n    <span style=\"background: #CBC3E3; z-index: 10; color: #000; top: -0.5em; padding: 2px 3px; position: absolute; font-size: 0.6em; font-weight: bold; line-height: 1; border-radius: 3px\">\n        pers\n    </span>\n</span>\n\n\n<span style=\"background: #E6E6FA; top: 57px; height: 4px; border-top-left-radius: 3px; border-bottom-left-radius: 3px; left: -1px; width: calc(100% + 2px); position: absolute;\">\n    <span style=\"background: #E6E6FA; z-index: 10; color: #000; top: -0.5em; padding: 2px 3px; position: absolute; font-size: 0.6em; font-weight: bold; line-height: 1; border-radius: 3px\">\n        pers.ind\n    </span>\n</span>\n\n\n<span style=\"background: #ddd; top: 74px; height: 4px; border-top-left-radius: 3px; border-bottom-left-radius: 3px; left: -1px; width: calc(100% + 2px); position: absolute;\">\n    <span style=\"background: #ddd; z-index: 10; color: #000; top: -0.5em; padding: 2px 3px; position: absolute; font-size: 0.6em; font-weight: bold; line-height: 1; border-radius: 3px\">\n        comp.function\n    </span>\n</span>\n\n\n</span>\n\n<span style=\"font-weight: bold; display: inline-block; position: relative; height: 94px;\">\n    architect\n    \n<span style=\"background: #CBC3E3; top: 40px; height: 4px; left: -1px; width: calc(100% + 2px); position: absolute;\">\n</span>\n\n<span style=\"background: #E6E6FA; top: 57px; height: 4px; left: -1px; width: calc(100% + 2px); position: absolute;\">\n</span>\n\n<span style=\"background: #ddd; top: 74px; height: 4px; left: -1px; width: calc(100% + 2px); position: absolute;\">\n</span>\n\n    \n<span style=\"background: #ddd; top: 74px; height: 4px; border-top-left-radius: 3px; border-bottom-left-radius: 3px; left: -1px; width: calc(100% + 2px); position: absolute;\">\n    <span style=\"background: #ddd; z-index: 10; color: #000; top: -0.5em; padding: 2px 3px; position: absolute; font-size: 0.6em; font-weight: bold; line-height: 1; border-radius: 3px\">\n        comp.function\n    </span>\n</span>\n\n\n</span>\n\n<span style=\"font-weight: bold; display: inline-block; position: relative; height: 94px;\">\n    Hermann\n    \n<span style=\"background: #CBC3E3; top: 40px; height: 4px; left: -1px; width: calc(100% + 2px); position: absolute;\">\n</span>\n\n<span style=\"background: #E6E6FA; top: 57px; height: 4px; left: -1px; width: calc(100% + 2px); position: absolute;\">\n</span>\n\n<span style=\"background: #ddd; top: 74px; height: 4px; left: -1px; width: calc(100% + 2px); position: absolute;\">\n</span>\n\n    \n<span style=\"background: #ddd; top: 74px; height: 4px; border-top-left-radius: 3px; border-bottom-left-radius: 3px; left: -1px; width: calc(100% + 2px); position: absolute;\">\n    <span style=\"background: #ddd; z-index: 10; color: #000; top: -0.5em; padding: 2px 3px; position: absolute; font-size: 0.6em; font-weight: bold; line-height: 1; border-radius: 3px\">\n        comp.name\n    </span>\n</span>\n\n\n</span>\n\n<span style=\"font-weight: bold; display: inline-block; position: relative; height: 94px;\">\n    Fietz\n    \n<span style=\"background: #CBC3E3; top: 40px; height: 4px; left: -1px; width: calc(100% + 2px); position: absolute;\">\n</span>\n\n<span style=\"background: #E6E6FA; top: 57px; height: 4px; left: -1px; width: calc(100% + 2px); position: absolute;\">\n</span>\n\n<span style=\"background: #ddd; top: 74px; height: 4px; left: -1px; width: calc(100% + 2px); position: absolute;\">\n</span>\n\n    \n</span>\n. \n\n La construction de la \n<span style=\"font-weight: bold; display: inline-block; position: relative; height: 77px;\">\n    Bibliothèque\n    \n<span style=\"background: #FFC0CB; top: 40px; height: 4px; left: -1px; width: calc(100% + 2px); position: absolute;\">\n</span>\n\n<span style=\"background: #FFB6C1; top: 57px; height: 4px; left: -1px; width: calc(100% + 2px); position: absolute;\">\n</span>\n\n    \n<span style=\"background: #FFC0CB; top: 40px; height: 4px; border-top-left-radius: 3px; border-bottom-left-radius: 3px; left: -1px; width: calc(100% + 2px); position: absolute;\">\n    <span style=\"background: #FFC0CB; z-index: 10; color: #000; top: -0.5em; padding: 2px 3px; position: absolute; font-size: 0.6em; font-weight: bold; line-height: 1; border-radius: 3px\">\n        org\n    </span>\n</span>\n\n\n<span style=\"background: #FFB6C1; top: 57px; height: 4px; border-top-left-radius: 3px; border-bottom-left-radius: 3px; left: -1px; width: calc(100% + 2px); position: absolute;\">\n    <span style=\"background: #FFB6C1; z-index: 10; color: #000; top: -0.5em; padding: 2px 3px; position: absolute; font-size: 0.6em; font-weight: bold; line-height: 1; border-radius: 3px\">\n        org.ent\n    </span>\n</span>\n\n\n</span>\n\n<span style=\"font-weight: bold; display: inline-block; position: relative; height: 77px;\">\n    Centrale\n    \n<span style=\"background: #FFC0CB; top: 40px; height: 4px; left: -1px; width: calc(100% + 2px); position: absolute;\">\n</span>\n\n<span style=\"background: #FFB6C1; top: 57px; height: 4px; left: -1px; width: calc(100% + 2px); position: absolute;\">\n</span>\n\n    \n</span>\nde la \n<span style=\"font-weight: bold; display: inline-block; position: relative; height: 77px;\">\n    ville\n    \n<span style=\"background: #B0E57C; top: 40px; height: 4px; left: -1px; width: calc(100% + 2px); position: absolute;\">\n</span>\n\n<span style=\"background: #FFD1DC; top: 57px; height: 4px; left: -1px; width: calc(100% + 2px); position: absolute;\">\n</span>\n\n    \n<span style=\"background: #B0E57C; top: 40px; height: 4px; border-top-left-radius: 3px; border-bottom-left-radius: 3px; left: -1px; width: calc(100% + 2px); position: absolute;\">\n    <span style=\"background: #B0E57C; z-index: 10; color: #000; top: -0.5em; padding: 2px 3px; position: absolute; font-size: 0.6em; font-weight: bold; line-height: 1; border-radius: 3px\">\n        loc\n    </span>\n</span>\n\n\n<span style=\"background: #FFD1DC; top: 57px; height: 4px; border-top-left-radius: 3px; border-bottom-left-radius: 3px; left: -1px; width: calc(100% + 2px); position: absolute;\">\n    <span style=\"background: #FFD1DC; z-index: 10; color: #000; top: -0.5em; padding: 2px 3px; position: absolute; font-size: 0.6em; font-weight: bold; line-height: 1; border-radius: 3px\">\n        org.adm\n    </span>\n</span>\n\n\n</span>\n\n<span style=\"font-weight: bold; display: inline-block; position: relative; height: 77px;\">\n    de\n    \n<span style=\"background: #B0E57C; top: 40px; height: 4px; left: -1px; width: calc(100% + 2px); position: absolute;\">\n</span>\n\n<span style=\"background: #98FB98; top: 57px; height: 4px; left: -1px; width: calc(100% + 2px); position: absolute;\">\n</span>\n\n    \n<span style=\"background: #98FB98; top: 57px; height: 4px; border-top-left-radius: 3px; border-bottom-left-radius: 3px; left: -1px; width: calc(100% + 2px); position: absolute;\">\n    <span style=\"background: #98FB98; z-index: 10; color: #000; top: -0.5em; padding: 2px 3px; position: absolute; font-size: 0.6em; font-weight: bold; line-height: 1; border-radius: 3px\">\n        loc.adm.town\n    </span>\n</span>\n\n\n</span>\n\n<span style=\"font-weight: bold; display: inline-block; position: relative; height: 145px;\">\n    Zurich\n    \n<span style=\"background: #B0E57C; top: 40px; height: 4px; left: -1px; width: calc(100% + 2px); position: absolute;\">\n</span>\n\n<span style=\"background: #98FB98; top: 57px; height: 4px; left: -1px; width: calc(100% + 2px); position: absolute;\">\n</span>\n\n<span style=\"background: #ddd; top: 74px; height: 4px; left: -1px; width: calc(100% + 2px); position: absolute;\">\n</span>\n\n<span style=\"background: #98FB98; top: 91px; height: 4px; left: -1px; width: calc(100% + 2px); position: absolute;\">\n</span>\n\n<span style=\"background: #FFC0CB; top: 108px; height: 4px; left: -1px; width: calc(100% + 2px); position: absolute;\">\n</span>\n\n<span style=\"background: #FFB6C1; top: 125px; height: 4px; left: -1px; width: calc(100% + 2px); position: absolute;\">\n</span>\n\n    \n<span style=\"background: #ddd; top: 74px; height: 4px; border-top-left-radius: 3px; border-bottom-left-radius: 3px; left: -1px; width: calc(100% + 2px); position: absolute;\">\n    <span style=\"background: #ddd; z-index: 10; color: #000; top: -0.5em; padding: 2px 3px; position: absolute; font-size: 0.6em; font-weight: bold; line-height: 1; border-radius: 3px\">\n        comp.name\n    </span>\n</span>\n\n\n<span style=\"background: #98FB98; top: 91px; height: 4px; border-top-left-radius: 3px; border-bottom-left-radius: 3px; left: -1px; width: calc(100% + 2px); position: absolute;\">\n    <span style=\"background: #98FB98; z-index: 10; color: #000; top: -0.5em; padding: 2px 3px; position: absolute; font-size: 0.6em; font-weight: bold; line-height: 1; border-radius: 3px\">\n        loc.adm.town\n    </span>\n</span>\n\n\n<span style=\"background: #FFC0CB; top: 108px; height: 4px; border-top-left-radius: 3px; border-bottom-left-radius: 3px; left: -1px; width: calc(100% + 2px); position: absolute;\">\n    <span style=\"background: #FFC0CB; z-index: 10; color: #000; top: -0.5em; padding: 2px 3px; position: absolute; font-size: 0.6em; font-weight: bold; line-height: 1; border-radius: 3px\">\n        org\n    </span>\n</span>\n\n\n<span style=\"background: #FFB6C1; top: 125px; height: 4px; border-top-left-radius: 3px; border-bottom-left-radius: 3px; left: -1px; width: calc(100% + 2px); position: absolute;\">\n    <span style=\"background: #FFB6C1; z-index: 10; color: #000; top: -0.5em; padding: 2px 3px; position: absolute; font-size: 0.6em; font-weight: bold; line-height: 1; border-radius: 3px\">\n        org.ent\n    </span>\n</span>\n\n\n</span>\na été achevée \n<span style=\"font-weight: bold; display: inline-block; position: relative; height: 77px;\">\n    en\n    \n<span style=\"background: #FDFD96; top: 40px; height: 4px; left: -1px; width: calc(100% + 2px); position: absolute;\">\n</span>\n\n<span style=\"background: #EEE8AA; top: 57px; height: 4px; left: -1px; width: calc(100% + 2px); position: absolute;\">\n</span>\n\n    \n<span style=\"background: #FDFD96; top: 40px; height: 4px; border-top-left-radius: 3px; border-bottom-left-radius: 3px; left: -1px; width: calc(100% + 2px); position: absolute;\">\n    <span style=\"background: #FDFD96; z-index: 10; color: #000; top: -0.5em; padding: 2px 3px; position: absolute; font-size: 0.6em; font-weight: bold; line-height: 1; border-radius: 3px\">\n        time\n    </span>\n</span>\n\n\n<span style=\"background: #EEE8AA; top: 57px; height: 4px; border-top-left-radius: 3px; border-bottom-left-radius: 3px; left: -1px; width: calc(100% + 2px); position: absolute;\">\n    <span style=\"background: #EEE8AA; z-index: 10; color: #000; top: -0.5em; padding: 2px 3px; position: absolute; font-size: 0.6em; font-weight: bold; line-height: 1; border-radius: 3px\">\n        time.date.abs\n    </span>\n</span>\n\n\n</span>\n\n<span style=\"font-weight: bold; display: inline-block; position: relative; height: 111px;\">\n    1917\n    \n<span style=\"background: #FDFD96; top: 40px; height: 4px; left: -1px; width: calc(100% + 2px); position: absolute;\">\n</span>\n\n<span style=\"background: #EEE8AA; top: 57px; height: 4px; left: -1px; width: calc(100% + 2px); position: absolute;\">\n</span>\n\n<span style=\"background: #FDFD96; top: 74px; height: 4px; left: -1px; width: calc(100% + 2px); position: absolute;\">\n</span>\n\n<span style=\"background: #EEE8AA; top: 91px; height: 4px; left: -1px; width: calc(100% + 2px); position: absolute;\">\n</span>\n\n    \n<span style=\"background: #FDFD96; top: 74px; height: 4px; border-top-left-radius: 3px; border-bottom-left-radius: 3px; left: -1px; width: calc(100% + 2px); position: absolute;\">\n    <span style=\"background: #FDFD96; z-index: 10; color: #000; top: -0.5em; padding: 2px 3px; position: absolute; font-size: 0.6em; font-weight: bold; line-height: 1; border-radius: 3px\">\n        time\n    </span>\n</span>\n\n\n<span style=\"background: #EEE8AA; top: 91px; height: 4px; border-top-left-radius: 3px; border-bottom-left-radius: 3px; left: -1px; width: calc(100% + 2px); position: absolute;\">\n    <span style=\"background: #EEE8AA; z-index: 10; color: #000; top: -0.5em; padding: 2px 3px; position: absolute; font-size: 0.6em; font-weight: bold; line-height: 1; border-radius: 3px\">\n        time.date.abs\n    </span>\n</span>\n\n\n</span>\npar \n<span style=\"font-weight: bold; display: inline-block; position: relative; height: 111px;\">\n    l'architecte\n    \n<span style=\"background: #CBC3E3; top: 40px; height: 4px; left: -1px; width: calc(100% + 2px); position: absolute;\">\n</span>\n\n<span style=\"background: #E6E6FA; top: 57px; height: 4px; left: -1px; width: calc(100% + 2px); position: absolute;\">\n</span>\n\n<span style=\"background: #ddd; top: 74px; height: 4px; left: -1px; width: calc(100% + 2px); position: absolute;\">\n</span>\n\n<span style=\"background: #ddd; top: 91px; height: 4px; left: -1px; width: calc(100% + 2px); position: absolute;\">\n</span>\n\n    \n<span style=\"background: #CBC3E3; top: 40px; height: 4px; border-top-left-radius: 3px; border-bottom-left-radius: 3px; left: -1px; width: calc(100% + 2px); position: absolute;\">\n    <span style=\"background: #CBC3E3; z-index: 10; color: #000; top: -0.5em; padding: 2px 3px; position: absolute; font-size: 0.6em; font-weight: bold; line-height: 1; border-radius: 3px\">\n        pers\n    </span>\n</span>\n\n\n<span style=\"background: #E6E6FA; top: 57px; height: 4px; border-top-left-radius: 3px; border-bottom-left-radius: 3px; left: -1px; width: calc(100% + 2px); position: absolute;\">\n    <span style=\"background: #E6E6FA; z-index: 10; color: #000; top: -0.5em; padding: 2px 3px; position: absolute; font-size: 0.6em; font-weight: bold; line-height: 1; border-radius: 3px\">\n        pers.ind\n    </span>\n</span>\n\n\n<span style=\"background: #ddd; top: 74px; height: 4px; border-top-left-radius: 3px; border-bottom-left-radius: 3px; left: -1px; width: calc(100% + 2px); position: absolute;\">\n    <span style=\"background: #ddd; z-index: 10; color: #000; top: -0.5em; padding: 2px 3px; position: absolute; font-size: 0.6em; font-weight: bold; line-height: 1; border-radius: 3px\">\n        comp.function\n    </span>\n</span>\n\n\n<span style=\"background: #ddd; top: 91px; height: 4px; border-top-left-radius: 3px; border-bottom-left-radius: 3px; left: -1px; width: calc(100% + 2px); position: absolute;\">\n    <span style=\"background: #ddd; z-index: 10; color: #000; top: -0.5em; padding: 2px 3px; position: absolute; font-size: 0.6em; font-weight: bold; line-height: 1; border-radius: 3px\">\n        comp.function\n    </span>\n</span>\n\n\n</span>\n\n<span style=\"font-weight: bold; display: inline-block; position: relative; height: 111px;\">\n    cantonal\n    \n<span style=\"background: #CBC3E3; top: 40px; height: 4px; left: -1px; width: calc(100% + 2px); position: absolute;\">\n</span>\n\n<span style=\"background: #E6E6FA; top: 57px; height: 4px; left: -1px; width: calc(100% + 2px); position: absolute;\">\n</span>\n\n<span style=\"background: #ddd; top: 74px; height: 4px; left: -1px; width: calc(100% + 2px); position: absolute;\">\n</span>\n\n<span style=\"background: #ddd; top: 91px; height: 4px; left: -1px; width: calc(100% + 2px); position: absolute;\">\n</span>\n\n    \n<span style=\"background: #ddd; top: 91px; height: 4px; border-top-left-radius: 3px; border-bottom-left-radius: 3px; left: -1px; width: calc(100% + 2px); position: absolute;\">\n    <span style=\"background: #ddd; z-index: 10; color: #000; top: -0.5em; padding: 2px 3px; position: absolute; font-size: 0.6em; font-weight: bold; line-height: 1; border-radius: 3px\">\n        comp.function\n    </span>\n</span>\n\n\n</span>\n\n<span style=\"font-weight: bold; display: inline-block; position: relative; height: 94px;\">\n    zurichois\n    \n<span style=\"background: #CBC3E3; top: 40px; height: 4px; left: -1px; width: calc(100% + 2px); position: absolute;\">\n</span>\n\n<span style=\"background: #E6E6FA; top: 57px; height: 4px; left: -1px; width: calc(100% + 2px); position: absolute;\">\n</span>\n\n<span style=\"background: #ddd; top: 74px; height: 4px; left: -1px; width: calc(100% + 2px); position: absolute;\">\n</span>\n\n    \n</span>\n\n<span style=\"font-weight: bold; display: inline-block; position: relative; height: 94px;\">\n    Hermann\n    \n<span style=\"background: #CBC3E3; top: 40px; height: 4px; left: -1px; width: calc(100% + 2px); position: absolute;\">\n</span>\n\n<span style=\"background: #E6E6FA; top: 57px; height: 4px; left: -1px; width: calc(100% + 2px); position: absolute;\">\n</span>\n\n<span style=\"background: #ddd; top: 74px; height: 4px; left: -1px; width: calc(100% + 2px); position: absolute;\">\n</span>\n\n    \n<span style=\"background: #ddd; top: 74px; height: 4px; border-top-left-radius: 3px; border-bottom-left-radius: 3px; left: -1px; width: calc(100% + 2px); position: absolute;\">\n    <span style=\"background: #ddd; z-index: 10; color: #000; top: -0.5em; padding: 2px 3px; position: absolute; font-size: 0.6em; font-weight: bold; line-height: 1; border-radius: 3px\">\n        comp.name\n    </span>\n</span>\n\n\n</span>\n\n<span style=\"font-weight: bold; display: inline-block; position: relative; height: 94px;\">\n    Fietz\n    \n<span style=\"background: #CBC3E3; top: 40px; height: 4px; left: -1px; width: calc(100% + 2px); position: absolute;\">\n</span>\n\n<span style=\"background: #E6E6FA; top: 57px; height: 4px; left: -1px; width: calc(100% + 2px); position: absolute;\">\n</span>\n\n<span style=\"background: #ddd; top: 74px; height: 4px; left: -1px; width: calc(100% + 2px); position: absolute;\">\n</span>\n\n    \n</span>\n. </div></span>"
                },
                "metadata": {}
              }
            ]
          }
        },
        "821001a947d344d08079112ebdfee7b0": {
          "model_module": "@jupyter-widgets/base",
          "model_name": "LayoutModel",
          "model_module_version": "1.2.0",
          "state": {
            "_model_module": "@jupyter-widgets/base",
            "_model_module_version": "1.2.0",
            "_model_name": "LayoutModel",
            "_view_count": null,
            "_view_module": "@jupyter-widgets/base",
            "_view_module_version": "1.2.0",
            "_view_name": "LayoutView",
            "align_content": null,
            "align_items": null,
            "align_self": null,
            "border": null,
            "bottom": null,
            "display": null,
            "flex": null,
            "flex_flow": null,
            "grid_area": null,
            "grid_auto_columns": null,
            "grid_auto_flow": null,
            "grid_auto_rows": null,
            "grid_column": null,
            "grid_gap": null,
            "grid_row": null,
            "grid_template_areas": null,
            "grid_template_columns": null,
            "grid_template_rows": null,
            "height": null,
            "justify_content": null,
            "justify_items": null,
            "left": null,
            "margin": null,
            "max_height": null,
            "max_width": null,
            "min_height": null,
            "min_width": null,
            "object_fit": null,
            "object_position": null,
            "order": null,
            "overflow": null,
            "overflow_x": null,
            "overflow_y": null,
            "padding": null,
            "right": null,
            "top": null,
            "visibility": null,
            "width": null
          }
        }
      }
    }
  },
  "cells": [
    {
      "cell_type": "markdown",
      "metadata": {
        "id": "view-in-github",
        "colab_type": "text"
      },
      "source": [
        "<a href=\"https://colab.research.google.com/github/simon-clematide/colab-notebooks-for-teaching/blob/main/impresso_ner_displacy_visualization.ipynb\" target=\"_parent\"><img src=\"https://colab.research.google.com/assets/colab-badge.svg\" alt=\"Open In Colab\"/></a>"
      ]
    },
    {
      "cell_type": "markdown",
      "source": [
        "# Visualize coarse- and fine-grained Named Entity information\n",
        "This notebook offers an overview into multilingual fine-grained and nested Named Entity Recognition\n",
        "\n",
        "*Thanks for Emma Bourous for training the models, programming the API, and the HIPE team for providing the training material.*"
      ],
      "metadata": {
        "id": "CFDuZVrUhJR3"
      }
    },
    {
      "cell_type": "markdown",
      "source": [
        "## Install spacy"
      ],
      "metadata": {
        "id": "Lr-phCiuy1aW"
      }
    },
    {
      "cell_type": "code",
      "source": [
        "! pip install spacy"
      ],
      "metadata": {
        "colab": {
          "base_uri": "https://localhost:8080/"
        },
        "id": "lLCYjzAGO8-5",
        "outputId": "940f22e5-8f5c-46c8-eb60-2197f3b8f75d"
      },
      "execution_count": null,
      "outputs": [
        {
          "output_type": "stream",
          "name": "stdout",
          "text": [
            "Requirement already satisfied: spacy in /usr/local/lib/python3.10/dist-packages (3.7.6)\n",
            "Requirement already satisfied: spacy-legacy<3.1.0,>=3.0.11 in /usr/local/lib/python3.10/dist-packages (from spacy) (3.0.12)\n",
            "Requirement already satisfied: spacy-loggers<2.0.0,>=1.0.0 in /usr/local/lib/python3.10/dist-packages (from spacy) (1.0.5)\n",
            "Requirement already satisfied: murmurhash<1.1.0,>=0.28.0 in /usr/local/lib/python3.10/dist-packages (from spacy) (1.0.10)\n",
            "Requirement already satisfied: cymem<2.1.0,>=2.0.2 in /usr/local/lib/python3.10/dist-packages (from spacy) (2.0.8)\n",
            "Requirement already satisfied: preshed<3.1.0,>=3.0.2 in /usr/local/lib/python3.10/dist-packages (from spacy) (3.0.9)\n",
            "Requirement already satisfied: thinc<8.3.0,>=8.2.2 in /usr/local/lib/python3.10/dist-packages (from spacy) (8.2.5)\n",
            "Requirement already satisfied: wasabi<1.2.0,>=0.9.1 in /usr/local/lib/python3.10/dist-packages (from spacy) (1.1.3)\n",
            "Requirement already satisfied: srsly<3.0.0,>=2.4.3 in /usr/local/lib/python3.10/dist-packages (from spacy) (2.4.8)\n",
            "Requirement already satisfied: catalogue<2.1.0,>=2.0.6 in /usr/local/lib/python3.10/dist-packages (from spacy) (2.0.10)\n",
            "Requirement already satisfied: weasel<0.5.0,>=0.1.0 in /usr/local/lib/python3.10/dist-packages (from spacy) (0.4.1)\n",
            "Requirement already satisfied: typer<1.0.0,>=0.3.0 in /usr/local/lib/python3.10/dist-packages (from spacy) (0.12.5)\n",
            "Requirement already satisfied: tqdm<5.0.0,>=4.38.0 in /usr/local/lib/python3.10/dist-packages (from spacy) (4.66.5)\n",
            "Requirement already satisfied: requests<3.0.0,>=2.13.0 in /usr/local/lib/python3.10/dist-packages (from spacy) (2.32.3)\n",
            "Requirement already satisfied: pydantic!=1.8,!=1.8.1,<3.0.0,>=1.7.4 in /usr/local/lib/python3.10/dist-packages (from spacy) (2.8.2)\n",
            "Requirement already satisfied: jinja2 in /usr/local/lib/python3.10/dist-packages (from spacy) (3.1.4)\n",
            "Requirement already satisfied: setuptools in /usr/local/lib/python3.10/dist-packages (from spacy) (71.0.4)\n",
            "Requirement already satisfied: packaging>=20.0 in /usr/local/lib/python3.10/dist-packages (from spacy) (24.1)\n",
            "Requirement already satisfied: langcodes<4.0.0,>=3.2.0 in /usr/local/lib/python3.10/dist-packages (from spacy) (3.4.0)\n",
            "Requirement already satisfied: numpy>=1.19.0 in /usr/local/lib/python3.10/dist-packages (from spacy) (1.26.4)\n",
            "Requirement already satisfied: language-data>=1.2 in /usr/local/lib/python3.10/dist-packages (from langcodes<4.0.0,>=3.2.0->spacy) (1.2.0)\n",
            "Requirement already satisfied: annotated-types>=0.4.0 in /usr/local/lib/python3.10/dist-packages (from pydantic!=1.8,!=1.8.1,<3.0.0,>=1.7.4->spacy) (0.7.0)\n",
            "Requirement already satisfied: pydantic-core==2.20.1 in /usr/local/lib/python3.10/dist-packages (from pydantic!=1.8,!=1.8.1,<3.0.0,>=1.7.4->spacy) (2.20.1)\n",
            "Requirement already satisfied: typing-extensions>=4.6.1 in /usr/local/lib/python3.10/dist-packages (from pydantic!=1.8,!=1.8.1,<3.0.0,>=1.7.4->spacy) (4.12.2)\n",
            "Requirement already satisfied: charset-normalizer<4,>=2 in /usr/local/lib/python3.10/dist-packages (from requests<3.0.0,>=2.13.0->spacy) (3.3.2)\n",
            "Requirement already satisfied: idna<4,>=2.5 in /usr/local/lib/python3.10/dist-packages (from requests<3.0.0,>=2.13.0->spacy) (3.8)\n",
            "Requirement already satisfied: urllib3<3,>=1.21.1 in /usr/local/lib/python3.10/dist-packages (from requests<3.0.0,>=2.13.0->spacy) (2.0.7)\n",
            "Requirement already satisfied: certifi>=2017.4.17 in /usr/local/lib/python3.10/dist-packages (from requests<3.0.0,>=2.13.0->spacy) (2024.8.30)\n",
            "Requirement already satisfied: blis<0.8.0,>=0.7.8 in /usr/local/lib/python3.10/dist-packages (from thinc<8.3.0,>=8.2.2->spacy) (0.7.11)\n",
            "Requirement already satisfied: confection<1.0.0,>=0.0.1 in /usr/local/lib/python3.10/dist-packages (from thinc<8.3.0,>=8.2.2->spacy) (0.1.5)\n",
            "Requirement already satisfied: click>=8.0.0 in /usr/local/lib/python3.10/dist-packages (from typer<1.0.0,>=0.3.0->spacy) (8.1.7)\n",
            "Requirement already satisfied: shellingham>=1.3.0 in /usr/local/lib/python3.10/dist-packages (from typer<1.0.0,>=0.3.0->spacy) (1.5.4)\n",
            "Requirement already satisfied: rich>=10.11.0 in /usr/local/lib/python3.10/dist-packages (from typer<1.0.0,>=0.3.0->spacy) (13.8.0)\n",
            "Requirement already satisfied: cloudpathlib<1.0.0,>=0.7.0 in /usr/local/lib/python3.10/dist-packages (from weasel<0.5.0,>=0.1.0->spacy) (0.19.0)\n",
            "Requirement already satisfied: smart-open<8.0.0,>=5.2.1 in /usr/local/lib/python3.10/dist-packages (from weasel<0.5.0,>=0.1.0->spacy) (7.0.4)\n",
            "Requirement already satisfied: MarkupSafe>=2.0 in /usr/local/lib/python3.10/dist-packages (from jinja2->spacy) (2.1.5)\n",
            "Requirement already satisfied: marisa-trie>=0.7.7 in /usr/local/lib/python3.10/dist-packages (from language-data>=1.2->langcodes<4.0.0,>=3.2.0->spacy) (1.2.0)\n",
            "Requirement already satisfied: markdown-it-py>=2.2.0 in /usr/local/lib/python3.10/dist-packages (from rich>=10.11.0->typer<1.0.0,>=0.3.0->spacy) (3.0.0)\n",
            "Requirement already satisfied: pygments<3.0.0,>=2.13.0 in /usr/local/lib/python3.10/dist-packages (from rich>=10.11.0->typer<1.0.0,>=0.3.0->spacy) (2.16.1)\n",
            "Requirement already satisfied: wrapt in /usr/local/lib/python3.10/dist-packages (from smart-open<8.0.0,>=5.2.1->weasel<0.5.0,>=0.1.0->spacy) (1.16.0)\n",
            "Requirement already satisfied: mdurl~=0.1 in /usr/local/lib/python3.10/dist-packages (from markdown-it-py>=2.2.0->rich>=10.11.0->typer<1.0.0,>=0.3.0->spacy) (0.1.2)\n"
          ]
        }
      ]
    },
    {
      "cell_type": "markdown",
      "source": [
        "## Call the impresso NER and NEL API\n",
        "We only use the NER part in the visualization."
      ],
      "metadata": {
        "id": "k8VurD5Hyy7g"
      }
    },
    {
      "cell_type": "code",
      "source": [
        "def get_linked_entities(text, coarse_only=False):\n",
        "    \"\"\"\n",
        "    Calls the external API to get named entity recognition (NER) results.\n",
        "    \"\"\"\n",
        "    url = \"https://impresso-annotation.epfl.ch/api/ner/\"\n",
        "    payload = {\"data\": text}\n",
        "    try:\n",
        "        response = requests.post(url, json=payload)\n",
        "        if response.status_code == 200:\n",
        "            data = response.json()\n",
        "            data[\"text\"] = text\n",
        "            # remove fine-grained and components\n",
        "            if coarse_only:\n",
        "                for ne in data[\"nes\"]:\n",
        "                    data[\"nes\"] = [ne for ne in data[\"nes\"] if not \".\" in ne[\"type\"]]\n",
        "            return data\n",
        "        else:\n",
        "            print(f\"Request failed with status code {response.status_code}\")\n",
        "            return None\n",
        "    except requests.exceptions.RequestException as e:\n",
        "        print(f\"An error occurred: {e}\")\n",
        "        return None\n"
      ],
      "metadata": {
        "id": "Lhyczl3eywiV"
      },
      "execution_count": null,
      "outputs": []
    },
    {
      "cell_type": "code",
      "source": [
        "# Let's test this function\n",
        "import json"
      ],
      "metadata": {
        "id": "t5brfOPQ9N-x"
      },
      "execution_count": null,
      "outputs": []
    },
    {
      "cell_type": "code",
      "source": [
        "text = \"Die Zentrallbibliothek in Zürich wurde am 1. Oktober 1917 nourgeschrieben.\"\n",
        "api_result = get_linked_entities(text,coarse_only=True)\n",
        "import json\n",
        "print(json.dumps(api_result, ensure_ascii=False,indent=2))"
      ],
      "metadata": {
        "colab": {
          "base_uri": "https://localhost:8080/"
        },
        "id": "YM7blTRDzctw",
        "outputId": "91c05cbd-6fe8-4f27-b9f4-77db9ae96814"
      },
      "execution_count": null,
      "outputs": [
        {
          "output_type": "stream",
          "name": "stdout",
          "text": [
            "{\n",
            "  \"ts\": \"2024-09-11T00:23:57Z\",\n",
            "  \"sys_id\": \"stacked-2-bert-medium-historic-multilingual-v3-base|mgenre\",\n",
            "  \"nes\": [\n",
            "    {\n",
            "      \"type\": \"org\",\n",
            "      \"surface\": \"Zentrallbibliothek\",\n",
            "      \"lOffset\": 4,\n",
            "      \"rOffset\": 22,\n",
            "      \"id\": \"4:22:org:stacked-2-bert-medium-historic-multilingual-v3-base|mgenre\",\n",
            "      \"nested\": false,\n",
            "      \"wkd_id\": \"NIL\",\n",
            "      \"confidence_ner\": 77.14,\n",
            "      \"confidence_nel\": 59.1\n",
            "    },\n",
            "    {\n",
            "      \"type\": \"loc\",\n",
            "      \"surface\": \"Zürich\",\n",
            "      \"lOffset\": 26,\n",
            "      \"rOffset\": 32,\n",
            "      \"id\": \"26:32:loc:stacked-2-bert-medium-historic-multilingual-v3-base|mgenre\",\n",
            "      \"nested\": false,\n",
            "      \"wkd_id\": \"Q72\",\n",
            "      \"wkpedia_pagename\": \"Zürich >> de \",\n",
            "      \"confidence_ner\": 90.33,\n",
            "      \"confidence_nel\": 78.77\n",
            "    }\n",
            "  ],\n",
            "  \"text\": \"Die Zentrallbibliothek in Zürich wurde am 1. Oktober 1917 nourgeschrieben.\"\n",
            "}\n"
          ]
        }
      ]
    },
    {
      "cell_type": "markdown",
      "source": [
        "## Code for the visualization"
      ],
      "metadata": {
        "id": "5m00DEeLz1bs"
      }
    },
    {
      "cell_type": "code",
      "source": [
        "import spacy\n",
        "from spacy.tokens import Span\n",
        "from spacy import displacy\n",
        "import requests\n",
        "\n",
        "\n",
        "# Define the color scheme for the entities and components\n",
        "colors = {\n",
        "    \"pers\": \"#CBC3E3\",  # Pastel Lavender\n",
        "    \"org\": \"#FFC0CB\",  # Pastel Pink\n",
        "    \"prod\": \"#ADD8E6\",  # Pastel Blue\n",
        "    \"time\": \"#FDFD96\",  # Pastel Goldenrod\n",
        "    \"loc\": \"#B0E57C\",  # Pastel Green,\n",
        "    # Fine-grained categories\n",
        "    \"pers.ind\": \"#E6E6FA\",  # Light Lavender\n",
        "    \"pers.coll\": \"#D8BFD8\",  # Lavender Mist\n",
        "    \"pers.ind.articleauthor\": \"#DDA0DD\",  # Thistle\n",
        "    \"org.adm\": \"#FFD1DC\",  # Pale Pink\n",
        "    \"org.ent\": \"#FFB6C1\",  # Pink\n",
        "    \"org.ent.pressagency\": \"#F08080\",  # Light Coral\n",
        "    \"prod.media\": \"#87CEFA\",  # Light Sky Blue\n",
        "    \"prod.doctr\": \"#B0E0E6\",  # Powder Blue\n",
        "    \"time.date.abs\": \"#EEE8AA\",  # Pale Goldenrod\n",
        "    \"loc.adm.town\": \"#98FB98\",  # Pale Green\n",
        "    \"loc.adm.reg\": \"#90EE90\",  # Light Green\n",
        "    \"loc.adm.nat\": \"#F0FFF0\",  # Honeydew\n",
        "    \"loc.adm.sup\": \"#F5FFFA\",  # Mint Cream\n",
        "    \"loc.phys.geo\": \"#20B2AA\",  # Light Sea Green\n",
        "    \"loc.phys.hydro\": \"#66CDAA\",  # Medium Aquamarine\n",
        "    \"loc.phys.astro\": \"#AFEEEE\",  # Pale Turquoise\n",
        "    \"loc.oro\": \"#FFDAB9\",  # Peach Puff\n",
        "    \"loc.fac\": \"#FFE4B5\",  # Moccasin\n",
        "    \"loc.add.phys\": \"#FFFFE0\",  # Light Yellow\n",
        "    \"loc.add.elec\": \"#FFFACD\",  # Lemon Chiffon\n",
        "    \"loc.unk\": \"#FAF0E6\",  # Linen,\n",
        "}\n",
        "\n",
        "options = {\n",
        "    \"spans_key\": \"sc\",  # Custom key for spans\n",
        "    \"colors\": colors  # Custom color mapping\n",
        "}\n",
        "\n",
        "def visualize_overlapping_spans(api_response):\n",
        "    \"\"\"\n",
        "    Visualizes overlapping entities from the given API response using SpaCy's span visualizer.\n",
        "    \"\"\"\n",
        "    # Load a blank SpaCy model (no NER model)\n",
        "    nlp = spacy.blank(\"en\")\n",
        "    text = api_response.get('text', '')\n",
        "    entities = api_response.get('nes', [])\n",
        "\n",
        "    # Create a spaCy doc object\n",
        "    doc = nlp(text)\n",
        "\n",
        "    # Collect all entities without filtering\n",
        "    spans = []\n",
        "    for entity in entities:\n",
        "        char_start = entity['lOffset']\n",
        "        char_end = entity['rOffset']\n",
        "        label = entity['type']\n",
        "        span = doc.char_span(char_start, char_end, label=label, alignment_mode=\"expand\")\n",
        "        if span is not None:\n",
        "            spans.append(span)\n",
        "        else:\n",
        "            print(f\"Warning: Span could not be created for {entity['surface']} at offsets {char_start}-{char_end}\")\n",
        "\n",
        "    # Add the spans to the Doc\n",
        "    doc.spans[\"sc\"] = spans  # \"sc\" is a custom key for the overlapping spans\n",
        "\n",
        "    # Visualize the overlapping spans using the \"span\" style\n",
        "    displacy.render(doc, style=\"span\", jupyter=True, options=options)\n",
        "\n",
        "\n"
      ],
      "metadata": {
        "id": "tLQQwLM0rGNE"
      },
      "execution_count": null,
      "outputs": []
    },
    {
      "cell_type": "markdown",
      "source": [
        "## The interactive visualization app\n",
        "Enter German, French, or English text (try noisy input):\n",
        "\n",
        "```\n",
        "1917 wurde die Zentralbibliothek der Stadt Zürich vom zürcherischen Kantonsbaumeister Hermann Fietz fertig gebaut.\n",
        "\n",
        "In 1917, the Central Library of the city of Zurich was completed by the Zurich cantonal architect Hermann Fietz.\n",
        "\n",
        "La construction de la Bibliothèque Centrale de la ville de Zurich a été achevée en 1917 par l'architecte cantonal zurichois Hermann Fietz.\n",
        "```\n"
      ],
      "metadata": {
        "id": "5_D3f-9X0X0q"
      }
    },
    {
      "cell_type": "code",
      "source": [
        "create_text_input_interface(get_linked_entities, placeholder_text=\"Enter your text here...\", button_description=\"Analyze\")"
      ],
      "metadata": {
        "colab": {
          "base_uri": "https://localhost:8080/",
          "height": 471,
          "referenced_widgets": [
            "96b08bd2a41e40ab9864e08896c2f1aa",
            "7f04104c46ff4deda3323f7c458079ed",
            "8c7e90751467458b8249c5986cc5ec59",
            "c19a4a9166154203a7bbb73efee9c0bc",
            "5c6d1d48d02e4c15adcfdf95cab3f757",
            "9ef1b0ebf93d48f8a6a3d6935bc0c1aa",
            "13e360b0117947dbb1eab84bae9e665c",
            "09592fe5dbea4964b1f0fcfd7da05367",
            "d9f77aea7874462289e729eb3af19f97",
            "19fae9b792e145d2919894f732b10870",
            "6604ae5515de4040a06eb98d0c40fee3",
            "608e70cbe26d491e830e1ffef39b411f",
            "34715d4854fb4abca188d00c8d2ba28a",
            "5b8f07eece0c478d96e2a89b8541f82d",
            "821001a947d344d08079112ebdfee7b0"
          ]
        },
        "id": "km8DozyS0dIL",
        "outputId": "473139e9-efd2-4110-a6b7-88cab2a52427"
      },
      "execution_count": null,
      "outputs": [
        {
          "output_type": "display_data",
          "data": {
            "text/plain": [
              "Textarea(value='', layout=Layout(height='100px', width='800px'), placeholder='Enter your text here...')"
            ],
            "application/vnd.jupyter.widget-view+json": {
              "version_major": 2,
              "version_minor": 0,
              "model_id": "96b08bd2a41e40ab9864e08896c2f1aa"
            }
          },
          "metadata": {}
        },
        {
          "output_type": "display_data",
          "data": {
            "text/plain": [
              "HBox(children=(Button(button_style='info', description='Analyze', layout=Layout(height='40px', margin='20px 10…"
            ],
            "application/vnd.jupyter.widget-view+json": {
              "version_major": 2,
              "version_minor": 0,
              "model_id": "c19a4a9166154203a7bbb73efee9c0bc"
            }
          },
          "metadata": {}
        },
        {
          "output_type": "display_data",
          "data": {
            "text/plain": [
              "Output()"
            ],
            "application/vnd.jupyter.widget-view+json": {
              "version_major": 2,
              "version_minor": 0,
              "model_id": "608e70cbe26d491e830e1ffef39b411f"
            }
          },
          "metadata": {}
        },
        {
          "output_type": "display_data",
          "data": {
            "text/plain": [
              "Output()"
            ],
            "application/vnd.jupyter.widget-view+json": {
              "version_major": 2,
              "version_minor": 0,
              "model_id": "5b8f07eece0c478d96e2a89b8541f82d"
            }
          },
          "metadata": {}
        }
      ]
    },
    {
      "cell_type": "markdown",
      "source": [
        "# New section"
      ],
      "metadata": {
        "id": "KNnzRp9GEfdA"
      }
    }
  ]
}