{
  "nbformat": 4,
  "nbformat_minor": 0,
  "metadata": {
    "colab": {
      "provenance": [],
      "authorship_tag": "ABX9TyN+vmjoMTR5XIilAmEg1402",
      "include_colab_link": true
    },
    "kernelspec": {
      "name": "python3",
      "display_name": "Python 3"
    },
    "language_info": {
      "name": "python"
    }
  },
  "cells": [
    {
      "cell_type": "markdown",
      "metadata": {
        "id": "view-in-github",
        "colab_type": "text"
      },
      "source": [
        "<a href=\"https://colab.research.google.com/github/simon-clematide/colab-notebooks-for-teaching/blob/main/sklearn_text_classification.ipynb\" target=\"_parent\"><img src=\"https://colab.research.google.com/assets/colab-badge.svg\" alt=\"Open In Colab\"/></a>"
      ]
    },
    {
      "cell_type": "markdown",
      "source": [
        "# Simple Text Classification Pipeline with sklearn\n",
        "(taken from https://scikit-learn.org/stable/auto_examples/semi_supervised/plot_semi_supervised_newsgroups.html)"
      ],
      "metadata": {
        "id": "J5Uqo4rz5tns"
      }
    },
    {
      "cell_type": "code",
      "execution_count": 26,
      "metadata": {
        "colab": {
          "base_uri": "https://localhost:8080/"
        },
        "id": "ckxE4MPY4KnP",
        "outputId": "ff9c2912-effe-49d9-d1ef-0f6d2f641482"
      },
      "outputs": [
        {
          "output_type": "stream",
          "name": "stdout",
          "text": [
            "2823 documents\n",
            "5 categories\n",
            "\n"
          ]
        }
      ],
      "source": [
        "#import numpy as np\n",
        "\n",
        "from sklearn.datasets import fetch_20newsgroups\n",
        "from sklearn.feature_extraction.text import CountVectorizer, TfidfTransformer\n",
        "from sklearn.linear_model import SGDClassifier\n",
        "from sklearn.metrics import f1_score\n",
        "from sklearn.model_selection import train_test_split\n",
        "from sklearn.pipeline import Pipeline\n",
        "from sklearn.metrics import confusion_matrix\n",
        "from sklearn.metrics import classification_report\n",
        "\n",
        "\n",
        "# Loading dataset containing first five categories\n",
        "categories = [\n",
        "        \"alt.atheism\",\n",
        "        \"comp.graphics\",\n",
        "        \"comp.os.ms-windows.misc\",\n",
        "        \"comp.sys.ibm.pc.hardware\",\n",
        "        \"comp.sys.mac.hardware\",\n",
        "    ]\n",
        "data = fetch_20newsgroups(\n",
        "    subset=\"train\",\n",
        "    categories=categories,\n",
        ")\n",
        "print(\"%d documents\" % len(data.filenames))\n",
        "print(\"%d categories\" % len(data.target_names))\n",
        "print()\n",
        "\n",
        "# Hyperparameters\n",
        "sdg_params = dict(alpha=1e-5, penalty=\"l2\", loss=\"log_loss\")\n",
        "vectorizer_params = dict(ngram_range=(1, 2), min_df=5, max_df=0.8)\n",
        "\n",
        "# Supervised Pipeline\n",
        "pipeline = Pipeline(\n",
        "    [\n",
        "        (\"vect\", CountVectorizer(**vectorizer_params)),\n",
        "        (\"tfidf\", TfidfTransformer()),\n",
        "        (\"clf\", SGDClassifier(**sdg_params)),\n",
        "    ]\n",
        ")\n",
        "\n",
        "\n",
        "def eval_and_print_metrics(clf, X_train, y_train, X_test, y_test, categories):\n",
        "    print(\"Number of training samples:\", len(X_train))\n",
        "    clf.fit(X_train, y_train)\n",
        "    y_pred = clf.predict(X_test)\n",
        "    print(\"Number of test samples:\", len(y_pred))\n",
        "    print(\n",
        "        \"Micro-averaged F1 score on test set: %0.3f\"\n",
        "        % f1_score(y_test, y_pred, average=\"micro\")\n",
        "    )\n",
        "    print(classification_report(y_test, y_pred, target_names = categories))\n",
        "    print(confusion_matrix(y_test, y_pred, normalize='all'))"
      ]
    },
    {
      "cell_type": "code",
      "source": [
        "X, y = data.data, data.target\n",
        "X_train, X_test, y_train, y_test = train_test_split(X, y)\n",
        "\n",
        "print(\"Supervised SGDClassifier on 100% of the data:\")\n",
        "eval_and_print_metrics(pipeline, X_train, y_train, X_test, y_test,categories)\n"
      ],
      "metadata": {
        "colab": {
          "base_uri": "https://localhost:8080/"
        },
        "id": "09A0m3nT4fka",
        "outputId": "26331b10-8c18-415d-ec62-51cef91b350b"
      },
      "execution_count": 27,
      "outputs": [
        {
          "output_type": "stream",
          "name": "stdout",
          "text": [
            "Supervised SGDClassifier on 100% of the data:\n",
            "Number of training samples: 2117\n",
            "Number of test samples: 706\n",
            "Micro-averaged F1 score on test set: 0.895\n",
            "                          precision    recall  f1-score   support\n",
            "\n",
            "             alt.atheism       0.99      0.99      0.99       110\n",
            "           comp.graphics       0.88      0.88      0.88       151\n",
            " comp.os.ms-windows.misc       0.92      0.88      0.90       154\n",
            "comp.sys.ibm.pc.hardware       0.84      0.82      0.83       145\n",
            "   comp.sys.mac.hardware       0.87      0.93      0.90       146\n",
            "\n",
            "                accuracy                           0.90       706\n",
            "               macro avg       0.90      0.90      0.90       706\n",
            "            weighted avg       0.90      0.90      0.90       706\n",
            "\n",
            "[[0.15439093 0.00141643 0.         0.         0.        ]\n",
            " [0.         0.18838527 0.00566572 0.01274788 0.00708215]\n",
            " [0.         0.00849858 0.19121813 0.00991501 0.00849858]\n",
            " [0.00141643 0.01274788 0.00849858 0.16855524 0.01416431]\n",
            " [0.         0.00424929 0.00141643 0.00849858 0.19263456]]\n"
          ]
        }
      ]
    },
    {
      "cell_type": "code",
      "source": [],
      "metadata": {
        "id": "pQxUBzAH5KAw"
      },
      "execution_count": 24,
      "outputs": []
    }
  ]
}