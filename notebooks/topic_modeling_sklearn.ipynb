{
  "nbformat": 4,
  "nbformat_minor": 0,
  "metadata": {
    "kernelspec": {
      "display_name": "Python 3",
      "language": "python",
      "name": "python3"
    },
    "language_info": {
      "codemirror_mode": {
        "name": "ipython",
        "version": 3
      },
      "file_extension": ".py",
      "mimetype": "text/x-python",
      "name": "python",
      "nbconvert_exporter": "python",
      "pygments_lexer": "ipython3",
      "version": "3.8.5"
    },
    "colab": {
      "name": "sklearn.ipynb",
      "provenance": [],
      "include_colab_link": true
    }
  },
  "cells": [
    {
      "cell_type": "markdown",
      "metadata": {
        "id": "view-in-github",
        "colab_type": "text"
      },
      "source": [
        "<a href=\"https://colab.research.google.com/github/simon-clematide/colab-notebooks-for-teaching/blob/main/notebooks/topic_modeling_sklearn.ipynb\" target=\"_parent\"><img src=\"https://colab.research.google.com/assets/colab-badge.svg\" alt=\"Open In Colab\"/></a>"
      ]
    },
    {
      "cell_type": "markdown",
      "metadata": {
        "id": "P2Gbuq1DsIzC"
      },
      "source": [
        "# Setup\n",
        "\n",
        "\n"
      ]
    },
    {
      "cell_type": "code",
      "metadata": {
        "id": "Ft-MR3lqsWCk"
      },
      "source": [
        "#! pip install --upgrade pandas-profiling jupyter\n",
        "! pip install pyldavis # works with current pyldavis now!"
      ],
      "execution_count": null,
      "outputs": []
    },
    {
      "cell_type": "code",
      "source": [
        "# try to avoid warnings but not really working for now\n",
        "import warnings\n",
        "warnings.filterwarnings(\"ignore\", category=DeprecationWarning)\n",
        "warnings.filterwarnings(\"ignore\", category=UserWarning)\n",
        "warnings.filterwarnings(\"ignore\", category=FutureWarning)\n",
        "warnings.filterwarnings(\"ignore\", category=DeprecationWarning, module=\"ipykernel.ipkernel\")\n"
      ],
      "metadata": {
        "id": "Ydh_3NUfucMv"
      },
      "execution_count": 2,
      "outputs": []
    },
    {
      "cell_type": "markdown",
      "metadata": {
        "id": "e1s9S9LEsIzG"
      },
      "source": [
        "# `pyLDAvis`\n",
        "\n",
        "pyLDAvis now also supports LDA application from scikit-learn. Let's take a look into this in more detail. We will be using the 20 newsgroups dataset as provided by scikit-learn."
      ]
    },
    {
      "cell_type": "code",
      "metadata": {
        "scrolled": true,
        "id": "-QCt0lSQsIzG"
      },
      "source": [
        "import pyLDAvis\n",
        "import pyLDAvis.lda_model\n",
        "pyLDAvis.enable_notebook()"
      ],
      "execution_count": 3,
      "outputs": []
    },
    {
      "cell_type": "markdown",
      "metadata": {
        "id": "OjcrWF1VsIzI"
      },
      "source": [
        "## Load 20 newsgroups dataset\n",
        "\n",
        "First, the 20 newsgroups dataset available in sklearn is loaded. As always, the headers, footers and quotes are removed.\n",
        "\n",
        "Newsgroup categories:\n",
        "`['alt.atheism',\n",
        " 'comp.graphics',\n",
        " 'comp.os.ms-windows.misc',\n",
        " 'comp.sys.ibm.pc.hardware',\n",
        " 'comp.sys.mac.hardware',\n",
        " 'comp.windows.x',\n",
        " 'misc.forsale',\n",
        " 'rec.autos',\n",
        " 'rec.motorcycles',\n",
        " 'rec.sport.baseball',\n",
        " 'rec.sport.hockey',\n",
        " 'sci.crypt',\n",
        " 'sci.electronics',\n",
        " 'sci.med',\n",
        " 'sci.space',\n",
        " 'soc.religion.christian',\n",
        " 'talk.politics.guns',\n",
        " 'talk.politics.mideast',\n",
        " 'talk.politics.misc',\n",
        " 'talk.religion.misc']`"
      ]
    },
    {
      "cell_type": "code",
      "metadata": {
        "id": "tzlyi0f_sIzI",
        "outputId": "ed561011-d1b7-4dba-c64f-660017c7bdff",
        "colab": {
          "base_uri": "https://localhost:8080/"
        }
      },
      "source": [
        "from sklearn.datasets import fetch_20newsgroups\n",
        "from sklearn.feature_extraction.text import CountVectorizer, TfidfVectorizer\n",
        "from sklearn.decomposition import LatentDirichletAllocation"
      ],
      "execution_count": 4,
      "outputs": [
        {
          "output_type": "stream",
          "name": "stderr",
          "text": [
            "/usr/local/lib/python3.10/dist-packages/ipykernel/ipkernel.py:283: DeprecationWarning: `should_run_async` will not call `transform_cell` automatically in the future. Please pass the result to `transformed_cell` argument and any exception that happen during thetransform in `preprocessing_exc_tuple` in IPython 7.17 and above.\n",
            "  and should_run_async(code)\n"
          ]
        }
      ]
    },
    {
      "cell_type": "code",
      "metadata": {
        "colab": {
          "base_uri": "https://localhost:8080/"
        },
        "id": "RHitBJqrsIzJ",
        "outputId": "b738460c-3985-4f6d-edab-3519831d95d3"
      },
      "source": [
        "cats = ['sci.med', 'alt.atheism', 'rec.autos', 'sci.space','rec.sport.baseball']\n",
        "newsgroups = fetch_20newsgroups(remove=('headers', 'footers', 'quotes'),categories=cats)\n",
        "docs_raw = newsgroups.data\n",
        "print(len(docs_raw))"
      ],
      "execution_count": 5,
      "outputs": [
        {
          "output_type": "stream",
          "name": "stderr",
          "text": [
            "/usr/local/lib/python3.10/dist-packages/ipykernel/ipkernel.py:283: DeprecationWarning: `should_run_async` will not call `transform_cell` automatically in the future. Please pass the result to `transformed_cell` argument and any exception that happen during thetransform in `preprocessing_exc_tuple` in IPython 7.17 and above.\n",
            "  and should_run_async(code)\n"
          ]
        },
        {
          "output_type": "stream",
          "name": "stdout",
          "text": [
            "2858\n"
          ]
        }
      ]
    },
    {
      "cell_type": "code",
      "metadata": {
        "colab": {
          "base_uri": "https://localhost:8080/"
        },
        "id": "kQHMVL4asIzK",
        "outputId": "a4586f7e-9a01-48b5-bf66-cb6b55f4a610"
      },
      "source": [
        "print(docs_raw[72])"
      ],
      "execution_count": 6,
      "outputs": [
        {
          "output_type": "stream",
          "name": "stdout",
          "text": [
            "No, he's not nuts, WIP is second to none THE sports station.  They\n",
            "don't have Tony Bruno working ESPN radio and Al Morganti doing Friday\n",
            "Night Hockey because they suck.  I live in Richmond Va, but I visit\n",
            "Phila often, and on the way I get WTEM Washington) and WIP.  I hear\n",
            "the FAN at night wherever I go (the signal used to be WNBC, when they\n",
            "played golden oldies) because you can't avoid it.  Of those three,\n",
            "WIP has the best hosts hands down.  Chuck Cooperstein isn't a homer,\n",
            "and neither is Jody Mac.  WTEM is too generic to be placed in the\n",
            "catergory.  In fact if you have heard WTEM and the FAN you notice the\n",
            "theme music is identical...same ownership?? I think so!  WIP is\n",
            "totally original.  Their hosts actually have a personality (this is a\n",
            "knock at TEM (the TEAM) not the FAN because Mike and the Mad Dog and\n",
            "Sommers are good) I mean comparing the morning guys in Philadelphia\n",
            "to the ones in Washington is a total joke.  Anyway, I like the FAN\n",
            "and WIP, but I think the edge goes to 'IP.  \n",
            "\n",
            "When I get back from Philly, I go into withdraw cause Richmond has\n",
            "nada except the national sports line (and those guys are totally\n",
            "clueless)   \n",
            "I was really mad when WCAU was cancelled because they had Steve\n",
            "Fredericks doing sports phone after the Phillies games.  (WCAU is\n",
            "another strong station, now it's an oldies station, but they still\n",
            "have the Phillies) I started listening to the FAN because I heard he\n",
            "went there.  I finally heard him last summer and he wasn't the same\n",
            "guy.  Those NY fans got to him.  I was glad to hear him back in\n",
            "Philly when I went to see a few Eagles games.  \n",
            "\n",
            "\n",
            "I will admit, I am  die hard EAGLES fan and WIP is basically an\n",
            "Eagles station 365 days a year.  BUT, I bet you the Phillies are in\n",
            "control right now.\n",
            "\n",
            "\n",
            "About the knock on G. Cobb, I like him.  He knows the Eagles like a\n",
            "book.  I remember the weekend before they went to play San Fran,\n",
            "(when everyone thought the Eagles would be blown away) Cobb said that\n",
            "the Eagles usually play their best when no one believe they can win.\n",
            "Well they were inches shy of pulling the victory.  \n"
          ]
        },
        {
          "output_type": "stream",
          "name": "stderr",
          "text": [
            "/usr/local/lib/python3.10/dist-packages/ipykernel/ipkernel.py:283: DeprecationWarning: `should_run_async` will not call `transform_cell` automatically in the future. Please pass the result to `transformed_cell` argument and any exception that happen during thetransform in `preprocessing_exc_tuple` in IPython 7.17 and above.\n",
            "  and should_run_async(code)\n"
          ]
        }
      ]
    },
    {
      "cell_type": "markdown",
      "metadata": {
        "id": "fxtpHRQssIzL"
      },
      "source": [
        "## Convert to document-term matrix\n",
        "\n",
        "Next, the raw documents are converted into document-term matrix, possibly as raw counts or in TF-IDF form."
      ]
    },
    {
      "cell_type": "code",
      "metadata": {
        "colab": {
          "base_uri": "https://localhost:8080/"
        },
        "id": "cC3UB1yKsIzL",
        "outputId": "cc5c4806-e8fc-40b9-89cb-d304202a0e9c"
      },
      "source": [
        "tf_vectorizer = CountVectorizer(strip_accents = 'unicode',\n",
        "                                stop_words = 'english',\n",
        "                                lowercase = True,\n",
        "                                token_pattern = r'\\b[a-zA-Z]{3,}\\b',\n",
        "                                max_df = 0.5,  # exclude words with a relative document frequency greater than 50%\n",
        "                                min_df = 10    # exclude tokens that occur less than 10 times\n",
        "                                )\n",
        "dtm_tf = tf_vectorizer.fit_transform(docs_raw)\n",
        "print(dtm_tf.shape)"
      ],
      "execution_count": 7,
      "outputs": [
        {
          "output_type": "stream",
          "name": "stderr",
          "text": [
            "/usr/local/lib/python3.10/dist-packages/ipykernel/ipkernel.py:283: DeprecationWarning: `should_run_async` will not call `transform_cell` automatically in the future. Please pass the result to `transformed_cell` argument and any exception that happen during thetransform in `preprocessing_exc_tuple` in IPython 7.17 and above.\n",
            "  and should_run_async(code)\n"
          ]
        },
        {
          "output_type": "stream",
          "name": "stdout",
          "text": [
            "(2858, 3234)\n"
          ]
        }
      ]
    },
    {
      "cell_type": "code",
      "source": [
        "# How does a certain document look like in this representation?\n",
        "# Get the mapping of column indices to vocabulary items\n",
        "index2vocabulary_item = tf_vectorizer.get_feature_names_out()\n",
        "\n",
        "# Get the dense matrix representation of the document-term matrix\n",
        "doc_index = 72  # Index of the document to show\n",
        "doc_matrix = dtm_tf.getrow(doc_index).toarray()\n",
        "\n",
        "# Print the words and their counts in the document\n",
        "for i, count in enumerate(doc_matrix[0]):\n",
        "    if count > 0:\n",
        "        word = index2vocabulary_item[i]\n",
        "        print(f\"{word}: {count}\")"
      ],
      "metadata": {
        "colab": {
          "base_uri": "https://localhost:8080/"
        },
        "id": "jM8VvNjPvPpA",
        "outputId": "ac846ac0-ee96-4ff2-9c98-62ebebc60804"
      },
      "execution_count": 8,
      "outputs": [
        {
          "output_type": "stream",
          "name": "stdout",
          "text": [
            "actually: 1\n",
            "admit: 1\n",
            "avoid: 1\n",
            "away: 1\n",
            "basically: 1\n",
            "believe: 1\n",
            "best: 2\n",
            "bet: 1\n",
            "blown: 1\n",
            "book: 1\n",
            "cause: 1\n",
            "chuck: 1\n",
            "cobb: 2\n",
            "comparing: 1\n",
            "control: 1\n",
            "days: 1\n",
            "die: 1\n",
            "doing: 2\n",
            "don: 1\n",
            "edge: 1\n",
            "fact: 1\n",
            "fan: 6\n",
            "fans: 1\n",
            "finally: 1\n",
            "friday: 1\n",
            "games: 2\n",
            "glad: 1\n",
            "goes: 1\n",
            "golden: 1\n",
            "good: 1\n",
            "got: 1\n",
            "guy: 1\n",
            "guys: 2\n",
            "hands: 1\n",
            "hard: 1\n",
            "hear: 2\n",
            "heard: 3\n",
            "homer: 1\n",
            "identical: 1\n",
            "inches: 1\n",
            "isn: 1\n",
            "joke: 1\n",
            "knock: 2\n",
            "knows: 1\n",
            "like: 3\n",
            "line: 1\n",
            "listening: 1\n",
            "live: 1\n",
            "mac: 1\n",
            "mad: 2\n",
            "mean: 1\n",
            "mike: 1\n",
            "morning: 1\n",
            "music: 1\n",
            "national: 1\n",
            "night: 2\n",
            "notice: 1\n",
            "nuts: 1\n",
            "ones: 1\n",
            "original: 1\n",
            "philadelphia: 1\n",
            "phillies: 3\n",
            "phone: 1\n",
            "placed: 1\n",
            "play: 2\n",
            "played: 1\n",
            "radio: 1\n",
            "really: 1\n",
            "remember: 1\n",
            "richmond: 2\n",
            "right: 1\n",
            "said: 1\n",
            "san: 1\n",
            "second: 1\n",
            "signal: 1\n",
            "sports: 3\n",
            "started: 1\n",
            "station: 4\n",
            "steve: 1\n",
            "strong: 1\n",
            "suck: 1\n",
            "summer: 1\n",
            "team: 1\n",
            "think: 2\n",
            "thought: 1\n",
            "tony: 1\n",
            "total: 1\n",
            "totally: 2\n",
            "used: 1\n",
            "usually: 1\n",
            "visit: 1\n",
            "washington: 2\n",
            "wasn: 1\n",
            "way: 1\n",
            "weekend: 1\n",
            "went: 3\n",
            "win: 1\n",
            "working: 1\n",
            "year: 1\n"
          ]
        },
        {
          "output_type": "stream",
          "name": "stderr",
          "text": [
            "/usr/local/lib/python3.10/dist-packages/ipykernel/ipkernel.py:283: DeprecationWarning: `should_run_async` will not call `transform_cell` automatically in the future. Please pass the result to `transformed_cell` argument and any exception that happen during thetransform in `preprocessing_exc_tuple` in IPython 7.17 and above.\n",
            "  and should_run_async(code)\n"
          ]
        }
      ]
    },
    {
      "cell_type": "markdown",
      "source": [
        "Alternative, we can build a tf-idf document-term matrix"
      ],
      "metadata": {
        "id": "8fFYC8CaFE6d"
      }
    },
    {
      "cell_type": "code",
      "metadata": {
        "colab": {
          "base_uri": "https://localhost:8080/"
        },
        "id": "NikLmiOosIzM",
        "outputId": "c438782b-837c-4f22-8a6f-f3882b5a1439"
      },
      "source": [
        "tfidf_vectorizer = TfidfVectorizer(**tf_vectorizer.get_params())\n",
        "dtm_tfidf = tfidf_vectorizer.fit_transform(docs_raw)\n",
        "print(dtm_tfidf.shape)"
      ],
      "execution_count": 9,
      "outputs": [
        {
          "output_type": "stream",
          "name": "stderr",
          "text": [
            "/usr/local/lib/python3.10/dist-packages/ipykernel/ipkernel.py:283: DeprecationWarning: `should_run_async` will not call `transform_cell` automatically in the future. Please pass the result to `transformed_cell` argument and any exception that happen during thetransform in `preprocessing_exc_tuple` in IPython 7.17 and above.\n",
            "  and should_run_async(code)\n"
          ]
        },
        {
          "output_type": "stream",
          "name": "stdout",
          "text": [
            "(2858, 3234)\n"
          ]
        }
      ]
    },
    {
      "cell_type": "code",
      "source": [
        "# How does a certain document look like in this representation?\n",
        "# Get the mapping of column indices to vocabulary items\n",
        "index2vocabulary_item = tfidf_vectorizer.get_feature_names_out()\n",
        "\n",
        "# Get the dense matrix representation of the document-term matrix\n",
        "doc_index = 72  # Index of the document to show\n",
        "doc_matrix = dtm_tfidf.getrow(doc_index).toarray()\n",
        "\n",
        "# Print the words and their counts in the document\n",
        "for i, count in enumerate(doc_matrix[0]):\n",
        "    if count > 0:\n",
        "        word = index2vocabulary_item[i]\n",
        "        print(f\"{word}: {count}\")"
      ],
      "metadata": {
        "colab": {
          "base_uri": "https://localhost:8080/"
        },
        "id": "N3bwjGiaxvja",
        "outputId": "98f3ded0-622d-43e9-b97e-86ca41eaa77e"
      },
      "execution_count": 10,
      "outputs": [
        {
          "output_type": "stream",
          "name": "stdout",
          "text": [
            "actually: 0.04904840759498951\n",
            "admit: 0.07299497510211472\n",
            "avoid: 0.06545807155396616\n",
            "away: 0.05456901558145122\n",
            "basically: 0.06478407157709502\n",
            "believe: 0.04675876453764755\n",
            "best: 0.0994820820268445\n",
            "bet: 0.07670547711801053\n",
            "blown: 0.08267003006955992\n",
            "book: 0.05844788921599561\n",
            "cause: 0.054878639478271374\n",
            "chuck: 0.08651485315372326\n",
            "cobb: 0.16890930987684408\n",
            "comparing: 0.08037327994808072\n",
            "control: 0.05929226473552773\n",
            "days: 0.05519560691471015\n",
            "die: 0.07426877981418571\n",
            "doing: 0.10794098035118706\n",
            "don: 0.03345256161085763\n",
            "edge: 0.08185979207508924\n",
            "fact: 0.05069871139558411\n",
            "fan: 0.4015050116497602\n",
            "fans: 0.07009394406678396\n",
            "finally: 0.06641310873076137\n",
            "friday: 0.07903568115882252\n",
            "games: 0.11800967575437019\n",
            "glad: 0.07670547711801053\n",
            "goes: 0.0601936062442923\n",
            "golden: 0.0854450956691524\n",
            "good: 0.03852922757106624\n",
            "got: 0.048135332254219995\n",
            "guy: 0.062202102910416196\n",
            "guys: 0.1383003040359028\n",
            "hands: 0.074721868417729\n",
            "hard: 0.056079554382427656\n",
            "hear: 0.12588956947024332\n",
            "heard: 0.16722355825998003\n",
            "homer: 0.0854450956691524\n",
            "identical: 0.08109587937412374\n",
            "inches: 0.08267003006955992\n",
            "isn: 0.05140435037037234\n",
            "joke: 0.08353257667794856\n",
            "knock: 0.17302970630744652\n",
            "knows: 0.06771168607975846\n",
            "like: 0.10035768483257287\n",
            "line: 0.058863409744780326\n",
            "listening: 0.0854450956691524\n",
            "live: 0.05844788921599561\n",
            "mac: 0.07670547711801053\n",
            "mad: 0.1670651533558971\n",
            "mean: 0.05232067907868352\n",
            "mike: 0.06744168025424768\n",
            "morning: 0.07426877981418571\n",
            "music: 0.08445465493842204\n",
            "national: 0.06034992187178885\n",
            "night: 0.12551041889201847\n",
            "notice: 0.07183208251036088\n",
            "nuts: 0.08267003006955992\n",
            "ones: 0.060994134951161856\n",
            "original: 0.06256828564659804\n",
            "philadelphia: 0.0725959952113264\n",
            "phillies: 0.2166257447966535\n",
            "phone: 0.07009394406678396\n",
            "placed: 0.0738305492819839\n",
            "play: 0.1203872124885846\n",
            "played: 0.074721868417729\n",
            "radio: 0.0669175019416267\n",
            "really: 0.0438106546773154\n",
            "remember: 0.053585864097585575\n",
            "richmond: 0.1708901913383048\n",
            "right: 0.04441719100759595\n",
            "said: 0.04687299458171575\n",
            "san: 0.06855606159929058\n",
            "second: 0.05397049017559353\n",
            "signal: 0.0751908580746592\n",
            "sports: 0.22416560525318702\n",
            "started: 0.060830147203021115\n",
            "station: 0.2541207980269715\n",
            "steve: 0.06771168607975846\n",
            "strong: 0.06414243634203422\n",
            "suck: 0.08353257667794856\n",
            "summer: 0.07340623320579709\n",
            "team: 0.05436651422565429\n",
            "think: 0.07069139445680504\n",
            "thought: 0.051896363002496684\n",
            "tony: 0.08109587937412374\n",
            "total: 0.06313708781969107\n",
            "totally: 0.14366416502072177\n",
            "used: 0.04614737655965874\n",
            "usually: 0.05678312913081668\n",
            "visit: 0.07725105628996042\n",
            "washington: 0.1383003040359028\n",
            "wasn: 0.060508087431296834\n",
            "way: 0.042140553506609495\n",
            "weekend: 0.07618129880538954\n",
            "went: 0.1815242622938905\n",
            "win: 0.060994134951161856\n",
            "working: 0.063935225465852\n",
            "year: 0.04284304031215977\n"
          ]
        },
        {
          "output_type": "stream",
          "name": "stderr",
          "text": [
            "/usr/local/lib/python3.10/dist-packages/ipykernel/ipkernel.py:283: DeprecationWarning: `should_run_async` will not call `transform_cell` automatically in the future. Please pass the result to `transformed_cell` argument and any exception that happen during thetransform in `preprocessing_exc_tuple` in IPython 7.17 and above.\n",
            "  and should_run_async(code)\n"
          ]
        }
      ]
    },
    {
      "cell_type": "markdown",
      "metadata": {
        "id": "YEiYoOK-sIzM"
      },
      "source": [
        "## Fit Latent Dirichlet Allocation models\n",
        "\n",
        "Finally, the LDA models are fitted. n_components is number of topics."
      ]
    },
    {
      "cell_type": "code",
      "metadata": {
        "colab": {
          "base_uri": "https://localhost:8080/",
          "height": 303
        },
        "id": "3g7E6sE2sIzN",
        "outputId": "a7315fbf-72a0-41f5-8150-891797858bc5"
      },
      "source": [
        "# for TF DTM\n",
        "lda_tf = LatentDirichletAllocation(n_components=10, random_state=0,verbose=1, max_iter=10)\n",
        "lda_tf.fit(dtm_tf)"
      ],
      "execution_count": 11,
      "outputs": [
        {
          "output_type": "stream",
          "name": "stderr",
          "text": [
            "/usr/local/lib/python3.10/dist-packages/ipykernel/ipkernel.py:283: DeprecationWarning: `should_run_async` will not call `transform_cell` automatically in the future. Please pass the result to `transformed_cell` argument and any exception that happen during thetransform in `preprocessing_exc_tuple` in IPython 7.17 and above.\n",
            "  and should_run_async(code)\n"
          ]
        },
        {
          "output_type": "stream",
          "name": "stdout",
          "text": [
            "iteration: 1 of max_iter: 10\n",
            "iteration: 2 of max_iter: 10\n",
            "iteration: 3 of max_iter: 10\n",
            "iteration: 4 of max_iter: 10\n",
            "iteration: 5 of max_iter: 10\n",
            "iteration: 6 of max_iter: 10\n",
            "iteration: 7 of max_iter: 10\n",
            "iteration: 8 of max_iter: 10\n",
            "iteration: 9 of max_iter: 10\n",
            "iteration: 10 of max_iter: 10\n"
          ]
        },
        {
          "output_type": "execute_result",
          "data": {
            "text/plain": [
              "LatentDirichletAllocation(random_state=0, verbose=1)"
            ],
            "text/html": [
              "<style>#sk-container-id-1 {color: black;background-color: white;}#sk-container-id-1 pre{padding: 0;}#sk-container-id-1 div.sk-toggleable {background-color: white;}#sk-container-id-1 label.sk-toggleable__label {cursor: pointer;display: block;width: 100%;margin-bottom: 0;padding: 0.3em;box-sizing: border-box;text-align: center;}#sk-container-id-1 label.sk-toggleable__label-arrow:before {content: \"▸\";float: left;margin-right: 0.25em;color: #696969;}#sk-container-id-1 label.sk-toggleable__label-arrow:hover:before {color: black;}#sk-container-id-1 div.sk-estimator:hover label.sk-toggleable__label-arrow:before {color: black;}#sk-container-id-1 div.sk-toggleable__content {max-height: 0;max-width: 0;overflow: hidden;text-align: left;background-color: #f0f8ff;}#sk-container-id-1 div.sk-toggleable__content pre {margin: 0.2em;color: black;border-radius: 0.25em;background-color: #f0f8ff;}#sk-container-id-1 input.sk-toggleable__control:checked~div.sk-toggleable__content {max-height: 200px;max-width: 100%;overflow: auto;}#sk-container-id-1 input.sk-toggleable__control:checked~label.sk-toggleable__label-arrow:before {content: \"▾\";}#sk-container-id-1 div.sk-estimator input.sk-toggleable__control:checked~label.sk-toggleable__label {background-color: #d4ebff;}#sk-container-id-1 div.sk-label input.sk-toggleable__control:checked~label.sk-toggleable__label {background-color: #d4ebff;}#sk-container-id-1 input.sk-hidden--visually {border: 0;clip: rect(1px 1px 1px 1px);clip: rect(1px, 1px, 1px, 1px);height: 1px;margin: -1px;overflow: hidden;padding: 0;position: absolute;width: 1px;}#sk-container-id-1 div.sk-estimator {font-family: monospace;background-color: #f0f8ff;border: 1px dotted black;border-radius: 0.25em;box-sizing: border-box;margin-bottom: 0.5em;}#sk-container-id-1 div.sk-estimator:hover {background-color: #d4ebff;}#sk-container-id-1 div.sk-parallel-item::after {content: \"\";width: 100%;border-bottom: 1px solid gray;flex-grow: 1;}#sk-container-id-1 div.sk-label:hover label.sk-toggleable__label {background-color: #d4ebff;}#sk-container-id-1 div.sk-serial::before {content: \"\";position: absolute;border-left: 1px solid gray;box-sizing: border-box;top: 0;bottom: 0;left: 50%;z-index: 0;}#sk-container-id-1 div.sk-serial {display: flex;flex-direction: column;align-items: center;background-color: white;padding-right: 0.2em;padding-left: 0.2em;position: relative;}#sk-container-id-1 div.sk-item {position: relative;z-index: 1;}#sk-container-id-1 div.sk-parallel {display: flex;align-items: stretch;justify-content: center;background-color: white;position: relative;}#sk-container-id-1 div.sk-item::before, #sk-container-id-1 div.sk-parallel-item::before {content: \"\";position: absolute;border-left: 1px solid gray;box-sizing: border-box;top: 0;bottom: 0;left: 50%;z-index: -1;}#sk-container-id-1 div.sk-parallel-item {display: flex;flex-direction: column;z-index: 1;position: relative;background-color: white;}#sk-container-id-1 div.sk-parallel-item:first-child::after {align-self: flex-end;width: 50%;}#sk-container-id-1 div.sk-parallel-item:last-child::after {align-self: flex-start;width: 50%;}#sk-container-id-1 div.sk-parallel-item:only-child::after {width: 0;}#sk-container-id-1 div.sk-dashed-wrapped {border: 1px dashed gray;margin: 0 0.4em 0.5em 0.4em;box-sizing: border-box;padding-bottom: 0.4em;background-color: white;}#sk-container-id-1 div.sk-label label {font-family: monospace;font-weight: bold;display: inline-block;line-height: 1.2em;}#sk-container-id-1 div.sk-label-container {text-align: center;}#sk-container-id-1 div.sk-container {/* jupyter's `normalize.less` sets `[hidden] { display: none; }` but bootstrap.min.css set `[hidden] { display: none !important; }` so we also need the `!important` here to be able to override the default hidden behavior on the sphinx rendered scikit-learn.org. See: https://github.com/scikit-learn/scikit-learn/issues/21755 */display: inline-block !important;position: relative;}#sk-container-id-1 div.sk-text-repr-fallback {display: none;}</style><div id=\"sk-container-id-1\" class=\"sk-top-container\"><div class=\"sk-text-repr-fallback\"><pre>LatentDirichletAllocation(random_state=0, verbose=1)</pre><b>In a Jupyter environment, please rerun this cell to show the HTML representation or trust the notebook. <br />On GitHub, the HTML representation is unable to render, please try loading this page with nbviewer.org.</b></div><div class=\"sk-container\" hidden><div class=\"sk-item\"><div class=\"sk-estimator sk-toggleable\"><input class=\"sk-toggleable__control sk-hidden--visually\" id=\"sk-estimator-id-1\" type=\"checkbox\" checked><label for=\"sk-estimator-id-1\" class=\"sk-toggleable__label sk-toggleable__label-arrow\">LatentDirichletAllocation</label><div class=\"sk-toggleable__content\"><pre>LatentDirichletAllocation(random_state=0, verbose=1)</pre></div></div></div></div></div>"
            ]
          },
          "metadata": {},
          "execution_count": 11
        }
      ]
    },
    {
      "cell_type": "markdown",
      "metadata": {
        "id": "-_8bg741sIzN"
      },
      "source": [
        "## Visualizing the models with pyLDAvis\n",
        "Multidimensional scaling = Dimension reduction\n",
        "\n",
        "Can you reidentify the newsgroups? `['sci.med', 'alt.atheism', 'rec.autos', 'sci.space','rec.sport.baseball']`\n",
        "\n",
        "Hover over topics circles and terms to explore the connection between words and topics..."
      ]
    },
    {
      "cell_type": "code",
      "metadata": {
        "scrolled": false,
        "colab": {
          "base_uri": "https://localhost:8080/",
          "height": 968
        },
        "id": "lGdYc2f0sIzN",
        "outputId": "977cd040-d2b4-413d-97f6-91c7c576cdd8"
      },
      "source": [
        "pyLDAvis.lda_model.prepare(lda_tf, dtm_tf, tf_vectorizer)"
      ],
      "execution_count": 12,
      "outputs": [
        {
          "output_type": "stream",
          "name": "stderr",
          "text": [
            "/usr/local/lib/python3.10/dist-packages/ipykernel/ipkernel.py:283: DeprecationWarning: `should_run_async` will not call `transform_cell` automatically in the future. Please pass the result to `transformed_cell` argument and any exception that happen during thetransform in `preprocessing_exc_tuple` in IPython 7.17 and above.\n",
            "  and should_run_async(code)\n",
            "/usr/local/lib/python3.10/dist-packages/pandas/core/dtypes/cast.py:1846: DeprecationWarning: np.find_common_type is deprecated.  Please use `np.result_type` or `np.promote_types`.\n",
            "See https://numpy.org/devdocs/release/1.25.0-notes.html and the docs for more information.  (Deprecated NumPy 1.25)\n",
            "  return np.find_common_type(types, [])  # type: ignore[arg-type]\n"
          ]
        },
        {
          "output_type": "execute_result",
          "data": {
            "text/plain": [
              "PreparedData(topic_coordinates=              x         y  topics  cluster       Freq\n",
              "topic                                                \n",
              "1      0.211854  0.059024       1        1  18.910916\n",
              "3     -0.090269 -0.087087       2        1  17.486832\n",
              "8     -0.083085  0.082379       3        1  14.880483\n",
              "4     -0.178631  0.050412       4        1  11.391817\n",
              "7      0.172366  0.025299       5        1   8.397854\n",
              "9     -0.013638 -0.001099       6        1   7.465159\n",
              "0     -0.102297 -0.010045       7        1   7.015526\n",
              "2     -0.068277  0.115510       8        1   5.509059\n",
              "6      0.123235  0.049783       9        1   5.156471\n",
              "5      0.028742 -0.284177      10        1   3.785882, topic_info=       Term         Freq        Total Category  logprob  loglift\n",
              "896     edu   614.000000   614.000000  Default  30.0000  30.0000\n",
              "2724  space  1001.000000  1001.000000  Default  29.0000  29.0000\n",
              "523     com   359.000000   359.000000  Default  28.0000  28.0000\n",
              "399     car   524.000000   524.000000  Default  27.0000  27.0000\n",
              "1216    god   425.000000   425.000000  Default  26.0000  26.0000\n",
              "...     ...          ...          ...      ...      ...      ...\n",
              "1714  makes    25.032935   152.088429  Topic10  -5.4689   1.4696\n",
              "835    does    28.929816   568.808166  Topic10  -5.3242   0.2952\n",
              "1230    gov    22.784822   108.915916  Topic10  -5.5630   1.7094\n",
              "1516   john    23.085518   122.473569  Topic10  -5.5499   1.6052\n",
              "3039    try    21.894465   189.121446  Topic10  -5.6028   1.1177\n",
              "\n",
              "[665 rows x 6 columns], token_table=      Topic      Freq          Term\n",
              "term                               \n",
              "3         1  0.025447           abs\n",
              "3         3  0.941547           abs\n",
              "9         1  0.176406  acceleration\n",
              "9         3  0.141125  acceleration\n",
              "9         8  0.035281  acceleration\n",
              "...     ...       ...           ...\n",
              "3226      6  0.985435         yeast\n",
              "3229      1  0.077083          york\n",
              "3229      4  0.067447          york\n",
              "3229      5  0.144530          york\n",
              "3229      8  0.713014          york\n",
              "\n",
              "[2017 rows x 3 columns], R=30, lambda_step=0.01, plot_opts={'xlab': 'PC1', 'ylab': 'PC2'}, topic_order=[2, 4, 9, 5, 8, 10, 1, 3, 7, 6])"
            ],
            "text/html": [
              "\n",
              "<link rel=\"stylesheet\" type=\"text/css\" href=\"https://cdn.jsdelivr.net/gh/bmabey/pyLDAvis@3.4.0/pyLDAvis/js/ldavis.v1.0.0.css\">\n",
              "\n",
              "\n",
              "<div id=\"ldavis_el27391367440600222084591565249\" style=\"background-color:white;\"></div>\n",
              "<script type=\"text/javascript\">\n",
              "\n",
              "var ldavis_el27391367440600222084591565249_data = {\"mdsDat\": {\"x\": [0.21185448324603945, -0.09026939536063161, -0.0830850077078465, -0.1786312195595836, 0.1723657392029768, -0.01363840736386652, -0.10229676954234633, -0.06827665724455417, 0.12323521878602026, 0.02874201554379153], \"y\": [0.05902395417844786, -0.08708668761733925, 0.08237886898741782, 0.05041232553675018, 0.025299074319962853, -0.0010988059015639643, -0.010045149120438874, 0.11550963737968234, 0.04978338719359523, -0.2841766049565143], \"topics\": [1, 2, 3, 4, 5, 6, 7, 8, 9, 10], \"cluster\": [1, 1, 1, 1, 1, 1, 1, 1, 1, 1], \"Freq\": [18.910915946556393, 17.486832116916773, 14.880483165881955, 11.391816772428871, 8.397854162885519, 7.46515922696213, 7.015526003257279, 5.5090587495466075, 5.156471489373833, 3.7858823661906427]}, \"tinfo\": {\"Term\": [\"edu\", \"space\", \"com\", \"car\", \"god\", \"nasa\", \"year\", \"game\", \"health\", \"msg\", \"earth\", \"medical\", \"people\", \"team\", \"thanks\", \"new\", \"argument\", \"atheism\", \"jesus\", \"orbit\", \"launch\", \"disease\", \"food\", \"shuttle\", \"patients\", \"cancer\", \"water\", \"cars\", \"satellite\", \"know\", \"shuttle\", \"satellite\", \"planetary\", \"telescope\", \"gif\", \"ftp\", \"anonymous\", \"rockets\", \"orbiter\", \"mission\", \"pub\", \"astronomical\", \"astronaut\", \"observatory\", \"missions\", \"server\", \"directory\", \"manned\", \"jsc\", \"nasa\", \"craft\", \"remote\", \"aviation\", \"space\", \"ames\", \"esa\", \"booster\", \"magellan\", \"pluto\", \"astro\", \"lunar\", \"flight\", \"images\", \"aerospace\", \"satellites\", \"propulsion\", \"rocket\", \"mars\", \"launched\", \"launch\", \"data\", \"program\", \"technology\", \"archive\", \"software\", \"orbit\", \"solar\", \"faq\", \"station\", \"available\", \"international\", \"information\", \"earth\", \"spacecraft\", \"commercial\", \"moon\", \"research\", \"sci\", \"center\", \"science\", \"national\", \"new\", \"god\", \"atheism\", \"atheists\", \"bible\", \"atheist\", \"christian\", \"religion\", \"religious\", \"morality\", \"religions\", \"christianity\", \"faith\", \"truth\", \"theists\", \"satan\", \"belief\", \"murder\", \"deletion\", \"beings\", \"allah\", \"church\", \"eternal\", \"secular\", \"gods\", \"motto\", \"phrase\", \"beliefs\", \"kingman\", \"biblical\", \"moral\", \"evil\", \"existence\", \"statements\", \"exist\", \"arguments\", \"statement\", \"claim\", \"perfect\", \"alt\", \"logic\", \"exists\", \"true\", \"people\", \"believe\", \"evidence\", \"say\", \"think\", \"argument\", \"don\", \"life\", \"does\", \"just\", \"wrong\", \"things\", \"question\", \"saying\", \"example\", \"like\", \"mean\", \"know\", \"point\", \"make\", \"way\", \"time\", \"good\", \"read\", \"tires\", \"brake\", \"wheel\", \"prize\", \"honda\", \"brakes\", \"taurus\", \"pedal\", \"mustang\", \"torque\", \"wagon\", \"proton\", \"convertible\", \"civic\", \"bolt\", \"nissan\", \"roads\", \"abs\", \"porsche\", \"dealership\", \"reusable\", \"alarm\", \"kit\", \"compartment\", \"jeep\", \"sold\", \"miles\", \"oil\", \"sho\", \"tire\", \"engine\", \"car\", \"dealer\", \"drivers\", \"buy\", \"rear\", \"cars\", \"cheaper\", \"driving\", \"driver\", \"market\", \"drive\", \"price\", \"ford\", \"auto\", \"gas\", \"transmission\", \"speed\", \"toyota\", \"costs\", \"company\", \"cost\", \"money\", \"bought\", \"like\", \"just\", \"road\", \"new\", \"good\", \"don\", \"lot\", \"got\", \"use\", \"think\", \"time\", \"really\", \"little\", \"make\", \"used\", \"way\", \"better\", \"right\", \"want\", \"know\", \"long\", \"people\", \"pitching\", \"player\", \"players\", \"pitcher\", \"hitter\", \"alomar\", \"stats\", \"rbi\", \"pitchers\", \"clemens\", \"innings\", \"defensive\", \"catcher\", \"baerga\", \"pitched\", \"game\", \"inning\", \"batting\", \"bullpen\", \"bonds\", \"majors\", \"methodology\", \"scoring\", \"obp\", \"winfield\", \"slg\", \"lopez\", \"hitting\", \"fielder\", \"rookie\", \"baseball\", \"games\", \"scored\", \"season\", \"offense\", \"win\", \"cubs\", \"runs\", \"braves\", \"league\", \"hit\", \"team\", \"fans\", \"suck\", \"teams\", \"score\", \"play\", \"average\", \"career\", \"year\", \"ball\", \"morris\", \"fan\", \"era\", \"good\", \"better\", \"run\", \"think\", \"don\", \"second\", \"got\", \"like\", \"home\", \"just\", \"years\", \"time\", \"did\", \"best\", \"pitt\", \"geb\", \"skepticism\", \"surrender\", \"shameful\", \"chastity\", \"cadre\", \"dsl\", \"cancer\", \"clinical\", \"intellect\", \"corn\", \"lyme\", \"drug\", \"migraine\", \"findings\", \"infectious\", \"bronx\", \"ico\", \"manhattan\", \"bobbe\", \"fever\", \"sank\", \"gordon\", \"doses\", \"beauchaine\", \"queens\", \"nerve\", \"mri\", \"bone\", \"prevention\", \"health\", \"diseases\", \"disease\", \"banks\", \"pain\", \"medical\", \"patients\", \"aids\", \"drugs\", \"page\", \"researchers\", \"surgery\", \"soon\", \"newsletter\", \"medicine\", \"treatment\", \"study\", \"volume\", \"research\", \"number\", \"edu\", \"use\", \"years\", \"april\", \"center\", \"candida\", \"yeast\", \"empirical\", \"elaborate\", \"psychology\", \"quack\", \"hypothesis\", \"mistakes\", \"inflammation\", \"bacteria\", \"kinds\", \"fat\", \"requests\", \"theories\", \"anecdotal\", \"presumably\", \"dirty\", \"allergic\", \"trained\", \"jon\", \"amino\", \"cured\", \"speculation\", \"nutrition\", \"milk\", \"essential\", \"swelling\", \"treatments\", \"inflammatory\", \"contrary\", \"request\", \"mailing\", \"symptoms\", \"war\", \"body\", \"list\", \"scientific\", \"anti\", \"studies\", \"cure\", \"send\", \"science\", \"problems\", \"foods\", \"day\", \"results\", \"process\", \"diet\", \"people\", \"doctor\", \"just\", \"sure\", \"discussion\", \"like\", \"cause\", \"way\", \"know\", \"good\", \"want\", \"make\", \"does\", \"don\", \"evidence\", \"post\", \"say\", \"think\", \"use\", \"matthew\", \"attend\", \"tired\", \"sunset\", \"duke\", \"mother\", \"lunch\", \"kids\", \"jump\", \"hearing\", \"bear\", \"cool\", \"genetic\", \"seizure\", \"gene\", \"son\", \"molecular\", \"pieces\", \"upset\", \"protein\", \"listen\", \"jesus\", \"clinic\", \"sick\", \"badly\", \"daughter\", \"skin\", \"healing\", \"kid\", \"wife\", \"sensitive\", \"sugar\", \"doctor\", \"king\", \"junk\", \"muscle\", \"sequence\", \"old\", \"said\", \"day\", \"hear\", \"night\", \"course\", \"david\", \"hands\", \"know\", \"dead\", \"really\", \"people\", \"children\", \"like\", \"john\", \"did\", \"time\", \"thought\", \"good\", \"just\", \"don\", \"away\", \"little\", \"days\", \"new\", \"better\", \"make\", \"think\", \"want\", \"doesn\", \"idle\", \"philadelphia\", \"hello\", \"music\", \"tickets\", \"montreal\", \"minnesota\", \"spots\", \"kansas\", \"diego\", \"san\", \"lights\", \"pittsburgh\", \"city\", \"francisco\", \"cincinnati\", \"rec\", \"chicago\", \"ticket\", \"angeles\", \"monday\", \"york\", \"birds\", \"autos\", \"dept\", \"depression\", \"rock\", \"thursday\", \"florida\", \"tuesday\", \"thanks\", \"water\", \"louis\", \"sunday\", \"sports\", \"lost\", \"los\", \"insurance\", \"texas\", \"won\", \"new\", \"know\", \"interested\", \"mail\", \"time\", \"ago\", \"car\", \"problem\", \"american\", \"don\", \"just\", \"april\", \"article\", \"day\", \"california\", \"does\", \"like\", \"left\", \"year\", \"msg\", \"glutamate\", \"substances\", \"chinese\", \"flavor\", \"properties\", \"theoretical\", \"plants\", \"constant\", \"chemical\", \"taste\", \"gamma\", \"applying\", \"motion\", \"plant\", \"ingredients\", \"mining\", \"holes\", \"electrical\", \"disk\", \"axis\", \"galaxy\", \"grade\", \"wings\", \"restaurant\", \"location\", \"plane\", \"acceleration\", \"devices\", \"gee\", \"food\", \"velocity\", \"theory\", \"mass\", \"universe\", \"light\", \"sun\", \"physical\", \"hole\", \"earth\", \"black\", \"reaction\", \"star\", \"effects\", \"high\", \"use\", \"orbit\", \"matter\", \"like\", \"physics\", \"time\", \"moon\", \"rate\", \"center\", \"work\", \"used\", \"small\", \"years\", \"general\", \"data\", \"qur\", \"netcom\", \"penalty\", \"mozumder\", \"navy\", \"att\", \"nick\", \"com\", \"sam\", \"andrew\", \"mom\", \"fallacy\", \"mil\", \"tommy\", \"britain\", \"chris\", \"mystery\", \"uiuc\", \"donald\", \"michael\", \"edu\", \"conclusion\", \"relates\", \"promises\", \"islamic\", \"notion\", \"cobb\", \"criminals\", \"newspaper\", \"cup\", \"committed\", \"islam\", \"muslim\", \"women\", \"ibm\", \"men\", \"paul\", \"mac\", \"david\", \"argument\", \"org\", \"valid\", \"tom\", \"net\", \"mark\", \"email\", \"read\", \"law\", \"example\", \"makes\", \"does\", \"gov\", \"john\", \"try\"], \"Freq\": [614.0, 1001.0, 359.0, 524.0, 425.0, 392.0, 598.0, 212.0, 219.0, 140.0, 256.0, 209.0, 820.0, 235.0, 193.0, 577.0, 177.0, 196.0, 156.0, 201.0, 269.0, 163.0, 168.0, 191.0, 160.0, 126.0, 154.0, 205.0, 186.0, 686.0, 190.38806933985506, 184.83338843306694, 82.35942589117658, 64.51980290399256, 67.42535952313791, 92.76474189342983, 56.58941441466754, 55.600012050846736, 54.60895100914059, 147.99271985180593, 48.662419600440906, 46.6802125864389, 43.70698814989848, 42.71584107039446, 83.32918635790702, 37.76038551098679, 30.822826889859268, 29.831715725740658, 29.83171299853425, 381.63887048298034, 29.804339603387227, 43.23593529679435, 25.867359942324885, 967.2595357538498, 60.18629148776772, 23.88521889665114, 23.883731052581382, 24.81235755546702, 20.911851196917144, 43.696288756265, 173.51234552262898, 110.53486038608602, 72.280773606806, 41.527798406120596, 92.6057452171878, 63.31978303724146, 103.05120965947184, 97.00581128041692, 69.60896856003073, 227.22729322861736, 235.29165830543425, 200.33370380253396, 127.51829804895783, 77.61405153322139, 109.63589552380603, 157.44093331133547, 96.64615695321201, 105.32981638730152, 107.2228047791316, 166.62599745630965, 75.21682655070708, 181.82735726984927, 149.20398094369844, 91.10112413076371, 87.28130840376484, 108.59194350192874, 121.90670437105648, 95.36464361710665, 111.63873150331298, 112.44710844337, 99.64407662980763, 105.8345205967618, 424.26422760798715, 195.68424825991283, 159.31903577081619, 119.02238818818027, 98.3826869298703, 79.6745705376148, 154.37247008181353, 128.80976698091933, 51.206162721919135, 43.34339239786141, 43.34284599969796, 67.82605946483612, 61.06893555695311, 29.583595087900427, 28.600746014243747, 103.84531031698994, 24.66567404194603, 23.686540697389834, 23.686518968658408, 23.686492490792343, 21.720813459706342, 21.72079787000127, 21.70568683686671, 45.21421680146027, 19.755155572176488, 19.75501465853498, 46.094673001351886, 17.789120275961118, 16.806598345563387, 70.80314724372576, 36.33457292420667, 75.6418169367525, 41.400931075337354, 104.53431434164085, 57.529598181806755, 70.1101333192916, 89.0941397738515, 59.08557824983871, 74.70382521652245, 47.2737765344022, 58.437922720322305, 160.6523887556331, 415.48587231531366, 209.6997009947216, 135.06475204517744, 210.13535122882874, 335.3526445192845, 112.93475677079662, 360.0152629450611, 118.50140147930709, 230.0806032319586, 261.22026326628753, 99.17312158955002, 142.1509730600867, 122.10221996877227, 90.70131961908515, 108.43481059778945, 189.81574629276608, 100.97184009432075, 162.4120579001222, 117.30746983879287, 130.88161106464585, 126.44168479749047, 139.83874956661722, 111.26674875429136, 102.30473503957684, 62.96985604409211, 50.199060066388476, 45.28712334311581, 28.58684967393532, 39.92036324870892, 26.622198154636354, 25.63981975232434, 23.675071680493314, 23.67505023787528, 22.692716840841772, 21.710349712589416, 21.697453200595593, 18.76323599997761, 18.763227084584525, 18.76322719204512, 18.763204610476652, 18.743957746657387, 37.422679387396336, 18.691007859246366, 15.816108285224693, 14.833739875480084, 14.833736782539873, 14.833724564349064, 14.83372193137169, 13.851394040978182, 30.432661511457116, 63.6756868442647, 92.97214219448695, 27.600008633932703, 40.34415782743406, 137.9770049880551, 463.85264858978775, 69.4944965757723, 42.3676202098669, 76.11300924581322, 34.3207333185391, 171.45777856305753, 37.607816091553175, 73.46959096017251, 47.493558007674025, 82.65507082238757, 83.81787569677076, 90.76071009081669, 53.721787712803824, 48.795934191917695, 51.9705448358262, 34.77968542179207, 93.24381794265565, 35.846864756871796, 51.81850625764795, 56.237382850824616, 99.82966624402611, 86.69651177742242, 47.720481430025934, 277.03237770337495, 254.91010940001084, 66.71858057795473, 154.3307151275833, 159.20426254859504, 185.26146578895094, 94.32144359696359, 94.22856197742772, 125.73707225896413, 151.47376386189777, 142.37826315946913, 105.24880343726333, 92.08978233133278, 105.95257450261256, 98.0281949436759, 104.04513895384004, 100.83205234260099, 95.08338482383394, 88.78918931504067, 101.1533847542118, 90.08242262328676, 89.90310909837021, 100.74475866124092, 83.32487824535681, 135.57751698348673, 57.19513742415677, 56.22737799190202, 55.259610391932945, 49.42888190837605, 39.77530568201431, 38.80753201805281, 38.807528123153524, 34.93645796897428, 34.9364214252289, 33.96868768444048, 32.033150959763596, 32.03313989757281, 207.17732839249908, 32.01052548279089, 31.065374442740442, 28.162074125050722, 27.19429312544162, 24.29099474287038, 25.19092559406183, 22.355412077501356, 21.38769046034765, 21.38768976095802, 21.38768684578986, 43.64243892049982, 41.79258363274363, 20.419918209782853, 20.41991579106639, 129.64715607266595, 138.81015685210994, 35.27076754633401, 110.38932228484853, 35.89034896524598, 110.60329216946633, 88.178313936279, 142.37802424131664, 77.5264267827685, 104.32506302041043, 146.64966590372975, 192.3496032867861, 51.70873142795606, 42.490973196801306, 71.38733895558738, 41.52288633679885, 85.97210293201262, 94.85124854203083, 50.11020256095982, 322.4691962915248, 68.50668373903927, 53.87789109821254, 60.98523463967457, 48.92307139530162, 196.15926557783865, 141.5774287039242, 81.87771140992014, 173.22567374123025, 143.30961168476492, 78.00414098720472, 88.00205242617182, 119.43142072191128, 71.21345661362162, 112.10484435177457, 87.89454772404463, 87.62332522869832, 79.04167436844085, 74.66512902323072, 76.93262888695895, 74.0148414253119, 73.04222831387031, 73.04221638803597, 71.09704300072163, 71.09704269197054, 70.12444309632872, 70.12444309632872, 124.44807393609645, 53.590180834171186, 72.9443991210448, 33.16558602746804, 27.33004323121403, 56.428659746388924, 25.38479992118143, 23.439606904210454, 22.467020972997666, 18.576519591590937, 17.604031048444988, 16.6314361981159, 16.63143332410717, 16.631325037523077, 16.631285960263227, 89.4846977978091, 19.353033409151358, 15.658835873071949, 15.658835873071949, 12.740990821576553, 10.795814828637365, 18.712016503390522, 31.926340339931375, 194.0162052160457, 69.35889490685139, 139.03168537401658, 83.08500592193097, 115.50582908511743, 172.54347812306776, 131.19466302347524, 73.0945043274413, 40.572845513568254, 62.16253029909339, 31.127982832282154, 32.555481248674596, 85.3596605284321, 60.67008504849893, 64.64860850540063, 66.88622853840056, 79.24053286567688, 59.37889956167257, 100.93066242610162, 81.11165778758763, 114.68153836197826, 99.39832794053082, 81.72403289991105, 66.76472214634374, 62.63285775679533, 65.64354399440043, 44.78856172491973, 24.926643209660316, 12.016330181830154, 26.364043053970757, 22.69224246685888, 19.61010806068705, 18.2938200634134, 18.968123614900964, 25.085651037437234, 21.587799358755174, 28.96170777596899, 46.55509348771587, 14.923712677649524, 18.052243746195355, 11.702408678013564, 10.552647805302156, 24.05252263305354, 10.521489564455917, 11.994941880872082, 10.24025050994008, 8.0115934060537, 18.99824373288798, 14.256135755039274, 9.927935296964636, 17.00269704539804, 9.750771242891666, 17.25393100052024, 12.929078598431099, 10.351725284511073, 64.18628066740773, 36.91034256104564, 41.69006194164065, 36.98641766387292, 69.96953032625973, 97.59094710087578, 60.688323672352325, 40.089369233403794, 47.88830604984708, 27.487966986837602, 68.05004271380135, 88.84722316585345, 63.768498640076665, 27.357301706338646, 78.6039870413011, 38.59213463651453, 36.37180468662525, 31.69489044229291, 108.56980949658197, 44.84147072990234, 101.59345321432323, 58.83420004932622, 36.6202012658527, 82.96669967449509, 45.40091440064361, 61.849171475970046, 65.87701753629963, 63.91808816339777, 49.69891622501569, 54.65792639632983, 56.40217645208209, 60.66595326931869, 43.18635586612849, 43.16700661648458, 46.34321665416539, 46.234791612520596, 42.036661868538744, 76.17944900708522, 11.142239851606183, 10.1383448165296, 12.065188845301522, 10.044964149525338, 25.031848424330647, 13.353035653037614, 25.41007537146003, 9.77724922250987, 21.792598356377884, 13.563243152221816, 11.042679787538084, 32.233352389766125, 16.421685951263534, 18.646059619517594, 30.18355729851455, 22.388012196289747, 10.6498400235552, 10.48166142336608, 26.65439658207375, 18.48439794591965, 115.346177222195, 20.471577411219958, 28.231606600820562, 10.076171091185488, 13.630631588583523, 32.27450724573292, 12.849803269467138, 14.184906752612072, 35.19186358715595, 15.424550862582828, 19.277612417269026, 82.02923701048027, 30.25573088701928, 15.84863808029239, 19.7377773071681, 23.423239850145, 73.51807542872514, 99.88284459556209, 83.1900202152077, 36.058895207393064, 37.756303979519835, 66.26317021528507, 36.572530787782206, 21.95708002673647, 102.7432281499405, 25.120878212667492, 69.24802162082008, 94.40636366853329, 35.79873679008753, 91.23278511723043, 36.63826785353502, 59.03184969874947, 76.0953045155854, 42.6217533352545, 65.43304222851553, 70.07036872361886, 70.51020581425625, 35.59981375845177, 39.96541654307848, 35.88894987573995, 42.06373843117912, 38.84946206150538, 38.666734125500525, 39.28672642090642, 36.37498955230396, 35.85540779701904, 29.31733125865859, 49.53051394603161, 17.820247690821486, 14.968341369072999, 14.990410786573943, 22.76091417568911, 26.74677826051677, 9.285770289397018, 13.045781059264007, 27.03653321016264, 64.80720110694992, 22.287079863193643, 29.396334422174558, 61.720467220295276, 25.37335156700146, 21.00768781621184, 47.52125891836847, 38.12330549903464, 11.728747717855217, 25.30248595867259, 17.024004121019367, 73.96705101534249, 8.090215858885875, 38.434321222825844, 41.498677507218304, 12.001019689182371, 10.96444244120641, 15.499060089591438, 21.11217553247847, 11.412301447711162, 122.7548182676602, 97.87201372633754, 26.663867984054622, 25.58566611660128, 28.482657255749043, 73.18231180911751, 28.833025698895362, 32.689866238368815, 28.493412938114332, 80.75113983367726, 128.32605344795016, 99.08188690796425, 39.609016830227674, 46.63580943197248, 82.49301586456883, 42.42485033420759, 56.94947950002647, 46.83529370710925, 36.783494607072086, 58.20861568652684, 50.045723863653045, 36.61773225003007, 35.74637317676004, 38.36893243733223, 31.350549070894335, 38.39535132334753, 39.22637787581143, 32.68236116727228, 35.03477325247958, 139.4996063023979, 21.544288666293934, 16.602631547678087, 39.489982421141015, 17.490978655168743, 15.616082076082881, 20.208698079358125, 10.783431392544376, 30.44453282788844, 21.19734118456548, 29.482028705620085, 23.361003519650005, 9.42476523181404, 26.244401398767913, 10.493341555208199, 9.084741247640007, 12.350004869101078, 17.393968279356258, 15.367640701836052, 12.756224248967351, 9.398097153959503, 15.14093545438597, 13.02528385161142, 16.81136982934506, 18.081123819647594, 13.30423804258727, 15.78517521603875, 18.254336303596293, 7.497766997358409, 11.715496734204297, 104.08647332275207, 19.89571102567291, 71.35235960849907, 47.006491799800614, 48.982535108114504, 52.96829683161728, 48.688476595629616, 34.70451930436097, 18.005708278250346, 80.85603534878186, 30.33304984718559, 23.992197402383578, 28.67850634357979, 28.96334854836658, 52.563396045478456, 70.48122327837278, 43.16670333182001, 32.559202928460316, 71.33818142685492, 22.87213976532443, 57.34653998383529, 34.80450302498775, 25.845170437019608, 31.93022270578265, 32.74388772158018, 33.351969918671955, 28.09968018665851, 31.76914947345732, 28.110161993578032, 26.07305041772679, 37.04106787966281, 21.753598453024217, 18.09419686693101, 14.304836791599262, 25.487343832956142, 18.094259382680406, 20.64965777374436, 316.91310284760095, 11.458942408883104, 12.107048465671943, 17.479725840909303, 49.092772808755576, 25.92827515971967, 11.999552620872766, 9.778315841397642, 23.437368864219977, 8.413102259843837, 15.86291061336712, 7.584296399803466, 27.677248405597286, 401.650349932026, 42.45063416731686, 8.620796273356428, 6.725665693096591, 35.46174339569998, 13.48308288908422, 14.113071456474264, 7.286016735794692, 6.509192378950488, 13.08371793271901, 15.895319382768168, 51.18975804281668, 19.383430680802586, 46.427981271489415, 23.32703591631186, 42.030382219205066, 19.65059099126738, 22.433811067155037, 37.705300316742786, 51.30614099956165, 19.503333111780808, 22.533087717478644, 20.514734069701245, 29.55600971361005, 26.288645982368504, 25.628014433702, 30.648599628400365, 25.24120902340681, 27.425601680820805, 25.032935305969865, 28.92981598864471, 22.784821650668995, 23.08551834021512, 21.894465241862697], \"Total\": [614.0, 1001.0, 359.0, 524.0, 425.0, 392.0, 598.0, 212.0, 219.0, 140.0, 256.0, 209.0, 820.0, 235.0, 193.0, 577.0, 177.0, 196.0, 156.0, 201.0, 269.0, 163.0, 168.0, 191.0, 160.0, 126.0, 154.0, 205.0, 186.0, 686.0, 191.26483752517356, 186.30412325239416, 83.23619077234363, 65.3965972394746, 68.36687400264722, 94.12889920800953, 57.46785789948296, 56.476801296887324, 55.48571301572532, 150.62041851356756, 49.539181855914336, 47.557004168015446, 44.58373970272658, 43.59264975462841, 85.22041715982031, 38.637207126017195, 31.69958894026435, 30.708499728877182, 30.70849972289586, 392.9644022347402, 30.708259311372956, 44.57959440861358, 26.744146246522742, 1001.4242356450586, 62.36329143685806, 24.761969698029862, 24.76195656795482, 25.749934552631597, 21.78870185471737, 45.55125717671874, 181.24272193745065, 115.87119916266458, 76.23544649727164, 43.582198411107555, 100.02661263025789, 67.32665622270956, 111.92398064100426, 105.89043971794544, 75.21718624132413, 269.196613801907, 280.60113284245705, 245.06915319216802, 149.40266654058334, 86.08576373816331, 129.42796290100603, 201.4491243193377, 112.71587208449306, 129.6206507091717, 136.07055368344137, 250.69067338828398, 85.02420168924186, 323.0533314332677, 256.13486913108704, 117.5997700756983, 110.72837631863766, 172.59511825740617, 248.4926682018078, 147.43224343655214, 226.67895902567247, 272.00363246873565, 193.74621715915055, 577.2306201064439, 425.54927163399594, 196.5618412596239, 160.1966063257393, 119.8999939787725, 99.26026601909116, 80.58694795557733, 156.25697910618106, 130.7029587793042, 52.083743783712634, 44.22099009636733, 44.22100186490774, 69.75850869357072, 62.86097236176557, 30.461171954996953, 29.478327401377662, 107.09736956806498, 25.54681737542261, 24.564106664268987, 24.564106607186716, 24.56410615403017, 22.59841855535738, 22.59841863726497, 22.59787102707556, 47.18076338577864, 20.632729885906734, 20.632729528316226, 48.16467496163002, 18.667036674394982, 17.68419716440046, 74.66698859519357, 38.33552004111374, 80.57420687624463, 44.24124769557922, 118.04953809003268, 64.66003187221452, 80.49251469819933, 106.07338476817299, 67.75279352917599, 88.4692315764913, 53.00286706055062, 70.71592352766649, 238.86403988400465, 820.481955436354, 356.4731553183726, 208.1437476758484, 404.23884268314384, 790.700375298033, 177.82103794734854, 978.2936900966522, 200.3212141301051, 568.8081656263969, 904.9703815359402, 165.5130072802404, 312.68351039154555, 240.43762946259076, 142.17998969444642, 224.23480078621628, 923.6669647492538, 188.30044785918082, 686.6166679377536, 292.6164919128982, 439.7658814079773, 434.0959112023243, 735.6388014955236, 689.9263187006975, 222.99055807148005, 63.84748598303568, 51.076684186532916, 46.16483752421986, 29.46455838617035, 41.23460937415859, 27.499819229755694, 26.517449742322185, 24.55271058463527, 24.55271033489689, 23.570341420999373, 22.587971969006446, 22.58808687105039, 19.64086396031878, 19.64086325773788, 19.640863929223052, 19.64086371558734, 19.64008569288099, 39.2970191809034, 19.640297529701286, 16.693755131241005, 15.711386955790626, 15.711386068096703, 15.71138681987234, 15.711386142769632, 14.729017087853444, 32.377886296254694, 67.80771445829926, 99.20349349848135, 29.44988990944532, 43.18806462883526, 151.27589770914497, 524.059282068512, 76.36594897651605, 46.169435744517685, 85.31647103666252, 37.33813545020445, 205.0045109301827, 41.27974420483022, 85.23631235147951, 53.907557645389794, 99.30453227334554, 104.88867634168538, 117.78356562364851, 64.41655615369257, 57.80328751292812, 63.853281088881054, 39.33052591987611, 138.89173869148658, 41.07446685372614, 67.74883965490326, 76.33384466987991, 179.1391973702313, 148.22750902201, 62.60328425824611, 923.6669647492538, 904.9703815359402, 110.91089645119402, 577.2306201064439, 689.9263187006975, 978.2936900966522, 246.50143903955043, 262.9937637030454, 509.49399938491064, 790.700375298033, 735.6388014955236, 388.4861177167235, 277.26420834635144, 439.7658814079773, 357.553575437639, 434.0959112023243, 400.8679350088319, 373.93500657767163, 295.15655232770047, 686.6166679377536, 342.43046853145563, 820.481955436354, 101.62383370645496, 84.20399001024288, 137.4361566562998, 58.074223809408245, 57.10645455104834, 56.138685477922145, 50.33270147193675, 40.65437957255045, 39.68661033842669, 39.68661031805997, 35.81553385887991, 35.81553372540078, 34.84776486375485, 32.912226722831974, 32.91222656234891, 212.9992394581772, 32.912818365498794, 31.9444575100946, 29.04115016404709, 28.073380961036246, 25.17007387482176, 26.13947636951217, 23.234535638843038, 22.266766531118993, 22.266766412970934, 22.266766419145323, 45.472716182268655, 43.58087150778845, 21.29899727019226, 21.298997064554896, 135.6132796731455, 145.97470372208346, 36.806894156893, 119.08449875637211, 37.76636353084629, 120.90648746821141, 96.58467343501195, 160.0547432760514, 84.99636406910152, 117.77682449694395, 171.45989046963388, 235.98180119155077, 56.222475666577324, 45.57229483390475, 83.22447149072114, 44.591816149032866, 107.95681127689318, 123.24370329962287, 56.30999006510342, 598.7343771832724, 84.10009410273824, 63.861037999726605, 79.97140770343947, 57.24098394798937, 689.9263187006975, 400.8679350088319, 158.74703684023723, 790.700375298033, 978.2936900966522, 183.72822699937214, 262.9937637030454, 923.6669647492538, 144.8769525984748, 904.9703815359402, 460.4393480526377, 735.6388014955236, 373.33808257558826, 232.50670537437162, 77.81123508743956, 74.89343549570326, 73.9208357755053, 73.92083575143741, 71.97563588597801, 71.9756358792318, 71.0030360245714, 71.0030360245714, 126.46471425060136, 54.46883962350866, 74.86563829800524, 34.04424208182018, 28.208642135568784, 58.33192130251652, 26.263442720656464, 24.318243124585504, 23.345643037455794, 19.455242189508315, 18.482643286633593, 17.510043474001044, 17.510043459436766, 17.510042655944698, 17.5100425359496, 94.30360666064693, 20.428299172542584, 16.537443636762717, 16.537443636762717, 13.619644886744414, 11.674444597680706, 20.436662400685435, 35.039058864539044, 219.8346424713435, 77.99200851538505, 163.92005767641038, 95.39625988458099, 135.6973541060205, 209.58644429507493, 160.14642487735748, 85.9378818158298, 45.731129829043, 73.04705019915734, 35.04928785723633, 37.01263486344889, 123.9542428697614, 81.09601505651948, 96.02756101291736, 100.80958366537817, 138.09404823180458, 91.93925811166714, 248.4926682018078, 235.14408996688138, 614.211335690513, 509.49399938491064, 460.4393480526377, 183.7019096927862, 226.67895902567247, 66.52009238544632, 45.66510486306822, 25.80321162848565, 12.892979376637664, 28.76914745678605, 24.784499506392898, 21.80614721751148, 20.84043222097364, 21.794356635997833, 29.723068156782738, 25.796465509783573, 34.709553404214795, 57.56173482833825, 18.79836394442611, 22.86595906087737, 14.855421287123326, 13.855259143758321, 31.628933675306047, 13.863882939238811, 15.87504409932819, 13.830746469901532, 10.849106362286644, 25.7580415253973, 19.747401871724062, 13.831895297075464, 23.752295057576138, 13.899020415061859, 24.672268016899597, 18.789211659785376, 15.809027984104487, 98.22872986319017, 56.55116175108581, 66.02575554816825, 61.29171202930583, 127.47005118842256, 214.03251360481977, 132.4317242620001, 80.00031333169946, 101.69549943984599, 49.22807310843156, 181.27983961163102, 272.00363246873565, 187.88619858619066, 51.2640971248844, 300.2093422758581, 98.71910223640509, 89.12024744907201, 68.3232823858842, 820.481955436354, 137.69215914265976, 904.9703815359402, 269.71542123550915, 94.63552714558601, 923.6669647492538, 182.93391336830584, 434.0959112023243, 686.6166679377536, 689.9263187006975, 295.15655232770047, 439.7658814079773, 568.8081656263969, 978.2936900966522, 208.1437476758484, 209.6115789574018, 404.23884268314384, 790.700375298033, 509.49399938491064, 79.14833630119831, 12.017766050934705, 11.013954115572362, 13.96436934662347, 11.986114134112196, 29.910905527965063, 15.994467884923214, 30.812792267406675, 12.002875316516176, 26.98288672645794, 16.95628654617129, 13.94449840915218, 40.91114512732186, 20.935318135998465, 23.919648562502967, 38.922403821281115, 28.968021772732342, 13.924151035294065, 13.962876473041645, 35.84250025466736, 24.948645467922354, 156.64963856935577, 27.86944010176674, 38.88745629434115, 13.942019813445587, 18.909186202543616, 45.015494504394994, 17.97706343509101, 19.846552740093237, 49.61246565163622, 21.84612650818843, 27.88544587433265, 137.69215914265976, 49.7011928338969, 22.913569806420515, 30.605079183918303, 39.68984471400077, 205.07399942379786, 373.068731971218, 300.2093422758581, 81.71926884006781, 90.69841375656016, 276.28448614231206, 99.42061180635162, 40.65689734219116, 686.6166679377536, 52.56877836751113, 388.4861177167235, 820.481955436354, 107.35380945066544, 923.6669647492538, 122.47356869274525, 373.33808257558826, 735.6388014955236, 184.9111375743418, 689.9263187006975, 904.9703815359402, 978.2936900966522, 149.1239515128006, 277.26420834635144, 163.44414395122797, 577.2306201064439, 400.8679350088319, 439.7658814079773, 790.700375298033, 295.15655232770047, 261.2089437157635, 30.199011193282196, 54.908007435219076, 19.859508598211782, 17.009895302754906, 17.058406819179858, 26.50242149323122, 31.235185647771207, 11.408350711323127, 16.115488952999854, 34.16235360560256, 82.68033056930737, 28.527710434842923, 38.942043192239716, 81.95356037608406, 34.400168808992106, 28.48460592264792, 64.87587735416338, 52.27950146854972, 16.201197968743706, 35.328191814500904, 23.858987073347254, 103.78485008022605, 11.427225420633794, 54.38878582739296, 59.059379314067385, 17.268533117198583, 16.275087142166942, 23.018715096529405, 31.61650042649685, 17.167892299609164, 193.88408566178273, 154.37576241354182, 41.010583696097534, 40.10440903507353, 45.310303135463606, 131.2023424682822, 47.937818588649684, 57.54280901992238, 47.91377192321519, 210.60374766706738, 577.2306201064439, 686.6166679377536, 119.1780579965622, 175.71076822727716, 735.6388014955236, 159.23789996351616, 524.059282068512, 286.03607984786663, 125.45305607783212, 978.2936900966522, 904.9703815359402, 183.7019096927862, 168.84423868430807, 300.2093422758581, 87.06315782766386, 568.8081656263969, 923.6669647492538, 157.7717028617398, 598.7343771832724, 140.38033160958028, 22.42268738257644, 17.549665082878867, 42.91152968340016, 19.466261624858237, 17.557045656386116, 23.435338855811736, 12.704186423125664, 37.12088257175119, 27.37954956524649, 38.14718549392532, 30.32112350024821, 12.632488741074123, 36.16390488097695, 14.540540365144626, 12.655341099726156, 17.591387510017064, 25.16880691051233, 22.34678617220866, 18.578985350305096, 13.705133626788776, 22.52930457322976, 19.591267447102204, 25.348154996422952, 27.27767002254953, 20.409253428965712, 24.500757457789817, 28.343753666731796, 11.709218307902018, 18.480160722076654, 168.22551806808866, 32.34253538742656, 128.50727285558057, 91.2015596086859, 96.8725994641883, 111.98893170419103, 100.97525156646063, 71.57749526194576, 30.17516145275019, 256.13486913108704, 69.13784392270779, 49.103485502681856, 71.71244969454747, 74.19986516767867, 263.6579718154487, 509.49399938491064, 201.4491243193377, 118.34024427810564, 923.6669647492538, 51.04307826080193, 735.6388014955236, 172.59511825740617, 87.60933918292072, 226.67895902567247, 305.95900412886584, 357.553575437639, 172.0582649408221, 460.4393480526377, 201.26941778899598, 280.60113284245705, 37.92220887283874, 22.771004732593862, 18.97535727010409, 15.185986728432754, 27.534344855526776, 19.95021090974842, 22.769951131932213, 359.6430059662654, 13.335221907351594, 14.284877440697631, 20.964072608799867, 59.09314448537636, 35.397692713267446, 17.22660416795786, 14.37804608101957, 34.46545359010146, 12.4582468266148, 23.862313542771524, 11.531968005337157, 42.13898113876909, 614.211335690513, 65.24777732853656, 13.449804869160218, 10.554374277545865, 55.672589676265815, 21.18422683640328, 22.22409311126909, 11.502019250666976, 10.524894460916535, 21.189852269222932, 25.969285540483884, 102.25970520189418, 34.65255062151022, 95.46612872741298, 43.45111520124564, 89.26034649780901, 35.69293688322929, 44.491186241804094, 99.42061180635162, 177.82103794734854, 39.687556590623764, 52.21287620459258, 44.03856350113399, 101.51447323108934, 82.71955485640918, 107.06632030495794, 222.99055807148005, 110.5652620819433, 224.23480078621628, 152.08842939210325, 568.8081656263969, 108.9159162642168, 122.47356869274525, 189.12144570941868], \"Category\": [\"Default\", \"Default\", \"Default\", \"Default\", \"Default\", \"Default\", \"Default\", \"Default\", \"Default\", \"Default\", \"Default\", \"Default\", \"Default\", \"Default\", \"Default\", \"Default\", \"Default\", \"Default\", \"Default\", \"Default\", \"Default\", \"Default\", \"Default\", \"Default\", \"Default\", \"Default\", \"Default\", \"Default\", \"Default\", \"Default\", \"Topic1\", \"Topic1\", \"Topic1\", \"Topic1\", \"Topic1\", \"Topic1\", \"Topic1\", \"Topic1\", \"Topic1\", \"Topic1\", \"Topic1\", \"Topic1\", \"Topic1\", \"Topic1\", \"Topic1\", \"Topic1\", \"Topic1\", \"Topic1\", \"Topic1\", \"Topic1\", \"Topic1\", \"Topic1\", \"Topic1\", \"Topic1\", \"Topic1\", \"Topic1\", \"Topic1\", \"Topic1\", \"Topic1\", \"Topic1\", \"Topic1\", \"Topic1\", \"Topic1\", \"Topic1\", \"Topic1\", \"Topic1\", \"Topic1\", \"Topic1\", \"Topic1\", \"Topic1\", \"Topic1\", \"Topic1\", \"Topic1\", \"Topic1\", \"Topic1\", \"Topic1\", \"Topic1\", \"Topic1\", \"Topic1\", \"Topic1\", \"Topic1\", \"Topic1\", \"Topic1\", \"Topic1\", \"Topic1\", \"Topic1\", \"Topic1\", \"Topic1\", \"Topic1\", \"Topic1\", \"Topic1\", \"Topic1\", \"Topic2\", \"Topic2\", \"Topic2\", \"Topic2\", \"Topic2\", \"Topic2\", \"Topic2\", \"Topic2\", \"Topic2\", \"Topic2\", \"Topic2\", \"Topic2\", \"Topic2\", \"Topic2\", \"Topic2\", \"Topic2\", \"Topic2\", \"Topic2\", \"Topic2\", \"Topic2\", \"Topic2\", \"Topic2\", \"Topic2\", \"Topic2\", \"Topic2\", \"Topic2\", \"Topic2\", \"Topic2\", \"Topic2\", \"Topic2\", \"Topic2\", \"Topic2\", \"Topic2\", \"Topic2\", \"Topic2\", \"Topic2\", \"Topic2\", \"Topic2\", \"Topic2\", \"Topic2\", \"Topic2\", \"Topic2\", \"Topic2\", \"Topic2\", \"Topic2\", \"Topic2\", \"Topic2\", \"Topic2\", \"Topic2\", \"Topic2\", \"Topic2\", \"Topic2\", \"Topic2\", \"Topic2\", \"Topic2\", \"Topic2\", \"Topic2\", \"Topic2\", \"Topic2\", \"Topic2\", \"Topic2\", \"Topic2\", \"Topic2\", \"Topic2\", \"Topic2\", \"Topic2\", \"Topic3\", \"Topic3\", \"Topic3\", \"Topic3\", \"Topic3\", \"Topic3\", \"Topic3\", \"Topic3\", \"Topic3\", \"Topic3\", \"Topic3\", \"Topic3\", \"Topic3\", \"Topic3\", \"Topic3\", \"Topic3\", \"Topic3\", \"Topic3\", \"Topic3\", \"Topic3\", \"Topic3\", \"Topic3\", \"Topic3\", \"Topic3\", \"Topic3\", \"Topic3\", \"Topic3\", \"Topic3\", \"Topic3\", \"Topic3\", \"Topic3\", \"Topic3\", \"Topic3\", \"Topic3\", \"Topic3\", \"Topic3\", \"Topic3\", \"Topic3\", \"Topic3\", \"Topic3\", \"Topic3\", \"Topic3\", \"Topic3\", \"Topic3\", \"Topic3\", \"Topic3\", \"Topic3\", \"Topic3\", \"Topic3\", \"Topic3\", \"Topic3\", \"Topic3\", \"Topic3\", \"Topic3\", \"Topic3\", \"Topic3\", \"Topic3\", \"Topic3\", \"Topic3\", \"Topic3\", \"Topic3\", \"Topic3\", \"Topic3\", \"Topic3\", \"Topic3\", \"Topic3\", \"Topic3\", \"Topic3\", \"Topic3\", \"Topic3\", \"Topic3\", \"Topic3\", \"Topic3\", \"Topic3\", \"Topic3\", \"Topic3\", \"Topic4\", \"Topic4\", \"Topic4\", \"Topic4\", \"Topic4\", \"Topic4\", \"Topic4\", \"Topic4\", \"Topic4\", \"Topic4\", \"Topic4\", \"Topic4\", \"Topic4\", \"Topic4\", \"Topic4\", \"Topic4\", \"Topic4\", \"Topic4\", \"Topic4\", \"Topic4\", \"Topic4\", \"Topic4\", \"Topic4\", \"Topic4\", \"Topic4\", \"Topic4\", \"Topic4\", \"Topic4\", \"Topic4\", \"Topic4\", \"Topic4\", \"Topic4\", \"Topic4\", \"Topic4\", \"Topic4\", \"Topic4\", \"Topic4\", \"Topic4\", \"Topic4\", \"Topic4\", \"Topic4\", \"Topic4\", \"Topic4\", \"Topic4\", \"Topic4\", \"Topic4\", \"Topic4\", \"Topic4\", \"Topic4\", \"Topic4\", \"Topic4\", \"Topic4\", \"Topic4\", \"Topic4\", \"Topic4\", \"Topic4\", \"Topic4\", \"Topic4\", \"Topic4\", \"Topic4\", \"Topic4\", \"Topic4\", \"Topic4\", \"Topic4\", \"Topic4\", \"Topic4\", \"Topic4\", \"Topic4\", \"Topic5\", \"Topic5\", \"Topic5\", \"Topic5\", \"Topic5\", \"Topic5\", \"Topic5\", \"Topic5\", \"Topic5\", \"Topic5\", \"Topic5\", \"Topic5\", \"Topic5\", \"Topic5\", \"Topic5\", \"Topic5\", \"Topic5\", \"Topic5\", \"Topic5\", \"Topic5\", \"Topic5\", \"Topic5\", \"Topic5\", \"Topic5\", \"Topic5\", \"Topic5\", \"Topic5\", \"Topic5\", \"Topic5\", \"Topic5\", \"Topic5\", \"Topic5\", \"Topic5\", \"Topic5\", \"Topic5\", \"Topic5\", \"Topic5\", \"Topic5\", \"Topic5\", \"Topic5\", \"Topic5\", \"Topic5\", \"Topic5\", \"Topic5\", \"Topic5\", \"Topic5\", \"Topic5\", \"Topic5\", \"Topic5\", \"Topic5\", \"Topic5\", \"Topic5\", \"Topic5\", \"Topic5\", \"Topic5\", \"Topic5\", \"Topic6\", \"Topic6\", \"Topic6\", \"Topic6\", \"Topic6\", \"Topic6\", \"Topic6\", \"Topic6\", \"Topic6\", \"Topic6\", \"Topic6\", \"Topic6\", \"Topic6\", \"Topic6\", \"Topic6\", \"Topic6\", \"Topic6\", \"Topic6\", \"Topic6\", \"Topic6\", \"Topic6\", \"Topic6\", \"Topic6\", \"Topic6\", \"Topic6\", \"Topic6\", \"Topic6\", \"Topic6\", \"Topic6\", \"Topic6\", \"Topic6\", \"Topic6\", \"Topic6\", \"Topic6\", \"Topic6\", \"Topic6\", \"Topic6\", \"Topic6\", \"Topic6\", \"Topic6\", \"Topic6\", \"Topic6\", \"Topic6\", \"Topic6\", \"Topic6\", \"Topic6\", \"Topic6\", \"Topic6\", \"Topic6\", \"Topic6\", \"Topic6\", \"Topic6\", \"Topic6\", \"Topic6\", \"Topic6\", \"Topic6\", \"Topic6\", \"Topic6\", \"Topic6\", \"Topic6\", \"Topic6\", \"Topic6\", \"Topic6\", \"Topic6\", \"Topic6\", \"Topic6\", \"Topic6\", \"Topic7\", \"Topic7\", \"Topic7\", \"Topic7\", \"Topic7\", \"Topic7\", \"Topic7\", \"Topic7\", \"Topic7\", \"Topic7\", \"Topic7\", \"Topic7\", \"Topic7\", \"Topic7\", \"Topic7\", \"Topic7\", \"Topic7\", \"Topic7\", \"Topic7\", \"Topic7\", \"Topic7\", \"Topic7\", \"Topic7\", \"Topic7\", \"Topic7\", \"Topic7\", \"Topic7\", \"Topic7\", \"Topic7\", \"Topic7\", \"Topic7\", \"Topic7\", \"Topic7\", \"Topic7\", \"Topic7\", \"Topic7\", \"Topic7\", \"Topic7\", \"Topic7\", \"Topic7\", \"Topic7\", \"Topic7\", \"Topic7\", \"Topic7\", \"Topic7\", \"Topic7\", \"Topic7\", \"Topic7\", \"Topic7\", \"Topic7\", \"Topic7\", \"Topic7\", \"Topic7\", \"Topic7\", \"Topic7\", \"Topic7\", \"Topic7\", \"Topic7\", \"Topic7\", \"Topic7\", \"Topic7\", \"Topic7\", \"Topic7\", \"Topic7\", \"Topic7\", \"Topic7\", \"Topic7\", \"Topic8\", \"Topic8\", \"Topic8\", \"Topic8\", \"Topic8\", \"Topic8\", \"Topic8\", \"Topic8\", \"Topic8\", \"Topic8\", \"Topic8\", \"Topic8\", \"Topic8\", \"Topic8\", \"Topic8\", \"Topic8\", \"Topic8\", \"Topic8\", \"Topic8\", \"Topic8\", \"Topic8\", \"Topic8\", \"Topic8\", \"Topic8\", \"Topic8\", \"Topic8\", \"Topic8\", \"Topic8\", \"Topic8\", \"Topic8\", \"Topic8\", \"Topic8\", \"Topic8\", \"Topic8\", \"Topic8\", \"Topic8\", \"Topic8\", \"Topic8\", \"Topic8\", \"Topic8\", \"Topic8\", \"Topic8\", \"Topic8\", \"Topic8\", \"Topic8\", \"Topic8\", \"Topic8\", \"Topic8\", \"Topic8\", \"Topic8\", \"Topic8\", \"Topic8\", \"Topic8\", \"Topic8\", \"Topic8\", \"Topic8\", \"Topic8\", \"Topic8\", \"Topic8\", \"Topic9\", \"Topic9\", \"Topic9\", \"Topic9\", \"Topic9\", \"Topic9\", \"Topic9\", \"Topic9\", \"Topic9\", \"Topic9\", \"Topic9\", \"Topic9\", \"Topic9\", \"Topic9\", \"Topic9\", \"Topic9\", \"Topic9\", \"Topic9\", \"Topic9\", \"Topic9\", \"Topic9\", \"Topic9\", \"Topic9\", \"Topic9\", \"Topic9\", \"Topic9\", \"Topic9\", \"Topic9\", \"Topic9\", \"Topic9\", \"Topic9\", \"Topic9\", \"Topic9\", \"Topic9\", \"Topic9\", \"Topic9\", \"Topic9\", \"Topic9\", \"Topic9\", \"Topic9\", \"Topic9\", \"Topic9\", \"Topic9\", \"Topic9\", \"Topic9\", \"Topic9\", \"Topic9\", \"Topic9\", \"Topic9\", \"Topic9\", \"Topic9\", \"Topic9\", \"Topic9\", \"Topic9\", \"Topic9\", \"Topic9\", \"Topic9\", \"Topic9\", \"Topic9\", \"Topic9\", \"Topic10\", \"Topic10\", \"Topic10\", \"Topic10\", \"Topic10\", \"Topic10\", \"Topic10\", \"Topic10\", \"Topic10\", \"Topic10\", \"Topic10\", \"Topic10\", \"Topic10\", \"Topic10\", \"Topic10\", \"Topic10\", \"Topic10\", \"Topic10\", \"Topic10\", \"Topic10\", \"Topic10\", \"Topic10\", \"Topic10\", \"Topic10\", \"Topic10\", \"Topic10\", \"Topic10\", \"Topic10\", \"Topic10\", \"Topic10\", \"Topic10\", \"Topic10\", \"Topic10\", \"Topic10\", \"Topic10\", \"Topic10\", \"Topic10\", \"Topic10\", \"Topic10\", \"Topic10\", \"Topic10\", \"Topic10\", \"Topic10\", \"Topic10\", \"Topic10\", \"Topic10\", \"Topic10\", \"Topic10\", \"Topic10\", \"Topic10\", \"Topic10\", \"Topic10\", \"Topic10\", \"Topic10\"], \"logprob\": [30.0, 29.0, 28.0, 27.0, 26.0, 25.0, 24.0, 23.0, 22.0, 21.0, 20.0, 19.0, 18.0, 17.0, 16.0, 15.0, 14.0, 13.0, 12.0, 11.0, 10.0, 9.0, 8.0, 7.0, 6.0, 5.0, 4.0, 3.0, 2.0, 1.0, -5.0485, -5.0781, -5.8865, -6.1306, -6.0865, -5.7675, -6.2617, -6.2794, -6.2973, -5.3004, -6.4126, -6.4542, -6.52, -6.543, -5.8747, -6.6663, -6.8693, -6.902, -6.902, -4.3531, -6.9029, -6.5309, -7.0446, -3.4231, -6.2001, -7.1243, -7.1243, -7.0862, -7.2572, -6.5203, -5.1413, -5.5922, -6.017, -6.5712, -5.7692, -6.1493, -5.6623, -5.7228, -6.0547, -4.8716, -4.8367, -4.9976, -5.4493, -5.9458, -5.6004, -5.2385, -5.7265, -5.6404, -5.6226, -5.1818, -5.9772, -5.0945, -5.2922, -5.7856, -5.8284, -5.6099, -5.4943, -5.7398, -5.5823, -5.5751, -5.6959, -5.6357, -4.1689, -4.9428, -5.1483, -5.4399, -5.6304, -5.8413, -5.1799, -5.3609, -6.2834, -6.4501, -6.4501, -6.0023, -6.1072, -6.832, -6.8658, -5.5764, -7.0138, -7.0543, -7.0543, -7.0543, -7.141, -7.141, -7.1417, -6.4078, -7.2358, -7.2358, -6.3886, -7.3407, -7.3975, -5.9593, -6.6265, -5.8932, -6.4959, -5.5697, -6.167, -5.9692, -5.7296, -6.1403, -5.9057, -6.3633, -6.1513, -5.14, -4.1898, -4.8736, -5.3135, -4.8715, -4.4041, -5.4924, -4.3331, -5.4443, -4.7808, -4.6539, -5.6224, -5.2624, -5.4144, -5.7117, -5.5331, -4.9732, -5.6044, -5.1291, -5.4545, -5.345, -5.3795, -5.2788, -5.5073, -5.5913, -5.9152, -6.1419, -6.2448, -6.7049, -6.371, -6.7761, -6.8137, -6.8934, -6.8934, -6.9358, -6.9801, -6.9807, -7.126, -7.126, -7.126, -7.126, -7.127, -6.4356, -7.1298, -7.2968, -7.361, -7.361, -7.361, -7.361, -7.4295, -6.6423, -5.9041, -5.5256, -6.74, -6.3604, -5.1308, -3.9183, -5.8166, -6.3115, -5.7256, -6.5221, -4.9135, -6.4306, -5.761, -6.1973, -5.6432, -5.6292, -5.5496, -6.074, -6.1702, -6.1072, -6.5088, -5.5226, -6.4786, -6.1101, -6.0283, -5.4544, -5.5954, -6.1925, -4.4337, -4.5169, -5.8574, -5.0188, -4.9877, -4.8361, -5.5111, -5.5121, -5.2237, -5.0374, -5.0994, -5.4015, -5.5351, -5.3949, -5.4726, -5.413, -5.4444, -5.5031, -5.5716, -5.4412, -5.5571, -5.5591, -5.1781, -5.368, -4.8812, -5.7442, -5.7613, -5.7787, -5.8902, -6.1075, -6.1321, -6.1321, -6.2372, -6.2372, -6.2653, -6.3239, -6.3239, -4.4571, -6.3246, -6.3546, -6.4527, -6.4877, -6.6006, -6.5642, -6.6836, -6.7279, -6.7279, -6.7279, -6.0147, -6.058, -6.7742, -6.7742, -4.9259, -4.8576, -6.2276, -5.0867, -6.2102, -5.0848, -5.3113, -4.8322, -5.4401, -5.1432, -4.8027, -4.5314, -5.8451, -6.0414, -5.5226, -6.0645, -5.3367, -5.2384, -5.8765, -4.0147, -5.5638, -5.804, -5.6801, -5.9005, -4.5118, -4.8379, -5.3855, -4.6361, -4.8257, -5.4339, -5.3133, -5.008, -5.525, -5.0713, -5.3146, -5.3177, -5.4207, -5.4777, -5.1429, -5.1815, -5.1947, -5.1947, -5.2217, -5.2217, -5.2355, -5.2355, -4.6619, -5.5044, -5.1961, -5.9843, -6.1778, -5.4528, -6.2516, -6.3314, -6.3737, -6.5639, -6.6177, -6.6745, -6.6745, -6.6745, -6.6745, -4.9917, -6.5229, -6.7347, -6.7347, -6.941, -7.1066, -6.5566, -6.0223, -4.2178, -5.2465, -4.5511, -5.0659, -4.7365, -4.3351, -4.6091, -5.194, -5.7827, -5.356, -6.0477, -6.0028, -5.0389, -5.3803, -5.3168, -5.2828, -5.1133, -5.4018, -4.8713, -5.09, -4.7436, -4.8866, -5.0824, -5.2846, -5.3485, -5.1838, -5.5661, -6.1521, -6.8818, -6.0961, -6.246, -6.392, -6.4615, -6.4253, -6.1458, -6.2959, -6.0021, -5.5274, -6.6651, -6.4748, -6.9083, -7.0117, -6.1878, -7.0146, -6.8836, -7.0417, -7.2872, -6.4237, -6.7109, -7.0727, -6.5347, -7.0907, -6.52, -6.8086, -7.0309, -5.2063, -5.7596, -5.6378, -5.7575, -5.12, -4.7873, -5.2623, -5.6769, -5.4992, -6.0543, -5.1478, -4.8811, -5.2128, -6.0591, -5.0036, -5.715, -5.7743, -5.9119, -4.6807, -5.5649, -4.7471, -5.2933, -5.7675, -4.9496, -5.5525, -5.2434, -5.1803, -5.2104, -5.4621, -5.367, -5.3355, -5.2627, -5.6025, -5.603, -5.532, -5.5343, -5.6295, -4.9728, -6.8952, -6.9896, -6.8156, -6.9989, -6.0858, -6.7142, -6.0708, -7.0259, -6.2244, -6.6986, -6.9042, -5.8329, -6.5073, -6.3803, -5.8986, -6.1974, -6.9404, -6.9563, -6.023, -6.389, -4.558, -6.2869, -5.9655, -6.9958, -6.6936, -5.8317, -6.7526, -6.6538, -5.7451, -6.57, -6.347, -4.8989, -5.8962, -6.5428, -6.3234, -6.1522, -5.0084, -4.7019, -4.8848, -5.7208, -5.6748, -5.1123, -5.7066, -6.2168, -4.6737, -6.0822, -5.0682, -4.7583, -5.728, -4.7925, -5.7048, -5.2279, -4.9739, -5.5536, -5.1249, -5.0564, -5.0502, -5.7336, -5.6179, -5.7255, -5.5667, -5.6462, -5.651, -5.635, -5.712, -5.7264, -5.686, -5.1616, -6.1839, -6.3583, -6.3568, -5.9392, -5.7778, -6.8357, -6.4957, -5.767, -4.8928, -5.9602, -5.6833, -4.9416, -5.8305, -6.0193, -5.203, -5.4234, -6.6022, -5.8333, -6.2296, -4.7606, -6.9735, -5.4152, -5.3385, -6.5792, -6.6695, -6.3234, -6.0143, -6.6295, -4.254, -4.4805, -5.7809, -5.8222, -5.7149, -4.7712, -5.7027, -5.5771, -5.7145, -4.6728, -4.2096, -4.4683, -5.3851, -5.2218, -4.6515, -5.3165, -5.022, -5.2176, -5.4591, -5.0002, -5.1513, -5.4637, -5.4877, -5.417, -5.619, -5.4163, -5.3948, -5.5774, -5.5079, -4.06, -5.9279, -6.1885, -5.322, -6.1364, -6.2498, -5.9919, -6.62, -5.5822, -5.9442, -5.6143, -5.847, -6.7547, -5.7306, -6.6473, -6.7915, -6.4844, -6.1419, -6.2658, -6.452, -6.7576, -6.2807, -6.4312, -6.176, -6.1032, -6.41, -6.239, -6.0937, -6.9835, -6.5371, -4.3528, -6.0076, -4.7304, -5.1478, -5.1066, -5.0284, -5.1126, -5.4512, -6.1074, -4.6054, -5.5858, -5.8203, -5.6419, -5.632, -5.036, -4.7427, -5.233, -5.515, -4.7306, -5.8681, -4.9489, -5.4483, -5.7459, -5.5345, -5.5093, -5.4909, -5.6623, -5.5396, -5.6619, -5.7372, -5.0771, -5.6093, -5.7935, -6.0285, -5.4509, -5.7935, -5.6614, -2.9305, -6.2503, -6.1953, -5.828, -4.7954, -5.4337, -6.2042, -6.4089, -5.5348, -6.5593, -5.9251, -6.663, -5.3685, -2.6935, -4.9407, -6.5349, -6.7832, -5.1206, -6.0876, -6.042, -6.7031, -6.8159, -6.1177, -5.9231, -4.7535, -5.7247, -4.8512, -5.5395, -4.9507, -5.711, -5.5785, -5.0593, -4.7513, -5.7185, -5.5741, -5.6679, -5.3028, -5.4199, -5.4454, -5.2665, -5.4606, -5.3776, -5.4689, -5.3242, -5.563, -5.5499, -5.6028], \"loglift\": [30.0, 29.0, 28.0, 27.0, 26.0, 25.0, 24.0, 23.0, 22.0, 21.0, 20.0, 19.0, 18.0, 17.0, 16.0, 15.0, 14.0, 13.0, 12.0, 11.0, 10.0, 9.0, 8.0, 7.0, 6.0, 5.0, 4.0, 3.0, 2.0, 1.0, 1.6608, 1.6575, 1.6548, 1.6519, 1.6516, 1.6508, 1.65, 1.6498, 1.6495, 1.6478, 1.6476, 1.6468, 1.6456, 1.6451, 1.643, 1.6425, 1.6374, 1.6365, 1.6365, 1.6362, 1.6356, 1.6348, 1.6321, 1.6307, 1.6299, 1.6294, 1.6293, 1.6283, 1.6244, 1.6239, 1.6218, 1.6183, 1.6122, 1.6171, 1.5883, 1.6041, 1.5828, 1.5778, 1.5879, 1.4959, 1.4893, 1.4639, 1.507, 1.5618, 1.4995, 1.4189, 1.5116, 1.4579, 1.4272, 1.257, 1.5429, 1.0907, 1.125, 1.4101, 1.4275, 1.2021, 0.9533, 1.2298, 0.9572, 0.7821, 1.0005, -0.0309, 1.7407, 1.7392, 1.7382, 1.7364, 1.7348, 1.7323, 1.7316, 1.7291, 1.7267, 1.7237, 1.7237, 1.7156, 1.7148, 1.7145, 1.7135, 1.7129, 1.7086, 1.7073, 1.7073, 1.7073, 1.7041, 1.7041, 1.7034, 1.7011, 1.7003, 1.7003, 1.6998, 1.6955, 1.6928, 1.6906, 1.6901, 1.6806, 1.6774, 1.6221, 1.6269, 1.6056, 1.5693, 1.6068, 1.5746, 1.6293, 1.553, 1.3471, 1.0633, 1.2131, 1.3112, 1.0895, 0.886, 1.2898, 0.7441, 1.2187, 0.8386, 0.5012, 1.2315, 0.9554, 1.0661, 1.2942, 1.0172, 0.1614, 1.1205, 0.3021, 0.8297, 0.5318, 0.5102, 0.0835, -0.0809, 0.9645, 1.8913, 1.8878, 1.8859, 1.8749, 1.8727, 1.8727, 1.8715, 1.8687, 1.8687, 1.8672, 1.8655, 1.8649, 1.8594, 1.8594, 1.8594, 1.8594, 1.8584, 1.8562, 1.8556, 1.8511, 1.8476, 1.8476, 1.8476, 1.8476, 1.8437, 1.8432, 1.8422, 1.8402, 1.8402, 1.837, 1.8131, 1.7831, 1.8108, 1.8192, 1.791, 1.8209, 1.7264, 1.812, 1.7566, 1.7784, 1.7216, 1.6809, 1.6445, 1.7236, 1.7357, 1.6992, 1.7822, 1.5066, 1.769, 1.6371, 1.5996, 1.3204, 1.3688, 1.6337, 0.7009, 0.6381, 1.3969, 0.586, 0.4387, 0.2411, 0.9445, 0.8787, 0.5059, 0.2526, 0.2629, 0.5992, 0.8029, 0.4819, 0.6111, 0.4767, 0.5249, 0.5358, 0.7039, -0.01, 0.5698, -0.306, 2.1636, 2.1618, 2.1587, 2.157, 2.1568, 2.1565, 2.1542, 2.1504, 2.1499, 2.1499, 2.1474, 2.1474, 2.1467, 2.1452, 2.1452, 2.1446, 2.1445, 2.1444, 2.1415, 2.1405, 2.1367, 2.1353, 2.1337, 2.132, 2.132, 2.132, 2.1312, 2.1304, 2.1301, 2.1301, 2.1273, 2.1219, 2.1296, 2.0965, 2.1213, 2.0832, 2.0812, 2.0552, 2.0803, 2.051, 2.016, 1.9678, 2.0886, 2.1023, 2.0189, 2.101, 1.9446, 1.9104, 2.0556, 1.5535, 1.9672, 2.0023, 1.9012, 2.0153, 0.9146, 1.1315, 1.5102, 0.654, 0.2515, 1.3156, 1.0775, 0.1267, 1.4621, 0.0838, 0.5162, 0.0446, 0.6198, 1.0364, 2.4658, 2.4654, 2.4652, 2.4652, 2.4649, 2.4649, 2.4647, 2.4647, 2.4611, 2.4609, 2.4512, 2.451, 2.4456, 2.444, 2.4432, 2.4404, 2.4388, 2.431, 2.4285, 2.4257, 2.4257, 2.4257, 2.4257, 2.4247, 2.4231, 2.4226, 2.4226, 2.4105, 2.399, 2.389, 2.3842, 2.3523, 2.3599, 2.3125, 2.339, 2.3161, 2.2827, 2.2778, 2.3153, 2.3575, 2.3158, 2.3585, 2.3489, 2.1042, 2.187, 2.0815, 2.067, 1.9217, 2.04, 1.5762, 1.4128, 0.799, 0.8429, 0.7484, 1.4651, 1.1909, 2.5817, 2.5755, 2.5604, 2.5245, 2.5076, 2.5067, 2.4888, 2.4646, 2.456, 2.4253, 2.4168, 2.4139, 2.3827, 2.3641, 2.3585, 2.3564, 2.3226, 2.3211, 2.3191, 2.3147, 2.2944, 2.2917, 2.2905, 2.2691, 2.2633, 2.2606, 2.2405, 2.2373, 2.2211, 2.1715, 2.1694, 2.1683, 2.1351, 2.0898, 1.9951, 1.8096, 1.8146, 1.904, 1.8418, 2.0122, 1.6151, 1.476, 1.5143, 1.9669, 1.2549, 1.6557, 1.6987, 1.8268, 0.5724, 1.473, 0.408, 1.0723, 1.6455, 0.185, 1.2013, 0.6464, 0.2509, 0.2159, 0.8134, 0.5098, 0.2839, -0.1855, 1.0222, 1.0147, 0.429, -0.2443, 0.1, 2.6188, 2.5814, 2.5742, 2.5109, 2.4804, 2.479, 2.4765, 2.4643, 2.452, 2.4434, 2.4338, 2.4237, 2.4186, 2.4142, 2.408, 2.4028, 2.3994, 2.389, 2.3703, 2.3609, 2.3572, 2.351, 2.3486, 2.3368, 2.3323, 2.3297, 2.3243, 2.3213, 2.3212, 2.3136, 2.309, 2.2879, 2.1391, 2.1607, 2.2884, 2.2184, 2.1297, 1.6312, 1.3393, 1.3737, 1.8389, 1.7807, 1.2292, 1.657, 2.041, 0.7575, 1.9186, 0.9325, 0.4948, 1.5588, 0.3421, 1.4502, 0.8126, 0.3883, 1.1895, 0.3015, 0.0986, 0.027, 1.2246, 0.7201, 1.141, 0.038, 0.3231, 0.2258, -0.345, 0.5634, 0.6712, 2.8691, 2.7957, 2.7904, 2.7709, 2.7695, 2.7466, 2.7436, 2.6929, 2.6875, 2.6648, 2.6552, 2.6519, 2.6176, 2.6152, 2.5944, 2.5943, 2.5875, 2.583, 2.5757, 2.565, 2.5612, 2.5601, 2.5534, 2.5516, 2.5459, 2.5349, 2.5038, 2.5032, 2.4949, 2.4904, 2.4417, 2.443, 2.4683, 2.4493, 2.4345, 2.315, 2.3904, 2.3333, 2.379, 1.9402, 1.3951, 0.9629, 1.7972, 1.5723, 0.7108, 1.5761, 0.6793, 1.0893, 1.6719, 0.077, 0.0038, 1.286, 1.3462, 0.8415, 1.8774, 0.2032, -0.2602, 1.3245, 0.0603, 2.9586, 2.925, 2.9094, 2.8818, 2.8579, 2.8478, 2.8168, 2.801, 2.7666, 2.709, 2.7072, 2.7041, 2.672, 2.6443, 2.6387, 2.6334, 2.6112, 2.5954, 2.5905, 2.5889, 2.5877, 2.5675, 2.5567, 2.5543, 2.5537, 2.537, 2.5253, 2.5249, 2.5191, 2.5091, 2.4848, 2.479, 2.3766, 2.3021, 2.283, 2.2162, 2.2355, 2.241, 2.4486, 1.8119, 2.1411, 2.2487, 2.0484, 2.0242, 1.3523, 0.9868, 1.4245, 1.6744, 0.404, 2.1622, 0.4133, 1.3637, 1.7442, 1.0049, 0.7302, 0.5927, 1.1528, 0.2912, 0.9964, 0.5889, 3.2504, 3.2282, 3.2263, 3.2141, 3.1966, 3.1762, 3.1761, 3.1474, 3.1223, 3.1085, 3.0921, 3.0885, 2.9626, 2.9123, 2.8884, 2.8883, 2.8813, 2.8656, 2.8548, 2.8535, 2.8491, 2.844, 2.8291, 2.8233, 2.8229, 2.8221, 2.8198, 2.8173, 2.7934, 2.7917, 2.783, 2.5819, 2.6929, 2.553, 2.6519, 2.5207, 2.677, 2.5892, 2.3043, 2.0309, 2.5634, 2.4335, 2.51, 2.04, 2.1276, 1.8441, 1.2893, 1.7968, 1.1727, 1.4696, 0.2952, 1.7094, 1.6052, 1.1177]}, \"token.table\": {\"Topic\": [1, 3, 1, 3, 8, 9, 1, 3, 1, 2, 3, 4, 5, 6, 7, 8, 9, 2, 5, 7, 3, 2, 5, 6, 9, 4, 1, 2, 6, 8, 1, 2, 3, 5, 6, 7, 8, 1, 10, 5, 6, 9, 3, 10, 6, 7, 1, 5, 8, 1, 2, 6, 7, 9, 4, 9, 10, 1, 2, 3, 4, 5, 7, 8, 10, 1, 2, 6, 10, 2, 4, 7, 10, 1, 2, 10, 1, 2, 3, 5, 6, 8, 9, 10, 1, 4, 1, 1, 2, 2, 2, 9, 10, 7, 3, 4, 7, 8, 10, 3, 6, 8, 1, 3, 5, 6, 8, 9, 1, 2, 4, 5, 6, 7, 9, 1, 1, 2, 3, 4, 5, 6, 7, 8, 9, 10, 1, 9, 2, 6, 9, 7, 9, 4, 1, 4, 7, 8, 1, 4, 5, 7, 4, 5, 6, 7, 4, 2, 4, 7, 5, 2, 2, 7, 10, 2, 6, 1, 2, 3, 4, 5, 6, 7, 8, 9, 1, 2, 3, 4, 5, 6, 7, 8, 10, 1, 2, 3, 4, 5, 6, 7, 8, 9, 2, 2, 2, 4, 8, 1, 2, 4, 5, 6, 9, 10, 5, 1, 3, 5, 6, 7, 8, 9, 3, 4, 2, 5, 1, 2, 3, 7, 8, 10, 3, 3, 4, 8, 1, 2, 10, 5, 4, 1, 3, 4, 6, 8, 5, 1, 3, 4, 5, 6, 8, 5, 6, 6, 3, 8, 10, 1, 4, 7, 3, 6, 8, 10, 4, 2, 3, 5, 6, 7, 8, 9, 10, 1, 4, 5, 7, 8, 9, 5, 1, 3, 6, 1, 3, 6, 9, 2, 4, 5, 8, 2, 5, 6, 7, 9, 3, 9, 1, 3, 4, 10, 2, 2, 2, 4, 8, 1, 4, 7, 8, 9, 3, 2, 3, 4, 6, 9, 4, 5, 7, 5, 7, 10, 1, 5, 6, 10, 1, 3, 5, 9, 1, 5, 6, 7, 10, 1, 3, 6, 7, 8, 9, 3, 1, 2, 10, 2, 3, 6, 9, 1, 4, 6, 3, 4, 7, 5, 1, 2, 3, 4, 5, 6, 7, 8, 9, 1, 3, 5, 9, 1, 2, 3, 4, 5, 6, 7, 9, 10, 1, 6, 9, 10, 4, 8, 1, 2, 4, 6, 7, 10, 3, 5, 6, 3, 6, 10, 1, 2, 4, 5, 6, 8, 9, 3, 5, 7, 1, 4, 5, 7, 8, 10, 1, 2, 3, 4, 5, 6, 7, 8, 10, 1, 2, 3, 4, 5, 6, 7, 8, 9, 10, 1, 2, 3, 4, 6, 7, 3, 8, 3, 4, 2, 7, 8, 1, 5, 8, 1, 9, 10, 1, 2, 3, 4, 5, 6, 7, 8, 9, 10, 5, 8, 5, 6, 7, 10, 1, 1, 4, 6, 1, 2, 3, 6, 8, 10, 2, 5, 6, 7, 2, 5, 7, 1, 8, 9, 5, 6, 7, 1, 2, 3, 4, 5, 6, 7, 8, 9, 10, 1, 2, 3, 4, 5, 6, 7, 9, 10, 1, 2, 3, 4, 5, 6, 7, 8, 9, 10, 1, 10, 5, 1, 3, 4, 6, 8, 9, 1, 3, 6, 8, 1, 3, 9, 2, 3, 6, 8, 5, 10, 2, 5, 6, 8, 5, 7, 9, 1, 2, 6, 7, 8, 9, 1, 4, 5, 8, 10, 1, 2, 4, 5, 7, 9, 6, 2, 8, 9, 1, 3, 5, 6, 8, 10, 6, 1, 3, 10, 2, 3, 4, 7, 1, 1, 3, 5, 6, 2, 1, 2, 5, 6, 7, 2, 6, 1, 2, 3, 4, 5, 6, 7, 9, 10, 1, 2, 3, 6, 2, 6, 9, 1, 2, 7, 9, 10, 2, 4, 2, 10, 3, 4, 6, 7, 4, 6, 1, 2, 3, 6, 7, 5, 4, 5, 9, 10, 1, 3, 9, 4, 7, 8, 2, 3, 5, 6, 7, 9, 10, 5, 6, 7, 9, 10, 3, 8, 1, 7, 8, 1, 5, 1, 9, 2, 4, 7, 4, 8, 1, 9, 1, 3, 9, 10, 5, 4, 9, 4, 5, 7, 9, 1, 2, 3, 5, 6, 7, 8, 9, 10, 2, 5, 7, 1, 9, 2, 10, 2, 6, 1, 2, 3, 4, 5, 6, 7, 8, 9, 10, 4, 5, 10, 2, 3, 4, 5, 6, 7, 8, 10, 1, 3, 7, 9, 10, 1, 9, 1, 2, 3, 4, 7, 9, 10, 2, 6, 7, 1, 5, 6, 7, 8, 10, 1, 2, 3, 6, 7, 8, 2, 7, 4, 8, 1, 2, 3, 4, 5, 6, 7, 8, 9, 10, 1, 3, 4, 6, 8, 4, 4, 6, 1, 4, 9, 10, 4, 8, 9, 3, 4, 6, 7, 8, 9, 10, 3, 8, 6, 9, 1, 4, 10, 5, 8, 1, 2, 9, 10, 5, 6, 9, 6, 7, 8, 9, 1, 2, 3, 4, 5, 6, 7, 8, 9, 3, 8, 9, 4, 4, 1, 3, 5, 8, 5, 10, 1, 2, 3, 4, 5, 6, 7, 8, 9, 10, 1, 5, 6, 7, 10, 2, 10, 2, 10, 3, 2, 7, 10, 1, 2, 4, 5, 6, 7, 10, 1, 6, 7, 1, 6, 7, 3, 5, 7, 1, 2, 3, 4, 5, 6, 7, 8, 9, 10, 4, 8, 2, 7, 8, 4, 7, 8, 1, 6, 2, 3, 4, 5, 6, 7, 10, 2, 3, 1, 2, 3, 4, 5, 6, 7, 8, 9, 10, 1, 2, 3, 1, 3, 4, 2, 3, 4, 5, 6, 7, 8, 9, 10, 1, 4, 8, 1, 2, 3, 4, 6, 7, 8, 9, 10, 1, 2, 3, 4, 5, 6, 7, 8, 9, 10, 2, 3, 7, 8, 9, 3, 8, 1, 2, 3, 4, 5, 6, 7, 8, 9, 10, 1, 2, 4, 6, 8, 9, 10, 2, 7, 1, 2, 3, 4, 5, 6, 7, 8, 9, 1, 6, 8, 9, 2, 7, 10, 1, 2, 3, 4, 5, 6, 7, 8, 9, 4, 10, 1, 4, 5, 8, 1, 2, 3, 4, 7, 8, 9, 1, 2, 3, 4, 5, 6, 7, 8, 9, 10, 1, 4, 8, 1, 9, 3, 7, 5, 1, 8, 10, 1, 1, 2, 4, 6, 8, 10, 1, 6, 4, 1, 2, 3, 4, 5, 6, 7, 8, 9, 2, 3, 4, 5, 6, 7, 8, 9, 10, 5, 1, 1, 2, 4, 6, 7, 10, 1, 3, 5, 9, 1, 4, 9, 1, 2, 3, 6, 9, 10, 1, 2, 3, 4, 5, 6, 8, 9, 10, 7, 10, 1, 2, 3, 4, 5, 6, 7, 8, 9, 5, 6, 7, 10, 5, 6, 7, 10, 1, 2, 5, 7, 10, 4, 1, 4, 10, 5, 1, 3, 4, 10, 1, 3, 6, 5, 6, 1, 3, 9, 4, 8, 1, 6, 9, 1, 6, 1, 6, 7, 1, 6, 7, 9, 2, 10, 1, 2, 4, 7, 8, 1, 2, 3, 4, 5, 6, 7, 8, 9, 10, 4, 8, 1, 3, 9, 2, 6, 9, 10, 2, 1, 4, 9, 10, 6, 7, 8, 10, 1, 3, 9, 2, 10, 5, 9, 2, 6, 7, 8, 9, 10, 8, 10, 2, 10, 3, 2, 10, 1, 10, 1, 4, 5, 6, 7, 8, 9, 9, 10, 5, 1, 2, 4, 5, 6, 10, 10, 1, 2, 3, 4, 5, 6, 7, 8, 9, 10, 1, 5, 6, 4, 5, 10, 8, 10, 3, 4, 7, 8, 10, 3, 6, 10, 1, 2, 3, 4, 5, 6, 7, 8, 9, 10, 5, 6, 4, 1, 2, 4, 3, 6, 8, 1, 2, 3, 4, 5, 7, 8, 9, 1, 9, 1, 1, 5, 10, 1, 2, 5, 9, 2, 5, 7, 8, 5, 6, 7, 1, 2, 5, 6, 7, 10, 3, 10, 1, 2, 3, 4, 5, 6, 7, 9, 10, 2, 3, 4, 1, 5, 7, 8, 2, 1, 2, 3, 9, 1, 2, 9, 3, 7, 8, 4, 4, 4, 4, 5, 4, 5, 8, 1, 9, 1, 9, 10, 7, 9, 2, 4, 5, 7, 4, 4, 5, 1, 1, 2, 3, 4, 5, 6, 7, 9, 10, 3, 1, 2, 4, 5, 6, 7, 8, 10, 2, 6, 3, 5, 1, 3, 6, 7, 8, 10, 3, 1, 2, 3, 4, 5, 6, 7, 8, 9, 10, 1, 2, 3, 4, 5, 6, 7, 1, 2, 3, 5, 6, 7, 9, 1, 3, 5, 6, 8, 9, 3, 10, 2, 9, 1, 9, 5, 7, 3, 2, 6, 1, 5, 6, 5, 1, 2, 3, 4, 5, 6, 7, 8, 9, 10, 10, 1, 3, 4, 5, 8, 9, 4, 1, 2, 3, 5, 6, 7, 9, 1, 2, 3, 4, 5, 6, 7, 8, 9, 10, 1, 2, 3, 4, 5, 6, 7, 8, 9, 10, 3, 7, 9, 1, 3, 6, 8, 7, 9, 10, 2, 9, 2, 2, 9, 1, 3, 1, 6, 1, 6, 1, 4, 5, 6, 7, 9, 10, 5, 6, 9, 5, 9, 1, 3, 4, 5, 6, 7, 9, 3, 1, 2, 3, 4, 5, 6, 7, 8, 9, 10, 1, 2, 3, 4, 6, 8, 3, 1, 8, 1, 3, 4, 6, 1, 4, 1, 2, 3, 4, 6, 7, 8, 1, 2, 4, 5, 6, 1, 2, 3, 4, 5, 6, 7, 8, 9, 10, 1, 10, 1, 5, 8, 5, 2, 1, 3, 1, 3, 2, 3, 4, 5, 6, 7, 8, 9, 10, 1, 2, 3, 4, 5, 6, 8, 9, 1, 5, 6, 10, 1, 2, 5, 6, 9, 1, 2, 3, 5, 6, 9, 1, 4, 7, 4, 7, 4, 4, 5, 9, 1, 2, 3, 4, 5, 6, 7, 8, 10, 2, 5, 7, 1, 4, 6, 7, 8, 10, 3, 4, 7, 10, 1, 3, 7, 8, 9, 1, 5, 3, 4, 1, 5, 6, 7, 5, 6, 7, 4, 1, 2, 3, 4, 5, 6, 7, 8, 9, 1, 5, 10, 1, 9, 3, 8, 2, 7, 9, 10, 1, 2, 3, 4, 5, 6, 7, 8, 9, 1, 2, 3, 9, 10, 1, 8, 1, 3, 6, 7, 1, 2, 3, 4, 8, 9, 7, 8, 6, 8, 1, 3, 4, 9, 2, 3, 5, 9, 10, 2, 6, 1, 3, 4, 6, 7, 8, 4, 1, 5, 6, 9, 1, 2, 3, 5, 6, 9, 10, 9, 4, 7, 5, 6, 7, 1, 7, 8, 9, 10, 2, 4, 7, 8, 7, 10, 1, 2, 3, 4, 5, 6, 7, 8, 9, 10, 3, 5, 6, 5, 3, 6, 7, 5, 6, 6, 7, 9, 10, 3, 1, 3, 4, 8, 9, 1, 4, 7, 8, 9, 1, 3, 5, 6, 9, 1, 1, 4, 8, 9, 1, 2, 4, 6, 8, 10, 2, 1, 9, 6, 9, 2, 6, 7, 9, 1, 2, 3, 4, 6, 7, 9, 10, 1, 2, 3, 4, 5, 6, 7, 8, 9, 10, 1, 2, 3, 4, 6, 7, 8, 9, 10, 1, 7, 8, 3, 8, 1, 8, 1, 2, 3, 4, 5, 6, 7, 8, 9, 10, 3, 4, 7, 3, 4, 8, 9, 10, 1, 4, 10, 3, 3, 8, 5, 6, 7, 3, 7, 9, 1, 5, 6, 7, 8, 5, 6, 2, 3, 4, 6, 7, 8, 9, 10, 2, 10, 1, 2, 3, 4, 6, 7, 8, 9, 10, 4, 7, 8, 4, 10, 2, 5, 9, 3, 4, 6, 7, 1, 2, 3, 4, 5, 6, 7, 8, 9, 1, 2, 3, 4, 5, 6, 7, 8, 9, 10, 1, 2, 4, 5, 9, 10, 1, 5, 9, 1, 5, 9, 3, 1, 2, 3, 4, 5, 6, 7, 8, 9, 10, 2, 3, 6, 9, 1, 2, 3, 5, 6, 8, 9, 1, 2, 3, 4, 5, 6, 7, 8, 9, 10, 3, 3, 5, 6, 7, 8, 9, 10, 1, 2, 4, 6, 10, 4, 1, 9, 10, 2, 5, 6, 7, 10, 1, 2, 3, 4, 5, 6, 7, 8, 10, 1, 2, 3, 4, 5, 6, 7, 8, 9, 10, 1, 2, 3, 4, 5, 6, 8, 9, 10, 1, 2, 3, 4, 5, 6, 7, 8, 9, 1, 2, 3, 4, 5, 6, 7, 8, 9, 6, 1, 4, 5, 8], \"Freq\": [0.025447222737086266, 0.9415472412721918, 0.17640571036533884, 0.14112456829227107, 0.03528114207306777, 0.6350605573152198, 0.9636962230270534, 0.022945148167310796, 0.012559824014623596, 0.09419868010967697, 0.18839736021935394, 0.08791876810236517, 0.12559824014623597, 0.11303841613161236, 0.05651920806580618, 0.2637563043070955, 0.06279912007311798, 0.01163631193683668, 0.8494507713890775, 0.12799943130520347, 0.954721622585468, 0.9770353478163251, 0.09484986217990074, 0.7587988974392059, 0.1264664829065343, 0.9797165632178908, 0.09042691857318923, 0.8477523616236491, 0.045213459286594614, 0.022606729643297307, 0.20724883723732793, 0.14347996424122703, 0.07971109124512613, 0.15145107336573962, 0.07173998212061351, 0.05579776387158829, 0.29493103760696665, 0.9621044466639344, 0.016035074111065573, 0.14460535476898514, 0.7230267738449258, 0.07230267738449257, 0.07000410078080187, 0.8400492093696224, 0.7871963713429888, 0.1749325269651086, 0.22644804585544337, 0.05661201146386084, 0.7076501432982606, 0.9918587899987279, 0.27499892292650163, 0.4999980416845484, 0.04999980416845484, 0.14999941250536453, 0.07916096507163571, 0.7124486856447214, 0.07916096507163571, 0.32117249134028397, 0.0054436015481404065, 0.01633080464442122, 0.02721800774070203, 0.36472130372540723, 0.021774406192561626, 0.20141325728119502, 0.04354881238512325, 0.9060731602177939, 0.058081612834473974, 0.011616322566894795, 0.02323264513378959, 0.6354703656237708, 0.06185994709611928, 0.011247263108385324, 0.28680520926382574, 0.015465504285186046, 0.8969992485407907, 0.09279302571111628, 0.11252975018901731, 0.19544640822303008, 0.12437498705101914, 0.11252975018901731, 0.10660713175801641, 0.21321426351603281, 0.017767855293002732, 0.11845236862001822, 0.9659447999272435, 0.02195329090743735, 0.9869068923643729, 0.9882876523077948, 0.9971416565085907, 0.9873034188841608, 0.9925303890439092, 0.05012478336814788, 0.9022461006266618, 0.9153115440406209, 0.8477026499408151, 0.034600108160849595, 0.034600108160849595, 0.051900162241274396, 0.034600108160849595, 0.2574060035910728, 0.018386143113648057, 0.6986734383186262, 0.6661596051534829, 0.08775755277471033, 0.10770245113259903, 0.07180163408839936, 0.011966939014733226, 0.05584571540208839, 0.00811400479884038, 0.01622800959768076, 0.7708304558898362, 0.07302604318956343, 0.04868402879304228, 0.00811400479884038, 0.08114004798840381, 0.9721753598090837, 0.01341166177338268, 0.14752827950720948, 0.05364664709353072, 0.11399912507375277, 0.12070495596044412, 0.14082244862051813, 0.24140991192088823, 0.10729329418706143, 0.05364664709353072, 0.00670583088669134, 0.29186143739462633, 0.6566882341379092, 0.06728780452443314, 0.8410975565554142, 0.06728780452443314, 0.7172561891180265, 0.21517685673540796, 0.9722830445197699, 0.04756237246433429, 0.8204509250097666, 0.011890593116083573, 0.10701533804475216, 0.020965182517844835, 0.07337813881245693, 0.8700550744905607, 0.03144777377676725, 0.9586081858157651, 0.0073739091216597314, 0.022121727364979197, 0.0073739091216597314, 0.9704343856897195, 0.05897517698094096, 0.05897517698094096, 0.8256524777331734, 0.967501407801144, 0.9770353297920603, 0.9710789389080516, 0.009337297489500497, 0.009337297489500497, 0.955056792901551, 0.020762104193511977, 0.03085786358912693, 0.589104668519696, 0.08135254946224373, 0.12343145435650772, 0.014026301631421333, 0.0336631239154112, 0.0925735907673808, 0.028052603262842667, 0.011221041305137066, 0.0473104635080881, 0.14623234175227232, 0.21074661017239243, 0.3225713421006007, 0.06881521964812815, 0.08601902456016018, 0.05591236596410412, 0.04300951228008009, 0.021504756140040045, 0.06236467877993085, 0.13470770616465064, 0.25195330227092066, 0.3542313754700072, 0.01746211005838064, 0.06485926593112809, 0.09728889889669214, 0.002494587151197234, 0.01746211005838064, 0.9924937946291154, 0.9613102501606464, 0.08751030658713797, 0.08751030658713797, 0.7000824526971038, 0.13017472760737944, 0.028927717246084318, 0.11571086898433727, 0.014463858623042159, 0.10124701036129512, 0.4339157586912648, 0.15910244485346375, 0.970871376726259, 0.14905461967623082, 0.10198473977847372, 0.03137991993183807, 0.5491485988071662, 0.03137991993183807, 0.023534939948878553, 0.10982971976143324, 0.9673708890030275, 0.961765169555957, 0.0489316689973046, 0.9297017109487873, 0.9692287414419873, 0.04792080855733762, 0.766732936917402, 0.04792080855733762, 0.07986801426222936, 0.04792080855733762, 0.9789202411299676, 0.9818246358065192, 0.9176863134590849, 0.08235646402837941, 0.0695504795550835, 0.20865143866525052, 0.695504795550835, 0.9766005385554226, 0.9641491415399921, 0.011721066141733362, 0.8908010267717354, 0.011721066141733362, 0.023442132283466723, 0.046884264566933447, 0.9858733361172853, 0.31011969555991564, 0.02297182930073449, 0.06891548790220348, 0.21823237835697765, 0.02297182930073449, 0.3560633541613846, 0.9805106565479024, 0.007907344004418566, 0.9921814241863545, 0.8853960150625474, 0.10876632081587329, 0.005724543200835436, 0.017758838153653356, 0.8879419076826678, 0.07103535261461343, 0.8341279868628674, 0.009755882887285, 0.14633824330927497, 0.0048779414436425, 0.975672331724305, 0.2022588339074499, 0.021865819881886475, 0.21865819881886475, 0.24599047367122284, 0.08199682455707429, 0.09839618946848915, 0.07653036958660267, 0.04919809473424457, 0.4940908520199948, 0.057349831038035114, 0.2779261042612471, 0.008823050928928478, 0.022057627322321197, 0.14116881486285565, 0.9864449147643679, 0.048449912627268076, 0.9205483399180935, 0.024224956313634038, 0.10957083106319511, 0.03652361035439837, 0.07304722070879674, 0.7669958174423658, 0.057383867782380034, 0.13389569149222008, 0.07651182370984005, 0.7268623252434805, 0.14903989045076987, 0.46574965765865584, 0.02794497945951935, 0.33533975351423223, 0.018629986306346234, 0.06991128077078353, 0.9088466500201858, 0.11605824335208538, 0.05802912167604269, 0.11605824335208538, 0.667334899274491, 0.992716587853645, 0.9723886431013521, 0.9735194498724994, 0.24574677350316954, 0.7372403205095086, 0.048808129648596606, 0.048808129648596606, 0.0732121944728949, 0.7565260095532473, 0.061010162060745755, 0.9673709220756679, 0.839041765231802, 0.056564613386413616, 0.028282306693206808, 0.01885487112880454, 0.04713717782201135, 0.9826991947017577, 0.2511711743917039, 0.7176319268334397, 0.9913925167719875, 0.3149734823802792, 0.6299469647605584, 0.05004963172198713, 0.052830166817653075, 0.013902675478329756, 0.8814296253261066, 0.7857064547722107, 0.1444977388086824, 0.027093326026627954, 0.027093326026627954, 0.15402811116094603, 0.11552108337070952, 0.03850702779023651, 0.03850702779023651, 0.6161124446437841, 0.06550174462747739, 0.7336195398277467, 0.013100348925495478, 0.03930104677648644, 0.11790314032945931, 0.026200697850990957, 0.954721618047876, 0.015326192568442377, 0.32185004393728994, 0.6437000878745799, 0.026939014665588665, 0.05387802933117733, 0.080817043996766, 0.80817043996766, 0.12650999175983124, 0.12650999175983124, 0.6325499587991561, 0.9673708874714706, 0.14342573976611034, 0.7888415687136068, 0.9693269105738791, 0.30144156495463637, 0.011164502405727273, 0.5582251202863636, 0.03349350721718182, 0.03907575842004545, 0.02791125601431818, 0.005582251202863636, 0.005582251202863636, 0.011164502405727273, 0.10332280280601648, 0.7675408208446939, 0.07380200200429748, 0.044281201202578495, 0.05429186491590995, 0.322131731834399, 0.13030047579818388, 0.08324752620439525, 0.028955661288485306, 0.10134481450969857, 0.23888420563000376, 0.018097288305303317, 0.021716745966363978, 0.9769358691356808, 0.08694125598355369, 0.17388251196710738, 0.6085887918848759, 0.9111176428961243, 0.08282887662692039, 0.047192400744220556, 0.047192400744220556, 0.047192400744220556, 0.09438480148844111, 0.14157720223266168, 0.6135012096748673, 0.060940837424046435, 0.3656450245442786, 0.5484675368164179, 0.09217349029558523, 0.7373879223646819, 0.09217349029558523, 0.8374877094025857, 0.01069133246045854, 0.0071275549736390265, 0.024946442407736594, 0.0071275549736390265, 0.014255109947278053, 0.09265821465730735, 0.05288434887089337, 0.21153739548357348, 0.7403808841925072, 0.0905244881969739, 0.0905244881969739, 0.05029138233165216, 0.372156229254226, 0.020116552932660865, 0.38221450572055643, 0.07994421432077467, 0.04330311609041961, 0.056627151810548726, 0.08660623218083922, 0.056627151810548726, 0.26314970547254996, 0.2764737411926791, 0.12657833934122656, 0.006662017860064556, 0.1835489438456238, 0.042828086897312226, 0.12236596256374922, 0.08565617379462445, 0.08565617379462445, 0.1529574532046865, 0.2202587326147486, 0.05506468315368715, 0.018354894384562382, 0.030591490640937306, 0.09511349046471526, 0.11413618855765832, 0.13315888665060138, 0.11413618855765832, 0.03804539618588611, 0.47556745232357633, 0.9035440654475306, 0.07856904916935048, 0.9584422362861488, 0.9772296084806801, 0.9770353275216176, 0.23163519291723758, 0.6949055787517128, 0.06772844629349564, 0.2201174504538608, 0.6942165745083303, 0.1708055949943551, 0.5978195824802428, 0.08540279749717755, 0.02410683618962929, 0.23838982454188967, 0.13660540507456598, 0.21160445099785713, 0.01874976148082278, 0.10446295682172693, 0.15803370390979202, 0.08035612063209764, 0.013392686772016273, 0.01607122412641953, 0.17563192715785284, 0.7903436722103377, 0.23418078642114024, 0.46836157284228047, 0.278089683875104, 0.014636299151321265, 0.9779306620794777, 0.0721747597518226, 0.0721747597518226, 0.7939223572700485, 0.22190397870023892, 0.26417140321457017, 0.052834280642914025, 0.3909736767575638, 0.010566856128582805, 0.052834280642914025, 0.018301604102178935, 0.8479743234009574, 0.09150802051089468, 0.03660320820435787, 0.03846547943957882, 0.8847060271103129, 0.06410913239929804, 0.21529701028233567, 0.053824252570583916, 0.6997152834175909, 0.07262577667650069, 0.32681599504425307, 0.5955313687473056, 0.052741858877786436, 0.4043542513963627, 0.12306433738150169, 0.08614503616705119, 0.01406449570074305, 0.09845146990520136, 0.061532168690750844, 0.06680635457852949, 0.038677363177043386, 0.05098379691519356, 0.0038283528342282092, 0.3598651664174517, 0.14547740770067197, 0.22204446438523615, 0.030626822673825674, 0.06508199818187956, 0.13782070203221553, 0.026798469839597466, 0.0076567056684564185, 0.02248813441475481, 0.36798765405962414, 0.18910476666952908, 0.14617287369590626, 0.05315377225305682, 0.062353463604547424, 0.07257534288398143, 0.05928689982071722, 0.017377194775037807, 0.010221879279434003, 0.2601464033382297, 0.6937237422352791, 0.9300823254800212, 0.05720350574788834, 0.8008490804704368, 0.038135670498592227, 0.009533917624648057, 0.047669588123240285, 0.038135670498592227, 0.018550274649393628, 0.8718629085215006, 0.018550274649393628, 0.05565082394818089, 0.04331870138216898, 0.9096927290255485, 0.02165935069108449, 0.023464177940416078, 0.8564424948251869, 0.035196266910624115, 0.07039253382124823, 0.9600232385553891, 0.01714327211706052, 0.021866942796696844, 0.8965446546645707, 0.04373388559339369, 0.021866942796696844, 0.9858733361172853, 0.8342987467089302, 0.08342987467089302, 0.5817247784554606, 0.08198805602392398, 0.0078083862879927595, 0.0078083862879927595, 0.0039041931439963797, 0.31623964466370674, 0.10745487125502334, 0.01628104109924596, 0.18723197264132854, 0.03419018630841652, 0.6544978521896876, 0.08086268063211507, 0.04043134031605754, 0.026954226877371694, 0.41779051659926125, 0.04043134031605754, 0.39083628972188955, 0.930739098345588, 0.1342474920948999, 0.1342474920948999, 0.6712374604744994, 0.541720307887654, 0.028020015925223483, 0.009340005308407827, 0.04670002654203914, 0.13076007431770958, 0.24284013801860352, 0.9688716412495358, 0.06610438378773856, 0.9122404962707922, 0.013220876757547713, 0.03494000036437619, 0.06988000072875238, 0.8560300089272166, 0.017470000182188094, 0.9692282275068576, 0.12630358425271862, 0.04210119475090621, 0.12630358425271862, 0.7157203107654055, 0.9735194463439945, 0.00480437203214648, 0.6485902243397749, 0.04323934828931832, 0.20658799738229866, 0.09608744064292961, 0.9390768655646523, 0.026085468487907007, 0.11149027676500048, 0.4816379956248021, 0.13378833211800056, 0.026757666423600116, 0.004459611070600019, 0.04905572177660021, 0.017838444282400077, 0.04905572177660021, 0.12040949890620052, 0.008471020015659286, 0.8894571016442249, 0.008471020015659286, 0.08471020015659285, 0.9432298864167508, 0.012410919558115142, 0.037232758674345424, 0.07070543309872533, 0.8201830239452139, 0.028282173239490133, 0.028282173239490133, 0.0424232598592352, 0.9747914809748106, 0.014335168837864861, 0.15230193076334275, 0.8291994008226439, 0.012504469143626082, 0.762772617761191, 0.012504469143626082, 0.20007150629801732, 0.924897016424208, 0.07114592434032369, 0.810056109312298, 0.1774408620398367, 0.11524204743914332, 0.8355048439337891, 0.02881051185978583, 0.9708714212771186, 0.9390113415334255, 0.9457920081713151, 0.8733058420570674, 0.05137093188570985, 0.9579602248197484, 0.008630272295673409, 0.034521089182693636, 0.09488716206825311, 0.22140337815925726, 0.6642101344777718, 0.011888802739133236, 0.005944401369566618, 0.11888802739133235, 0.15455443560873205, 0.05349961232609956, 0.6182177424349282, 0.035666408217399706, 0.03901365891859565, 0.5266843954010413, 0.0780273178371913, 0.33161610080806303, 0.019506829459297825, 0.8382938055732205, 0.15523959362467046, 0.1744177487417334, 0.0872088743708667, 0.7267406197572226, 0.9880068797414188, 0.010623729889692676, 0.31070643912895946, 0.6657995124191989, 0.0234742622213999, 0.971834455965956, 0.00469485244427998, 0.9522197781927862, 0.041103012008321706, 0.19788184959409186, 0.7585470901106854, 0.12528721881753171, 0.8143669223139561, 0.03132180470438293, 0.03132180470438293, 0.9880705766828587, 0.32467250097193784, 0.6493450019438757, 0.04180663429844972, 0.08361326859689944, 0.7943260516705446, 0.04180663429844972, 0.3030763474655167, 0.1540224060890331, 0.049684647125494544, 0.08446390011334073, 0.08943236482589019, 0.07949543540079128, 0.049684647125494544, 0.13911701195138473, 0.049684647125494544, 0.07332965114184735, 0.12221608523641225, 0.7821829455130384, 0.9800067792686514, 0.9811491202921158, 0.9963593601557649, 0.0023499041513107663, 0.9537785480928447, 0.02119507884650766, 0.05797720555918193, 0.16088674542672984, 0.23045939209774816, 0.28408830723999146, 0.026089742501631867, 0.09276352889469108, 0.09421295903367063, 0.020292021945713674, 0.020292021945713674, 0.011595441111836385, 0.03181214490338157, 0.94376029880032, 0.01060404830112719, 0.07604743062494301, 0.3574229239372322, 0.33460869474974925, 0.011407114593741453, 0.06844268756244871, 0.09125691674993162, 0.04943082990621296, 0.007604743062494302, 0.7161487749024804, 0.045906972750158995, 0.0183627891000636, 0.0091813945500318, 0.2111720746507314, 0.30625889908350346, 0.6635609480142575, 0.07378821789450199, 0.024596072631500664, 0.22136465368350597, 0.04919214526300133, 0.5411135978930146, 0.04919214526300133, 0.04919214526300133, 0.11125287548888681, 0.16687931323333022, 0.7231436906777642, 0.022744367965807637, 0.8824814770733362, 0.027293241558969165, 0.018195494372646108, 0.004548873593161527, 0.04548873593161527, 0.012237015996277361, 0.13460717595905097, 0.17131822394788307, 0.048948063985109445, 0.44053257586598504, 0.18355523994416043, 0.14824210769405258, 0.8153315923172891, 0.05035371318754803, 0.9063668373758644, 0.2503243104904018, 0.015171170332751626, 0.24653151790721392, 0.10999098491244928, 0.09481981457969767, 0.04172071841506697, 0.015171170332751626, 0.02275675549912744, 0.20101800690895905, 0.007585585166375813, 0.017496803431886657, 0.04665814248503108, 0.857343368162446, 0.03499360686377331, 0.04082587467440219, 0.9806247024132927, 0.9637255646090985, 0.022945846776407108, 0.13255935701498747, 0.1988390355224812, 0.5965171065674436, 0.06627967850749374, 0.07946344088184228, 0.1986586022046057, 0.6754392474956594, 0.08973131865928591, 0.49007104806225377, 0.04831686389346164, 0.17256022819093442, 0.14495059168038493, 0.03451204563818688, 0.02070722738291213, 0.970058904573198, 0.02425147261432995, 0.9171725660890224, 0.04585862830445112, 0.39124427350745306, 0.046028738059700355, 0.5293304876865541, 0.973886674154306, 0.9602963426316118, 0.9444425566862362, 0.026234515463506563, 0.013117257731753281, 0.013117257731753281, 0.9423599925991826, 0.8717853120113497, 0.09176687494856313, 0.6918863992481361, 0.15966609213418526, 0.05322203071139509, 0.05322203071139509, 0.5633744719255287, 0.05881381849772003, 0.003095464131458949, 0.003095464131458949, 0.17953691962461904, 0.018572784788753693, 0.037145569577507385, 0.10215031633814531, 0.03405010544604844, 0.1580360406123923, 0.07901802030619615, 0.7111621827557653, 0.9722655667052912, 0.9772296048386918, 0.034756732145411307, 0.31281058930870176, 0.06951346429082261, 0.5734860803992866, 0.9750801790992685, 0.013357262727387239, 0.25172418903541266, 0.041954031505902115, 0.03356322520472169, 0.025172418903541268, 0.12586209451770633, 0.050344837807082536, 0.03356322520472169, 0.3356322520472169, 0.0755172567106238, 0.025172418903541268, 0.8821017840793178, 0.04704542848423029, 0.011761357121057572, 0.011761357121057572, 0.035284071363172714, 0.4889511455297432, 0.4987301684403381, 0.341281052497905, 0.6286756230224566, 0.9505047021464424, 0.24896323002196372, 0.7341223449365597, 0.012767345129331472, 0.12247540559246012, 0.1388054596714548, 0.1959606489479362, 0.032660108157989365, 0.016330054078994682, 0.3021060004614016, 0.18779562190843885, 0.12598390199650766, 0.7559034119790461, 0.06299195099825383, 0.976928220874053, 0.08331337064078152, 0.8331337064078151, 0.21821130632377375, 0.04364226126475475, 0.698276180236076, 0.011050085399510788, 0.2884072289272316, 0.2817771776875251, 0.12376095647452083, 0.012155093939461866, 0.11271087107501004, 0.07735059779657552, 0.05525042699755394, 0.023205179338972655, 0.014365111019364024, 0.12410420843158504, 0.8066773548053028, 0.15115975249139948, 0.7054121782931976, 0.10077316832759965, 0.03245405321665007, 0.8113513304162517, 0.12981621286660028, 0.11629500168781724, 0.8528300123773265, 0.18108217301903218, 0.04024048289311826, 0.08048096578623652, 0.02012024144655913, 0.04024048289311826, 0.603607243396774, 0.02012024144655913, 0.9642666007449412, 0.9547215769029026, 0.033497584713578644, 0.23593950972172784, 0.14709808939441057, 0.10194917086741327, 0.05680025234041596, 0.09612350396070393, 0.15001092284776524, 0.1441852559410559, 0.016020583993450657, 0.01893341744680532, 0.8432498343647141, 0.0037147569795802386, 0.14859027918320955, 0.9306383753230878, 0.02658966786637394, 0.039884501799560906, 0.40699944225383483, 0.036177728200340875, 0.027133296150255656, 0.0994887525509374, 0.009044432050085219, 0.009044432050085219, 0.05426659230051131, 0.12662204870119306, 0.22611080125213048, 0.008490634760032504, 0.8830260150433804, 0.10188761712039004, 0.01901481663431745, 0.0887358109601481, 0.20916298297749195, 0.3739580604749098, 0.0126765444228783, 0.01901481663431745, 0.20916298297749195, 0.05704444990295235, 0.0253530888457566, 0.06988775532733765, 0.5940459202823701, 0.044927842710431355, 0.019967930093525047, 0.014975947570143784, 0.009983965046762524, 0.1048316329910065, 0.02995189514028757, 0.07487973785071891, 0.039935860187050094, 0.044647269367718075, 0.15180071585024146, 0.14287126197669783, 0.19644798521795953, 0.4732610552978116, 0.17526818394416763, 0.7711800093543376, 0.01732226073966334, 0.20570184628350216, 0.29989163905542154, 0.12883431425124608, 0.02273546722080813, 0.08985922758700357, 0.09852035795683524, 0.04222301055292939, 0.07686753203225606, 0.01732226073966334, 0.37377498704569945, 0.037377498704569946, 0.028033124028427458, 0.45787435913098185, 0.07008281007106865, 0.018688749352284973, 0.018688749352284973, 0.2404940183111136, 0.7214820549333408, 0.04328001825973118, 0.18033340941554657, 0.3318134733246057, 0.11902005021426074, 0.02885334550648745, 0.10098670927270609, 0.14426672753243727, 0.03606668188310932, 0.01803334094155466, 0.09799476531373322, 0.04899738265686661, 0.14699214797059984, 0.636965974539266, 0.8867444839598407, 0.03773380782807833, 0.05660071174211749, 0.11973233624867625, 0.1693774512786152, 0.26282707957026497, 0.13141353978513248, 0.06132631856639516, 0.04964511502993894, 0.0905293274075357, 0.037963911493482716, 0.07592782298696543, 0.9676131908117044, 0.021991208882084192, 0.2711846384073478, 0.08344142720226086, 0.04172071360113043, 0.6049503472163912, 0.03048726055304225, 0.12957085735042956, 0.03048726055304225, 0.21341082387129573, 0.03048726055304225, 0.5563925050930211, 0.007621815138260562, 0.04056771448865874, 0.05273802883525636, 0.3813365161933922, 0.27991722997174534, 0.10547605767051273, 0.07707865752845161, 0.03651094303979287, 0.016227085795463496, 0.004056771448865874, 0.004056771448865874, 0.09753579782334652, 0.2438394945583663, 0.658366635307589, 0.9600385501827201, 0.038622240524592184, 0.1250432345977105, 0.8127810248851183, 0.9571534804915411, 0.4495272365025844, 0.022476361825129222, 0.4944799601528429, 0.9708762540309076, 0.48374952120210857, 0.005691170837671866, 0.005691170837671866, 0.19349980848084344, 0.2674850293705777, 0.03983819586370306, 0.33597895094763797, 0.6542747992138214, 0.9535132919894918, 0.070492053409757, 0.2978857740863925, 0.2410373439172336, 0.1364362324059813, 0.006821811620299064, 0.12506654637214953, 0.08868355106388784, 0.002273937206766355, 0.029561183687962615, 0.30245561864148235, 0.12492732074322098, 0.07232634358818056, 0.03287561072190026, 0.1380775650319811, 0.03945073286628031, 0.04602585501066036, 0.07890146573256061, 0.16437805360950128, 0.9708713759187201, 0.9769282206837694, 0.15715751883053986, 0.04835615964016611, 0.24178079820083057, 0.024178079820083055, 0.20551367847070598, 0.3143150376610797, 0.13091043986004802, 0.8358128083372297, 0.01007003383538831, 0.02014006767077662, 0.916041148364041, 0.009443723179010733, 0.06610606225307512, 0.31797701842412446, 0.043858899092982684, 0.043858899092982684, 0.043858899092982684, 0.5153420643425465, 0.021929449546491342, 0.016900421426373748, 0.3971599035197831, 0.11830294998461624, 0.033800842852747495, 0.008450210713186874, 0.07605189641868187, 0.033800842852747495, 0.2788569535351669, 0.04225105356593437, 0.9602223312791144, 0.02526900871787143, 0.015931985473786707, 0.5363768442841524, 0.07965992736893353, 0.14869853108867592, 0.015931985473786707, 0.058417280070551254, 0.05310661824595569, 0.021242647298382277, 0.0690386037197424, 0.8254350637125882, 0.1335964264968351, 0.009542601892631078, 0.028627805677893234, 0.6768890026401523, 0.17703250838280904, 0.13537780052803045, 0.01041367696369465, 0.011203183039677603, 0.10082864735709843, 0.12323501343645363, 0.28007957599194006, 0.4705336876664593, 0.9564078349005797, 0.14238597701831535, 0.1661169731880346, 0.6644678927521384, 0.9518934842589104, 0.14125214432764271, 0.028250428865528542, 0.056500857731057084, 0.734511150503742, 0.029495169037587463, 0.9438454092027988, 0.014747584518793731, 0.14459334437145924, 0.7229667218572962, 0.05684599918173424, 0.1705379975452027, 0.6821519901808109, 0.12806070836609293, 0.8644097814711272, 0.9826025014441749, 0.00663920609083902, 0.00663920609083902, 0.9739450094963018, 0.01173427722284701, 0.047983649734174336, 0.8637056952151381, 0.047983649734174336, 0.10356247394234928, 0.03452082464744976, 0.7594581422438947, 0.10356247394234928, 0.1431019657287736, 0.8109111391297171, 0.12573878307479716, 0.04191292769159905, 0.0838258553831981, 0.04191292769159905, 0.7125197707571839, 0.09444940478572819, 0.08770301872960475, 0.5869355868827395, 0.03373193028061721, 0.06746386056123442, 0.006746386056123443, 0.047224702392864096, 0.020239158168370328, 0.047224702392864096, 0.006746386056123443, 0.11319720353727702, 0.8678452271191239, 0.6315358226843866, 0.16802329227382762, 0.20278673205461956, 0.9508887573453093, 0.013392799399229709, 0.013392799399229709, 0.013392799399229709, 0.9791922833309933, 0.04697700028009008, 0.8455860050416214, 0.01565900009336336, 0.0782950004668168, 0.03343262206037375, 0.8358155515093438, 0.03343262206037375, 0.0668652441207475, 0.08295564347582579, 0.16591128695165158, 0.7189489101238236, 0.9693336805451555, 0.9219025572956528, 0.9422289778295154, 0.9901672008197046, 0.9785954795312908, 0.0653486301401539, 0.6534863014015388, 0.1306972602803078, 0.0653486301401539, 0.09802294521023083, 0.8818396429265861, 0.058789309528439075, 0.40401066440718625, 0.5483001874097527, 0.9774888259846686, 0.2408043476543618, 0.6421449270782981, 0.9720982303425273, 0.027992357418240313, 0.5161391095334583, 0.04129112876267666, 0.25290816367139457, 0.015484173286003749, 0.010322782190669165, 0.12903477738336458, 0.03612973766734208, 0.03631827832646895, 0.9079569581617238, 0.9545035944845012, 0.3250767989001747, 0.009850812087884082, 0.07880649670307266, 0.019701624175768165, 0.27582273846075434, 0.2955243626365225, 0.9661409436409161, 0.1836354418974744, 0.05370470470586516, 0.26679111370010433, 0.027718557267543308, 0.10567699958250885, 0.0398454260720935, 0.07276121282730118, 0.22174845814034647, 0.02598614743832185, 0.0017324098292214568, 0.22195911830507314, 0.7521947898116368, 0.012331062128059619, 0.0950128292225096, 0.1900256584450192, 0.6650898045575672, 0.04391752947583696, 0.922268118992576, 0.07717885804252772, 0.17640881838292052, 0.4189709436594362, 0.27563877872331327, 0.05512775574466266, 0.967370899525221, 0.3304345282014777, 0.6136641238027443, 0.23389913821668415, 0.1403394829300105, 0.13608677132607078, 0.08080152047485452, 0.34446963991911667, 0.02976898122757798, 0.004252711603939712, 0.004252711603939712, 0.02551626962363827, 0.004252711603939712, 0.25319786534346106, 0.708954022961691, 0.943109542674343, 0.9864048237956563, 0.02647858852450101, 0.9532291868820363, 0.9374669854890109, 0.04032116066619402, 0.010080290166548505, 0.09752577145905653, 0.06339175144838674, 0.22918556292878284, 0.1316597914697263, 0.02925773143771696, 0.3608453543985092, 0.05851546287543392, 0.034134020010669786, 0.7793531023303093, 0.2134533974535242, 0.9912461606902725, 0.453542660377649, 0.05039362893084989, 0.5039362893084989, 0.05475922695159213, 0.013689806737898033, 0.848768017749678, 0.06844903368949017, 0.02210802133736592, 0.8548434917114822, 0.11790944713261824, 0.00736934044578864, 0.8180014015318903, 0.1436185666811716, 0.03746571304726215, 0.16810048496791433, 0.14008373747326194, 0.02801674749465239, 0.05603349498930478, 0.02801674749465239, 0.5603349498930478, 0.9774888160421217, 0.9485987401333003, 0.026813508638712007, 0.5058002765938856, 0.10969162624927639, 0.025594712791497824, 0.054845813124638196, 0.13284874734634586, 0.11456680963813312, 0.01096916262492764, 0.019500733555426916, 0.8708128023473036, 0.059038156091342615, 0.059038156091342615, 0.018212279897058883, 0.03642455979411777, 0.03642455979411777, 0.9106139948529441, 0.969333697344897, 0.2095630748897519, 0.23750481820838548, 0.06985435829658397, 0.4889805080760877, 0.31346071877265785, 0.21550424415620228, 0.4505997832356957, 0.07181766396136201, 0.789994303574982, 0.07181766396136201, 0.972283049260712, 0.9815025713828961, 0.9826991941974476, 0.993861344492701, 0.9895743193572504, 0.05135837352259307, 0.17975430732907574, 0.7446964160775995, 0.3265205173261476, 0.6530410346522952, 0.9851483980601096, 0.6877323503032369, 0.20631970509097108, 0.07871421015828936, 0.865856311741183, 0.0833666712970647, 0.7966148590608404, 0.018525926954903266, 0.10189259825196795, 0.9857015087990911, 0.9895503723966078, 0.007276105679386823, 0.9638022558674549, 0.02733953902496146, 0.3998407582400614, 0.1947942155528504, 0.12986281036856695, 0.0034174423781201824, 0.13328025274668712, 0.030756981403081644, 0.06493140518428347, 0.01366976951248073, 0.967398786666394, 0.15743405094384794, 0.24330716964049226, 0.023853644082401204, 0.05724874579776289, 0.20514133910865034, 0.10972676277904553, 0.13835113567792698, 0.06201947461424313, 0.1346309849679995, 0.8077859098079969, 0.0570791586535471, 0.9132665384567537, 0.09339163695509169, 0.7726035420830313, 0.008490148814099244, 0.05094089288459547, 0.008490148814099244, 0.06792119051279395, 0.9842333158338326, 0.02097637473982725, 0.195779497571721, 0.27269287161775424, 0.017480312283189376, 0.10837793615577412, 0.11537006106904987, 0.045448811936292376, 0.16431493546198012, 0.055936999306206, 0.003496062456637875, 0.08515793134566071, 0.03725659496372656, 0.3033751304189163, 0.03193422425462277, 0.047901336381934154, 0.34063172538264286, 0.14902637985490624, 0.34784463561678314, 0.16831192045973378, 0.011220794697315585, 0.011220794697315585, 0.40394860910336106, 0.03366238409194675, 0.02244158939463117, 0.8160961809957878, 0.024482885429873636, 0.06936817538464196, 0.012241442714936818, 0.004080480904978939, 0.06936817538464196, 0.284242336031461, 0.6632321174067423, 0.05695719083787111, 0.9113150534059378, 0.9357363566609126, 0.04455887412671012, 0.2231987150215128, 0.7532956631976058, 0.9739647330733396, 0.034759458948239376, 0.9037459326542238, 0.989116052471707, 0.04034779882248825, 0.9279993729172298, 0.967501407801144, 0.008318165523717145, 0.5074080969467458, 0.10397706904646431, 0.02079541380929286, 0.024954496571151435, 0.11645431733204002, 0.09565890352274715, 0.08318165523717144, 0.03327266209486858, 0.008318165523717145, 0.9756815623285262, 0.09131446572490054, 0.19404323966541365, 0.12555739037173824, 0.20545754788102621, 0.09131446572490054, 0.29677201360592675, 0.9839038357138703, 0.020365153099882974, 0.061095459299648915, 0.04073030619976595, 0.10182576549941486, 0.1629212247990638, 0.12219091859929783, 0.4887636743971913, 0.044844948084279336, 0.45741847045964923, 0.12108135982755422, 0.0403604532758514, 0.07175191693484695, 0.03139146365899554, 0.06726742212641901, 0.008968989616855869, 0.017937979233711737, 0.13901933906126596, 0.007722283662623799, 0.24453898264975363, 0.27027992819183294, 0.18790890245717912, 0.010296378216831732, 0.07464874207203005, 0.17761252424034737, 0.010296378216831732, 0.012870472771039665, 0.005148189108415866, 0.9105971573043247, 0.026782269332480138, 0.026782269332480138, 0.046242149198579996, 0.13872644759574, 0.07707024866429998, 0.7398743871772799, 0.1487010420936223, 0.1487010420936223, 0.6691546894213004, 0.9855559788811264, 0.006399714148578743, 0.9723889018833246, 0.9869707710123097, 0.00765093620939775, 0.9645668734862161, 0.022431787755493395, 0.3359505925197378, 0.6515405430685824, 0.17372652213874717, 0.8165146540521118, 0.490960159439877, 0.0040242636019662045, 0.40645062379858665, 0.028169845213763433, 0.008048527203932409, 0.048291163223594454, 0.012072790805898613, 0.8844687551504614, 0.028531250166143916, 0.05706250033228783, 0.2932801809460511, 0.659880407128615, 0.1823355317484042, 0.0607785105828014, 0.020259503527600465, 0.14181652469320327, 0.3950603187882091, 0.08103801411040186, 0.1215570211656028, 0.9547215686436622, 0.00802278456744824, 0.26742615224827465, 0.2540548446358609, 0.19254682961875777, 0.0026742615224827466, 0.10429619937682712, 0.05615949197213768, 0.05348523044965493, 0.042788184359723945, 0.013371307612413733, 0.07212997330267161, 0.027048739988501852, 0.6040885264098748, 0.04508123331416976, 0.018032493325667903, 0.23442241323368274, 0.9674092209733584, 0.3072180171033036, 0.6758796376272679, 0.9202674834303124, 0.03573854304583737, 0.008934635761459343, 0.026803907284378033, 0.9915575725618582, 0.9390113505993836, 0.1133879432226201, 0.0125986603580689, 0.2141772260871713, 0.5165450746808249, 0.0503946414322756, 0.0251973207161378, 0.06929263196937895, 0.07497434786611246, 0.018743586966528114, 0.8871964497489974, 0.0062478623221760374, 0.012495724644352075, 0.05360942444660032, 0.2626861797883416, 0.12598214744951075, 0.07237272300291044, 0.0830946078922305, 0.05360942444660032, 0.26804712223300164, 0.06433130933592039, 0.01340235611165008, 0.005360942444660032, 0.07498937827564074, 0.8248831610320481, 0.07256865035113107, 0.13304252564374028, 0.7861603788039199, 0.9708714279304325, 0.9837735908532141, 0.9930000301140549, 0.005367567730346243, 0.9297525683866621, 0.0699813761151251, 0.5194948575602497, 0.14595331712407014, 0.11626789669205588, 0.019790280288009512, 0.1137941116560547, 0.039580560576019025, 0.004947570072002378, 0.004947570072002378, 0.03710677554001784, 0.049233369724132295, 0.6400338064137199, 0.08440006238422679, 0.140666770640378, 0.021100015596056697, 0.028133354128075598, 0.014066677064037799, 0.021100015596056697, 0.6443637957722831, 0.08139332157123576, 0.25774551830891324, 0.013565553595205958, 0.41175920697630164, 0.20587960348815082, 0.003676421490859836, 0.3272015126865254, 0.04779347938117787, 0.24163394517685113, 0.16612333730908516, 0.007551060786776598, 0.06795954708098938, 0.4606147079933725, 0.06040848629421278, 0.022425639643333717, 0.941876865020016, 0.022425639643333717, 0.9509088121048481, 0.02716882320299566, 0.946866351967062, 0.9237138431009602, 0.05878179001551565, 0.008397398573645092, 0.17961311954593004, 0.08164232706633184, 0.09797079247959821, 0.42454010074492554, 0.016328465413266366, 0.10885643608844245, 0.03265693082653273, 0.02177128721768849, 0.03265693082653273, 0.9735430374675905, 0.19106468667041485, 0.7642587466816594, 0.46888832305953976, 0.022065332849860696, 0.3751106584476318, 0.005516333212465174, 0.08826133139944278, 0.03309799927479104, 0.13732411550741186, 0.045774705169137286, 0.6866205775370593, 0.09154941033827457, 0.22675825679976042, 0.025195361866640047, 0.579493322932721, 0.10078144746656019, 0.050390723733280095, 0.9835079403141405, 0.9864449146719094, 0.9507675609686981, 0.03395598432031065, 0.9933869835065366, 0.15429139809468875, 0.10286093206312584, 0.7200265244418809, 0.987542946912805, 0.2665748789859102, 0.7108663439624271, 0.943109547416991, 0.19760747913908114, 0.03487190808336726, 0.4184628970004071, 0.02324793872224484, 0.0581198468056121, 0.04068389276392847, 0.0581198468056121, 0.00581198468056121, 0.16273557105571387, 0.8498936206245813, 0.13907350155674966, 0.007726305642041648, 0.8605709045775535, 0.13307797493467322, 0.926558322106105, 0.030885277403536835, 0.15415286341383302, 0.770764317069165, 0.025692143902305502, 0.025692143902305502, 0.08874242418275015, 0.024202479322568225, 0.040337465537613706, 0.05647245175265919, 0.685736914139433, 0.016134986215045482, 0.05647245175265919, 0.024202479322568225, 0.008067493107522741, 0.9656247228499673, 0.002995733369751708, 0.003994311159668944, 0.023965866958013664, 0.001997155579834472, 0.7738110367173662, 0.2210888676335332, 0.03882282738825485, 0.19411413694127425, 0.7376337203768422, 0.03882282738825485, 0.014399704538529122, 0.014399704538529122, 0.6695862610416041, 0.07919837496191016, 0.04319911361558736, 0.1655966021930849, 0.35312056845360346, 0.6179609947938061, 0.08765508926785275, 0.7888958034106747, 0.4880603040208395, 0.041833740344643384, 0.06972290057440565, 0.40439282333155274, 0.8696460815326713, 0.0372705463514002, 0.012423515450466733, 0.06211757725233367, 0.012423515450466733, 0.926736973652235, 0.04520668164157244, 0.7863567620142711, 0.09553867202042546, 0.02204738585086741, 0.007349128616955804, 0.007349128616955804, 0.07349128616955804, 0.973522154921889, 0.27533175169233826, 0.21633209061540862, 0.471997288615437, 0.03933310738461975, 0.24620901795077818, 0.021724325113303956, 0.0072414417044346525, 0.5720738946503375, 0.10862162556651977, 0.02896576681773861, 0.0072414417044346525, 0.9686794545489583, 0.9216125752077106, 0.043886313105129075, 0.17930500457237747, 0.10758300274342648, 0.6813590173750343, 0.1584546683646438, 0.06932391740953167, 0.0792273341823219, 0.48526742186672167, 0.19806833545580477, 0.024934914241609808, 0.22441422817448828, 0.07480474272482943, 0.648307770281855, 0.8593298918222578, 0.07161082431852148, 0.02966089207414873, 0.14830446037074366, 0.2595328056488014, 0.15942729489854943, 0.06673700716683464, 0.2187490790468469, 0.05190656112976028, 0.02224566905561155, 0.0037076115092685913, 0.03336850358341732, 0.05403560182566363, 0.8915874301234499, 0.05403560182566363, 0.9875429472343391, 0.07194751645348593, 0.7194751645348594, 0.14389503290697186, 0.3634945151440351, 0.6361154015020614, 0.1572855224392756, 0.02621425373987927, 0.7602133584564987, 0.02621425373987927, 0.9804864439321882, 0.15255413687930172, 0.008475229826627873, 0.8136220633562757, 0.012712844739941808, 0.012712844739941808, 0.02403139322095886, 0.8531144593440395, 0.01201569661047943, 0.04806278644191772, 0.04806278644191772, 0.8567450833632237, 0.06023988867397667, 0.04015992578265112, 0.02007996289132556, 0.02007996289132556, 0.9939355064909217, 0.20870826066513037, 0.08348330426605215, 0.5843831298623651, 0.10435413033256519, 0.07736581343848124, 0.0309463253753925, 0.02578860447949375, 0.1341007432933675, 0.6343996701955462, 0.09799669702207625, 0.9848603344717569, 0.08534120254480637, 0.8534120254480636, 0.7979417806966994, 0.15958835613933986, 0.2723581259041565, 0.0700349466610688, 0.09337992888142507, 0.5524979125484317, 0.012792487825760809, 0.4541333178145087, 0.2590478784716564, 0.03198121956440202, 0.11833051238828748, 0.04157558543372263, 0.06396243912880405, 0.01599060978220101, 0.006323507811812263, 0.42367502339142166, 0.19096993591673034, 0.2187933702887043, 0.021499926560161694, 0.05817627186867282, 0.04932336093213565, 0.020235224997799242, 0.003794104687087358, 0.003794104687087358, 0.01622400921520413, 0.3082561750888785, 0.1622400921520413, 0.11356806450642891, 0.05948803378908181, 0.23254413208459251, 0.01622400921520413, 0.03785602150214297, 0.04867202764561239, 0.1737716455165254, 0.13032873413739407, 0.6516436706869704, 0.24689532266175826, 0.7406859679852748, 0.05862212166705017, 0.8793318250057526, 0.10331157063153155, 0.19031078800545284, 0.1930295135483879, 0.1196239238891418, 0.04757769700136321, 0.044858971458428175, 0.10331157063153155, 0.11146774726033667, 0.07748367797364866, 0.008156176628805122, 0.9261818130487216, 0.04630909065243608, 0.907939137485714, 0.9867264001082069, 0.2951958230804974, 0.09082948402476843, 0.13624422603715264, 0.47685479113003426, 0.1160994924188295, 0.1160994924188295, 0.696596954512977, 0.9758025812688804, 0.8764569027323649, 0.0973841003035961, 0.14425972930999148, 0.7934285112049532, 0.07212986465499574, 0.8898940245879694, 0.07627663067896881, 0.02542554355965627, 0.00991969179556723, 0.6646193503030043, 0.2678316784803152, 0.03967876718226892, 0.01983938359113446, 0.28371935629125206, 0.6890327224216122, 0.6740235996937153, 0.07954315772782976, 0.046051301842427755, 0.03767833787107725, 0.012559445957025751, 0.00418648198567525, 0.05861074779945351, 0.08372963971350501, 0.9703954251446246, 0.01590812172368237, 0.03172564580126402, 0.3119688503790962, 0.22207952060884814, 0.021150430534176014, 0.16391583663986412, 0.05287607633544003, 0.01586282290063201, 0.06345129160252803, 0.11632736793796808, 0.23299307394251664, 0.05824826848562916, 0.6407309533419208, 0.29334959443278585, 0.6705133587035105, 0.4645276398992011, 0.020645672884408935, 0.505818985668019, 0.07161848075722194, 0.07161848075722194, 0.07161848075722194, 0.7161848075722195, 0.1805713121470861, 0.08832292441977038, 0.24730418837535706, 0.0392546330754535, 0.19431043372349485, 0.08243472945845236, 0.02551551149904478, 0.00392546330754535, 0.13739121576408725, 0.10907456302811325, 0.18179093838018875, 0.2740847994039769, 0.08110672635423806, 0.04754532234558783, 0.09509064469117566, 0.036358187676037754, 0.05034210601297535, 0.09229386102378814, 0.027967836673875195, 0.09576181898901417, 0.3638949121582538, 0.038304727595605666, 0.019152363797802833, 0.038304727595605666, 0.4405043673494652, 0.34010939056671313, 0.03091903550606483, 0.6183807101212966, 0.29367215436094196, 0.6417280410109473, 0.054383732289063326, 0.9739696875038973, 0.05082048791295713, 0.15923752879393233, 0.3015348949502123, 0.060984585495548554, 0.027104260220243804, 0.16940162637652376, 0.12196917099109711, 0.03726835780283523, 0.06437261802307903, 0.0033880325275304755, 0.2936775528703381, 0.06526167841563069, 0.6036705253445839, 0.03263083920781534, 0.006477700802028753, 0.012955401604057505, 0.07773240962434504, 0.02591080320811501, 0.22671952807100634, 0.6348146785988178, 0.012955401604057505, 0.04376912914792335, 0.290258435402018, 0.2395783911254752, 0.14282557932480253, 0.027643660514477905, 0.14282557932480253, 0.0598945977813688, 0.006910915128619476, 0.027643660514477905, 0.018429107009651936, 0.9747678625835358, 0.06046867376165288, 0.04031244917443526, 0.02015622458721763, 0.705467860552617, 0.02015622458721763, 0.04031244917443526, 0.10078112293608814, 0.008270854781575876, 0.008270854781575876, 0.9180648807549222, 0.008270854781575876, 0.049625128689455254, 0.9431095476785074, 0.19725301508948417, 0.6706602513042461, 0.1183518090536905, 0.12569903231609952, 0.25139806463219905, 0.11522411295642455, 0.02094983871934992, 0.48184629054504813, 0.009496507171190976, 0.014244760756786462, 0.12820284681107816, 0.28014696155013374, 0.05697904302714585, 0.042734282270359386, 0.033237775099168414, 0.3846085404332345, 0.047482535855954876, 0.11439441077948623, 0.11439441077948623, 0.2712781741342102, 0.058831411258021486, 0.08497870515047548, 0.13073646946226997, 0.10132076383325922, 0.009805235209670247, 0.10785758730637272, 0.006536823473113499, 0.006041821222587283, 0.598140301036141, 0.16917099423244394, 0.12083642445174567, 0.006041821222587283, 0.01812546366776185, 0.012083642445174566, 0.05437639100328555, 0.024167284890349132, 0.15031707453211932, 0.001670189717023548, 0.13695555679593094, 0.5378010888815825, 0.06346720924689482, 0.008350948585117741, 0.03674417377451806, 0.05845664009582418, 0.005010569151070644, 0.12162296779552831, 0.06949883874030188, 0.18026261298265803, 0.1911218065358302, 0.17809077427202358, 0.06732700002966745, 0.05646780647649528, 0.06515516131903303, 0.06949883874030188, 0.985435161814199, 0.07708254137107654, 0.06744722369969197, 0.1445297650707685, 0.713013507682458], \"Term\": [\"abs\", \"abs\", \"acceleration\", \"acceleration\", \"acceleration\", \"acceleration\", \"aerospace\", \"aerospace\", \"ago\", \"ago\", \"ago\", \"ago\", \"ago\", \"ago\", \"ago\", \"ago\", \"ago\", \"aids\", \"aids\", \"aids\", \"alarm\", \"allah\", \"allergic\", \"allergic\", \"allergic\", \"alomar\", \"alt\", \"alt\", \"alt\", \"alt\", \"american\", \"american\", \"american\", \"american\", \"american\", \"american\", \"american\", \"ames\", \"ames\", \"amino\", \"amino\", \"amino\", \"andrew\", \"andrew\", \"anecdotal\", \"anecdotal\", \"angeles\", \"angeles\", \"angeles\", \"anonymous\", \"anti\", \"anti\", \"anti\", \"anti\", \"applying\", \"applying\", \"applying\", \"april\", \"april\", \"april\", \"april\", \"april\", \"april\", \"april\", \"april\", \"archive\", \"archive\", \"archive\", \"archive\", \"argument\", \"argument\", \"argument\", \"argument\", \"arguments\", \"arguments\", \"arguments\", \"article\", \"article\", \"article\", \"article\", \"article\", \"article\", \"article\", \"article\", \"astro\", \"astro\", \"astronaut\", \"astronomical\", \"atheism\", \"atheist\", \"atheists\", \"att\", \"att\", \"attend\", \"auto\", \"auto\", \"auto\", \"auto\", \"auto\", \"autos\", \"autos\", \"autos\", \"available\", \"available\", \"available\", \"available\", \"available\", \"available\", \"average\", \"average\", \"average\", \"average\", \"average\", \"average\", \"average\", \"aviation\", \"away\", \"away\", \"away\", \"away\", \"away\", \"away\", \"away\", \"away\", \"away\", \"away\", \"axis\", \"axis\", \"bacteria\", \"bacteria\", \"bacteria\", \"badly\", \"badly\", \"baerga\", \"ball\", \"ball\", \"ball\", \"ball\", \"banks\", \"banks\", \"banks\", \"banks\", \"baseball\", \"baseball\", \"baseball\", \"baseball\", \"batting\", \"bear\", \"bear\", \"bear\", \"beauchaine\", \"beings\", \"belief\", \"belief\", \"belief\", \"beliefs\", \"beliefs\", \"believe\", \"believe\", \"believe\", \"believe\", \"believe\", \"believe\", \"believe\", \"believe\", \"believe\", \"best\", \"best\", \"best\", \"best\", \"best\", \"best\", \"best\", \"best\", \"best\", \"better\", \"better\", \"better\", \"better\", \"better\", \"better\", \"better\", \"better\", \"better\", \"bible\", \"biblical\", \"birds\", \"birds\", \"birds\", \"black\", \"black\", \"black\", \"black\", \"black\", \"black\", \"black\", \"bobbe\", \"body\", \"body\", \"body\", \"body\", \"body\", \"body\", \"body\", \"bolt\", \"bonds\", \"bone\", \"bone\", \"booster\", \"bought\", \"bought\", \"bought\", \"bought\", \"bought\", \"brake\", \"brakes\", \"braves\", \"braves\", \"britain\", \"britain\", \"britain\", \"bronx\", \"bullpen\", \"buy\", \"buy\", \"buy\", \"buy\", \"buy\", \"cadre\", \"california\", \"california\", \"california\", \"california\", \"california\", \"california\", \"cancer\", \"cancer\", \"candida\", \"car\", \"car\", \"car\", \"career\", \"career\", \"career\", \"cars\", \"cars\", \"cars\", \"cars\", \"catcher\", \"cause\", \"cause\", \"cause\", \"cause\", \"cause\", \"cause\", \"cause\", \"cause\", \"center\", \"center\", \"center\", \"center\", \"center\", \"center\", \"chastity\", \"cheaper\", \"cheaper\", \"cheaper\", \"chemical\", \"chemical\", \"chemical\", \"chemical\", \"chicago\", \"chicago\", \"chicago\", \"chicago\", \"children\", \"children\", \"children\", \"children\", \"children\", \"chinese\", \"chinese\", \"chris\", \"chris\", \"chris\", \"chris\", \"christian\", \"christianity\", \"church\", \"cincinnati\", \"cincinnati\", \"city\", \"city\", \"city\", \"city\", \"city\", \"civic\", \"claim\", \"claim\", \"claim\", \"claim\", \"claim\", \"clemens\", \"clinic\", \"clinic\", \"clinical\", \"cobb\", \"cobb\", \"com\", \"com\", \"com\", \"com\", \"commercial\", \"commercial\", \"commercial\", \"commercial\", \"committed\", \"committed\", \"committed\", \"committed\", \"committed\", \"company\", \"company\", \"company\", \"company\", \"company\", \"company\", \"compartment\", \"conclusion\", \"conclusion\", \"conclusion\", \"constant\", \"constant\", \"constant\", \"constant\", \"contrary\", \"contrary\", \"contrary\", \"convertible\", \"cool\", \"cool\", \"corn\", \"cost\", \"cost\", \"cost\", \"cost\", \"cost\", \"cost\", \"cost\", \"cost\", \"cost\", \"costs\", \"costs\", \"costs\", \"costs\", \"course\", \"course\", \"course\", \"course\", \"course\", \"course\", \"course\", \"course\", \"course\", \"craft\", \"criminals\", \"criminals\", \"criminals\", \"cubs\", \"cubs\", \"cup\", \"cup\", \"cup\", \"cup\", \"cup\", \"cup\", \"cure\", \"cure\", \"cure\", \"cured\", \"cured\", \"cured\", \"data\", \"data\", \"data\", \"data\", \"data\", \"data\", \"data\", \"daughter\", \"daughter\", \"daughter\", \"david\", \"david\", \"david\", \"david\", \"david\", \"david\", \"day\", \"day\", \"day\", \"day\", \"day\", \"day\", \"day\", \"day\", \"day\", \"days\", \"days\", \"days\", \"days\", \"days\", \"days\", \"days\", \"days\", \"days\", \"days\", \"dead\", \"dead\", \"dead\", \"dead\", \"dead\", \"dead\", \"dealer\", \"dealer\", \"dealership\", \"defensive\", \"deletion\", \"depression\", \"depression\", \"dept\", \"dept\", \"dept\", \"devices\", \"devices\", \"devices\", \"did\", \"did\", \"did\", \"did\", \"did\", \"did\", \"did\", \"did\", \"did\", \"did\", \"diego\", \"diego\", \"diet\", \"diet\", \"diet\", \"diet\", \"directory\", \"dirty\", \"dirty\", \"dirty\", \"discussion\", \"discussion\", \"discussion\", \"discussion\", \"discussion\", \"discussion\", \"disease\", \"disease\", \"disease\", \"disease\", \"diseases\", \"diseases\", \"diseases\", \"disk\", \"disk\", \"disk\", \"doctor\", \"doctor\", \"doctor\", \"does\", \"does\", \"does\", \"does\", \"does\", \"does\", \"does\", \"does\", \"does\", \"does\", \"doesn\", \"doesn\", \"doesn\", \"doesn\", \"doesn\", \"doesn\", \"doesn\", \"doesn\", \"doesn\", \"don\", \"don\", \"don\", \"don\", \"don\", \"don\", \"don\", \"don\", \"don\", \"don\", \"donald\", \"donald\", \"doses\", \"drive\", \"drive\", \"drive\", \"drive\", \"drive\", \"drive\", \"driver\", \"driver\", \"driver\", \"driver\", \"drivers\", \"drivers\", \"drivers\", \"driving\", \"driving\", \"driving\", \"driving\", \"drug\", \"drug\", \"drugs\", \"drugs\", \"drugs\", \"drugs\", \"dsl\", \"duke\", \"duke\", \"earth\", \"earth\", \"earth\", \"earth\", \"earth\", \"earth\", \"edu\", \"edu\", \"edu\", \"edu\", \"edu\", \"effects\", \"effects\", \"effects\", \"effects\", \"effects\", \"effects\", \"elaborate\", \"electrical\", \"electrical\", \"electrical\", \"email\", \"email\", \"email\", \"email\", \"email\", \"email\", \"empirical\", \"engine\", \"engine\", \"engine\", \"era\", \"era\", \"era\", \"era\", \"esa\", \"essential\", \"essential\", \"essential\", \"essential\", \"eternal\", \"evidence\", \"evidence\", \"evidence\", \"evidence\", \"evidence\", \"evil\", \"evil\", \"example\", \"example\", \"example\", \"example\", \"example\", \"example\", \"example\", \"example\", \"example\", \"exist\", \"exist\", \"exist\", \"exist\", \"existence\", \"existence\", \"existence\", \"exists\", \"exists\", \"exists\", \"exists\", \"exists\", \"faith\", \"faith\", \"fallacy\", \"fallacy\", \"fan\", \"fan\", \"fan\", \"fan\", \"fans\", \"fans\", \"faq\", \"faq\", \"fat\", \"fat\", \"fat\", \"fever\", \"fielder\", \"findings\", \"flavor\", \"flavor\", \"flight\", \"flight\", \"flight\", \"florida\", \"florida\", \"florida\", \"food\", \"food\", \"food\", \"food\", \"food\", \"food\", \"food\", \"foods\", \"foods\", \"foods\", \"foods\", \"foods\", \"ford\", \"ford\", \"francisco\", \"francisco\", \"francisco\", \"ftp\", \"ftp\", \"galaxy\", \"galaxy\", \"game\", \"game\", \"game\", \"games\", \"games\", \"gamma\", \"gamma\", \"gas\", \"gas\", \"gas\", \"gas\", \"geb\", \"gee\", \"gee\", \"gene\", \"gene\", \"gene\", \"gene\", \"general\", \"general\", \"general\", \"general\", \"general\", \"general\", \"general\", \"general\", \"general\", \"genetic\", \"genetic\", \"genetic\", \"gif\", \"glutamate\", \"god\", \"god\", \"gods\", \"gods\", \"good\", \"good\", \"good\", \"good\", \"good\", \"good\", \"good\", \"good\", \"good\", \"good\", \"gordon\", \"gordon\", \"gordon\", \"got\", \"got\", \"got\", \"got\", \"got\", \"got\", \"got\", \"got\", \"gov\", \"gov\", \"gov\", \"gov\", \"gov\", \"grade\", \"grade\", \"hands\", \"hands\", \"hands\", \"hands\", \"hands\", \"hands\", \"hands\", \"healing\", \"healing\", \"healing\", \"health\", \"health\", \"health\", \"health\", \"health\", \"health\", \"hear\", \"hear\", \"hear\", \"hear\", \"hear\", \"hear\", \"hearing\", \"hearing\", \"hello\", \"hello\", \"high\", \"high\", \"high\", \"high\", \"high\", \"high\", \"high\", \"high\", \"high\", \"high\", \"hit\", \"hit\", \"hit\", \"hit\", \"hit\", \"hitter\", \"hitting\", \"hitting\", \"hole\", \"hole\", \"hole\", \"hole\", \"holes\", \"holes\", \"holes\", \"home\", \"home\", \"home\", \"home\", \"home\", \"home\", \"home\", \"honda\", \"honda\", \"hypothesis\", \"hypothesis\", \"ibm\", \"ibm\", \"ibm\", \"ico\", \"idle\", \"images\", \"images\", \"images\", \"images\", \"infectious\", \"inflammation\", \"inflammation\", \"inflammatory\", \"inflammatory\", \"inflammatory\", \"inflammatory\", \"information\", \"information\", \"information\", \"information\", \"information\", \"information\", \"information\", \"information\", \"information\", \"ingredients\", \"ingredients\", \"ingredients\", \"inning\", \"innings\", \"insurance\", \"insurance\", \"insurance\", \"insurance\", \"intellect\", \"intellect\", \"interested\", \"interested\", \"interested\", \"interested\", \"interested\", \"interested\", \"interested\", \"interested\", \"interested\", \"interested\", \"international\", \"international\", \"international\", \"international\", \"international\", \"islam\", \"islam\", \"islamic\", \"islamic\", \"jeep\", \"jesus\", \"jesus\", \"jesus\", \"john\", \"john\", \"john\", \"john\", \"john\", \"john\", \"john\", \"jon\", \"jon\", \"jon\", \"jsc\", \"jump\", \"jump\", \"junk\", \"junk\", \"junk\", \"just\", \"just\", \"just\", \"just\", \"just\", \"just\", \"just\", \"just\", \"just\", \"just\", \"kansas\", \"kansas\", \"kid\", \"kid\", \"kid\", \"kids\", \"kids\", \"kids\", \"kinds\", \"kinds\", \"king\", \"king\", \"king\", \"king\", \"king\", \"king\", \"king\", \"kingman\", \"kit\", \"know\", \"know\", \"know\", \"know\", \"know\", \"know\", \"know\", \"know\", \"know\", \"know\", \"launch\", \"launch\", \"launch\", \"launched\", \"launched\", \"launched\", \"law\", \"law\", \"law\", \"law\", \"law\", \"law\", \"law\", \"law\", \"law\", \"league\", \"league\", \"league\", \"left\", \"left\", \"left\", \"left\", \"left\", \"left\", \"left\", \"left\", \"left\", \"life\", \"life\", \"life\", \"life\", \"life\", \"life\", \"life\", \"life\", \"life\", \"life\", \"light\", \"light\", \"light\", \"light\", \"light\", \"lights\", \"lights\", \"like\", \"like\", \"like\", \"like\", \"like\", \"like\", \"like\", \"like\", \"like\", \"like\", \"list\", \"list\", \"list\", \"list\", \"list\", \"list\", \"list\", \"listen\", \"listen\", \"little\", \"little\", \"little\", \"little\", \"little\", \"little\", \"little\", \"little\", \"little\", \"location\", \"location\", \"location\", \"location\", \"logic\", \"logic\", \"logic\", \"long\", \"long\", \"long\", \"long\", \"long\", \"long\", \"long\", \"long\", \"long\", \"lopez\", \"lopez\", \"los\", \"los\", \"los\", \"los\", \"lost\", \"lost\", \"lost\", \"lost\", \"lost\", \"lost\", \"lost\", \"lot\", \"lot\", \"lot\", \"lot\", \"lot\", \"lot\", \"lot\", \"lot\", \"lot\", \"lot\", \"louis\", \"louis\", \"louis\", \"lunar\", \"lunar\", \"lunch\", \"lunch\", \"lyme\", \"mac\", \"mac\", \"mac\", \"magellan\", \"mail\", \"mail\", \"mail\", \"mail\", \"mail\", \"mail\", \"mailing\", \"mailing\", \"majors\", \"make\", \"make\", \"make\", \"make\", \"make\", \"make\", \"make\", \"make\", \"make\", \"makes\", \"makes\", \"makes\", \"makes\", \"makes\", \"makes\", \"makes\", \"makes\", \"makes\", \"manhattan\", \"manned\", \"mark\", \"mark\", \"mark\", \"mark\", \"mark\", \"mark\", \"market\", \"market\", \"market\", \"market\", \"mars\", \"mars\", \"mars\", \"mass\", \"mass\", \"mass\", \"mass\", \"mass\", \"mass\", \"matter\", \"matter\", \"matter\", \"matter\", \"matter\", \"matter\", \"matter\", \"matter\", \"matter\", \"matthew\", \"matthew\", \"mean\", \"mean\", \"mean\", \"mean\", \"mean\", \"mean\", \"mean\", \"mean\", \"mean\", \"medical\", \"medical\", \"medical\", \"medical\", \"medicine\", \"medicine\", \"medicine\", \"medicine\", \"men\", \"men\", \"men\", \"men\", \"men\", \"methodology\", \"michael\", \"michael\", \"michael\", \"migraine\", \"mil\", \"mil\", \"mil\", \"mil\", \"miles\", \"miles\", \"miles\", \"milk\", \"milk\", \"mining\", \"mining\", \"mining\", \"minnesota\", \"minnesota\", \"mission\", \"mission\", \"mission\", \"missions\", \"missions\", \"mistakes\", \"mistakes\", \"mistakes\", \"molecular\", \"molecular\", \"molecular\", \"molecular\", \"mom\", \"mom\", \"monday\", \"monday\", \"monday\", \"monday\", \"monday\", \"money\", \"money\", \"money\", \"money\", \"money\", \"money\", \"money\", \"money\", \"money\", \"money\", \"montreal\", \"montreal\", \"moon\", \"moon\", \"moon\", \"moral\", \"moral\", \"moral\", \"moral\", \"morality\", \"morris\", \"morris\", \"morris\", \"morris\", \"mother\", \"mother\", \"mother\", \"mother\", \"motion\", \"motion\", \"motion\", \"motto\", \"mozumder\", \"mri\", \"msg\", \"murder\", \"muscle\", \"muscle\", \"muscle\", \"muscle\", \"muscle\", \"music\", \"music\", \"muslim\", \"muslim\", \"mustang\", \"mystery\", \"mystery\", \"nasa\", \"nasa\", \"national\", \"national\", \"national\", \"national\", \"national\", \"national\", \"national\", \"navy\", \"navy\", \"nerve\", \"net\", \"net\", \"net\", \"net\", \"net\", \"net\", \"netcom\", \"new\", \"new\", \"new\", \"new\", \"new\", \"new\", \"new\", \"new\", \"new\", \"new\", \"newsletter\", \"newsletter\", \"newsletter\", \"newspaper\", \"newspaper\", \"newspaper\", \"nick\", \"nick\", \"night\", \"night\", \"night\", \"night\", \"night\", \"nissan\", \"notion\", \"notion\", \"number\", \"number\", \"number\", \"number\", \"number\", \"number\", \"number\", \"number\", \"number\", \"number\", \"nutrition\", \"nutrition\", \"obp\", \"observatory\", \"offense\", \"offense\", \"oil\", \"oil\", \"oil\", \"old\", \"old\", \"old\", \"old\", \"old\", \"old\", \"old\", \"old\", \"orbit\", \"orbit\", \"orbiter\", \"org\", \"org\", \"org\", \"page\", \"page\", \"page\", \"page\", \"pain\", \"pain\", \"pain\", \"pain\", \"patients\", \"patients\", \"patients\", \"paul\", \"paul\", \"paul\", \"paul\", \"paul\", \"paul\", \"pedal\", \"penalty\", \"people\", \"people\", \"people\", \"people\", \"people\", \"people\", \"people\", \"people\", \"people\", \"perfect\", \"perfect\", \"perfect\", \"philadelphia\", \"philadelphia\", \"philadelphia\", \"philadelphia\", \"phrase\", \"physical\", \"physical\", \"physical\", \"physical\", \"physics\", \"physics\", \"physics\", \"pieces\", \"pieces\", \"pieces\", \"pitched\", \"pitcher\", \"pitchers\", \"pitching\", \"pitt\", \"pittsburgh\", \"pittsburgh\", \"pittsburgh\", \"plane\", \"plane\", \"planetary\", \"plant\", \"plant\", \"plants\", \"plants\", \"play\", \"play\", \"play\", \"play\", \"player\", \"players\", \"players\", \"pluto\", \"point\", \"point\", \"point\", \"point\", \"point\", \"point\", \"point\", \"point\", \"point\", \"porsche\", \"post\", \"post\", \"post\", \"post\", \"post\", \"post\", \"post\", \"post\", \"presumably\", \"presumably\", \"prevention\", \"prevention\", \"price\", \"price\", \"price\", \"price\", \"price\", \"price\", \"prize\", \"problem\", \"problem\", \"problem\", \"problem\", \"problem\", \"problem\", \"problem\", \"problem\", \"problem\", \"problem\", \"problems\", \"problems\", \"problems\", \"problems\", \"problems\", \"problems\", \"problems\", \"process\", \"process\", \"process\", \"process\", \"process\", \"process\", \"process\", \"program\", \"program\", \"program\", \"program\", \"program\", \"program\", \"promises\", \"promises\", \"properties\", \"properties\", \"propulsion\", \"propulsion\", \"protein\", \"protein\", \"proton\", \"psychology\", \"psychology\", \"pub\", \"quack\", \"quack\", \"queens\", \"question\", \"question\", \"question\", \"question\", \"question\", \"question\", \"question\", \"question\", \"question\", \"question\", \"qur\", \"rate\", \"rate\", \"rate\", \"rate\", \"rate\", \"rate\", \"rbi\", \"reaction\", \"reaction\", \"reaction\", \"reaction\", \"reaction\", \"reaction\", \"reaction\", \"read\", \"read\", \"read\", \"read\", \"read\", \"read\", \"read\", \"read\", \"read\", \"read\", \"really\", \"really\", \"really\", \"really\", \"really\", \"really\", \"really\", \"really\", \"really\", \"really\", \"rear\", \"rear\", \"rear\", \"rec\", \"rec\", \"rec\", \"rec\", \"relates\", \"relates\", \"relates\", \"religion\", \"religion\", \"religions\", \"religious\", \"religious\", \"remote\", \"remote\", \"request\", \"request\", \"requests\", \"requests\", \"research\", \"research\", \"research\", \"research\", \"research\", \"research\", \"research\", \"researchers\", \"researchers\", \"researchers\", \"restaurant\", \"restaurant\", \"results\", \"results\", \"results\", \"results\", \"results\", \"results\", \"results\", \"reusable\", \"right\", \"right\", \"right\", \"right\", \"right\", \"right\", \"right\", \"right\", \"right\", \"right\", \"road\", \"road\", \"road\", \"road\", \"road\", \"road\", \"roads\", \"rock\", \"rock\", \"rocket\", \"rocket\", \"rocket\", \"rocket\", \"rockets\", \"rookie\", \"run\", \"run\", \"run\", \"run\", \"run\", \"run\", \"run\", \"runs\", \"runs\", \"runs\", \"runs\", \"runs\", \"said\", \"said\", \"said\", \"said\", \"said\", \"said\", \"said\", \"said\", \"said\", \"said\", \"sam\", \"sam\", \"san\", \"san\", \"san\", \"sank\", \"satan\", \"satellite\", \"satellite\", \"satellites\", \"satellites\", \"say\", \"say\", \"say\", \"say\", \"say\", \"say\", \"say\", \"say\", \"say\", \"saying\", \"saying\", \"saying\", \"saying\", \"saying\", \"saying\", \"saying\", \"saying\", \"sci\", \"sci\", \"sci\", \"sci\", \"science\", \"science\", \"science\", \"science\", \"science\", \"scientific\", \"scientific\", \"scientific\", \"scientific\", \"scientific\", \"scientific\", \"score\", \"score\", \"score\", \"scored\", \"scored\", \"scoring\", \"season\", \"season\", \"season\", \"second\", \"second\", \"second\", \"second\", \"second\", \"second\", \"second\", \"second\", \"second\", \"secular\", \"seizure\", \"seizure\", \"send\", \"send\", \"send\", \"send\", \"send\", \"send\", \"sensitive\", \"sensitive\", \"sensitive\", \"sensitive\", \"sequence\", \"sequence\", \"sequence\", \"sequence\", \"sequence\", \"server\", \"shameful\", \"sho\", \"sho\", \"shuttle\", \"sick\", \"sick\", \"sick\", \"skepticism\", \"skin\", \"skin\", \"slg\", \"small\", \"small\", \"small\", \"small\", \"small\", \"small\", \"small\", \"small\", \"small\", \"software\", \"software\", \"software\", \"solar\", \"solar\", \"sold\", \"sold\", \"son\", \"son\", \"son\", \"son\", \"soon\", \"soon\", \"soon\", \"soon\", \"soon\", \"soon\", \"soon\", \"soon\", \"soon\", \"space\", \"space\", \"space\", \"space\", \"space\", \"spacecraft\", \"spacecraft\", \"speculation\", \"speculation\", \"speculation\", \"speculation\", \"speed\", \"speed\", \"speed\", \"speed\", \"speed\", \"speed\", \"sports\", \"sports\", \"spots\", \"spots\", \"star\", \"star\", \"star\", \"star\", \"statement\", \"statement\", \"statement\", \"statement\", \"statement\", \"statements\", \"statements\", \"station\", \"station\", \"station\", \"station\", \"station\", \"station\", \"stats\", \"studies\", \"studies\", \"studies\", \"studies\", \"study\", \"study\", \"study\", \"study\", \"study\", \"study\", \"study\", \"substances\", \"suck\", \"suck\", \"sugar\", \"sugar\", \"sugar\", \"sun\", \"sun\", \"sun\", \"sun\", \"sun\", \"sunday\", \"sunday\", \"sunday\", \"sunday\", \"sunset\", \"sunset\", \"sure\", \"sure\", \"sure\", \"sure\", \"sure\", \"sure\", \"sure\", \"sure\", \"sure\", \"sure\", \"surgery\", \"surgery\", \"surgery\", \"surrender\", \"swelling\", \"swelling\", \"swelling\", \"symptoms\", \"symptoms\", \"taste\", \"taste\", \"taste\", \"taste\", \"taurus\", \"team\", \"team\", \"team\", \"team\", \"team\", \"teams\", \"teams\", \"teams\", \"teams\", \"teams\", \"technology\", \"technology\", \"technology\", \"technology\", \"technology\", \"telescope\", \"texas\", \"texas\", \"texas\", \"texas\", \"thanks\", \"thanks\", \"thanks\", \"thanks\", \"thanks\", \"thanks\", \"theists\", \"theoretical\", \"theoretical\", \"theories\", \"theories\", \"theory\", \"theory\", \"theory\", \"theory\", \"things\", \"things\", \"things\", \"things\", \"things\", \"things\", \"things\", \"things\", \"think\", \"think\", \"think\", \"think\", \"think\", \"think\", \"think\", \"think\", \"think\", \"think\", \"thought\", \"thought\", \"thought\", \"thought\", \"thought\", \"thought\", \"thought\", \"thought\", \"thought\", \"thursday\", \"thursday\", \"thursday\", \"ticket\", \"ticket\", \"tickets\", \"tickets\", \"time\", \"time\", \"time\", \"time\", \"time\", \"time\", \"time\", \"time\", \"time\", \"time\", \"tire\", \"tire\", \"tired\", \"tires\", \"tom\", \"tom\", \"tom\", \"tom\", \"tommy\", \"tommy\", \"tommy\", \"torque\", \"toyota\", \"toyota\", \"trained\", \"trained\", \"trained\", \"transmission\", \"transmission\", \"transmission\", \"treatment\", \"treatment\", \"treatment\", \"treatment\", \"treatment\", \"treatments\", \"treatments\", \"true\", \"true\", \"true\", \"true\", \"true\", \"true\", \"true\", \"true\", \"truth\", \"truth\", \"try\", \"try\", \"try\", \"try\", \"try\", \"try\", \"try\", \"try\", \"try\", \"tuesday\", \"tuesday\", \"tuesday\", \"uiuc\", \"uiuc\", \"universe\", \"universe\", \"universe\", \"upset\", \"upset\", \"upset\", \"upset\", \"use\", \"use\", \"use\", \"use\", \"use\", \"use\", \"use\", \"use\", \"use\", \"used\", \"used\", \"used\", \"used\", \"used\", \"used\", \"used\", \"used\", \"used\", \"used\", \"valid\", \"valid\", \"valid\", \"valid\", \"valid\", \"valid\", \"velocity\", \"velocity\", \"velocity\", \"volume\", \"volume\", \"volume\", \"wagon\", \"want\", \"want\", \"want\", \"want\", \"want\", \"want\", \"want\", \"want\", \"want\", \"want\", \"war\", \"war\", \"war\", \"war\", \"water\", \"water\", \"water\", \"water\", \"water\", \"water\", \"water\", \"way\", \"way\", \"way\", \"way\", \"way\", \"way\", \"way\", \"way\", \"way\", \"way\", \"wheel\", \"wife\", \"wife\", \"wife\", \"wife\", \"wife\", \"wife\", \"wife\", \"win\", \"win\", \"win\", \"win\", \"win\", \"winfield\", \"wings\", \"wings\", \"wings\", \"women\", \"women\", \"women\", \"women\", \"women\", \"won\", \"won\", \"won\", \"won\", \"won\", \"won\", \"won\", \"won\", \"won\", \"work\", \"work\", \"work\", \"work\", \"work\", \"work\", \"work\", \"work\", \"work\", \"work\", \"wrong\", \"wrong\", \"wrong\", \"wrong\", \"wrong\", \"wrong\", \"wrong\", \"wrong\", \"wrong\", \"year\", \"year\", \"year\", \"year\", \"year\", \"year\", \"year\", \"year\", \"year\", \"years\", \"years\", \"years\", \"years\", \"years\", \"years\", \"years\", \"years\", \"years\", \"yeast\", \"york\", \"york\", \"york\", \"york\"]}, \"R\": 30, \"lambda.step\": 0.01, \"plot.opts\": {\"xlab\": \"PC1\", \"ylab\": \"PC2\"}, \"topic.order\": [2, 4, 9, 5, 8, 10, 1, 3, 7, 6]};\n",
              "\n",
              "function LDAvis_load_lib(url, callback){\n",
              "  var s = document.createElement('script');\n",
              "  s.src = url;\n",
              "  s.async = true;\n",
              "  s.onreadystatechange = s.onload = callback;\n",
              "  s.onerror = function(){console.warn(\"failed to load library \" + url);};\n",
              "  document.getElementsByTagName(\"head\")[0].appendChild(s);\n",
              "}\n",
              "\n",
              "if(typeof(LDAvis) !== \"undefined\"){\n",
              "   // already loaded: just create the visualization\n",
              "   !function(LDAvis){\n",
              "       new LDAvis(\"#\" + \"ldavis_el27391367440600222084591565249\", ldavis_el27391367440600222084591565249_data);\n",
              "   }(LDAvis);\n",
              "}else if(typeof define === \"function\" && define.amd){\n",
              "   // require.js is available: use it to load d3/LDAvis\n",
              "   require.config({paths: {d3: \"https://d3js.org/d3.v5\"}});\n",
              "   require([\"d3\"], function(d3){\n",
              "      window.d3 = d3;\n",
              "      LDAvis_load_lib(\"https://cdn.jsdelivr.net/gh/bmabey/pyLDAvis@3.4.0/pyLDAvis/js/ldavis.v3.0.0.js\", function(){\n",
              "        new LDAvis(\"#\" + \"ldavis_el27391367440600222084591565249\", ldavis_el27391367440600222084591565249_data);\n",
              "      });\n",
              "    });\n",
              "}else{\n",
              "    // require.js not available: dynamically load d3 & LDAvis\n",
              "    LDAvis_load_lib(\"https://d3js.org/d3.v5.js\", function(){\n",
              "         LDAvis_load_lib(\"https://cdn.jsdelivr.net/gh/bmabey/pyLDAvis@3.4.0/pyLDAvis/js/ldavis.v3.0.0.js\", function(){\n",
              "                 new LDAvis(\"#\" + \"ldavis_el27391367440600222084591565249\", ldavis_el27391367440600222084591565249_data);\n",
              "            })\n",
              "         });\n",
              "}\n",
              "</script>"
            ]
          },
          "metadata": {},
          "execution_count": 12
        }
      ]
    },
    {
      "cell_type": "markdown",
      "source": [
        "## Topix Modeling with TFIDF values"
      ],
      "metadata": {
        "id": "8XOv67b8GGzg"
      }
    },
    {
      "cell_type": "code",
      "metadata": {
        "id": "VuiVrI4usIzO"
      },
      "source": [
        "# for TFIDF DTM\n",
        "lda_tfidf = LatentDirichletAllocation(n_components=10, random_state=0, verbose=1,max_iter=10)\n",
        "lda_tfidf.fit(dtm_tfidf)"
      ],
      "execution_count": null,
      "outputs": []
    },
    {
      "cell_type": "code",
      "metadata": {
        "id": "4ysSXJxLsIzO"
      },
      "source": [
        "pyLDAvis.lda_model.prepare(lda_tfidf, dtm_tfidf, tfidf_vectorizer)"
      ],
      "execution_count": null,
      "outputs": []
    },
    {
      "cell_type": "markdown",
      "metadata": {
        "collapsed": true,
        "id": "Uvl72P0asIzO"
      },
      "source": [
        "### Using different MDS functions\n",
        "\n",
        "With `sklearn` installed, other MDS functions, such as MMDS and TSNE can be used for plotting if the default PCoA is not satisfactory."
      ]
    },
    {
      "cell_type": "code",
      "metadata": {
        "id": "Le2YQ_nJsIzO"
      },
      "source": [
        "pyLDAvis.lda_model.prepare(lda_tf, dtm_tf, tf_vectorizer, mds='mmds')"
      ],
      "execution_count": null,
      "outputs": []
    },
    {
      "cell_type": "code",
      "metadata": {
        "id": "rWF9ZPKmsIzP"
      },
      "source": [
        "pyLDAvis.lda_model.prepare(lda_tf, dtm_tf, tf_vectorizer, mds='tsne')"
      ],
      "execution_count": null,
      "outputs": []
    },
    {
      "cell_type": "code",
      "metadata": {
        "collapsed": true,
        "id": "05tlg25CsIzP"
      },
      "source": [],
      "execution_count": null,
      "outputs": []
    }
  ]
}