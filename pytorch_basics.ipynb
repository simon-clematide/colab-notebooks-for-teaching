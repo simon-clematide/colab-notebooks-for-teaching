{
  "nbformat": 4,
  "nbformat_minor": 0,
  "metadata": {
    "kernelspec": {
      "display_name": "Python 3",
      "language": "python",
      "name": "python3"
    },
    "language_info": {
      "codemirror_mode": {
        "name": "ipython",
        "version": 3
      },
      "file_extension": ".py",
      "mimetype": "text/x-python",
      "name": "python",
      "nbconvert_exporter": "python",
      "pygments_lexer": "ipython3",
      "version": "3.7.3"
    },
    "colab": {
      "provenance": [],
      "include_colab_link": true
    }
  },
  "cells": [
    {
      "cell_type": "markdown",
      "metadata": {
        "id": "view-in-github",
        "colab_type": "text"
      },
      "source": [
        "<a href=\"https://colab.research.google.com/github/simon-clematide/colab-notebooks-for-teaching/blob/main/pytorch_basics.ipynb\" target=\"_parent\"><img src=\"https://colab.research.google.com/assets/colab-badge.svg\" alt=\"Open In Colab\"/></a>"
      ]
    },
    {
      "cell_type": "markdown",
      "metadata": {
        "id": "6p66RtCi4EgA"
      },
      "source": [
        "# pyTorch Tensors Introduction\n",
        "More details: PyTorch's Tensor tutorial [complete coverage](https://pytorch.org/tutorials/beginner/introyt/tensors_deeper_tutorial.html)."
      ]
    },
    {
      "cell_type": "code",
      "metadata": {
        "id": "mICUQrvL4EgB"
      },
      "source": [
        "import torch"
      ],
      "execution_count": null,
      "outputs": []
    },
    {
      "cell_type": "markdown",
      "metadata": {
        "id": "CqR_dGiM4EgE"
      },
      "source": [
        "## Scalars\n",
        "`torch.tensor` creates tensors from data.\n",
        "`torch.Tensor` creates uninitialized data by dimension. Do not use this legacy way. Use `torch.empty()`"
      ]
    },
    {
      "cell_type": "code",
      "metadata": {
        "id": "tclCJ_ah4EgE"
      },
      "source": [
        "scalar = torch.tensor(1)"
      ],
      "execution_count": null,
      "outputs": []
    },
    {
      "cell_type": "code",
      "metadata": {
        "id": "3YyyRCnt4EgG"
      },
      "source": [
        "scalar"
      ],
      "execution_count": null,
      "outputs": []
    },
    {
      "cell_type": "code",
      "metadata": {
        "id": "ZAueSe7m4EgJ"
      },
      "source": [
        "scalar.shape"
      ],
      "execution_count": null,
      "outputs": []
    },
    {
      "cell_type": "markdown",
      "metadata": {
        "id": "HwVpdgL24EgL"
      },
      "source": [
        "## Adding dimensions"
      ]
    },
    {
      "cell_type": "code",
      "metadata": {
        "id": "MNxBV-zu4EgL"
      },
      "source": [
        "vector = scalar.unsqueeze(0)"
      ],
      "execution_count": null,
      "outputs": []
    },
    {
      "cell_type": "code",
      "metadata": {
        "id": "3raLxZEM4EgP"
      },
      "source": [
        "vector.shape"
      ],
      "execution_count": null,
      "outputs": []
    },
    {
      "cell_type": "code",
      "metadata": {
        "id": "pasnHroo4EgN"
      },
      "source": [
        "vector"
      ],
      "execution_count": null,
      "outputs": []
    },
    {
      "cell_type": "code",
      "metadata": {
        "id": "ieG1yIMZ4EgS"
      },
      "source": [
        "matrix = vector.unsqueeze(0)"
      ],
      "execution_count": null,
      "outputs": []
    },
    {
      "cell_type": "code",
      "metadata": {
        "id": "O1O4Wvvf4EgT"
      },
      "source": [
        "matrix"
      ],
      "execution_count": null,
      "outputs": []
    },
    {
      "cell_type": "code",
      "metadata": {
        "id": "6rXXb-W-4EgV"
      },
      "source": [
        "matrix.shape"
      ],
      "execution_count": null,
      "outputs": []
    },
    {
      "cell_type": "markdown",
      "metadata": {
        "id": "srswEoIZ4EgX"
      },
      "source": [
        "## Removing dimensions\n"
      ]
    },
    {
      "cell_type": "code",
      "metadata": {
        "id": "Kuger54X4EgX"
      },
      "source": [
        "x = matrix.squeeze(0)"
      ],
      "execution_count": null,
      "outputs": []
    },
    {
      "cell_type": "code",
      "metadata": {
        "id": "odKm8gF64EgZ"
      },
      "source": [
        "x.shape"
      ],
      "execution_count": null,
      "outputs": []
    },
    {
      "cell_type": "code",
      "metadata": {
        "id": "XG5csuuG4Egb"
      },
      "source": [
        "x"
      ],
      "execution_count": null,
      "outputs": []
    },
    {
      "cell_type": "markdown",
      "metadata": {
        "id": "5oqmN1RJ4Egd"
      },
      "source": []
    }
  ]
}