{
  "nbformat": 4,
  "nbformat_minor": 0,
  "metadata": {
    "kernelspec": {
      "display_name": "Python 3",
      "language": "python",
      "name": "python3"
    },
    "language_info": {
      "codemirror_mode": {
        "name": "ipython",
        "version": 3
      },
      "file_extension": ".py",
      "mimetype": "text/x-python",
      "name": "python",
      "nbconvert_exporter": "python",
      "pygments_lexer": "ipython3"
    },
    "colab": {
      "provenance": [],
      "include_colab_link": true
    }
  },
  "cells": [
    {
      "cell_type": "markdown",
      "metadata": {
        "id": "view-in-github",
        "colab_type": "text"
      },
      "source": [
        "<a href=\"https://colab.research.google.com/github/simon-clematide/colab-notebooks-for-teaching/blob/main/pytorch_autograd_matrix.ipynb\" target=\"_parent\"><img src=\"https://colab.research.google.com/assets/colab-badge.svg\" alt=\"Open In Colab\"/></a>"
      ]
    },
    {
      "cell_type": "markdown",
      "metadata": {
        "id": "dGoFCJcLORA4"
      },
      "source": [
        "# Automatic Differentiation in PyTorch\n",
        "See Chapter 1 of [RaoMcMahan:2019] for an introduction into torch tensors.\n",
        "See also https://www.deeplearningwizard.com/deep_learning/practical_pytorch/pytorch_gradients/ for applied introduction."
      ]
    },
    {
      "cell_type": "code",
      "metadata": {
        "id": "zNREa3Q2ORA5"
      },
      "source": [
        "import torch"
      ],
      "execution_count": null,
      "outputs": []
    },
    {
      "cell_type": "code",
      "metadata": {
        "id": "heUx7gcxORA-"
      },
      "source": [
        "x = torch.ones(2,2,requires_grad=True)"
      ],
      "execution_count": null,
      "outputs": []
    },
    {
      "cell_type": "code",
      "metadata": {
        "id": "hKguTSj7ORBB",
        "outputId": "58fcc48b-e610-4cdb-c758-01484e181430",
        "colab": {
          "base_uri": "https://localhost:8080/"
        }
      },
      "source": [
        "x"
      ],
      "execution_count": null,
      "outputs": [
        {
          "output_type": "execute_result",
          "data": {
            "text/plain": [
              "tensor([[1., 1.],\n",
              "        [1., 1.]], requires_grad=True)"
            ]
          },
          "metadata": {},
          "execution_count": 3
        }
      ]
    },
    {
      "cell_type": "code",
      "metadata": {
        "id": "F_lQoTfFORBE",
        "outputId": "9657f459-1554-49b0-be07-12158fe5d105",
        "colab": {
          "base_uri": "https://localhost:8080/"
        }
      },
      "source": [
        "print(x.grad)"
      ],
      "execution_count": null,
      "outputs": [
        {
          "output_type": "stream",
          "name": "stdout",
          "text": [
            "None\n"
          ]
        }
      ]
    },
    {
      "cell_type": "code",
      "metadata": {
        "id": "fCuhR7G2ORBG"
      },
      "source": [
        "y = (x+2)*(x+5)+3"
      ],
      "execution_count": null,
      "outputs": []
    },
    {
      "cell_type": "code",
      "metadata": {
        "id": "jwTC9vPTORBJ",
        "outputId": "a1e604dd-fa9f-45a4-f8fa-4c35814ee4d1",
        "colab": {
          "base_uri": "https://localhost:8080/"
        }
      },
      "source": [
        "y"
      ],
      "execution_count": null,
      "outputs": [
        {
          "output_type": "execute_result",
          "data": {
            "text/plain": [
              "tensor([[21., 21.],\n",
              "        [21., 21.]], grad_fn=<AddBackward0>)"
            ]
          },
          "metadata": {},
          "execution_count": 6
        }
      ]
    },
    {
      "cell_type": "code",
      "metadata": {
        "id": "ztOqdD-8ORBM"
      },
      "source": [
        "z = y.mean()"
      ],
      "execution_count": null,
      "outputs": []
    },
    {
      "cell_type": "code",
      "metadata": {
        "id": "sQfY4LRXORBP",
        "outputId": "80176e7a-2402-434f-88d2-1f6cb1d3f0e9",
        "colab": {
          "base_uri": "https://localhost:8080/"
        }
      },
      "source": [
        "z"
      ],
      "execution_count": null,
      "outputs": [
        {
          "output_type": "execute_result",
          "data": {
            "text/plain": [
              "tensor(21., grad_fn=<MeanBackward0>)"
            ]
          },
          "metadata": {},
          "execution_count": 8
        }
      ]
    },
    {
      "cell_type": "code",
      "metadata": {
        "id": "OpVJGQfMORBT"
      },
      "source": [
        "z.backward()"
      ],
      "execution_count": null,
      "outputs": []
    },
    {
      "cell_type": "code",
      "metadata": {
        "id": "foIV5aGDORBf",
        "outputId": "39bd5173-7602-470f-a977-d707676a43ff",
        "colab": {
          "base_uri": "https://localhost:8080/"
        }
      },
      "source": [
        "z"
      ],
      "execution_count": null,
      "outputs": [
        {
          "output_type": "execute_result",
          "data": {
            "text/plain": [
              "tensor(21., grad_fn=<MeanBackward0>)"
            ]
          },
          "metadata": {},
          "execution_count": 10
        }
      ]
    },
    {
      "cell_type": "code",
      "metadata": {
        "id": "UiM_0OfOORBi",
        "colab": {
          "base_uri": "https://localhost:8080/"
        },
        "outputId": "009ec6c7-f246-4259-ffcd-38ef513e7e7d"
      },
      "source": [
        "x"
      ],
      "execution_count": null,
      "outputs": [
        {
          "output_type": "execute_result",
          "data": {
            "text/plain": [
              "tensor([[1., 1.],\n",
              "        [1., 1.]], requires_grad=True)"
            ]
          },
          "metadata": {},
          "execution_count": 11
        }
      ]
    },
    {
      "cell_type": "code",
      "metadata": {
        "id": "wF60hjtPORBk",
        "colab": {
          "base_uri": "https://localhost:8080/"
        },
        "outputId": "db04e037-8342-4b63-8270-3b1473fd6ec6"
      },
      "source": [
        "x.grad"
      ],
      "execution_count": null,
      "outputs": [
        {
          "output_type": "execute_result",
          "data": {
            "text/plain": [
              "tensor([[2.2500, 2.2500],\n",
              "        [2.2500, 2.2500]])"
            ]
          },
          "metadata": {},
          "execution_count": 12
        }
      ]
    },
    {
      "cell_type": "markdown",
      "metadata": {
        "id": "xFvxlawhORBp"
      },
      "source": [
        "## Let's minimize z with respect to x a bit\n",
        "Remember x' = x - learnrate * sign(f'(x))"
      ]
    },
    {
      "cell_type": "code",
      "metadata": {
        "id": "9rFvLAlJORBp",
        "outputId": "aee3baea-81fa-4f83-b299-2ab1420b01fe",
        "colab": {
          "base_uri": "https://localhost:8080/"
        }
      },
      "source": [
        "x.sign()"
      ],
      "execution_count": null,
      "outputs": [
        {
          "output_type": "execute_result",
          "data": {
            "text/plain": [
              "tensor([[1., 1.],\n",
              "        [1., 1.]], grad_fn=<SignBackward0>)"
            ]
          },
          "metadata": {},
          "execution_count": 13
        }
      ]
    },
    {
      "cell_type": "code",
      "metadata": {
        "id": "ogSG2p30ORBs"
      },
      "source": [
        "next_x = x - 0.01*x.sign()*x.grad"
      ],
      "execution_count": null,
      "outputs": []
    },
    {
      "cell_type": "code",
      "metadata": {
        "id": "uGH0258vORBu",
        "outputId": "01d806f4-ed07-4401-85c4-7c80f65d18b1",
        "colab": {
          "base_uri": "https://localhost:8080/"
        }
      },
      "source": [
        "next_x"
      ],
      "execution_count": null,
      "outputs": [
        {
          "output_type": "execute_result",
          "data": {
            "text/plain": [
              "tensor([[0.9775, 0.9775],\n",
              "        [0.9775, 0.9775]], grad_fn=<SubBackward0>)"
            ]
          },
          "metadata": {},
          "execution_count": 15
        }
      ]
    },
    {
      "cell_type": "code",
      "metadata": {
        "id": "OGQbYpUwORBw"
      },
      "source": [],
      "execution_count": null,
      "outputs": []
    },
    {
      "cell_type": "markdown",
      "source": [],
      "metadata": {
        "id": "RjMYg0dae-jw"
      }
    }
  ]
}