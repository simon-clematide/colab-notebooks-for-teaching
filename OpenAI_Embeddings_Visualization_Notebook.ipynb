{
  "nbformat": 4,
  "nbformat_minor": 0,
  "metadata": {
    "colab": {
      "provenance": [],
      "include_colab_link": true
    },
    "kernelspec": {
      "name": "python3",
      "display_name": "Python 3"
    },
    "language_info": {
      "name": "python"
    }
  },
  "cells": [
    {
      "cell_type": "markdown",
      "metadata": {
        "id": "view-in-github",
        "colab_type": "text"
      },
      "source": [
        "<a href=\"https://colab.research.google.com/github/simon-clematide/colab-notebooks-for-teaching/blob/main/OpenAI_Embeddings_Visualization_Notebook.ipynb\" target=\"_parent\"><img src=\"https://colab.research.google.com/assets/colab-badge.svg\" alt=\"Open In Colab\"/></a>"
      ]
    },
    {
      "cell_type": "markdown",
      "source": [
        "# Link to this notebook"
      ],
      "metadata": {
        "id": "CZSf7idkS2iZ"
      }
    },
    {
      "cell_type": "code",
      "execution_count": null,
      "metadata": {
        "id": "rsH4Yg-Kfxkn",
        "colab": {
          "base_uri": "https://localhost:8080/"
        },
        "outputId": "ed1e2c53-65c9-4bb9-f286-1ac8c84db048"
      },
      "outputs": [
        {
          "output_type": "stream",
          "name": "stdout",
          "text": [
            "Requirement already satisfied: openai in /usr/local/lib/python3.11/dist-packages (1.72.0)\n",
            "Requirement already satisfied: anyio<5,>=3.5.0 in /usr/local/lib/python3.11/dist-packages (from openai) (4.9.0)\n",
            "Requirement already satisfied: distro<2,>=1.7.0 in /usr/local/lib/python3.11/dist-packages (from openai) (1.9.0)\n",
            "Requirement already satisfied: httpx<1,>=0.23.0 in /usr/local/lib/python3.11/dist-packages (from openai) (0.28.1)\n",
            "Requirement already satisfied: jiter<1,>=0.4.0 in /usr/local/lib/python3.11/dist-packages (from openai) (0.9.0)\n",
            "Requirement already satisfied: pydantic<3,>=1.9.0 in /usr/local/lib/python3.11/dist-packages (from openai) (2.11.3)\n",
            "Requirement already satisfied: sniffio in /usr/local/lib/python3.11/dist-packages (from openai) (1.3.1)\n",
            "Requirement already satisfied: tqdm>4 in /usr/local/lib/python3.11/dist-packages (from openai) (4.67.1)\n",
            "Requirement already satisfied: typing-extensions<5,>=4.11 in /usr/local/lib/python3.11/dist-packages (from openai) (4.13.1)\n",
            "Requirement already satisfied: idna>=2.8 in /usr/local/lib/python3.11/dist-packages (from anyio<5,>=3.5.0->openai) (3.10)\n",
            "Requirement already satisfied: certifi in /usr/local/lib/python3.11/dist-packages (from httpx<1,>=0.23.0->openai) (2025.1.31)\n",
            "Requirement already satisfied: httpcore==1.* in /usr/local/lib/python3.11/dist-packages (from httpx<1,>=0.23.0->openai) (1.0.7)\n",
            "Requirement already satisfied: h11<0.15,>=0.13 in /usr/local/lib/python3.11/dist-packages (from httpcore==1.*->httpx<1,>=0.23.0->openai) (0.14.0)\n",
            "Requirement already satisfied: annotated-types>=0.6.0 in /usr/local/lib/python3.11/dist-packages (from pydantic<3,>=1.9.0->openai) (0.7.0)\n",
            "Requirement already satisfied: pydantic-core==2.33.1 in /usr/local/lib/python3.11/dist-packages (from pydantic<3,>=1.9.0->openai) (2.33.1)\n",
            "Requirement already satisfied: typing-inspection>=0.4.0 in /usr/local/lib/python3.11/dist-packages (from pydantic<3,>=1.9.0->openai) (0.4.0)\n",
            "Requirement already satisfied: scikit-learn in /usr/local/lib/python3.11/dist-packages (1.6.1)\n",
            "Requirement already satisfied: matplotlib in /usr/local/lib/python3.11/dist-packages (3.10.0)\n",
            "Requirement already satisfied: numpy>=1.19.5 in /usr/local/lib/python3.11/dist-packages (from scikit-learn) (2.0.2)\n",
            "Requirement already satisfied: scipy>=1.6.0 in /usr/local/lib/python3.11/dist-packages (from scikit-learn) (1.14.1)\n",
            "Requirement already satisfied: joblib>=1.2.0 in /usr/local/lib/python3.11/dist-packages (from scikit-learn) (1.4.2)\n",
            "Requirement already satisfied: threadpoolctl>=3.1.0 in /usr/local/lib/python3.11/dist-packages (from scikit-learn) (3.6.0)\n",
            "Requirement already satisfied: contourpy>=1.0.1 in /usr/local/lib/python3.11/dist-packages (from matplotlib) (1.3.1)\n",
            "Requirement already satisfied: cycler>=0.10 in /usr/local/lib/python3.11/dist-packages (from matplotlib) (0.12.1)\n",
            "Requirement already satisfied: fonttools>=4.22.0 in /usr/local/lib/python3.11/dist-packages (from matplotlib) (4.57.0)\n",
            "Requirement already satisfied: kiwisolver>=1.3.1 in /usr/local/lib/python3.11/dist-packages (from matplotlib) (1.4.8)\n",
            "Requirement already satisfied: packaging>=20.0 in /usr/local/lib/python3.11/dist-packages (from matplotlib) (24.2)\n",
            "Requirement already satisfied: pillow>=8 in /usr/local/lib/python3.11/dist-packages (from matplotlib) (11.1.0)\n",
            "Requirement already satisfied: pyparsing>=2.3.1 in /usr/local/lib/python3.11/dist-packages (from matplotlib) (3.2.3)\n",
            "Requirement already satisfied: python-dateutil>=2.7 in /usr/local/lib/python3.11/dist-packages (from matplotlib) (2.8.2)\n",
            "Requirement already satisfied: six>=1.5 in /usr/local/lib/python3.11/dist-packages (from python-dateutil>=2.7->matplotlib) (1.17.0)\n"
          ]
        }
      ],
      "source": [
        "!pip install openai\n",
        "!pip install scikit-learn matplotlib"
      ]
    },
    {
      "cell_type": "markdown",
      "source": [
        "## Part 1: Visualize Text Embeddings"
      ],
      "metadata": {
        "id": "aPVjQ04vf3wN"
      }
    },
    {
      "cell_type": "code",
      "source": [
        "sentence1 = \"Hi, how are you?\"\n",
        "sentence2 = \"Hello, how's it going?\"\n",
        "\n",
        "sentence3 = \"I wonder what the weather will be like tomorrow?\""
      ],
      "metadata": {
        "id": "_BdcmB7_f1rn"
      },
      "execution_count": null,
      "outputs": []
    },
    {
      "cell_type": "markdown",
      "source": [
        "Expectation:\n",
        "* `sentence1` and `sentence2` should be **close** in embedding space, since they are similar in meaning.\n",
        "* `sentence3` should be **farther apart**."
      ],
      "metadata": {
        "id": "T354GIoTf8bN"
      }
    },
    {
      "cell_type": "code",
      "source": [
        "# Use the OpenAI API to get text embeddings\n",
        "\n",
        "from openai import OpenAI\n",
        "\n",
        "client = OpenAI(api_key=userdata.get('OPENAI_API_KEY'))  # TODO: Insert your API key\n",
        "\n",
        "def get_embedding(text, model=\"text-embedding-3-large\"):\n",
        "   text = text.replace(\"\\n\", \" \")\n",
        "   return client.embeddings.create(input = [text], model=model).data[0].embedding\n",
        "\n",
        "sentence1_embedding = get_embedding(sentence1)\n",
        "sentence2_embedding = get_embedding(sentence2)\n",
        "sentence3_embedding = get_embedding(sentence3)"
      ],
      "metadata": {
        "id": "usZs3Zxtf6VX"
      },
      "execution_count": null,
      "outputs": []
    },
    {
      "cell_type": "code",
      "source": [
        "# Verify that we got a vector of numbers for each sentence\n",
        "sentence1_embedding[:10]"
      ],
      "metadata": {
        "colab": {
          "base_uri": "https://localhost:8080/"
        },
        "id": "BFYAzKnsf-TI",
        "outputId": "00429f08-03c0-4c59-ca61-b201b4783233"
      },
      "execution_count": null,
      "outputs": [
        {
          "output_type": "execute_result",
          "data": {
            "text/plain": [
              "[0.002584584290161729,\n",
              " 0.022756416350603104,\n",
              " -0.0320146270096302,\n",
              " -0.02903589978814125,\n",
              " 0.01777845062315464,\n",
              " -0.009539983235299587,\n",
              " 0.019978953525424004,\n",
              " -0.01768452674150467,\n",
              " -0.005105434451252222,\n",
              " 0.02511793188750744]"
            ]
          },
          "metadata": {},
          "execution_count": 5
        }
      ]
    },
    {
      "cell_type": "markdown",
      "source": [
        "Next, let's **visualize** the embeddings of the three sentences in 2D space. \\\n",
        "\n",
        "There is no need to understand the function below in depth – it applies Multidimensional Scaling (MDS) to the embeddings.\\\n",
        "Embeddings with a smaller cosine distance will appear closer to each other in the plot."
      ],
      "metadata": {
        "id": "LoN_z3GNgZAo"
      }
    },
    {
      "cell_type": "code",
      "source": [
        "import numpy as np\n",
        "import matplotlib.pyplot as plt\n",
        "from sklearn.metrics.pairwise import cosine_similarity\n",
        "from sklearn.manifold import MDS\n",
        "\n",
        "\n",
        "def visualize_embeddings(sentences, embeddings):\n",
        "    assert len(sentences) == len(embeddings)\n",
        "    embeddings = np.array(embeddings)\n",
        "\n",
        "    # Step 1: Compute the cosine similarity matrix\n",
        "    cosine_sim_matrix = cosine_similarity(embeddings)\n",
        "\n",
        "    # Step 2: Convert cosine similarities to distances (1 - similarity)\n",
        "    distance_matrix = 1 - cosine_sim_matrix\n",
        "\n",
        "    # Step 3: Use MDS to project the points into 2D based on the distance matrix\n",
        "    mds = MDS(n_components=2, dissimilarity=\"precomputed\", random_state=42, normalized_stress=\"auto\")\n",
        "    vis_dims = mds.fit_transform(distance_matrix)\n",
        "\n",
        "    # Step 4: Visualize the 2D projection\n",
        "    x = [x for x, y in vis_dims]\n",
        "    y = [y for x, y in vis_dims]\n",
        "\n",
        "    plt.scatter(x, y, c=list(range(len(embeddings))), alpha=0.6)\n",
        "\n",
        "    # Label each point with the corresponding sentence\n",
        "    for i, txt in enumerate(sentences):\n",
        "        plt.annotate(txt, (x[i], y[i]), fontsize=12)\n",
        "\n",
        "    # Step 5: Annotate the cosine distances between points\n",
        "    for i in range(len(embeddings)):\n",
        "        for j in range(i + 1, len(embeddings)):\n",
        "            # Retrieve cosine distance between the embeddings (from the original distance matrix)\n",
        "            dist = distance_matrix[i, j]\n",
        "\n",
        "            # Find the midpoint between the points to place the label\n",
        "            mid_x = (x[i] + x[j]) / 2\n",
        "            mid_y = (y[i] + y[j]) / 2\n",
        "\n",
        "            # Annotate the cosine distance on the plot at the midpoint\n",
        "            plt.text(mid_x, mid_y, f\"{dist:.2f}\", fontsize=10, color=\"blue\", ha=\"center\")\n",
        "\n",
        "            # Add an arrow from point i to point j\n",
        "            plt.arrow(x[i], y[i], x[j] - x[i], y[j] - y[i], color=\"gray\", alpha=0.1)\n",
        "\n",
        "    plt.gca().axes.get_xaxis().set_visible(False)\n",
        "    plt.gca().axes.get_yaxis().set_visible(False)\n",
        "    plt.show()"
      ],
      "metadata": {
        "id": "ccN3LjW6gXIM"
      },
      "execution_count": null,
      "outputs": []
    },
    {
      "cell_type": "markdown",
      "source": [
        "Now, let's visualize the embeddings of the three sentences."
      ],
      "metadata": {
        "id": "tU6N-bOygeO9"
      }
    },
    {
      "cell_type": "code",
      "source": [
        "visualize_embeddings(\n",
        "    sentences=[sentence1, sentence2, sentence3],\n",
        "    embeddings=[sentence1_embedding, sentence2_embedding, sentence3_embedding]\n",
        ")"
      ],
      "metadata": {
        "colab": {
          "base_uri": "https://localhost:8080/",
          "height": 406
        },
        "id": "DgQ7iwAAgao1",
        "outputId": "5bcfca16-bfa8-41b2-de84-8f5b4c17690e"
      },
      "execution_count": null,
      "outputs": [
        {
          "output_type": "display_data",
          "data": {
            "text/plain": [
              "<Figure size 640x480 with 1 Axes>"
            ],
            "image/png": "[encoded data removed]"
          },
          "metadata": {}
        }
      ]
    },
    {
      "cell_type": "markdown",
      "source": [
        "## Part 2: Use Text Embeddings for Spotting the Correct Translation"
      ],
      "metadata": {
        "id": "oV40sqoIgiZI"
      }
    },
    {
      "cell_type": "markdown",
      "source": [
        "How do you say **\"Hi, how are you?\"** in Esperanto?\n",
        "\n",
        "a) \"Mi ne komprenas.\" \\\n",
        "b) \"Kiom longe for estas la Ejfel-turo?\" \\\n",
        "c) \"Saluton, kiel vi fartas?\"\n",
        "\n",
        "Find the correct translation simply using text embeddings."
      ],
      "metadata": {
        "id": "ZFot_IHoglS0"
      }
    },
    {
      "cell_type": "code",
      "source": [
        "# TODO"
      ],
      "metadata": {
        "id": "w5IgLCezg0DU"
      },
      "execution_count": null,
      "outputs": []
    }
  ]
}