{
  "nbformat": 4,
  "nbformat_minor": 0,
  "metadata": {
    "colab": {
      "provenance": [],
      "collapsed_sections": [
        "ZtyoOEFxJ1gN"
      ],
      "authorship_tag": "ABX9TyO4/HOEwisuwxs1opIH7Di4",
      "include_colab_link": true
    },
    "kernelspec": {
      "name": "python3",
      "display_name": "Python 3"
    },
    "language_info": {
      "name": "python"
    }
  },
  "cells": [
    {
      "cell_type": "markdown",
      "metadata": {
        "id": "view-in-github",
        "colab_type": "text"
      },
      "source": [
        "<a href=\"https://colab.research.google.com/github/simon-clematide/colab-notebooks-for-teaching/blob/main/sentiment-analysis-overview.ipynb\" target=\"_parent\"><img src=\"https://colab.research.google.com/assets/colab-badge.svg\" alt=\"Open In Colab\"/></a>"
      ]
    },
    {
      "cell_type": "code",
      "source": [
        "!pip install flair # lets do this first to prevent restarting the runtime"
      ],
      "metadata": {
        "id": "wmNyzsn1PIOk",
        "outputId": "1b9044ef-91dc-40b8-9fde-66c88c51591a",
        "colab": {
          "base_uri": "https://localhost:8080/"
        }
      },
      "execution_count": 39,
      "outputs": [
        {
          "output_type": "stream",
          "name": "stdout",
          "text": [
            "Requirement already satisfied: flair in /usr/local/lib/python3.10/dist-packages (0.13.1)\n",
            "Requirement already satisfied: boto3>=1.20.27 in /usr/local/lib/python3.10/dist-packages (from flair) (1.34.57)\n",
            "Requirement already satisfied: bpemb>=0.3.2 in /usr/local/lib/python3.10/dist-packages (from flair) (0.3.4)\n",
            "Requirement already satisfied: conllu>=4.0 in /usr/local/lib/python3.10/dist-packages (from flair) (4.5.3)\n",
            "Requirement already satisfied: deprecated>=1.2.13 in /usr/local/lib/python3.10/dist-packages (from flair) (1.2.14)\n",
            "Requirement already satisfied: ftfy>=6.1.0 in /usr/local/lib/python3.10/dist-packages (from flair) (6.1.3)\n",
            "Requirement already satisfied: gdown>=4.4.0 in /usr/local/lib/python3.10/dist-packages (from flair) (4.7.3)\n",
            "Requirement already satisfied: gensim>=4.2.0 in /usr/local/lib/python3.10/dist-packages (from flair) (4.3.2)\n",
            "Requirement already satisfied: huggingface-hub>=0.10.0 in /usr/local/lib/python3.10/dist-packages (from flair) (0.20.3)\n",
            "Requirement already satisfied: janome>=0.4.2 in /usr/local/lib/python3.10/dist-packages (from flair) (0.5.0)\n",
            "Requirement already satisfied: langdetect>=1.0.9 in /usr/local/lib/python3.10/dist-packages (from flair) (1.0.9)\n",
            "Requirement already satisfied: lxml>=4.8.0 in /usr/local/lib/python3.10/dist-packages (from flair) (4.9.4)\n",
            "Requirement already satisfied: matplotlib>=2.2.3 in /usr/local/lib/python3.10/dist-packages (from flair) (3.7.1)\n",
            "Requirement already satisfied: more-itertools>=8.13.0 in /usr/local/lib/python3.10/dist-packages (from flair) (10.1.0)\n",
            "Requirement already satisfied: mpld3>=0.3 in /usr/local/lib/python3.10/dist-packages (from flair) (0.5.10)\n",
            "Requirement already satisfied: pptree>=3.1 in /usr/local/lib/python3.10/dist-packages (from flair) (3.1)\n",
            "Requirement already satisfied: python-dateutil>=2.8.2 in /usr/local/lib/python3.10/dist-packages (from flair) (2.8.2)\n",
            "Requirement already satisfied: pytorch-revgrad>=0.2.0 in /usr/local/lib/python3.10/dist-packages (from flair) (0.2.0)\n",
            "Requirement already satisfied: regex>=2022.1.18 in /usr/local/lib/python3.10/dist-packages (from flair) (2023.12.25)\n",
            "Requirement already satisfied: scikit-learn>=1.0.2 in /usr/local/lib/python3.10/dist-packages (from flair) (1.2.2)\n",
            "Requirement already satisfied: segtok>=1.5.11 in /usr/local/lib/python3.10/dist-packages (from flair) (1.5.11)\n",
            "Requirement already satisfied: sqlitedict>=2.0.0 in /usr/local/lib/python3.10/dist-packages (from flair) (2.1.0)\n",
            "Requirement already satisfied: tabulate>=0.8.10 in /usr/local/lib/python3.10/dist-packages (from flair) (0.9.0)\n",
            "Requirement already satisfied: torch!=1.8,>=1.5.0 in /usr/local/lib/python3.10/dist-packages (from flair) (2.1.0+cu121)\n",
            "Requirement already satisfied: tqdm>=4.63.0 in /usr/local/lib/python3.10/dist-packages (from flair) (4.66.2)\n",
            "Requirement already satisfied: transformer-smaller-training-vocab>=0.2.3 in /usr/local/lib/python3.10/dist-packages (from flair) (0.3.3)\n",
            "Requirement already satisfied: transformers[sentencepiece]<5.0.0,>=4.18.0 in /usr/local/lib/python3.10/dist-packages (from flair) (4.38.2)\n",
            "Requirement already satisfied: urllib3<2.0.0,>=1.0.0 in /usr/local/lib/python3.10/dist-packages (from flair) (1.26.18)\n",
            "Requirement already satisfied: wikipedia-api>=0.5.7 in /usr/local/lib/python3.10/dist-packages (from flair) (0.6.0)\n",
            "Requirement already satisfied: semver<4.0.0,>=3.0.0 in /usr/local/lib/python3.10/dist-packages (from flair) (3.0.2)\n",
            "Requirement already satisfied: botocore<1.35.0,>=1.34.57 in /usr/local/lib/python3.10/dist-packages (from boto3>=1.20.27->flair) (1.34.57)\n",
            "Requirement already satisfied: jmespath<2.0.0,>=0.7.1 in /usr/local/lib/python3.10/dist-packages (from boto3>=1.20.27->flair) (1.0.1)\n",
            "Requirement already satisfied: s3transfer<0.11.0,>=0.10.0 in /usr/local/lib/python3.10/dist-packages (from boto3>=1.20.27->flair) (0.10.0)\n",
            "Requirement already satisfied: numpy in /usr/local/lib/python3.10/dist-packages (from bpemb>=0.3.2->flair) (1.25.2)\n",
            "Requirement already satisfied: requests in /usr/local/lib/python3.10/dist-packages (from bpemb>=0.3.2->flair) (2.31.0)\n",
            "Requirement already satisfied: sentencepiece in /usr/local/lib/python3.10/dist-packages (from bpemb>=0.3.2->flair) (0.1.99)\n",
            "Requirement already satisfied: wrapt<2,>=1.10 in /usr/local/lib/python3.10/dist-packages (from deprecated>=1.2.13->flair) (1.14.1)\n",
            "Requirement already satisfied: wcwidth<0.3.0,>=0.2.12 in /usr/local/lib/python3.10/dist-packages (from ftfy>=6.1.0->flair) (0.2.13)\n",
            "Requirement already satisfied: filelock in /usr/local/lib/python3.10/dist-packages (from gdown>=4.4.0->flair) (3.13.1)\n",
            "Requirement already satisfied: six in /usr/local/lib/python3.10/dist-packages (from gdown>=4.4.0->flair) (1.16.0)\n",
            "Requirement already satisfied: beautifulsoup4 in /usr/local/lib/python3.10/dist-packages (from gdown>=4.4.0->flair) (4.12.3)\n",
            "Requirement already satisfied: scipy>=1.7.0 in /usr/local/lib/python3.10/dist-packages (from gensim>=4.2.0->flair) (1.11.4)\n",
            "Requirement already satisfied: smart-open>=1.8.1 in /usr/local/lib/python3.10/dist-packages (from gensim>=4.2.0->flair) (6.4.0)\n",
            "Requirement already satisfied: fsspec>=2023.5.0 in /usr/local/lib/python3.10/dist-packages (from huggingface-hub>=0.10.0->flair) (2023.6.0)\n",
            "Requirement already satisfied: pyyaml>=5.1 in /usr/local/lib/python3.10/dist-packages (from huggingface-hub>=0.10.0->flair) (6.0.1)\n",
            "Requirement already satisfied: typing-extensions>=3.7.4.3 in /usr/local/lib/python3.10/dist-packages (from huggingface-hub>=0.10.0->flair) (4.10.0)\n",
            "Requirement already satisfied: packaging>=20.9 in /usr/local/lib/python3.10/dist-packages (from huggingface-hub>=0.10.0->flair) (23.2)\n",
            "Requirement already satisfied: contourpy>=1.0.1 in /usr/local/lib/python3.10/dist-packages (from matplotlib>=2.2.3->flair) (1.2.0)\n",
            "Requirement already satisfied: cycler>=0.10 in /usr/local/lib/python3.10/dist-packages (from matplotlib>=2.2.3->flair) (0.12.1)\n",
            "Requirement already satisfied: fonttools>=4.22.0 in /usr/local/lib/python3.10/dist-packages (from matplotlib>=2.2.3->flair) (4.49.0)\n",
            "Requirement already satisfied: kiwisolver>=1.0.1 in /usr/local/lib/python3.10/dist-packages (from matplotlib>=2.2.3->flair) (1.4.5)\n",
            "Requirement already satisfied: pillow>=6.2.0 in /usr/local/lib/python3.10/dist-packages (from matplotlib>=2.2.3->flair) (9.4.0)\n",
            "Requirement already satisfied: pyparsing>=2.3.1 in /usr/local/lib/python3.10/dist-packages (from matplotlib>=2.2.3->flair) (3.1.1)\n",
            "Requirement already satisfied: jinja2 in /usr/local/lib/python3.10/dist-packages (from mpld3>=0.3->flair) (3.1.3)\n",
            "Requirement already satisfied: joblib>=1.1.1 in /usr/local/lib/python3.10/dist-packages (from scikit-learn>=1.0.2->flair) (1.3.2)\n",
            "Requirement already satisfied: threadpoolctl>=2.0.0 in /usr/local/lib/python3.10/dist-packages (from scikit-learn>=1.0.2->flair) (3.3.0)\n",
            "Requirement already satisfied: sympy in /usr/local/lib/python3.10/dist-packages (from torch!=1.8,>=1.5.0->flair) (1.12)\n",
            "Requirement already satisfied: networkx in /usr/local/lib/python3.10/dist-packages (from torch!=1.8,>=1.5.0->flair) (3.2.1)\n",
            "Requirement already satisfied: triton==2.1.0 in /usr/local/lib/python3.10/dist-packages (from torch!=1.8,>=1.5.0->flair) (2.1.0)\n",
            "Requirement already satisfied: tokenizers<0.19,>=0.14 in /usr/local/lib/python3.10/dist-packages (from transformers[sentencepiece]<5.0.0,>=4.18.0->flair) (0.15.2)\n",
            "Requirement already satisfied: safetensors>=0.4.1 in /usr/local/lib/python3.10/dist-packages (from transformers[sentencepiece]<5.0.0,>=4.18.0->flair) (0.4.2)\n",
            "Requirement already satisfied: protobuf in /usr/local/lib/python3.10/dist-packages (from transformers[sentencepiece]<5.0.0,>=4.18.0->flair) (3.20.3)\n",
            "Requirement already satisfied: accelerate>=0.21.0 in /usr/local/lib/python3.10/dist-packages (from transformers[sentencepiece]<5.0.0,>=4.18.0->flair) (0.27.2)\n",
            "Requirement already satisfied: soupsieve>1.2 in /usr/local/lib/python3.10/dist-packages (from beautifulsoup4->gdown>=4.4.0->flair) (2.5)\n",
            "Requirement already satisfied: MarkupSafe>=2.0 in /usr/local/lib/python3.10/dist-packages (from jinja2->mpld3>=0.3->flair) (2.1.5)\n",
            "Requirement already satisfied: charset-normalizer<4,>=2 in /usr/local/lib/python3.10/dist-packages (from requests->bpemb>=0.3.2->flair) (3.3.2)\n",
            "Requirement already satisfied: idna<4,>=2.5 in /usr/local/lib/python3.10/dist-packages (from requests->bpemb>=0.3.2->flair) (3.6)\n",
            "Requirement already satisfied: certifi>=2017.4.17 in /usr/local/lib/python3.10/dist-packages (from requests->bpemb>=0.3.2->flair) (2024.2.2)\n",
            "Requirement already satisfied: PySocks!=1.5.7,>=1.5.6 in /usr/local/lib/python3.10/dist-packages (from requests->bpemb>=0.3.2->flair) (1.7.1)\n",
            "Requirement already satisfied: mpmath>=0.19 in /usr/local/lib/python3.10/dist-packages (from sympy->torch!=1.8,>=1.5.0->flair) (1.3.0)\n",
            "Requirement already satisfied: psutil in /usr/local/lib/python3.10/dist-packages (from accelerate>=0.21.0->transformers[sentencepiece]<5.0.0,>=4.18.0->flair) (5.9.5)\n"
          ]
        }
      ]
    },
    {
      "cell_type": "markdown",
      "source": [
        "# Sentiment and Emotion Analysis\n",
        "\n",
        "1. **Definition**: Sentiment analysis is a computational technique in natural language processing (NLP) that identifies and categorizes opinions or emotions within text data to determine the writer's attitude towards a particular topic, product, or service.\n",
        "\n",
        "2. **Applications**: It's widely used in business and marketing for brand monitoring, product reviews analysis, customer feedback, and social media monitoring, helping organizations understand consumer sentiments and preferences.\n",
        "\n",
        "3. **Techniques and Challenges**: Sentiment analysis often employs machine learning, lexical methods, or a combination of both. It faces challenges like detecting sarcasm, context, cultural variations, and nuanced expressions of emotions."
      ],
      "metadata": {
        "id": "kP1-D911zEBU"
      }
    },
    {
      "cell_type": "markdown",
      "source": [
        "Our running examples from \"[Pride and Prejudice](https://www.gutenberg.org/ebooks/42671)\" will be:\n",
        "- a prototypical positive sentence `sent`: \"Mr Davis is a handsome man.\"\n",
        "- a phrase with a negation `neg`: \"Elizabeth did't feel happy.\"\n",
        "- a long literary sentence with nuanced expression `para` : \"Which do you mean?\" and turning round, he looked for a moment at Elizabeth, till catching her eye, he withdrew his own and coldly said, \"She is tolerable; but not handsome enough to tempt me; and I am in no humour at present to give consequence to young ladies who are slighted by other men. \""
      ],
      "metadata": {
        "id": "JGLzM6Dq2VlN"
      }
    },
    {
      "cell_type": "code",
      "source": [
        "sent = \"Mr Davis is a handsome man.\"\n",
        "neg =  \"Elizabeth didn't feel happy.\"\n",
        "para = '''\"Which do you mean?\" and turning round, he looked for a moment at Elizabeth, till catching her eye, he withdrew his own and coldly said,\n",
        "\"She is tolerable; but not handsome enough to tempt me; and I am in no humour at present to give consequence to young ladies who are slighted by other men.\"'''"
      ],
      "metadata": {
        "id": "8-uHhzR_CY77"
      },
      "execution_count": 42,
      "outputs": []
    },
    {
      "cell_type": "markdown",
      "source": [
        "# Lexical Approaches\n",
        "They rely on word/lemma lists that have been categorized into sentiment classes."
      ],
      "metadata": {
        "id": "wHPMaKBR0idL"
      }
    },
    {
      "cell_type": "markdown",
      "source": [
        "## VaderSentiment\n",
        "Gives an overall assessment of a text. What is negative, neutral, positive in terms of [words](https://github.com/cjhutto/vaderSentiment/blob/master/vaderSentiment/vader_lexicon.txt) and phrases. Aggregated in a compound value that gives an [overall score](https://github.com/cjhutto/vaderSentiment?tab=readme-ov-file#about-the-scoring) between -1 and 1. More on https://github.com/cjhutto/vaderSentiment"
      ],
      "metadata": {
        "id": "RM_WpyzRDM9Z"
      }
    },
    {
      "cell_type": "code",
      "source": [
        "!pip install vaderSentiment"
      ],
      "metadata": {
        "colab": {
          "base_uri": "https://localhost:8080/"
        },
        "id": "TYCqSLZbngnM",
        "outputId": "bc0beac5-2bc7-4e1e-b06c-4b04b7599171"
      },
      "execution_count": 43,
      "outputs": [
        {
          "output_type": "stream",
          "name": "stdout",
          "text": [
            "Requirement already satisfied: vaderSentiment in /usr/local/lib/python3.10/dist-packages (3.3.2)\n",
            "Requirement already satisfied: requests in /usr/local/lib/python3.10/dist-packages (from vaderSentiment) (2.31.0)\n",
            "Requirement already satisfied: charset-normalizer<4,>=2 in /usr/local/lib/python3.10/dist-packages (from requests->vaderSentiment) (3.3.2)\n",
            "Requirement already satisfied: idna<4,>=2.5 in /usr/local/lib/python3.10/dist-packages (from requests->vaderSentiment) (3.6)\n",
            "Requirement already satisfied: urllib3<3,>=1.21.1 in /usr/local/lib/python3.10/dist-packages (from requests->vaderSentiment) (1.26.18)\n",
            "Requirement already satisfied: certifi>=2017.4.17 in /usr/local/lib/python3.10/dist-packages (from requests->vaderSentiment) (2024.2.2)\n"
          ]
        }
      ]
    },
    {
      "cell_type": "code",
      "source": [
        "from vaderSentiment.vaderSentiment import SentimentIntensityAnalyzer\n",
        "analyzer = SentimentIntensityAnalyzer()"
      ],
      "metadata": {
        "id": "Ve3zet-zpCgd"
      },
      "execution_count": 44,
      "outputs": []
    },
    {
      "cell_type": "code",
      "source": [
        "vs = analyzer.polarity_scores(sent)\n",
        "print(sent, vs, sep=\"\\n\")"
      ],
      "metadata": {
        "colab": {
          "base_uri": "https://localhost:8080/"
        },
        "id": "ch9NuBiwpKNs",
        "outputId": "93ed6fd1-3af6-44f7-dfd3-d7e9e88e11fa"
      },
      "execution_count": 45,
      "outputs": [
        {
          "output_type": "stream",
          "name": "stdout",
          "text": [
            "Mr Davis is a handsome man.\n",
            "{'neg': 0.0, 'neu': 0.61, 'pos': 0.39, 'compound': 0.4939}\n"
          ]
        }
      ]
    },
    {
      "cell_type": "code",
      "source": [
        "vs = analyzer.polarity_scores(neg)\n",
        "print(neg, vs, sep=\"\\n\")"
      ],
      "metadata": {
        "colab": {
          "base_uri": "https://localhost:8080/"
        },
        "id": "zvNYuOs7D6O2",
        "outputId": "7031364f-eff0-444f-9bb7-9c984b5940c8"
      },
      "execution_count": 46,
      "outputs": [
        {
          "output_type": "stream",
          "name": "stdout",
          "text": [
            "Elizabeth didn't feel happy.\n",
            "{'neg': 0.5, 'neu': 0.5, 'pos': 0.0, 'compound': -0.4585}\n"
          ]
        }
      ]
    },
    {
      "cell_type": "code",
      "source": [
        "vs = analyzer.polarity_scores(para)\n",
        "print(para, vs, sep=\"\\n\")"
      ],
      "metadata": {
        "colab": {
          "base_uri": "https://localhost:8080/"
        },
        "id": "led8dpiSE1vU",
        "outputId": "8a09b941-c9e8-475a-c850-04bbbaa7083a"
      },
      "execution_count": 47,
      "outputs": [
        {
          "output_type": "stream",
          "name": "stdout",
          "text": [
            "\"Which do you mean?\" and turning round, he looked for a moment at Elizabeth, till catching her eye, he withdrew his own and coldly said,\n",
            "\"She is tolerable; but not handsome enough to tempt me; and I am in no humour at present to give consequence to young ladies who are slighted by other men.\"\n",
            "{'neg': 0.113, 'neu': 0.887, 'pos': 0.0, 'compound': -0.7765}\n"
          ]
        }
      ]
    },
    {
      "cell_type": "code",
      "source": [
        "# intensifiers are respected\n",
        "vs = analyzer.polarity_scores(\"Mr Davis is an extremely handsome man.\")\n",
        "print(vs)"
      ],
      "metadata": {
        "colab": {
          "base_uri": "https://localhost:8080/"
        },
        "id": "IFPbPJqEFuW-",
        "outputId": "926c62eb-4126-4852-e174-adec7c9106e4"
      },
      "execution_count": 48,
      "outputs": [
        {
          "output_type": "stream",
          "name": "stdout",
          "text": [
            "{'neg': 0.0, 'neu': 0.632, 'pos': 0.368, 'compound': 0.5413}\n"
          ]
        }
      ]
    },
    {
      "cell_type": "code",
      "source": [
        "# Neutral words matter\n",
        "# intensifiers are respected\n",
        "vs = analyzer.polarity_scores(\"extremely handsome\")\n",
        "print(vs)"
      ],
      "metadata": {
        "colab": {
          "base_uri": "https://localhost:8080/"
        },
        "id": "_7HFTlPuGB2g",
        "outputId": "cf21aac1-dba7-451c-ec6b-0af4caf9cb3a"
      },
      "execution_count": 49,
      "outputs": [
        {
          "output_type": "stream",
          "name": "stdout",
          "text": [
            "{'neg': 0.0, 'neu': 0.223, 'pos': 0.777, 'compound': 0.5413}\n"
          ]
        }
      ]
    },
    {
      "cell_type": "code",
      "source": [
        "help(SentimentIntensityAnalyzer)"
      ],
      "metadata": {
        "colab": {
          "base_uri": "https://localhost:8080/"
        },
        "id": "z_NhPQ4-pMqg",
        "outputId": "0e6e8d09-6dba-419c-c782-ca935fd25d30"
      },
      "execution_count": 50,
      "outputs": [
        {
          "output_type": "stream",
          "name": "stdout",
          "text": [
            "Help on class SentimentIntensityAnalyzer in module vaderSentiment.vaderSentiment:\n",
            "\n",
            "class SentimentIntensityAnalyzer(builtins.object)\n",
            " |  SentimentIntensityAnalyzer(lexicon_file='vader_lexicon.txt', emoji_lexicon='emoji_utf8_lexicon.txt')\n",
            " |  \n",
            " |  Give a sentiment intensity score to sentences.\n",
            " |  \n",
            " |  Methods defined here:\n",
            " |  \n",
            " |  __init__(self, lexicon_file='vader_lexicon.txt', emoji_lexicon='emoji_utf8_lexicon.txt')\n",
            " |      Initialize self.  See help(type(self)) for accurate signature.\n",
            " |  \n",
            " |  make_emoji_dict(self)\n",
            " |      Convert emoji lexicon file to a dictionary\n",
            " |  \n",
            " |  make_lex_dict(self)\n",
            " |      Convert lexicon file to a dictionary\n",
            " |  \n",
            " |  polarity_scores(self, text)\n",
            " |      Return a float for sentiment strength based on the input text.\n",
            " |      Positive values are positive valence, negative value are negative\n",
            " |      valence.\n",
            " |  \n",
            " |  score_valence(self, sentiments, text)\n",
            " |  \n",
            " |  sentiment_valence(self, valence, sentitext, item, i, sentiments)\n",
            " |  \n",
            " |  ----------------------------------------------------------------------\n",
            " |  Data descriptors defined here:\n",
            " |  \n",
            " |  __dict__\n",
            " |      dictionary for instance variables (if defined)\n",
            " |  \n",
            " |  __weakref__\n",
            " |      list of weak references to the object (if defined)\n",
            "\n"
          ]
        }
      ]
    },
    {
      "cell_type": "markdown",
      "source": [
        "## Texblob\n",
        "Yet another NLP pipeline with [lexicon-based sentiment and polarity analysis](https://textblob.readthedocs.io/en/dev/quickstart.html#sentiment-analysis)"
      ],
      "metadata": {
        "id": "gmFit1xnIJys"
      }
    },
    {
      "cell_type": "code",
      "source": [
        "!pip install textblob\n"
      ],
      "metadata": {
        "colab": {
          "base_uri": "https://localhost:8080/"
        },
        "id": "C1s07gSOj2rA",
        "outputId": "2fbf9762-0dab-4493-87c9-94cc3f756aae"
      },
      "execution_count": 51,
      "outputs": [
        {
          "output_type": "stream",
          "name": "stdout",
          "text": [
            "Requirement already satisfied: textblob in /usr/local/lib/python3.10/dist-packages (0.17.1)\n",
            "Requirement already satisfied: nltk>=3.1 in /usr/local/lib/python3.10/dist-packages (from textblob) (3.8.1)\n",
            "Requirement already satisfied: click in /usr/local/lib/python3.10/dist-packages (from nltk>=3.1->textblob) (8.1.7)\n",
            "Requirement already satisfied: joblib in /usr/local/lib/python3.10/dist-packages (from nltk>=3.1->textblob) (1.3.2)\n",
            "Requirement already satisfied: regex>=2021.8.3 in /usr/local/lib/python3.10/dist-packages (from nltk>=3.1->textblob) (2023.12.25)\n",
            "Requirement already satisfied: tqdm in /usr/local/lib/python3.10/dist-packages (from nltk>=3.1->textblob) (4.66.2)\n"
          ]
        }
      ]
    },
    {
      "cell_type": "code",
      "source": [
        "from textblob import TextBlob"
      ],
      "metadata": {
        "id": "iz4VtkTQnTPu"
      },
      "execution_count": 52,
      "outputs": []
    },
    {
      "cell_type": "code",
      "source": [
        "sent_result = TextBlob(sent)\n",
        "print(sent, sent_result.sentiment,sep=\"\\n\")"
      ],
      "metadata": {
        "colab": {
          "base_uri": "https://localhost:8080/"
        },
        "id": "jQIU2Hupnc8z",
        "outputId": "5453178b-9e82-4887-e21f-0e8d2a85a02b"
      },
      "execution_count": 53,
      "outputs": [
        {
          "output_type": "stream",
          "name": "stdout",
          "text": [
            "Mr Davis is a handsome man.\n",
            "Sentiment(polarity=0.5, subjectivity=1.0)\n"
          ]
        }
      ]
    },
    {
      "cell_type": "code",
      "source": [
        "neg_result = TextBlob(neg)\n",
        "print(neg, neg_result.sentiment,sep=\"\\n\")"
      ],
      "metadata": {
        "colab": {
          "base_uri": "https://localhost:8080/"
        },
        "id": "wIShxOvxI6-J",
        "outputId": "a5b5f93d-5126-4dcb-90e3-7f9407b5133d"
      },
      "execution_count": 54,
      "outputs": [
        {
          "output_type": "stream",
          "name": "stdout",
          "text": [
            "Elizabeth didn't feel happy.\n",
            "Sentiment(polarity=0.8, subjectivity=1.0)\n"
          ]
        }
      ]
    },
    {
      "cell_type": "code",
      "source": [
        "para_result = TextBlob(para)\n",
        "print(para, para_result.sentiment,sep=\"\\n\")"
      ],
      "metadata": {
        "colab": {
          "base_uri": "https://localhost:8080/"
        },
        "id": "RM-OWo0UJS7G",
        "outputId": "18dc2672-bbdc-4e5f-855b-1ee305a0ae4c"
      },
      "execution_count": 55,
      "outputs": [
        {
          "output_type": "stream",
          "name": "stdout",
          "text": [
            "\"Which do you mean?\" and turning round, he looked for a moment at Elizabeth, till catching her eye, he withdrew his own and coldly said,\n",
            "\"She is tolerable; but not handsome enough to tempt me; and I am in no humour at present to give consequence to young ladies who are slighted by other men.\"\n",
            "Sentiment(polarity=-0.018749999999999996, subjectivity=0.62625)\n"
          ]
        }
      ]
    },
    {
      "cell_type": "code",
      "source": [
        "result = TextBlob(\"handsome\")\n",
        "print(result.sentiment,sep=\"\\n\")"
      ],
      "metadata": {
        "colab": {
          "base_uri": "https://localhost:8080/"
        },
        "id": "Q_f2yNRHJkCO",
        "outputId": "38c971d4-78ba-4e8e-961d-fecae5f3cf1e"
      },
      "execution_count": 56,
      "outputs": [
        {
          "output_type": "stream",
          "name": "stdout",
          "text": [
            "Sentiment(polarity=0.5, subjectivity=1.0)\n"
          ]
        }
      ]
    },
    {
      "cell_type": "markdown",
      "source": [
        "## NRCLex\n",
        "An analyser for [sentiment (positive/negative) and basic emotions](https://github.com/metalcorebear/NRCLex). Simple lexical lookup."
      ],
      "metadata": {
        "id": "Z8nSWMbpP7vo"
      }
    },
    {
      "cell_type": "code",
      "source": [
        "! pip install NRCLex"
      ],
      "metadata": {
        "colab": {
          "base_uri": "https://localhost:8080/"
        },
        "id": "pVJVK6lyuhC3",
        "outputId": "eeaf0ee3-2a5b-4d4f-9e16-ed4e2ecc383c"
      },
      "execution_count": 57,
      "outputs": [
        {
          "output_type": "stream",
          "name": "stdout",
          "text": [
            "Requirement already satisfied: NRCLex in /usr/local/lib/python3.10/dist-packages (3.0.0)\n",
            "Requirement already satisfied: textblob in /usr/local/lib/python3.10/dist-packages (from NRCLex) (0.17.1)\n",
            "Requirement already satisfied: nltk>=3.1 in /usr/local/lib/python3.10/dist-packages (from textblob->NRCLex) (3.8.1)\n",
            "Requirement already satisfied: click in /usr/local/lib/python3.10/dist-packages (from nltk>=3.1->textblob->NRCLex) (8.1.7)\n",
            "Requirement already satisfied: joblib in /usr/local/lib/python3.10/dist-packages (from nltk>=3.1->textblob->NRCLex) (1.3.2)\n",
            "Requirement already satisfied: regex>=2021.8.3 in /usr/local/lib/python3.10/dist-packages (from nltk>=3.1->textblob->NRCLex) (2023.12.25)\n",
            "Requirement already satisfied: tqdm in /usr/local/lib/python3.10/dist-packages (from nltk>=3.1->textblob->NRCLex) (4.66.2)\n"
          ]
        }
      ]
    },
    {
      "cell_type": "code",
      "source": [
        "import nltk\n",
        "nltk.download('punkt')\n",
        "from nrclex import NRCLex"
      ],
      "metadata": {
        "colab": {
          "base_uri": "https://localhost:8080/"
        },
        "id": "hOL_BjLBwUUP",
        "outputId": "f18439dc-f3ec-412b-8e34-abaca300a51e"
      },
      "execution_count": 58,
      "outputs": [
        {
          "output_type": "stream",
          "name": "stderr",
          "text": [
            "[nltk_data] Downloading package punkt to /root/nltk_data...\n",
            "[nltk_data]   Package punkt is already up-to-date!\n"
          ]
        }
      ]
    },
    {
      "cell_type": "code",
      "source": [
        "analysis = NRCLex(sent)\n",
        "print(sent, analysis.raw_emotion_scores, analysis.affect_dict, sep=\"\\n\")"
      ],
      "metadata": {
        "colab": {
          "base_uri": "https://localhost:8080/"
        },
        "id": "su3eRm_-wQM8",
        "outputId": "145d2373-a373-4a9a-8347-23e3919a78e8"
      },
      "execution_count": 59,
      "outputs": [
        {
          "output_type": "stream",
          "name": "stdout",
          "text": [
            "Mr Davis is a handsome man.\n",
            "{}\n",
            "{}\n"
          ]
        }
      ]
    },
    {
      "cell_type": "code",
      "source": [
        "analysis = NRCLex(neg)\n",
        "print(neg, analysis.raw_emotion_scores, analysis.affect_dict, sep=\"\\n\")"
      ],
      "metadata": {
        "colab": {
          "base_uri": "https://localhost:8080/"
        },
        "id": "TdJnFxfAwcIJ",
        "outputId": "2f3fd0b3-16de-49b0-ce3c-f0a38d4950a8"
      },
      "execution_count": 60,
      "outputs": [
        {
          "output_type": "stream",
          "name": "stdout",
          "text": [
            "Elizabeth didn't feel happy.\n",
            "{'anticipation': 1, 'joy': 1, 'positive': 1, 'trust': 1}\n",
            "{'happy': ['anticipation', 'joy', 'positive', 'trust']}\n"
          ]
        }
      ]
    },
    {
      "cell_type": "code",
      "source": [
        "analysis = NRCLex(para)\n",
        "print(para, analysis.raw_emotion_scores, analysis.affect_dict, sep=\"\\n\")"
      ],
      "metadata": {
        "colab": {
          "base_uri": "https://localhost:8080/"
        },
        "id": "gcV8-4lOwkxL",
        "outputId": "9caeb821-e3ee-44c8-c76f-eb2e63da075b"
      },
      "execution_count": 61,
      "outputs": [
        {
          "output_type": "stream",
          "name": "stdout",
          "text": [
            "\"Which do you mean?\" and turning round, he looked for a moment at Elizabeth, till catching her eye, he withdrew his own and coldly said,\n",
            "\"She is tolerable; but not handsome enough to tempt me; and I am in no humour at present to give consequence to young ladies who are slighted by other men.\"\n",
            "{'negative': 1, 'anticipation': 2, 'joy': 2, 'positive': 2, 'surprise': 2, 'trust': 1}\n",
            "{'coldly': ['negative'], 'present': ['anticipation', 'joy', 'positive', 'surprise', 'trust'], 'young': ['anticipation', 'joy', 'positive', 'surprise']}\n"
          ]
        }
      ]
    },
    {
      "cell_type": "markdown",
      "source": [
        "# Machine Learning Approaches\n",
        "Typically trained on a variety of training sets: IMDB (Movie reviews), Tweets, etc."
      ],
      "metadata": {
        "id": "mLyR6Nwz1JU4"
      }
    },
    {
      "cell_type": "markdown",
      "source": [
        "## spaCy\n",
        "A [spaCy-based textcategorization](https://github.com/Vishnunkumar/eng_spacysentiment) (textcat) NLP pipeline (tokensization and text classification). Trained on IMDB movie review dataset."
      ],
      "metadata": {
        "id": "ZtyoOEFxJ1gN"
      }
    },
    {
      "cell_type": "code",
      "source": [
        "! pip install eng-spacysentiment"
      ],
      "metadata": {
        "id": "w-lUc-cOp5rk",
        "outputId": "50fc0fd0-e486-4a9b-f3de-3198bfefb7fc",
        "colab": {
          "base_uri": "https://localhost:8080/"
        }
      },
      "execution_count": 62,
      "outputs": [
        {
          "output_type": "stream",
          "name": "stdout",
          "text": [
            "Requirement already satisfied: eng-spacysentiment in /usr/local/lib/python3.10/dist-packages (2.3.0)\n",
            "Requirement already satisfied: spacy<3.6.0,>=3.5.3 in /usr/local/lib/python3.10/dist-packages (from eng-spacysentiment) (3.5.4)\n",
            "Requirement already satisfied: spacy-legacy<3.1.0,>=3.0.11 in /usr/local/lib/python3.10/dist-packages (from spacy<3.6.0,>=3.5.3->eng-spacysentiment) (3.0.12)\n",
            "Requirement already satisfied: spacy-loggers<2.0.0,>=1.0.0 in /usr/local/lib/python3.10/dist-packages (from spacy<3.6.0,>=3.5.3->eng-spacysentiment) (1.0.5)\n",
            "Requirement already satisfied: murmurhash<1.1.0,>=0.28.0 in /usr/local/lib/python3.10/dist-packages (from spacy<3.6.0,>=3.5.3->eng-spacysentiment) (1.0.10)\n",
            "Requirement already satisfied: cymem<2.1.0,>=2.0.2 in /usr/local/lib/python3.10/dist-packages (from spacy<3.6.0,>=3.5.3->eng-spacysentiment) (2.0.8)\n",
            "Requirement already satisfied: preshed<3.1.0,>=3.0.2 in /usr/local/lib/python3.10/dist-packages (from spacy<3.6.0,>=3.5.3->eng-spacysentiment) (3.0.9)\n",
            "Requirement already satisfied: thinc<8.2.0,>=8.1.8 in /usr/local/lib/python3.10/dist-packages (from spacy<3.6.0,>=3.5.3->eng-spacysentiment) (8.1.12)\n",
            "Requirement already satisfied: wasabi<1.2.0,>=0.9.1 in /usr/local/lib/python3.10/dist-packages (from spacy<3.6.0,>=3.5.3->eng-spacysentiment) (1.1.2)\n",
            "Requirement already satisfied: srsly<3.0.0,>=2.4.3 in /usr/local/lib/python3.10/dist-packages (from spacy<3.6.0,>=3.5.3->eng-spacysentiment) (2.4.8)\n",
            "Requirement already satisfied: catalogue<2.1.0,>=2.0.6 in /usr/local/lib/python3.10/dist-packages (from spacy<3.6.0,>=3.5.3->eng-spacysentiment) (2.0.10)\n",
            "Requirement already satisfied: typer<0.10.0,>=0.3.0 in /usr/local/lib/python3.10/dist-packages (from spacy<3.6.0,>=3.5.3->eng-spacysentiment) (0.9.0)\n",
            "Requirement already satisfied: pathy>=0.10.0 in /usr/local/lib/python3.10/dist-packages (from spacy<3.6.0,>=3.5.3->eng-spacysentiment) (0.11.0)\n",
            "Requirement already satisfied: smart-open<7.0.0,>=5.2.1 in /usr/local/lib/python3.10/dist-packages (from spacy<3.6.0,>=3.5.3->eng-spacysentiment) (6.4.0)\n",
            "Requirement already satisfied: tqdm<5.0.0,>=4.38.0 in /usr/local/lib/python3.10/dist-packages (from spacy<3.6.0,>=3.5.3->eng-spacysentiment) (4.66.2)\n",
            "Requirement already satisfied: numpy>=1.15.0 in /usr/local/lib/python3.10/dist-packages (from spacy<3.6.0,>=3.5.3->eng-spacysentiment) (1.25.2)\n",
            "Requirement already satisfied: requests<3.0.0,>=2.13.0 in /usr/local/lib/python3.10/dist-packages (from spacy<3.6.0,>=3.5.3->eng-spacysentiment) (2.31.0)\n",
            "Requirement already satisfied: pydantic!=1.8,!=1.8.1,<1.11.0,>=1.7.4 in /usr/local/lib/python3.10/dist-packages (from spacy<3.6.0,>=3.5.3->eng-spacysentiment) (1.10.14)\n",
            "Requirement already satisfied: jinja2 in /usr/local/lib/python3.10/dist-packages (from spacy<3.6.0,>=3.5.3->eng-spacysentiment) (3.1.3)\n",
            "Requirement already satisfied: setuptools in /usr/local/lib/python3.10/dist-packages (from spacy<3.6.0,>=3.5.3->eng-spacysentiment) (67.7.2)\n",
            "Requirement already satisfied: packaging>=20.0 in /usr/local/lib/python3.10/dist-packages (from spacy<3.6.0,>=3.5.3->eng-spacysentiment) (23.2)\n",
            "Requirement already satisfied: langcodes<4.0.0,>=3.2.0 in /usr/local/lib/python3.10/dist-packages (from spacy<3.6.0,>=3.5.3->eng-spacysentiment) (3.3.0)\n",
            "Requirement already satisfied: pathlib-abc==0.1.1 in /usr/local/lib/python3.10/dist-packages (from pathy>=0.10.0->spacy<3.6.0,>=3.5.3->eng-spacysentiment) (0.1.1)\n",
            "Requirement already satisfied: typing-extensions>=4.2.0 in /usr/local/lib/python3.10/dist-packages (from pydantic!=1.8,!=1.8.1,<1.11.0,>=1.7.4->spacy<3.6.0,>=3.5.3->eng-spacysentiment) (4.10.0)\n",
            "Requirement already satisfied: charset-normalizer<4,>=2 in /usr/local/lib/python3.10/dist-packages (from requests<3.0.0,>=2.13.0->spacy<3.6.0,>=3.5.3->eng-spacysentiment) (3.3.2)\n",
            "Requirement already satisfied: idna<4,>=2.5 in /usr/local/lib/python3.10/dist-packages (from requests<3.0.0,>=2.13.0->spacy<3.6.0,>=3.5.3->eng-spacysentiment) (3.6)\n",
            "Requirement already satisfied: urllib3<3,>=1.21.1 in /usr/local/lib/python3.10/dist-packages (from requests<3.0.0,>=2.13.0->spacy<3.6.0,>=3.5.3->eng-spacysentiment) (1.26.18)\n",
            "Requirement already satisfied: certifi>=2017.4.17 in /usr/local/lib/python3.10/dist-packages (from requests<3.0.0,>=2.13.0->spacy<3.6.0,>=3.5.3->eng-spacysentiment) (2024.2.2)\n",
            "Requirement already satisfied: blis<0.8.0,>=0.7.8 in /usr/local/lib/python3.10/dist-packages (from thinc<8.2.0,>=8.1.8->spacy<3.6.0,>=3.5.3->eng-spacysentiment) (0.7.11)\n",
            "Requirement already satisfied: confection<1.0.0,>=0.0.1 in /usr/local/lib/python3.10/dist-packages (from thinc<8.2.0,>=8.1.8->spacy<3.6.0,>=3.5.3->eng-spacysentiment) (0.1.4)\n",
            "Requirement already satisfied: click<9.0.0,>=7.1.1 in /usr/local/lib/python3.10/dist-packages (from typer<0.10.0,>=0.3.0->spacy<3.6.0,>=3.5.3->eng-spacysentiment) (8.1.7)\n",
            "Requirement already satisfied: MarkupSafe>=2.0 in /usr/local/lib/python3.10/dist-packages (from jinja2->spacy<3.6.0,>=3.5.3->eng-spacysentiment) (2.1.5)\n"
          ]
        }
      ]
    },
    {
      "cell_type": "code",
      "source": [
        "import eng_spacysentiment\n",
        "nlp = eng_spacysentiment.load()"
      ],
      "metadata": {
        "id": "wjw09Z1puCSl"
      },
      "execution_count": 63,
      "outputs": []
    },
    {
      "cell_type": "code",
      "source": [
        "sent_doc = nlp(sent)\n",
        "print(sent,sent_doc.cats,sep=\"\\n\")"
      ],
      "metadata": {
        "colab": {
          "base_uri": "https://localhost:8080/"
        },
        "id": "S642f_1zuLfe",
        "outputId": "67d4401b-549e-4e1e-d389-9ae28de6ba71"
      },
      "execution_count": 64,
      "outputs": [
        {
          "output_type": "stream",
          "name": "stdout",
          "text": [
            "Mr Davis is a handsome man.\n",
            "{'positive': 0.4639013409614563, 'negative': 0.0801813006401062, 'neutral': 0.4559173583984375}\n"
          ]
        }
      ]
    },
    {
      "cell_type": "code",
      "source": [
        "neg_doc = nlp(neg)\n",
        "print(neg,neg_doc.cats,sep=\"\\n\")"
      ],
      "metadata": {
        "colab": {
          "base_uri": "https://localhost:8080/"
        },
        "id": "0pGKyEEAuNHM",
        "outputId": "0497ce0f-70a5-44c5-f100-75db31ed6beb"
      },
      "execution_count": 65,
      "outputs": [
        {
          "output_type": "stream",
          "name": "stdout",
          "text": [
            "Elizabeth didn't feel happy.\n",
            "{'positive': 0.5659438371658325, 'negative': 0.20362025499343872, 'neutral': 0.23043592274188995}\n"
          ]
        }
      ]
    },
    {
      "cell_type": "code",
      "source": [
        "para_doc = nlp(para)\n",
        "print(para,para_doc.cats,sep=\"\\n\")"
      ],
      "metadata": {
        "colab": {
          "base_uri": "https://localhost:8080/"
        },
        "id": "zRx_jNzCuN76",
        "outputId": "b3aee138-20ac-4a06-e375-12970c02db13"
      },
      "execution_count": 66,
      "outputs": [
        {
          "output_type": "stream",
          "name": "stdout",
          "text": [
            "\"Which do you mean?\" and turning round, he looked for a moment at Elizabeth, till catching her eye, he withdrew his own and coldly said,\n",
            "\"She is tolerable; but not handsome enough to tempt me; and I am in no humour at present to give consequence to young ladies who are slighted by other men.\"\n",
            "{'positive': 0.09069690853357315, 'negative': 0.9056900143623352, 'neutral': 0.003613138571381569}\n"
          ]
        }
      ]
    },
    {
      "cell_type": "code",
      "source": [
        "doc = nlp(\"handsome\")\n",
        "print(doc.cats,sep=\"\\n\")"
      ],
      "metadata": {
        "colab": {
          "base_uri": "https://localhost:8080/"
        },
        "id": "FYAhki5HLqop",
        "outputId": "1b9f8f94-cd1c-4193-9a3a-3912640f0223"
      },
      "execution_count": 67,
      "outputs": [
        {
          "output_type": "stream",
          "name": "stdout",
          "text": [
            "{'positive': 0.2304578423500061, 'negative': 0.13150657713413239, 'neutral': 0.6380355954170227}\n"
          ]
        }
      ]
    },
    {
      "cell_type": "code",
      "source": [
        "# some information on the pipeline\n",
        "nlp.meta"
      ],
      "metadata": {
        "colab": {
          "base_uri": "https://localhost:8080/"
        },
        "id": "7bPFQsj6uaUh",
        "outputId": "e94b92d1-1691-4ade-ad4a-08b20c35b858"
      },
      "execution_count": 68,
      "outputs": [
        {
          "output_type": "execute_result",
          "data": {
            "text/plain": [
              "{'lang': 'eng',\n",
              " 'name': 'spacysentiment',\n",
              " 'version': '2.3.0',\n",
              " 'description': 'sentiment analysis using spacy pipelines',\n",
              " 'author': 'Vishnu',\n",
              " 'email': 'vishnunkumar25@gmail.com',\n",
              " 'url': 'https://github.com/Vishnunkumar/eng_spacysentiment',\n",
              " 'license': 'MIT',\n",
              " 'spacy_version': '>=3.5.3,<3.6.0',\n",
              " 'spacy_git_version': 'Unknown',\n",
              " 'vectors': {'width': 0,\n",
              "  'vectors': 0,\n",
              "  'keys': 0,\n",
              "  'name': None,\n",
              "  'mode': 'default'},\n",
              " 'labels': {'textcat': ['positive', 'negative', 'neutral']},\n",
              " 'pipeline': ['textcat'],\n",
              " 'components': ['textcat'],\n",
              " 'disabled': [],\n",
              " 'requirements': []}"
            ]
          },
          "metadata": {},
          "execution_count": 68
        }
      ]
    },
    {
      "cell_type": "markdown",
      "source": [
        "## flair Sentiment\n",
        "Another neural model with [different models for sentiment analysis](https://flairnlp.github.io/docs/tutorial-basics/tagging-sentiment)."
      ],
      "metadata": {
        "id": "UxTdgDfsKBFX"
      }
    },
    {
      "cell_type": "code",
      "source": [
        "from flair.models import TextClassifier\n",
        "from flair.data import Sentence\n",
        "\n",
        "classifier = TextClassifier.load('sentiment-fast')"
      ],
      "metadata": {
        "id": "jVM1CdsHeQig"
      },
      "execution_count": 69,
      "outputs": []
    },
    {
      "cell_type": "code",
      "source": [
        "sentence=Sentence(sent)\n",
        "classifier.predict(sentence)\n",
        "print(sent, sentence.to_dict()[\"labels\"], sep=\"\\n\")"
      ],
      "metadata": {
        "colab": {
          "base_uri": "https://localhost:8080/"
        },
        "id": "hcJwfy_febdx",
        "outputId": "a9070ceb-7db8-4b9a-bf8d-0d1475906f7a"
      },
      "execution_count": 70,
      "outputs": [
        {
          "output_type": "stream",
          "name": "stdout",
          "text": [
            "Mr Davis is a handsome man.\n",
            "[{'value': 'POSITIVE', 'confidence': 0.993449866771698}]\n"
          ]
        }
      ]
    },
    {
      "cell_type": "code",
      "source": [
        "sentence=Sentence(neg)\n",
        "classifier.predict(sentence)\n",
        "print(neg, sentence.to_dict()[\"labels\"], sep=\"\\n\")"
      ],
      "metadata": {
        "colab": {
          "base_uri": "https://localhost:8080/"
        },
        "id": "zU3KhjhCe6p_",
        "outputId": "fb2b4824-2aeb-4b8b-e0c0-c1dd62e5ae5b"
      },
      "execution_count": 71,
      "outputs": [
        {
          "output_type": "stream",
          "name": "stdout",
          "text": [
            "Elizabeth didn't feel happy.\n",
            "[{'value': 'NEGATIVE', 'confidence': 0.9768087863922119}]\n"
          ]
        }
      ]
    },
    {
      "cell_type": "code",
      "source": [
        "sentence=Sentence(para)\n",
        "classifier.predict(sentence)\n",
        "print(para, sentence.to_dict()[\"labels\"], sep=\"\\n\")"
      ],
      "metadata": {
        "colab": {
          "base_uri": "https://localhost:8080/"
        },
        "id": "lL2nwIHFe8rL",
        "outputId": "1de550a0-d635-4663-e4bb-7629a06ea2db"
      },
      "execution_count": 72,
      "outputs": [
        {
          "output_type": "stream",
          "name": "stdout",
          "text": [
            "\"Which do you mean?\" and turning round, he looked for a moment at Elizabeth, till catching her eye, he withdrew his own and coldly said,\n",
            "\"She is tolerable; but not handsome enough to tempt me; and I am in no humour at present to give consequence to young ladies who are slighted by other men.\"\n",
            "[{'value': 'NEGATIVE', 'confidence': 0.9999345541000366}]\n"
          ]
        }
      ]
    },
    {
      "cell_type": "code",
      "source": [
        "# you can run words and phrases through flair\n",
        "text = \"not handsome enough\"\n",
        "sentence=Sentence(text)\n",
        "classifier.predict(sentence)\n",
        "print(text, sentence.to_dict()[\"labels\"], sep=\"\\n\")"
      ],
      "metadata": {
        "colab": {
          "base_uri": "https://localhost:8080/"
        },
        "id": "vObi3C6te_J3",
        "outputId": "84cef579-4cb2-43a0-81ad-477158fd08a3"
      },
      "execution_count": 73,
      "outputs": [
        {
          "output_type": "stream",
          "name": "stdout",
          "text": [
            "not handsome enough\n",
            "[{'value': 'NEGATIVE', 'confidence': 0.9959169030189514}]\n"
          ]
        }
      ]
    },
    {
      "cell_type": "markdown",
      "source": [
        "## Transformer-based Model on Huggingface\n",
        "A fine-tuned robert model. Try it on huggingface: https://huggingface.co/siebert/sentiment-roberta-large-english"
      ],
      "metadata": {
        "id": "gaip_yoLOWkg"
      }
    },
    {
      "cell_type": "code",
      "source": [
        "from transformers import pipeline\n",
        "sentiment_analysis = pipeline(\"sentiment-analysis\",model=\"siebert/sentiment-roberta-large-english\")\n",
        "\n"
      ],
      "metadata": {
        "id": "t2YslyOySuFv"
      },
      "execution_count": 74,
      "outputs": []
    },
    {
      "cell_type": "code",
      "source": [
        "print(sent, sentiment_analysis(sent),sep=\"\\n\")"
      ],
      "metadata": {
        "colab": {
          "base_uri": "https://localhost:8080/"
        },
        "id": "StFkf2BHTF1Q",
        "outputId": "597823f6-2d03-4fbb-dca0-62300c6ac556"
      },
      "execution_count": 75,
      "outputs": [
        {
          "output_type": "stream",
          "name": "stdout",
          "text": [
            "Mr Davis is a handsome man.\n",
            "[{'label': 'POSITIVE', 'score': 0.9985645413398743}]\n"
          ]
        }
      ]
    },
    {
      "cell_type": "code",
      "source": [
        "print(neg, sentiment_analysis(neg),sep=\"\\n\")"
      ],
      "metadata": {
        "colab": {
          "base_uri": "https://localhost:8080/"
        },
        "id": "ivofx7baSu69",
        "outputId": "349a9dc4-ffbb-4ff3-f729-1f5f14e19575"
      },
      "execution_count": 76,
      "outputs": [
        {
          "output_type": "stream",
          "name": "stdout",
          "text": [
            "Elizabeth didn't feel happy.\n",
            "[{'label': 'NEGATIVE', 'score': 0.9982998967170715}]\n"
          ]
        }
      ]
    },
    {
      "cell_type": "code",
      "source": [
        "print(para, sentiment_analysis(para),sep=\"\\n\")"
      ],
      "metadata": {
        "colab": {
          "base_uri": "https://localhost:8080/"
        },
        "id": "SB8CIW6sS5w_",
        "outputId": "e5125178-16c1-42ed-e879-2362f43f5b44"
      },
      "execution_count": 77,
      "outputs": [
        {
          "output_type": "stream",
          "name": "stdout",
          "text": [
            "\"Which do you mean?\" and turning round, he looked for a moment at Elizabeth, till catching her eye, he withdrew his own and coldly said,\n",
            "\"She is tolerable; but not handsome enough to tempt me; and I am in no humour at present to give consequence to young ladies who are slighted by other men.\"\n",
            "[{'label': 'NEGATIVE', 'score': 0.9975528120994568}]\n"
          ]
        }
      ]
    },
    {
      "cell_type": "markdown",
      "source": [
        "# Conclusions\n",
        "Lexial approaches have problems with nuanced sentiments or negation. Trained models have typically rather extreme values and might be biased towards the training data (tweets, reviews)."
      ],
      "metadata": {
        "id": "5rW5HKn4TU9O"
      }
    },
    {
      "cell_type": "code",
      "source": [],
      "metadata": {
        "id": "Zk_CMyDVTnDa"
      },
      "execution_count": 77,
      "outputs": []
    }
  ]
}