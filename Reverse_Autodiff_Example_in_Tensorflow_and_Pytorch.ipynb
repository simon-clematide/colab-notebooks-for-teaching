{
  "nbformat": 4,
  "nbformat_minor": 0,
  "metadata": {
    "colab": {
      "provenance": [],
      "authorship_tag": "ABX9TyMc4zUKTo/ubiEQyfq+GCXq",
      "include_colab_link": true
    },
    "kernelspec": {
      "name": "python3",
      "display_name": "Python 3"
    }
  },
  "cells": [
    {
      "cell_type": "markdown",
      "metadata": {
        "id": "view-in-github",
        "colab_type": "text"
      },
      "source": [
        "<a href=\"https://colab.research.google.com/github/simon-clematide/colab-notebooks-for-teaching/blob/main/Reverse_Autodiff_Example_in_Tensorflow_and_Pytorch.ipynb\" target=\"_parent\"><img src=\"https://colab.research.google.com/assets/colab-badge.svg\" alt=\"Open In Colab\"/></a>"
      ]
    },
    {
      "cell_type": "markdown",
      "metadata": {
        "id": "UqpWgRj_SLT_"
      },
      "source": [
        "# Reverse Autodiff Example in Tensorflow and Pytorch"
      ]
    },
    {
      "cell_type": "markdown",
      "metadata": {
        "id": "KO5mgB9qSr-J"
      },
      "source": [
        "## Let's do it in pytorch first"
      ]
    },
    {
      "cell_type": "code",
      "metadata": {
        "id": "cHbYOHQBFOJH"
      },
      "source": [
        "import torch"
      ],
      "execution_count": 1,
      "outputs": []
    },
    {
      "cell_type": "code",
      "metadata": {
        "id": "OoQZZe-9Nmip"
      },
      "source": [
        "x = torch.tensor(3.,requires_grad=True)\n",
        "y = torch.tensor(4.,requires_grad=True)\n",
        "f=(x*x)*y+(y+2)"
      ],
      "execution_count": 2,
      "outputs": []
    },
    {
      "cell_type": "code",
      "metadata": {
        "id": "wKeagJjYQQvO",
        "colab": {
          "base_uri": "https://localhost:8080/"
        },
        "outputId": "843596f0-42aa-41ef-e81d-aad6872a83fd"
      },
      "source": [
        "print(f)"
      ],
      "execution_count": 3,
      "outputs": [
        {
          "output_type": "stream",
          "name": "stdout",
          "text": [
            "tensor(42., grad_fn=<AddBackward0>)\n"
          ]
        }
      ]
    },
    {
      "cell_type": "code",
      "metadata": {
        "id": "y7cajiA4Qwan"
      },
      "source": [
        "f.backward()"
      ],
      "execution_count": 4,
      "outputs": []
    },
    {
      "cell_type": "code",
      "metadata": {
        "id": "iXLcGLL_Q1L2",
        "colab": {
          "base_uri": "https://localhost:8080/"
        },
        "outputId": "6df95fab-aca3-4513-afd4-76c9b041fd60"
      },
      "source": [
        "print(x.grad, y.grad)"
      ],
      "execution_count": 5,
      "outputs": [
        {
          "output_type": "stream",
          "name": "stdout",
          "text": [
            "tensor(24.) tensor(10.)\n"
          ]
        }
      ]
    },
    {
      "cell_type": "markdown",
      "metadata": {
        "id": "3iPo6hbeTCO8"
      },
      "source": [
        "Sounds about right!"
      ]
    },
    {
      "cell_type": "markdown",
      "source": [
        "### Effect of no grad"
      ],
      "metadata": {
        "id": "RheWQEwAGrhH"
      }
    },
    {
      "cell_type": "code",
      "source": [
        "x = torch.tensor(3.,requires_grad=True)\n",
        "y = torch.tensor(4.,requires_grad=False)\n",
        "f=(x*x)*y+(y+2)\n",
        "print(f)"
      ],
      "metadata": {
        "id": "Q0IkzcgoGqv5",
        "outputId": "9b57408b-91d6-4d4b-e325-e9450fb0225f",
        "colab": {
          "base_uri": "https://localhost:8080/"
        }
      },
      "execution_count": 9,
      "outputs": [
        {
          "output_type": "stream",
          "name": "stdout",
          "text": [
            "tensor(42., grad_fn=<AddBackward0>)\n"
          ]
        }
      ]
    },
    {
      "cell_type": "code",
      "source": [
        "f.backward()\n",
        "print(x.grad, y.grad)"
      ],
      "metadata": {
        "id": "gsuHAr5KG6aI",
        "outputId": "cbdb973e-fdfb-47d2-fab9-4cc00c9567c5",
        "colab": {
          "base_uri": "https://localhost:8080/"
        }
      },
      "execution_count": 10,
      "outputs": [
        {
          "output_type": "stream",
          "name": "stdout",
          "text": [
            "tensor(24.) None\n"
          ]
        }
      ]
    },
    {
      "cell_type": "markdown",
      "metadata": {
        "id": "rvE-XWSvSa7C"
      },
      "source": [
        "## Let's do it in tensorflow"
      ]
    },
    {
      "cell_type": "code",
      "metadata": {
        "id": "msleoAdC5VFr",
        "colab": {
          "base_uri": "https://localhost:8080/"
        },
        "outputId": "cff64548-9996-476e-c177-9b4a4e12de0e"
      },
      "source": [
        "import tensorflow as tf\n",
        "x = tf.Variable(3.)\n",
        "y = tf.Variable(4.)\n",
        "\n",
        "with tf.GradientTape() as tape:\n",
        "    f = (x*x)*y + (y + 2)\n",
        "\n",
        "jacobians = tape.gradient(f, [x, y])\n",
        "jacobians"
      ],
      "execution_count": 6,
      "outputs": [
        {
          "output_type": "execute_result",
          "data": {
            "text/plain": [
              "[<tf.Tensor: shape=(), dtype=float32, numpy=24.0>,\n",
              " <tf.Tensor: shape=(), dtype=float32, numpy=10.0>]"
            ]
          },
          "metadata": {},
          "execution_count": 6
        }
      ]
    },
    {
      "cell_type": "markdown",
      "metadata": {
        "id": "7HCX6bqXSl6s"
      },
      "source": []
    }
  ]
}