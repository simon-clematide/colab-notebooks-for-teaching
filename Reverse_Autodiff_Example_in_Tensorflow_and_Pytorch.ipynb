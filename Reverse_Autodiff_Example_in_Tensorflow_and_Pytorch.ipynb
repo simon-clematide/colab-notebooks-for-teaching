{
  "nbformat": 4,
  "nbformat_minor": 0,
  "metadata": {
    "colab": {
      "provenance": [],
      "authorship_tag": "ABX9TyMQb7yOFis/B+vzhueQXKNF",
      "include_colab_link": true
    },
    "kernelspec": {
      "name": "python3",
      "display_name": "Python 3"
    }
  },
  "cells": [
    {
      "cell_type": "markdown",
      "metadata": {
        "id": "view-in-github",
        "colab_type": "text"
      },
      "source": [
        "<a href=\"https://colab.research.google.com/github/simon-clematide/colab-notebooks-for-teaching/blob/main/Reverse_Autodiff_Example_in_Tensorflow_and_Pytorch.ipynb\" target=\"_parent\"><img src=\"https://colab.research.google.com/assets/colab-badge.svg\" alt=\"Open In Colab\"/></a>"
      ]
    },
    {
      "cell_type": "markdown",
      "metadata": {
        "id": "UqpWgRj_SLT_"
      },
      "source": [
        "# Reverse Autodiff Example in Tensorflow and Pytorch"
      ]
    },
    {
      "cell_type": "markdown",
      "metadata": {
        "id": "KO5mgB9qSr-J"
      },
      "source": [
        "## Let's do it in pytorch first"
      ]
    },
    {
      "cell_type": "code",
      "metadata": {
        "id": "cHbYOHQBFOJH"
      },
      "source": [
        "import torch"
      ],
      "execution_count": null,
      "outputs": []
    },
    {
      "cell_type": "code",
      "metadata": {
        "id": "OoQZZe-9Nmip"
      },
      "source": [
        "x = torch.tensor(3.,requires_grad=True)\n",
        "y = torch.tensor(4.,requires_grad=True)\n",
        "f=(x*x)*y+(y+2)"
      ],
      "execution_count": null,
      "outputs": []
    },
    {
      "cell_type": "code",
      "metadata": {
        "id": "wKeagJjYQQvO",
        "colab": {
          "base_uri": "https://localhost:8080/"
        },
        "outputId": "f20513e9-bbdc-4059-ae3a-0ffb8d76827a"
      },
      "source": [
        "print(f)"
      ],
      "execution_count": null,
      "outputs": [
        {
          "output_type": "stream",
          "name": "stdout",
          "text": [
            "tensor(42., grad_fn=<AddBackward0>)\n"
          ]
        }
      ]
    },
    {
      "cell_type": "code",
      "metadata": {
        "id": "y7cajiA4Qwan"
      },
      "source": [
        "f.backward()"
      ],
      "execution_count": null,
      "outputs": []
    },
    {
      "cell_type": "code",
      "metadata": {
        "id": "iXLcGLL_Q1L2",
        "colab": {
          "base_uri": "https://localhost:8080/"
        },
        "outputId": "c155d78a-3012-4bac-976a-5e8fe7ed10e1"
      },
      "source": [
        "print(x.grad, y.grad)"
      ],
      "execution_count": null,
      "outputs": [
        {
          "output_type": "stream",
          "name": "stdout",
          "text": [
            "tensor(24.) tensor(10.)\n"
          ]
        }
      ]
    },
    {
      "cell_type": "markdown",
      "metadata": {
        "id": "3iPo6hbeTCO8"
      },
      "source": [
        "Sounds about right!"
      ]
    },
    {
      "cell_type": "markdown",
      "metadata": {
        "id": "rvE-XWSvSa7C"
      },
      "source": [
        "## Let's do it in tensorflow"
      ]
    },
    {
      "cell_type": "code",
      "metadata": {
        "id": "msleoAdC5VFr",
        "colab": {
          "base_uri": "https://localhost:8080/"
        },
        "outputId": "a5f203ff-c8ca-48bd-c5f4-d7348c39c3df"
      },
      "source": [
        "import tensorflow as tf\n",
        "x = tf.Variable(3.)\n",
        "y = tf.Variable(4.)\n",
        "\n",
        "with tf.GradientTape() as tape:\n",
        "    f = (x*x)*y + (y + 2)\n",
        "\n",
        "jacobians = tape.gradient(f, [x, y])\n",
        "jacobians"
      ],
      "execution_count": null,
      "outputs": [
        {
          "output_type": "execute_result",
          "data": {
            "text/plain": [
              "[<tf.Tensor: shape=(), dtype=float32, numpy=24.0>,\n",
              " <tf.Tensor: shape=(), dtype=float32, numpy=10.0>]"
            ]
          },
          "metadata": {},
          "execution_count": 6
        }
      ]
    },
    {
      "cell_type": "markdown",
      "metadata": {
        "id": "7HCX6bqXSl6s"
      },
      "source": []
    }
  ]
}