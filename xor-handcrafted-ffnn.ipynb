{
  "nbformat": 4,
  "nbformat_minor": 0,
  "metadata": {
    "colab": {
      "provenance": [],
      "authorship_tag": "ABX9TyOR34sWllzroFFA3PvKQAbk",
      "include_colab_link": true
    },
    "kernelspec": {
      "name": "python3",
      "display_name": "Python 3"
    },
    "language_info": {
      "name": "python"
    }
  },
  "cells": [
    {
      "cell_type": "markdown",
      "metadata": {
        "id": "view-in-github",
        "colab_type": "text"
      },
      "source": [
        "<a href=\"https://colab.research.google.com/github/simon-clematide/colab-notebooks-for-teaching/blob/main/xor-handcrafted-ffnn.ipynb\" target=\"_parent\"><img src=\"https://colab.research.google.com/assets/colab-badge.svg\" alt=\"Open In Colab\"/></a>"
      ]
    },
    {
      "cell_type": "markdown",
      "source": [
        "# Handcrafted Non-Linear FFNN for XOR"
      ],
      "metadata": {
        "id": "Wh6_qikY7l1o"
      }
    },
    {
      "cell_type": "code",
      "execution_count": 4,
      "metadata": {
        "colab": {
          "base_uri": "https://localhost:8080/"
        },
        "id": "kSmkx_2N7CD7",
        "outputId": "00db1c2e-ad5b-4591-9acc-3aa44d45992a"
      },
      "outputs": [
        {
          "output_type": "stream",
          "name": "stdout",
          "text": [
            "XOR Neural Network Output:\n",
            "Input: [0 0], Output: 0\n",
            "Input: [0 1], Output: 1\n",
            "Input: [1 0], Output: 1\n",
            "Input: [1 1], Output: 0\n"
          ]
        }
      ],
      "source": [
        "import numpy as np\n",
        "\n",
        "# Defining the parameters\n",
        "W = np.array([[1, 1], [1, 1]])\n",
        "c = np.array([0, -1])\n",
        "w = np.array([1, -2])\n",
        "b = 0\n",
        "\n",
        "def relu(x):\n",
        "    return np.maximum(0, x)\n",
        "\n",
        "# XOR inputs\n",
        "inputs = np.array([\n",
        "    [0, 0],\n",
        "    [0, 1],\n",
        "    [1, 0],\n",
        "    [1, 1]\n",
        "])\n",
        "\n",
        "# Function to compute the network output\n",
        "def neural_net_output(x, W, c, w, b):\n",
        "    # Step 1: Linear combination for hidden layer\n",
        "    h = W.T @ x + c\n",
        "\n",
        "    # Step 2: Apply ReLU\n",
        "    h_relu = relu(h)\n",
        "\n",
        "    # Step 3: Compute final output\n",
        "    output = w.T @ h_relu + b\n",
        "    return output\n",
        "\n",
        "# Evaluate the neural network for XOR inputs\n",
        "print(\"XOR Neural Network Output:\")\n",
        "for x in inputs:\n",
        "    output = neural_net_output(x, W, c, w, b)\n",
        "    print(f\"Input: {x}, Output: {output}\")\n",
        "\n",
        "\n"
      ]
    },
    {
      "cell_type": "code",
      "source": [],
      "metadata": {
        "id": "NZ8S16r77CtW"
      },
      "execution_count": null,
      "outputs": []
    }
  ]
}