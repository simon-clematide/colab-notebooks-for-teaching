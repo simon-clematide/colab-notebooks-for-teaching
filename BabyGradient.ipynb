{
  "nbformat": 4,
  "nbformat_minor": 0,
  "metadata": {
    "kernelspec": {
      "display_name": "Python 3",
      "language": "python",
      "name": "python3"
    },
    "language_info": {
      "codemirror_mode": {
        "name": "ipython",
        "version": 3
      },
      "file_extension": ".py",
      "mimetype": "text/x-python",
      "name": "python",
      "nbconvert_exporter": "python",
      "pygments_lexer": "ipython3",
      "version": "3.7.3"
    },
    "colab": {
      "provenance": [],
      "include_colab_link": true
    }
  },
  "cells": [
    {
      "cell_type": "markdown",
      "metadata": {
        "id": "view-in-github",
        "colab_type": "text"
      },
      "source": [
        "<a href=\"https://colab.research.google.com/github/simon-clematide/colab-notebooks-for-teaching/blob/main/BabyGradient.ipynb\" target=\"_parent\"><img src=\"https://colab.research.google.com/assets/colab-badge.svg\" alt=\"Open In Colab\"/></a>"
      ]
    },
    {
      "cell_type": "markdown",
      "metadata": {
        "id": "6rQe3cpwPwCH"
      },
      "source": [
        "# Gradient Ascent with Symbolic Differentiation\n",
        "The notebook illustrates the iterative gradient ascent for any unary function."
      ]
    },
    {
      "cell_type": "code",
      "metadata": {
        "id": "TRxISlfgPwCH",
        "colab": {
          "base_uri": "https://localhost:8080/"
        },
        "outputId": "aecdf299-b017-4c36-a04d-a5bd73c55fd4"
      },
      "source": [
        "# Not yet on the binder machine\n",
        "!pip install sympy"
      ],
      "execution_count": null,
      "outputs": [
        {
          "output_type": "stream",
          "name": "stdout",
          "text": [
            "Requirement already satisfied: sympy in /usr/local/lib/python3.7/dist-packages (1.7.1)\n",
            "Requirement already satisfied: mpmath>=0.19 in /usr/local/lib/python3.7/dist-packages (from sympy) (1.2.1)\n"
          ]
        }
      ]
    },
    {
      "cell_type": "code",
      "metadata": {
        "id": "mWm6_qaDPwCK"
      },
      "source": [
        "import sys, random\n",
        "from sympy import *\n",
        "from sympy.plotting import plot"
      ],
      "execution_count": null,
      "outputs": []
    },
    {
      "cell_type": "code",
      "metadata": {
        "id": "B5HZ_2SHPwCM"
      },
      "source": [
        "def baby_gradient_ascent(f, a, init=None, eps=0.001, maxi=100):\n",
        "    \"\"\" Return arg max of function f: float -> float\n",
        "\n",
        "    f is a sympy expression with x as symbolic parameter.\n",
        "    a is the step size. init is set to a random number [-0.5,0.5) if not specified.\n",
        "    eps is the convergence criterion. maxi is the maximum number of\n",
        "    iterations.\"\"\"\n",
        "\n",
        "    f_deriv = diff(f, x)\n",
        "    print(f\"Derivative: \",f_deriv)\n",
        "    argmax = random.random()-.5 if init is None else init\n",
        "    print(f\"Initial argmax: {argmax:8.4f}\")\n",
        "    converged = False\n",
        "    iteration = 0\n",
        "    while not converged and iteration < maxi:\n",
        "        iteration += 1\n",
        "        oldargmax = argmax\n",
        "        slope = f_deriv.subs(x, argmax)\n",
        "        argmax += a*slope\n",
        "        print(f\"it: {iteration:3d} oldargmax:{oldargmax:8.4f}  slope {slope:8.4f}  argmax:{argmax:8.4f}  delta:{oldargmax-argmax:8.4f}\")\n",
        "        if abs(oldargmax - argmax) < eps:\n",
        "            converged = True\n",
        "    return argmax"
      ],
      "execution_count": null,
      "outputs": []
    },
    {
      "cell_type": "code",
      "metadata": {
        "id": "ESQA_iF6PwCO",
        "colab": {
          "base_uri": "https://localhost:8080/",
          "height": 39
        },
        "outputId": "171f7a3d-fc10-4a16-c67a-7629ce7348ec"
      },
      "source": [
        "x = symbols('x')\n",
        "f = -x**3+100\n",
        "f_deriv = diff(f,x)\n",
        "f_deriv"
      ],
      "execution_count": null,
      "outputs": [
        {
          "output_type": "execute_result",
          "data": {
            "text/plain": [
              "-3*x**2"
            ],
            "text/latex": "$\\displaystyle - 3 x^{2}$"
          },
          "metadata": {},
          "execution_count": 3
        }
      ]
    },
    {
      "cell_type": "code",
      "metadata": {
        "id": "SQIg6EOEPwCQ",
        "colab": {
          "base_uri": "https://localhost:8080/",
          "height": 594
        },
        "outputId": "bc27326e-e461-46b0-95ff-162dffc80500"
      },
      "source": [
        "plot(f,ylim=(-100,100))\n",
        "plot(f_deriv,ylim=(-100,100))"
      ],
      "execution_count": null,
      "outputs": [
        {
          "output_type": "display_data",
          "data": {
            "text/plain": [
              "<Figure size 432x288 with 1 Axes>"
            ],
            "image/png": "[encoded data removed]"
          },
          "metadata": {
            "needs_background": "light"
          }
        },
        {
          "output_type": "display_data",
          "data": {
            "text/plain": [
              "<Figure size 432x288 with 1 Axes>"
            ],
            "image/png": "[encoded data removed]"
          },
          "metadata": {
            "needs_background": "light"
          }
        },
        {
          "output_type": "execute_result",
          "data": {
            "text/plain": [
              "<sympy.plotting.plot.Plot at 0x7f2e16e1c050>"
            ]
          },
          "metadata": {},
          "execution_count": 4
        }
      ]
    },
    {
      "cell_type": "code",
      "metadata": {
        "id": "HsSEL8nrPwCT",
        "colab": {
          "base_uri": "https://localhost:8080/",
          "height": 940
        },
        "outputId": "e0320302-243f-452d-8736-4bf72b796069"
      },
      "source": [
        "baby_gradient_ascent(f, 0.05,eps=0.0001,maxi=50)"
      ],
      "execution_count": null,
      "outputs": [
        {
          "output_type": "stream",
          "name": "stdout",
          "text": [
            "Derivative:  -3*x**2\n",
            "Initial argmax:   0.2219\n",
            "it:   1 oldargmax:  0.2219  slope  -0.1477  argmax:  0.2145  delta:  0.0074\n",
            "it:   2 oldargmax:  0.2145  slope  -0.1381  argmax:  0.2076  delta:  0.0069\n",
            "it:   3 oldargmax:  0.2076  slope  -0.1293  argmax:  0.2012  delta:  0.0065\n",
            "it:   4 oldargmax:  0.2012  slope  -0.1214  argmax:  0.1951  delta:  0.0061\n",
            "it:   5 oldargmax:  0.1951  slope  -0.1142  argmax:  0.1894  delta:  0.0057\n",
            "it:   6 oldargmax:  0.1894  slope  -0.1076  argmax:  0.1840  delta:  0.0054\n",
            "it:   7 oldargmax:  0.1840  slope  -0.1016  argmax:  0.1789  delta:  0.0051\n",
            "it:   8 oldargmax:  0.1789  slope  -0.0960  argmax:  0.1741  delta:  0.0048\n",
            "it:   9 oldargmax:  0.1741  slope  -0.0910  argmax:  0.1696  delta:  0.0045\n",
            "it:  10 oldargmax:  0.1696  slope  -0.0863  argmax:  0.1653  delta:  0.0043\n",
            "it:  11 oldargmax:  0.1653  slope  -0.0819  argmax:  0.1612  delta:  0.0041\n",
            "it:  12 oldargmax:  0.1612  slope  -0.0779  argmax:  0.1573  delta:  0.0039\n",
            "it:  13 oldargmax:  0.1573  slope  -0.0742  argmax:  0.1536  delta:  0.0037\n",
            "it:  14 oldargmax:  0.1536  slope  -0.0707  argmax:  0.1500  delta:  0.0035\n",
            "it:  15 oldargmax:  0.1500  slope  -0.0675  argmax:  0.1466  delta:  0.0034\n",
            "it:  16 oldargmax:  0.1466  slope  -0.0645  argmax:  0.1434  delta:  0.0032\n",
            "it:  17 oldargmax:  0.1434  slope  -0.0617  argmax:  0.1403  delta:  0.0031\n",
            "it:  18 oldargmax:  0.1403  slope  -0.0591  argmax:  0.1374  delta:  0.0030\n",
            "it:  19 oldargmax:  0.1374  slope  -0.0566  argmax:  0.1345  delta:  0.0028\n",
            "it:  20 oldargmax:  0.1345  slope  -0.0543  argmax:  0.1318  delta:  0.0027\n",
            "it:  21 oldargmax:  0.1318  slope  -0.0521  argmax:  0.1292  delta:  0.0026\n",
            "it:  22 oldargmax:  0.1292  slope  -0.0501  argmax:  0.1267  delta:  0.0025\n",
            "it:  23 oldargmax:  0.1267  slope  -0.0482  argmax:  0.1243  delta:  0.0024\n",
            "it:  24 oldargmax:  0.1243  slope  -0.0464  argmax:  0.1220  delta:  0.0023\n",
            "it:  25 oldargmax:  0.1220  slope  -0.0446  argmax:  0.1198  delta:  0.0022\n",
            "it:  26 oldargmax:  0.1198  slope  -0.0430  argmax:  0.1176  delta:  0.0022\n",
            "it:  27 oldargmax:  0.1176  slope  -0.0415  argmax:  0.1155  delta:  0.0021\n",
            "it:  28 oldargmax:  0.1155  slope  -0.0400  argmax:  0.1135  delta:  0.0020\n",
            "it:  29 oldargmax:  0.1135  slope  -0.0387  argmax:  0.1116  delta:  0.0019\n",
            "it:  30 oldargmax:  0.1116  slope  -0.0374  argmax:  0.1097  delta:  0.0019\n",
            "it:  31 oldargmax:  0.1097  slope  -0.0361  argmax:  0.1079  delta:  0.0018\n",
            "it:  32 oldargmax:  0.1079  slope  -0.0349  argmax:  0.1062  delta:  0.0017\n",
            "it:  33 oldargmax:  0.1062  slope  -0.0338  argmax:  0.1045  delta:  0.0017\n",
            "it:  34 oldargmax:  0.1045  slope  -0.0328  argmax:  0.1028  delta:  0.0016\n",
            "it:  35 oldargmax:  0.1028  slope  -0.0317  argmax:  0.1013  delta:  0.0016\n",
            "it:  36 oldargmax:  0.1013  slope  -0.0308  argmax:  0.0997  delta:  0.0015\n",
            "it:  37 oldargmax:  0.0997  slope  -0.0298  argmax:  0.0982  delta:  0.0015\n",
            "it:  38 oldargmax:  0.0982  slope  -0.0289  argmax:  0.0968  delta:  0.0014\n",
            "it:  39 oldargmax:  0.0968  slope  -0.0281  argmax:  0.0954  delta:  0.0014\n",
            "it:  40 oldargmax:  0.0954  slope  -0.0273  argmax:  0.0940  delta:  0.0014\n",
            "it:  41 oldargmax:  0.0940  slope  -0.0265  argmax:  0.0927  delta:  0.0013\n",
            "it:  42 oldargmax:  0.0927  slope  -0.0258  argmax:  0.0914  delta:  0.0013\n",
            "it:  43 oldargmax:  0.0914  slope  -0.0251  argmax:  0.0901  delta:  0.0013\n",
            "it:  44 oldargmax:  0.0901  slope  -0.0244  argmax:  0.0889  delta:  0.0012\n",
            "it:  45 oldargmax:  0.0889  slope  -0.0237  argmax:  0.0877  delta:  0.0012\n",
            "it:  46 oldargmax:  0.0877  slope  -0.0231  argmax:  0.0866  delta:  0.0012\n",
            "it:  47 oldargmax:  0.0866  slope  -0.0225  argmax:  0.0855  delta:  0.0011\n",
            "it:  48 oldargmax:  0.0855  slope  -0.0219  argmax:  0.0844  delta:  0.0011\n",
            "it:  49 oldargmax:  0.0844  slope  -0.0214  argmax:  0.0833  delta:  0.0011\n",
            "it:  50 oldargmax:  0.0833  slope  -0.0208  argmax:  0.0823  delta:  0.0010\n"
          ]
        },
        {
          "output_type": "execute_result",
          "data": {
            "text/plain": [
              "0.0822587022767041"
            ],
            "text/latex": "$\\displaystyle 0.0822587022767041$"
          },
          "metadata": {},
          "execution_count": 5
        }
      ]
    },
    {
      "cell_type": "code",
      "metadata": {
        "id": "J5mqDeCMPwCV"
      },
      "source": [
        "baby_gradient_ascent(f, 0.0001 ,eps=0.00000000001,maxi=50)"
      ],
      "execution_count": null,
      "outputs": []
    },
    {
      "cell_type": "code",
      "metadata": {
        "id": "n5nvf9g4KBzU"
      },
      "source": [],
      "execution_count": null,
      "outputs": []
    }
  ]
}